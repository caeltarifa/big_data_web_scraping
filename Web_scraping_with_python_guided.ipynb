{
  "nbformat": 4,
  "nbformat_minor": 0,
  "metadata": {
    "colab": {
      "provenance": [],
      "authorship_tag": "ABX9TyOr/EowYf5F8urfJr6b4hBX",
      "include_colab_link": true
    },
    "kernelspec": {
      "name": "python3",
      "display_name": "Python 3"
    },
    "language_info": {
      "name": "python"
    }
  },
  "cells": [
    {
      "cell_type": "markdown",
      "metadata": {
        "id": "view-in-github",
        "colab_type": "text"
      },
      "source": [
        "<a href=\"https://colab.research.google.com/github/caeltarifa/big_data_web_scraping/blob/main/Web_scraping_with_python_guided.ipynb\" target=\"_parent\"><img src=\"https://colab.research.google.com/assets/colab-badge.svg\" alt=\"Open In Colab\"/></a>"
      ]
    },
    {
      "cell_type": "markdown",
      "source": [
        "# Preliminars"
      ],
      "metadata": {
        "id": "lOIuZ3Xk18lm"
      }
    },
    {
      "cell_type": "markdown",
      "source": [
        "## 1 Conecting reliably"
      ],
      "metadata": {
        "id": "CDO1LVXQ2DDJ"
      }
    },
    {
      "cell_type": "code",
      "execution_count": null,
      "metadata": {
        "id": "mzGxIwS3vVRm"
      },
      "outputs": [],
      "source": [
        "from urllib.request import urlopen\n",
        "from urllib.error import HTTPError\n",
        "from bs4 import BeautifulSoup"
      ]
    },
    {
      "cell_type": "code",
      "source": [
        "def getHtml(url):\n",
        "  try:\n",
        "    html = urlopen(url)\n",
        "  except HTTPError as e:\n",
        "    print(e)\n",
        "    return None\n",
        "\n",
        "  try:\n",
        "    bsObj = BeautifulSoup(html)\n",
        "    title = bsObj.body.h1\n",
        "  except AttributeError as e:\n",
        "    return None\n",
        "  \n",
        "  return bsObj"
      ],
      "metadata": {
        "id": "GOZ6r6O03gfQ"
      },
      "execution_count": null,
      "outputs": []
    },
    {
      "cell_type": "code",
      "source": [
        "html = getHtml(\"https://www.lonabol.gob.bo/web2/\")\n",
        "if html is None:\n",
        "  print(\"URL is not found\")\n",
        "\n",
        "array1 = html.find('img').children\n",
        "#array1 = html.find('head').style.next_siblings\n",
        "#\n",
        "#for data in html.find('table'):\n",
        "#  print(data)"
      ],
      "metadata": {
        "id": "6R4sfiUs3jRT"
      },
      "execution_count": null,
      "outputs": []
    },
    {
      "cell_type": "markdown",
      "source": [
        "##Retriven data with regular expressions"
      ],
      "metadata": {
        "id": "qbZE1ieIbjWQ"
      }
    },
    {
      "cell_type": "code",
      "source": [
        "from urllib.request import re\n",
        "\n",
        "images =  html.findAll(\"img\", {'src':re.compile(\"assets\\/img/solidaria/ays.*\\.png\")}) + html.findAll(\"img\", {'src':re.compile(\"assets\\/img/solidaria/as.*\\.png\") }) + html.findAll(\"img\", {'src':re.compile(\"assets\\/img/solidaria/aynisoli.*\\.png\") })\n",
        "print(images)\n",
        "for image in images:\n",
        "  print(image['src'])"
      ],
      "metadata": {
        "colab": {
          "base_uri": "https://localhost:8080/"
        },
        "id": "q6xd44Htblqk",
        "outputId": "67a37515-9815-4e52-cc13-e496515fae85"
      },
      "execution_count": null,
      "outputs": [
        {
          "output_type": "stream",
          "name": "stdout",
          "text": [
            "[<img alt=\"\" class=\"img-fluid\" src=\"assets/img/solidaria/ays1.png\"/>, <img alt=\"\" class=\"img-fluid\" src=\"assets/img/solidaria/as4.png\"/>, <img alt=\"\" class=\"img-fluid\" src=\"assets/img/solidaria/asentrerios2.png\"/>, <img alt=\"\" class=\"img-fluid\" src=\"assets/img/solidaria/ascbba.png\"/>, <img alt=\"\" class=\"img-fluid\" src=\"assets/img/solidaria/aynisoli.png\"/>]\n",
            "assets/img/solidaria/ays1.png\n",
            "assets/img/solidaria/as4.png\n",
            "assets/img/solidaria/asentrerios2.png\n",
            "assets/img/solidaria/ascbba.png\n",
            "assets/img/solidaria/aynisoli.png\n"
          ]
        }
      ]
    }
  ]
}