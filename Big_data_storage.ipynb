{
  "nbformat": 4,
  "nbformat_minor": 0,
  "metadata": {
    "colab": {
      "provenance": [],
      "authorship_tag": "ABX9TyO/41tGwNaGO2Z5cScUF/0z"
    },
    "kernelspec": {
      "name": "python3",
      "display_name": "Python 3"
    },
    "language_info": {
      "name": "python"
    }
  },
  "cells": [
    {
      "cell_type": "markdown",
      "source": [
        "# Distributed big data storage"
      ],
      "metadata": {
        "id": "m3fr-sbmiard"
      }
    },
    {
      "cell_type": "code",
      "execution_count": 3,
      "metadata": {
        "colab": {
          "base_uri": "https://localhost:8080/"
        },
        "id": "H3Xs4DvVhptd",
        "outputId": "2ecc2cc0-c446-4ebc-ac26-c6d98efa7744"
      },
      "outputs": [
        {
          "output_type": "stream",
          "name": "stdout",
          "text": [
            "Looking in indexes: https://pypi.org/simple, https://us-python.pkg.dev/colab-wheels/public/simple/\n",
            "Requirement already satisfied: boto3 in /usr/local/lib/python3.7/dist-packages (1.24.90)\n",
            "Requirement already satisfied: botocore<1.28.0,>=1.27.90 in /usr/local/lib/python3.7/dist-packages (from boto3) (1.27.90)\n",
            "Requirement already satisfied: jmespath<2.0.0,>=0.7.1 in /usr/local/lib/python3.7/dist-packages (from boto3) (1.0.1)\n",
            "Requirement already satisfied: s3transfer<0.7.0,>=0.6.0 in /usr/local/lib/python3.7/dist-packages (from boto3) (0.6.0)\n",
            "Requirement already satisfied: urllib3<1.27,>=1.25.4 in /usr/local/lib/python3.7/dist-packages (from botocore<1.28.0,>=1.27.90->boto3) (1.26.12)\n",
            "Requirement already satisfied: python-dateutil<3.0.0,>=2.1 in /usr/local/lib/python3.7/dist-packages (from botocore<1.28.0,>=1.27.90->boto3) (2.8.2)\n",
            "Requirement already satisfied: six>=1.5 in /usr/local/lib/python3.7/dist-packages (from python-dateutil<3.0.0,>=2.1->botocore<1.28.0,>=1.27.90->boto3) (1.15.0)\n"
          ]
        }
      ],
      "source": [
        "!python -m pip install boto3\n"
      ]
    },
    {
      "cell_type": "code",
      "source": [
        "import boto3\n",
        "import os\n",
        "import requests\n",
        "import tqdm"
      ],
      "metadata": {
        "id": "-qTH9y60mktG"
      },
      "execution_count": 4,
      "outputs": []
    },
    {
      "cell_type": "code",
      "source": [
        "dynamo_client  =  boto3.resource(service_name = 'data_crawled_dydb',region_name = 'us-east-1',\n",
        "              aws_access_key_id = 'AKIA3BS5NFXXXXXXX',\n",
        "              aws_secret_access_key = 'qfGTJL28HrqcbhKCM0t//xxx7gTGG4iNrv3/d94Lsp')"
      ],
      "metadata": {
        "id": "IVJmdLnhlp2g"
      },
      "execution_count": 8,
      "outputs": []
    },
    {
      "cell_type": "code",
      "source": [
        "product_table = dynamo_client.Table('institution')\n",
        "product_table.table_status\n",
        "\n",
        "product_table_link = dynamo_client.Table('link_collection')\n",
        "product_table_link.table_status\n",
        "\n",
        "product_table_file = dynamo_client.Table('file_collection')\n",
        "product_table_file.table_status"
      ],
      "metadata": {
        "id": "p3_jZTMKl1QE"
      },
      "execution_count": null,
      "outputs": []
    },
    {
      "cell_type": "code",
      "source": [
        "dynamo_client.get_available_subresources()"
      ],
      "metadata": {
        "id": "-sPF8vXMlqko"
      },
      "execution_count": null,
      "outputs": []
    },
    {
      "cell_type": "code",
      "source": [
        "def query_police_department_record_by_guid(guid):  \n",
        "    db = dynamodb_resource()\n",
        "    extra_msg = {\"region_name\": REGION, \"aws_service\": \"dynamodb\", \n",
        "        \"police_department_table\":POLICE_DEPARTMENTS_TABLE,\n",
        "        \"guid\":guid}\n",
        "    log.info(f\"Get PD record by GUID\", extra=extra_msg)\n",
        "    pd_table = db.Table(POLICE_DEPARTMENTS_TABLE)\n",
        "    response = pd_table.get_item(\n",
        "        Key={\n",
        "            'guid': guid\n",
        "            }\n",
        "    )\n",
        "    return response['Item']"
      ],
      "metadata": {
        "id": "60fizkKMlXAY"
      },
      "execution_count": null,
      "outputs": []
    },
    {
      "cell_type": "markdown",
      "source": [
        "> DynamoDB and its purposes\n",
        "\n",
        "*   [A one size fits all database doesn't fit anyone\n",
        "](https://www.allthingsdistributed.com/2018/06/purpose-built-databases-in-aws.html)\n",
        "\n",
        "*   [Amazon DynamoDB](https://aws.amazon.com/dynamodb/)\n",
        "\n",
        "*   [Scaling globally with the new AWS](https://www.allthingsdistributed.com/2022/08/aws-launches-middle-east-uae-region.html)\n",
        "\n",
        "\n",
        "> Interfaces for reliable connections\n",
        "\n",
        "*   [DynamoDB and the AWS SDKs](https://docs.aws.amazon.com/amazondynamodb/latest/developerguide/GettingStarted.html\n",
        ")\n",
        "\n",
        "*   [Boto3 and Amazon DynamoDB](https://www.section.io/engineering-education/python-boto3-and-amazon-dynamodb-programming-tutorial/)\n",
        "\n",
        "*   [DynamoDb in Python using BOTO3](https://www.analyticsvidhya.com/blog/2022/05/working-with-dynamodb-in-python-using-boto3/)\n",
        "\n"
      ],
      "metadata": {
        "id": "VCw9Gh1nib7k"
      }
    }
  ]
}