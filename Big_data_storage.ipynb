{
  "cells": [
    {
      "cell_type": "markdown",
      "metadata": {
        "id": "tQmxJTMZLtzW"
      },
      "source": [
        "# Data crawling with scrapy"
      ]
    },
    {
      "cell_type": "code",
      "execution_count": 1,
      "metadata": {
        "colab": {
          "base_uri": "https://localhost:8080/"
        },
        "id": "331KxoyiLzDh",
        "outputId": "5bd0a46f-6d35-452f-cfb4-6a9526ba4097"
      },
      "outputs": [
        {
          "output_type": "stream",
          "name": "stdout",
          "text": [
            "Looking in indexes: https://pypi.org/simple, https://us-python.pkg.dev/colab-wheels/public/simple/\n",
            "Collecting scrapy\n",
            "  Downloading Scrapy-2.7.1-py2.py3-none-any.whl (271 kB)\n",
            "\u001b[K     |████████████████████████████████| 271 kB 16.5 MB/s \n",
            "\u001b[?25hRequirement already satisfied: setuptools in /usr/local/lib/python3.7/dist-packages (from scrapy) (57.4.0)\n",
            "Collecting zope.interface>=5.1.0\n",
            "  Downloading zope.interface-5.5.1-cp37-cp37m-manylinux_2_5_x86_64.manylinux1_x86_64.manylinux_2_12_x86_64.manylinux2010_x86_64.whl (254 kB)\n",
            "\u001b[K     |████████████████████████████████| 254 kB 40.5 MB/s \n",
            "\u001b[?25hCollecting PyDispatcher>=2.0.5\n",
            "  Downloading PyDispatcher-2.0.6.tar.gz (38 kB)\n",
            "Collecting service-identity>=18.1.0\n",
            "  Downloading service_identity-21.1.0-py2.py3-none-any.whl (12 kB)\n",
            "Collecting itemadapter>=0.1.0\n",
            "  Downloading itemadapter-0.7.0-py3-none-any.whl (10 kB)\n",
            "Collecting pyOpenSSL>=21.0.0\n",
            "  Downloading pyOpenSSL-22.1.0-py3-none-any.whl (57 kB)\n",
            "\u001b[K     |████████████████████████████████| 57 kB 1.8 MB/s \n",
            "\u001b[?25hRequirement already satisfied: packaging in /usr/local/lib/python3.7/dist-packages (from scrapy) (21.3)\n",
            "Collecting itemloaders>=1.0.1\n",
            "  Downloading itemloaders-1.0.6-py3-none-any.whl (11 kB)\n",
            "Collecting parsel>=1.5.0\n",
            "  Downloading parsel-1.7.0-py2.py3-none-any.whl (14 kB)\n",
            "Collecting Twisted>=18.9.0\n",
            "  Downloading Twisted-22.10.0-py3-none-any.whl (3.1 MB)\n",
            "\u001b[K     |████████████████████████████████| 3.1 MB 29.3 MB/s \n",
            "\u001b[?25hCollecting queuelib>=1.4.2\n",
            "  Downloading queuelib-1.6.2-py2.py3-none-any.whl (13 kB)\n",
            "Collecting cssselect>=0.9.1\n",
            "  Downloading cssselect-1.2.0-py2.py3-none-any.whl (18 kB)\n",
            "Collecting w3lib>=1.17.0\n",
            "  Downloading w3lib-2.0.1-py3-none-any.whl (20 kB)\n",
            "Collecting cryptography>=3.3\n",
            "  Downloading cryptography-38.0.3-cp36-abi3-manylinux_2_24_x86_64.whl (4.1 MB)\n",
            "\u001b[K     |████████████████████████████████| 4.1 MB 23.4 MB/s \n",
            "\u001b[?25hCollecting protego>=0.1.15\n",
            "  Downloading Protego-0.2.1-py2.py3-none-any.whl (8.2 kB)\n",
            "Requirement already satisfied: lxml>=4.3.0 in /usr/local/lib/python3.7/dist-packages (from scrapy) (4.9.1)\n",
            "Collecting tldextract\n",
            "  Downloading tldextract-3.4.0-py3-none-any.whl (93 kB)\n",
            "\u001b[K     |████████████████████████████████| 93 kB 752 kB/s \n",
            "\u001b[?25hRequirement already satisfied: cffi>=1.12 in /usr/local/lib/python3.7/dist-packages (from cryptography>=3.3->scrapy) (1.15.1)\n",
            "Requirement already satisfied: pycparser in /usr/local/lib/python3.7/dist-packages (from cffi>=1.12->cryptography>=3.3->scrapy) (2.21)\n",
            "Collecting jmespath>=0.9.5\n",
            "  Downloading jmespath-1.0.1-py3-none-any.whl (20 kB)\n",
            "Requirement already satisfied: six in /usr/local/lib/python3.7/dist-packages (from protego>=0.1.15->scrapy) (1.15.0)\n",
            "Requirement already satisfied: pyasn1-modules in /usr/local/lib/python3.7/dist-packages (from service-identity>=18.1.0->scrapy) (0.2.8)\n",
            "Requirement already satisfied: attrs>=19.1.0 in /usr/local/lib/python3.7/dist-packages (from service-identity>=18.1.0->scrapy) (22.1.0)\n",
            "Requirement already satisfied: pyasn1 in /usr/local/lib/python3.7/dist-packages (from service-identity>=18.1.0->scrapy) (0.4.8)\n",
            "Collecting hyperlink>=17.1.1\n",
            "  Downloading hyperlink-21.0.0-py2.py3-none-any.whl (74 kB)\n",
            "\u001b[K     |████████████████████████████████| 74 kB 1.2 MB/s \n",
            "\u001b[?25hCollecting incremental>=21.3.0\n",
            "  Downloading incremental-22.10.0-py2.py3-none-any.whl (16 kB)\n",
            "Requirement already satisfied: typing-extensions>=3.6.5 in /usr/local/lib/python3.7/dist-packages (from Twisted>=18.9.0->scrapy) (4.1.1)\n",
            "Collecting Automat>=0.8.0\n",
            "  Downloading Automat-22.10.0-py2.py3-none-any.whl (26 kB)\n",
            "Collecting constantly>=15.1\n",
            "  Downloading constantly-15.1.0-py2.py3-none-any.whl (7.9 kB)\n",
            "Requirement already satisfied: idna>=2.5 in /usr/local/lib/python3.7/dist-packages (from hyperlink>=17.1.1->Twisted>=18.9.0->scrapy) (2.10)\n",
            "Requirement already satisfied: pyparsing!=3.0.5,>=2.0.2 in /usr/local/lib/python3.7/dist-packages (from packaging->scrapy) (3.0.9)\n",
            "Requirement already satisfied: filelock>=3.0.8 in /usr/local/lib/python3.7/dist-packages (from tldextract->scrapy) (3.8.0)\n",
            "Collecting requests-file>=1.4\n",
            "  Downloading requests_file-1.5.1-py2.py3-none-any.whl (3.7 kB)\n",
            "Requirement already satisfied: requests>=2.1.0 in /usr/local/lib/python3.7/dist-packages (from tldextract->scrapy) (2.23.0)\n",
            "Requirement already satisfied: urllib3!=1.25.0,!=1.25.1,<1.26,>=1.21.1 in /usr/local/lib/python3.7/dist-packages (from requests>=2.1.0->tldextract->scrapy) (1.24.3)\n",
            "Requirement already satisfied: certifi>=2017.4.17 in /usr/local/lib/python3.7/dist-packages (from requests>=2.1.0->tldextract->scrapy) (2022.9.24)\n",
            "Requirement already satisfied: chardet<4,>=3.0.2 in /usr/local/lib/python3.7/dist-packages (from requests>=2.1.0->tldextract->scrapy) (3.0.4)\n",
            "Building wheels for collected packages: PyDispatcher\n",
            "  Building wheel for PyDispatcher (setup.py) ... \u001b[?25l\u001b[?25hdone\n",
            "  Created wheel for PyDispatcher: filename=PyDispatcher-2.0.6-py3-none-any.whl size=11958 sha256=3e590aba4652d94d90c7e75a5ed0262e9f83e5d6dbabdbb3e8f16a66749a0f19\n",
            "  Stored in directory: /root/.cache/pip/wheels/c9/d6/6a/de198d890277cde60ca3dbebe7ae592d3b381c7d9bb2455f4d\n",
            "Successfully built PyDispatcher\n",
            "Installing collected packages: w3lib, cssselect, zope.interface, requests-file, parsel, jmespath, itemadapter, incremental, hyperlink, cryptography, constantly, Automat, Twisted, tldextract, service-identity, queuelib, pyOpenSSL, PyDispatcher, protego, itemloaders, scrapy\n",
            "Successfully installed Automat-22.10.0 PyDispatcher-2.0.6 Twisted-22.10.0 constantly-15.1.0 cryptography-38.0.3 cssselect-1.2.0 hyperlink-21.0.0 incremental-22.10.0 itemadapter-0.7.0 itemloaders-1.0.6 jmespath-1.0.1 parsel-1.7.0 protego-0.2.1 pyOpenSSL-22.1.0 queuelib-1.6.2 requests-file-1.5.1 scrapy-2.7.1 service-identity-21.1.0 tldextract-3.4.0 w3lib-2.0.1 zope.interface-5.5.1\n"
          ]
        }
      ],
      "source": [
        "!pip install scrapy "
      ]
    },
    {
      "cell_type": "code",
      "execution_count": 2,
      "metadata": {
        "colab": {
          "base_uri": "https://localhost:8080/"
        },
        "id": "U-WS95CGMDxH",
        "outputId": "df1918ed-8b17-44d8-c566-9b64a14e2ccf"
      },
      "outputs": [
        {
          "output_type": "stream",
          "name": "stdout",
          "text": [
            "New Scrapy project 'chilean_data_explore', using template directory '/usr/local/lib/python3.7/dist-packages/scrapy/templates/project', created in:\n",
            "    /content/chilean_data_explore\n",
            "\n",
            "You can start your first spider with:\n",
            "    cd chilean_data_explore\n",
            "    scrapy genspider example example.com\n"
          ]
        }
      ],
      "source": [
        "!scrapy startproject chilean_data_explore"
      ]
    },
    {
      "cell_type": "code",
      "source": [
        "import os\n"
      ],
      "metadata": {
        "id": "6DHjjfHmG1TO"
      },
      "execution_count": 3,
      "outputs": []
    },
    {
      "cell_type": "markdown",
      "source": [
        "!pwd\n",
        "!ls\n"
      ],
      "metadata": {
        "id": "L8yHQ4bUGaR8"
      }
    },
    {
      "cell_type": "code",
      "execution_count": 4,
      "metadata": {
        "id": "ktEKleAVsslZ",
        "colab": {
          "base_uri": "https://localhost:8080/"
        },
        "outputId": "3f7b937e-7f1c-40e8-e07d-3953d7a07f7a"
      },
      "outputs": [
        {
          "output_type": "stream",
          "name": "stdout",
          "text": [
            "/content/chilean_data_explore/chilean_data_explore\n",
            "__init__.py  items.py  middlewares.py  pipelines.py  settings.py  spiders\n"
          ]
        }
      ],
      "source": [
        "os.chdir('/content/chilean_data_explore/chilean_data_explore/')\n",
        "!pwd\n",
        "!ls"
      ]
    },
    {
      "cell_type": "code",
      "source": [
        "from chilean_data_explore.chilean_data_explore.items import ChileanDataExploreItem"
      ],
      "metadata": {
        "id": "rUwNiy6yKidC"
      },
      "execution_count": 5,
      "outputs": []
    },
    {
      "cell_type": "code",
      "source": [
        "%%writefile items.py\n",
        "\n",
        "import scrapy\n",
        "\n",
        "class ChileanDataExploreItem(scrapy.Item):\n",
        "    url = scrapy.Field() # str\n",
        "    article_from = scrapy.Field() # str\n",
        "    article_type = scrapy.Field() # str\n",
        "    title = scrapy.Field() # str\n",
        "    publish_date = scrapy.Field() # str\n",
        "    authors = scrapy.Field() # list json\n",
        "    tags = scrapy.Field() # list json\n",
        "    text = scrapy.Field() # list json\n",
        "    text_html = scrapy.Field() # str\n",
        "    images = scrapy.Field() # list json\n",
        "    video = scrapy.Field() # list json\n",
        "    links = scrapy.Field() # list json\n",
        "\n",
        "from scrapy.item import Item, Field\n",
        "class PropertiesItem(Item):\n",
        "     # Primary fields\n",
        "     title = Field()\n",
        "     price = Field()\n",
        "     description = Field()\n",
        "     address = Field()\n",
        "     image_urls = Field()\n",
        "\n",
        "     # Calculated fields\n",
        "     images = Field()\n",
        "     location = Field()\n",
        "     \n",
        "     # Housekeeping fields\n",
        "     url = Field()\n",
        "     project = Field()\n",
        "     spider = Field()\n",
        "     server = Field()\n",
        "     date = Field()"
      ],
      "metadata": {
        "colab": {
          "base_uri": "https://localhost:8080/"
        },
        "id": "gm0AZwn-I4SK",
        "outputId": "51a11f3b-1da0-4656-a68f-bb413e5dadcb"
      },
      "execution_count": 6,
      "outputs": [
        {
          "output_type": "stream",
          "name": "stdout",
          "text": [
            "Overwriting items.py\n"
          ]
        }
      ]
    },
    {
      "cell_type": "code",
      "execution_count": 7,
      "metadata": {
        "colab": {
          "base_uri": "https://localhost:8080/"
        },
        "id": "b497KTrOMQvL",
        "outputId": "8c3c3e43-2986-491a-b27b-ac4bf0447526"
      },
      "outputs": [
        {
          "output_type": "stream",
          "name": "stdout",
          "text": [
            "/content/chilean_data_explore/chilean_data_explore\n"
          ]
        }
      ],
      "source": [
        "!pwd\n",
        "os.chdir('/content/chilean_data_explore/chilean_data_explore/spiders')\n",
        "!mkdir logo"
      ]
    },
    {
      "cell_type": "code",
      "execution_count": 8,
      "metadata": {
        "colab": {
          "base_uri": "https://localhost:8080/"
        },
        "id": "6tNWJKg5MoDH",
        "outputId": "2ce6484c-19d2-470f-d606-876187b96f37"
      },
      "outputs": [
        {
          "output_type": "stream",
          "name": "stdout",
          "text": [
            "Writing quotes_spider.py\n"
          ]
        }
      ],
      "source": [
        "#%%writefile -a /chilean_data_explore/chilean_data_explore/spiders/quotes_spider.py\n",
        "%%writefile quotes_spider.py\n",
        "import scrapy\n",
        "from chilean_data_explore.items import ChileanDataExploreItem\n",
        "\n",
        "import time\n",
        "import re\n",
        "\n",
        "class ChinatimesSpider(scrapy.Spider):\n",
        "    name = 'chinatimes'\n",
        "    allowed_domains = ['chinatimes.com']\n",
        "    base_url = 'https://www.chinatimes.com'\n",
        "\n",
        "    url_array = [\n",
        "      'http://observatorio.ministeriodesarrollosocial.gob.cl/encuesta-casen',\n",
        "      'https://www.sii.cl/sobre_el_sii/estadisticas_de_empresas.html',\n",
        "      'https://www.ide.cl/index.php/informacion-territorial/descargar-informacion-territorial',\n",
        "    ]\n",
        "\n",
        "    date_str = str(time.strftime(\"%F\", time.localtime()))\n",
        "\n",
        "    #custom_settings = {\n",
        "    #    'LOG_FILE': 'log/%s-%s.log' % (name, date_str),\n",
        "    #}\n",
        "\n",
        "    def start_requests(self):\n",
        "        list_url = '%s/realtimenews' % (self.base_url)\n",
        "        yield scrapy.Request(url=list_url, callback=self.parse_list)\n",
        "\n",
        "    def parse_list(self, response):\n",
        "        for page_url in response.css('section.article-list>ul>li h3.title>a::attr(href)').getall():\n",
        "            yield scrapy.Request(url=self.base_url + page_url, callback=self.parse_news)\n",
        "\n",
        "    def parse_news(self, response):\n",
        "        item = ChileanDataExploreItem()\n",
        "\n",
        "        item['url'] = response.url\n",
        "        #item['article_from'] = self.name\n",
        "        #item['article_type'] = 'news'\n",
        "\n",
        "        #item['title'] = self._parse_title(response)\n",
        "        #item['publish_date'] = self._parse_publish_date(response)\n",
        "        #item['authors'] = self._parse_authors(response)\n",
        "        #item['tags'] = self._parse_tags(response)\n",
        "        #item['text'] = self._parse_text(response)\n",
        "        #item['text_html'] = self._parse_text_html(response)\n",
        "        #item['images'] = self._parse_images(response)\n",
        "        #item['video'] = self._parse_video(response)\n",
        "        #item['links'] = self._parse_links(response)\n",
        "\n",
        "        return item\n",
        "\n",
        "    def _parse_title(self, response):\n",
        "        return response.css('article.article-box h1.article-title::text').get()\n",
        "\n",
        "    def _parse_publish_date(self, response):\n",
        "        return response.css('article.article-box time::attr(datetime)').get()\n",
        "\n",
        "    def _parse_authors(self, response):\n",
        "        authors = response.css('article.article-box div.author>a::text').getall()\n",
        "        if len(authors) == 0:\n",
        "            authors = [response.css('article.article-box div.author::text').get(default='').strip()]\n",
        "        return authors\n",
        "\n",
        "    def _parse_tags(self, response):\n",
        "        return response.css('article.article-box div.article-hash-tag a::text').getall()\n",
        "\n",
        "    def _parse_text(self, response):\n",
        "        return response.css('article.article-box div.article-body p::text').getall()\n",
        "\n",
        "    def _parse_text_html(self, response):\n",
        "        return response.css('article.article-box div.article-body').get()\n",
        "\n",
        "    def _parse_images(self, response):\n",
        "        images_list = []\n",
        "        images_list.extend(response.css('article.article-box div.main-figure').css('img::attr(src)').getall())\n",
        "        images_list.extend(response.css('article.article-box div.article-body').css('img::attr(src)').getall())\n",
        "        return images_list\n",
        "\n",
        "    def _parse_video(self, response):\n",
        "        return response.css('article.article-box div.article-body iframe::attr(src)').getall()\n",
        "\n",
        "    def _parse_links(self, response):\n",
        "        return response.css('article.article-box div.article-body').css('a::attr(href)').getall()"
      ]
    },
    {
      "cell_type": "code",
      "execution_count": 9,
      "metadata": {
        "colab": {
          "base_uri": "https://localhost:8080/"
        },
        "id": "pT91tYzFtJRV",
        "outputId": "2c6d89dd-8a10-454d-d998-011623c437de"
      },
      "outputs": [
        {
          "output_type": "stream",
          "name": "stdout",
          "text": [
            "2022-11-05 03:11:26 [scrapy.utils.log] INFO: Scrapy 2.7.1 started (bot: chilean_data_explore)\n",
            "2022-11-05 03:11:26 [scrapy.utils.log] INFO: Versions: lxml 4.9.1.0, libxml2 2.9.14, cssselect 1.2.0, parsel 1.7.0, w3lib 2.0.1, Twisted 22.10.0, Python 3.7.15 (default, Oct 12 2022, 19:14:55) - [GCC 7.5.0], pyOpenSSL 22.1.0 (OpenSSL 3.0.7 1 Nov 2022), cryptography 38.0.3, Platform Linux-5.10.133+-x86_64-with-Ubuntu-18.04-bionic\n",
            "2022-11-05 03:11:26 [scrapy.crawler] INFO: Overridden settings:\n",
            "{'BOT_NAME': 'chilean_data_explore',\n",
            " 'NEWSPIDER_MODULE': 'chilean_data_explore.spiders',\n",
            " 'REQUEST_FINGERPRINTER_IMPLEMENTATION': '2.7',\n",
            " 'ROBOTSTXT_OBEY': True,\n",
            " 'SPIDER_LOADER_WARN_ONLY': True,\n",
            " 'SPIDER_MODULES': ['chilean_data_explore.spiders'],\n",
            " 'TWISTED_REACTOR': 'twisted.internet.asyncioreactor.AsyncioSelectorReactor'}\n",
            "2022-11-05 03:11:26 [asyncio] DEBUG: Using selector: EpollSelector\n",
            "2022-11-05 03:11:26 [scrapy.utils.log] DEBUG: Using reactor: twisted.internet.asyncioreactor.AsyncioSelectorReactor\n",
            "2022-11-05 03:11:26 [scrapy.utils.log] DEBUG: Using asyncio event loop: asyncio.unix_events._UnixSelectorEventLoop\n",
            "2022-11-05 03:11:26 [scrapy.extensions.telnet] INFO: Telnet Password: 8c0dd49c047e274b\n",
            "2022-11-05 03:11:26 [scrapy.middleware] INFO: Enabled extensions:\n",
            "['scrapy.extensions.corestats.CoreStats',\n",
            " 'scrapy.extensions.telnet.TelnetConsole',\n",
            " 'scrapy.extensions.memusage.MemoryUsage',\n",
            " 'scrapy.extensions.feedexport.FeedExporter',\n",
            " 'scrapy.extensions.logstats.LogStats']\n",
            "2022-11-05 03:11:26 [scrapy.middleware] INFO: Enabled downloader middlewares:\n",
            "['scrapy.downloadermiddlewares.robotstxt.RobotsTxtMiddleware',\n",
            " 'scrapy.downloadermiddlewares.httpauth.HttpAuthMiddleware',\n",
            " 'scrapy.downloadermiddlewares.downloadtimeout.DownloadTimeoutMiddleware',\n",
            " 'scrapy.downloadermiddlewares.defaultheaders.DefaultHeadersMiddleware',\n",
            " 'scrapy.downloadermiddlewares.useragent.UserAgentMiddleware',\n",
            " 'scrapy.downloadermiddlewares.retry.RetryMiddleware',\n",
            " 'scrapy.downloadermiddlewares.redirect.MetaRefreshMiddleware',\n",
            " 'scrapy.downloadermiddlewares.httpcompression.HttpCompressionMiddleware',\n",
            " 'scrapy.downloadermiddlewares.redirect.RedirectMiddleware',\n",
            " 'scrapy.downloadermiddlewares.cookies.CookiesMiddleware',\n",
            " 'scrapy.downloadermiddlewares.httpproxy.HttpProxyMiddleware',\n",
            " 'scrapy.downloadermiddlewares.stats.DownloaderStats']\n",
            "2022-11-05 03:11:26 [scrapy.middleware] INFO: Enabled spider middlewares:\n",
            "['scrapy.spidermiddlewares.httperror.HttpErrorMiddleware',\n",
            " 'scrapy.spidermiddlewares.offsite.OffsiteMiddleware',\n",
            " 'scrapy.spidermiddlewares.referer.RefererMiddleware',\n",
            " 'scrapy.spidermiddlewares.urllength.UrlLengthMiddleware',\n",
            " 'scrapy.spidermiddlewares.depth.DepthMiddleware']\n",
            "2022-11-05 03:11:26 [scrapy.middleware] INFO: Enabled item pipelines:\n",
            "[]\n",
            "2022-11-05 03:11:26 [scrapy.core.engine] INFO: Spider opened\n",
            "2022-11-05 03:11:27 [scrapy.extensions.logstats] INFO: Crawled 0 pages (at 0 pages/min), scraped 0 items (at 0 items/min)\n",
            "2022-11-05 03:11:27 [scrapy.extensions.telnet] INFO: Telnet console listening on 127.0.0.1:6023\n",
            "2022-11-05 03:11:27 [scrapy.core.engine] DEBUG: Crawled (200) <GET https://www.chinatimes.com/robots.txt> (referer: None)\n",
            "2022-11-05 03:11:27 [scrapy.core.engine] DEBUG: Crawled (200) <GET https://www.chinatimes.com/realtimenews> (referer: None)\n",
            "2022-11-05 03:11:27 [scrapy.core.engine] DEBUG: Crawled (200) <GET https://www.chinatimes.com/realtimenews/20221105001372-260407> (referer: https://www.chinatimes.com/realtimenews)\n",
            "2022-11-05 03:11:27 [scrapy.core.engine] DEBUG: Crawled (200) <GET https://www.chinatimes.com/realtimenews/20221105001140-260408> (referer: https://www.chinatimes.com/realtimenews)\n",
            "2022-11-05 03:11:27 [scrapy.core.engine] DEBUG: Crawled (200) <GET https://www.chinatimes.com/realtimenews/20221105001223-260408> (referer: https://www.chinatimes.com/realtimenews)\n",
            "2022-11-05 03:11:27 [scrapy.core.scraper] DEBUG: Scraped from <200 https://www.chinatimes.com/realtimenews/20221105001372-260407>\n",
            "{'url': 'https://www.chinatimes.com/realtimenews/20221105001372-260407'}\n",
            "2022-11-05 03:11:27 [scrapy.core.scraper] DEBUG: Scraped from <200 https://www.chinatimes.com/realtimenews/20221105001140-260408>\n",
            "{'url': 'https://www.chinatimes.com/realtimenews/20221105001140-260408'}\n",
            "2022-11-05 03:11:27 [scrapy.core.scraper] DEBUG: Scraped from <200 https://www.chinatimes.com/realtimenews/20221105001223-260408>\n",
            "{'url': 'https://www.chinatimes.com/realtimenews/20221105001223-260408'}\n",
            "2022-11-05 03:11:27 [scrapy.core.engine] DEBUG: Crawled (200) <GET https://www.chinatimes.com/realtimenews/20221105001185-260418> (referer: https://www.chinatimes.com/realtimenews)\n",
            "2022-11-05 03:11:27 [scrapy.core.engine] DEBUG: Crawled (200) <GET https://www.chinatimes.com/realtimenews/20221105001261-260407> (referer: https://www.chinatimes.com/realtimenews)\n",
            "2022-11-05 03:11:27 [scrapy.core.engine] DEBUG: Crawled (200) <GET https://www.chinatimes.com/realtimenews/20221105001239-260421> (referer: https://www.chinatimes.com/realtimenews)\n",
            "2022-11-05 03:11:27 [scrapy.core.engine] DEBUG: Crawled (200) <GET https://www.chinatimes.com/realtimenews/20221105001219-260408> (referer: https://www.chinatimes.com/realtimenews)\n",
            "2022-11-05 03:11:27 [scrapy.core.engine] DEBUG: Crawled (200) <GET https://www.chinatimes.com/realtimenews/20221105001274-260402> (referer: https://www.chinatimes.com/realtimenews)\n",
            "2022-11-05 03:11:27 [scrapy.core.engine] DEBUG: Crawled (200) <GET https://www.chinatimes.com/realtimenews/20221105001260-260407> (referer: https://www.chinatimes.com/realtimenews)\n",
            "2022-11-05 03:11:27 [scrapy.core.engine] DEBUG: Crawled (200) <GET https://www.chinatimes.com/realtimenews/20221105001335-260402> (referer: https://www.chinatimes.com/realtimenews)\n",
            "2022-11-05 03:11:27 [scrapy.core.engine] DEBUG: Crawled (200) <GET https://www.chinatimes.com/realtimenews/20221105001284-260410> (referer: https://www.chinatimes.com/realtimenews)\n",
            "2022-11-05 03:11:27 [scrapy.core.engine] DEBUG: Crawled (200) <GET https://www.chinatimes.com/realtimenews/20221105000019-260407> (referer: https://www.chinatimes.com/realtimenews)\n",
            "2022-11-05 03:11:27 [scrapy.core.engine] DEBUG: Crawled (200) <GET https://www.chinatimes.com/realtimenews/20221105001355-260407> (referer: https://www.chinatimes.com/realtimenews)\n",
            "2022-11-05 03:11:27 [scrapy.core.engine] DEBUG: Crawled (200) <GET https://www.chinatimes.com/realtimenews/20221105001394-260403> (referer: https://www.chinatimes.com/realtimenews)\n",
            "2022-11-05 03:11:27 [scrapy.core.engine] DEBUG: Crawled (200) <GET https://www.chinatimes.com/realtimenews/20221105001370-260404> (referer: https://www.chinatimes.com/realtimenews)\n",
            "2022-11-05 03:11:27 [scrapy.core.scraper] DEBUG: Scraped from <200 https://www.chinatimes.com/realtimenews/20221105001185-260418>\n",
            "{'url': 'https://www.chinatimes.com/realtimenews/20221105001185-260418'}\n",
            "2022-11-05 03:11:28 [scrapy.core.engine] DEBUG: Crawled (200) <GET https://www.chinatimes.com/realtimenews/20221105001295-260407> (referer: https://www.chinatimes.com/realtimenews)\n",
            "2022-11-05 03:11:28 [scrapy.core.scraper] DEBUG: Scraped from <200 https://www.chinatimes.com/realtimenews/20221105001261-260407>\n",
            "{'url': 'https://www.chinatimes.com/realtimenews/20221105001261-260407'}\n",
            "2022-11-05 03:11:28 [scrapy.core.scraper] DEBUG: Scraped from <200 https://www.chinatimes.com/realtimenews/20221105001239-260421>\n",
            "{'url': 'https://www.chinatimes.com/realtimenews/20221105001239-260421'}\n",
            "2022-11-05 03:11:28 [scrapy.core.scraper] DEBUG: Scraped from <200 https://www.chinatimes.com/realtimenews/20221105001219-260408>\n",
            "{'url': 'https://www.chinatimes.com/realtimenews/20221105001219-260408'}\n",
            "2022-11-05 03:11:28 [scrapy.core.scraper] DEBUG: Scraped from <200 https://www.chinatimes.com/realtimenews/20221105001274-260402>\n",
            "{'url': 'https://www.chinatimes.com/realtimenews/20221105001274-260402'}\n",
            "2022-11-05 03:11:28 [scrapy.core.scraper] DEBUG: Scraped from <200 https://www.chinatimes.com/realtimenews/20221105001260-260407>\n",
            "{'url': 'https://www.chinatimes.com/realtimenews/20221105001260-260407'}\n",
            "2022-11-05 03:11:28 [scrapy.core.scraper] DEBUG: Scraped from <200 https://www.chinatimes.com/realtimenews/20221105001335-260402>\n",
            "{'url': 'https://www.chinatimes.com/realtimenews/20221105001335-260402'}\n",
            "2022-11-05 03:11:28 [scrapy.core.scraper] DEBUG: Scraped from <200 https://www.chinatimes.com/realtimenews/20221105001284-260410>\n",
            "{'url': 'https://www.chinatimes.com/realtimenews/20221105001284-260410'}\n",
            "2022-11-05 03:11:28 [scrapy.core.scraper] DEBUG: Scraped from <200 https://www.chinatimes.com/realtimenews/20221105000019-260407>\n",
            "{'url': 'https://www.chinatimes.com/realtimenews/20221105000019-260407'}\n",
            "2022-11-05 03:11:28 [scrapy.core.scraper] DEBUG: Scraped from <200 https://www.chinatimes.com/realtimenews/20221105001355-260407>\n",
            "{'url': 'https://www.chinatimes.com/realtimenews/20221105001355-260407'}\n",
            "2022-11-05 03:11:28 [scrapy.core.scraper] DEBUG: Scraped from <200 https://www.chinatimes.com/realtimenews/20221105001394-260403>\n",
            "{'url': 'https://www.chinatimes.com/realtimenews/20221105001394-260403'}\n",
            "2022-11-05 03:11:28 [scrapy.core.engine] DEBUG: Crawled (200) <GET https://www.chinatimes.com/realtimenews/20221105001311-260403> (referer: https://www.chinatimes.com/realtimenews)\n",
            "2022-11-05 03:11:28 [scrapy.core.engine] DEBUG: Crawled (200) <GET https://www.chinatimes.com/realtimenews/20221105001368-260407> (referer: https://www.chinatimes.com/realtimenews)\n",
            "2022-11-05 03:11:28 [scrapy.core.engine] DEBUG: Crawled (200) <GET https://www.chinatimes.com/realtimenews/20221105001358-260407> (referer: https://www.chinatimes.com/realtimenews)\n",
            "2022-11-05 03:11:28 [scrapy.core.scraper] DEBUG: Scraped from <200 https://www.chinatimes.com/realtimenews/20221105001370-260404>\n",
            "{'url': 'https://www.chinatimes.com/realtimenews/20221105001370-260404'}\n",
            "2022-11-05 03:11:28 [scrapy.core.engine] DEBUG: Crawled (200) <GET https://www.chinatimes.com/realtimenews/20221105001304-260407> (referer: https://www.chinatimes.com/realtimenews)\n",
            "2022-11-05 03:11:28 [scrapy.core.scraper] DEBUG: Scraped from <200 https://www.chinatimes.com/realtimenews/20221105001295-260407>\n",
            "{'url': 'https://www.chinatimes.com/realtimenews/20221105001295-260407'}\n",
            "2022-11-05 03:11:28 [scrapy.core.scraper] DEBUG: Scraped from <200 https://www.chinatimes.com/realtimenews/20221105001311-260403>\n",
            "{'url': 'https://www.chinatimes.com/realtimenews/20221105001311-260403'}\n",
            "2022-11-05 03:11:28 [scrapy.core.scraper] DEBUG: Scraped from <200 https://www.chinatimes.com/realtimenews/20221105001368-260407>\n",
            "{'url': 'https://www.chinatimes.com/realtimenews/20221105001368-260407'}\n",
            "2022-11-05 03:11:28 [scrapy.core.scraper] DEBUG: Scraped from <200 https://www.chinatimes.com/realtimenews/20221105001358-260407>\n",
            "{'url': 'https://www.chinatimes.com/realtimenews/20221105001358-260407'}\n",
            "2022-11-05 03:11:28 [scrapy.core.scraper] DEBUG: Scraped from <200 https://www.chinatimes.com/realtimenews/20221105001304-260407>\n",
            "{'url': 'https://www.chinatimes.com/realtimenews/20221105001304-260407'}\n",
            "2022-11-05 03:11:28 [scrapy.core.engine] INFO: Closing spider (finished)\n",
            "2022-11-05 03:11:28 [scrapy.extensions.feedexport] INFO: Stored json feed (20 items) in: quotes.json\n",
            "2022-11-05 03:11:28 [scrapy.statscollectors] INFO: Dumping Scrapy stats:\n",
            "{'downloader/request_bytes': 6498,\n",
            " 'downloader/request_count': 22,\n",
            " 'downloader/request_method_count/GET': 22,\n",
            " 'downloader/response_bytes': 332728,\n",
            " 'downloader/response_count': 22,\n",
            " 'downloader/response_status_count/200': 22,\n",
            " 'elapsed_time_seconds': 1.183461,\n",
            " 'feedexport/success_count/FileFeedStorage': 1,\n",
            " 'finish_reason': 'finished',\n",
            " 'finish_time': datetime.datetime(2022, 11, 5, 3, 11, 28, 287880),\n",
            " 'httpcompression/response_bytes': 1539736,\n",
            " 'httpcompression/response_count': 22,\n",
            " 'item_scraped_count': 20,\n",
            " 'log_count/DEBUG': 45,\n",
            " 'log_count/INFO': 11,\n",
            " 'memusage/max': 92897280,\n",
            " 'memusage/startup': 92897280,\n",
            " 'request_depth_max': 1,\n",
            " 'response_received_count': 22,\n",
            " 'robotstxt/request_count': 1,\n",
            " 'robotstxt/response_count': 1,\n",
            " 'robotstxt/response_status_count/200': 1,\n",
            " 'scheduler/dequeued': 21,\n",
            " 'scheduler/dequeued/memory': 21,\n",
            " 'scheduler/enqueued': 21,\n",
            " 'scheduler/enqueued/memory': 21,\n",
            " 'start_time': datetime.datetime(2022, 11, 5, 3, 11, 27, 104419)}\n",
            "2022-11-05 03:11:28 [scrapy.core.engine] INFO: Spider closed (finished)\n"
          ]
        }
      ],
      "source": [
        "!scrapy runspider quotes_spider.py -o quotes.json"
      ]
    },
    {
      "cell_type": "code",
      "source": [
        "os.chdir('/content/chilean_data_explore/')\n",
        "!pwd | ls -l\n"
      ],
      "metadata": {
        "colab": {
          "base_uri": "https://localhost:8080/"
        },
        "id": "mUarejI_GFGt",
        "outputId": "e5e00e3c-d7e1-4402-cf3f-17cd41f3d4de"
      },
      "execution_count": 10,
      "outputs": [
        {
          "output_type": "stream",
          "name": "stdout",
          "text": [
            "total 8\n",
            "drwxr-xr-x 4 root root 4096 Nov  5 03:11 chilean_data_explore\n",
            "-rw-r--r-- 1 root root  283 Nov  5 03:11 scrapy.cfg\n"
          ]
        }
      ]
    },
    {
      "cell_type": "markdown",
      "source": [
        "## Spider for bcentral.cl"
      ],
      "metadata": {
        "id": "w27N3RGwI1F0"
      }
    },
    {
      "cell_type": "code",
      "source": [
        "%%writefile /content/chilean_data_explore/chilean_data_explore/spiders/base.py\n",
        "import scrapy\n",
        "from chilean_data_explore.items import PropertiesItem \n",
        "from scrapy.loader import ItemLoader\n",
        "import datetime\n",
        "import socket\n",
        "\n",
        "class BasicSpider(scrapy.Spider):\n",
        "    name = 'base'\n",
        "    allowed_domains = ['si3.bcentral.cl']\n",
        "    start_urls = ['https://si3.bcentral.cl/siete']\n",
        "\n",
        "    def parse(self, response):\n",
        "      loader_item = ItemLoader(item=PropertiesItem(), response=response)\n",
        "      loader_item.add_xpath('title','//title/text()')\n",
        "      loader_item.add_xpath('price','//*[@itemprop=\"price\"][1]/text()', re='[.0-9]+')\n",
        "      loader_item.add_xpath('description','//*[contains(@href, \"html\")]')\n",
        "      loader_item.add_value('server', socket.gethostname())\n",
        "      loader_item.add_value('date', datetime.datetime.now())\n",
        "      return loader_item.load_item()"
      ],
      "metadata": {
        "colab": {
          "base_uri": "https://localhost:8080/"
        },
        "id": "EXvokRiuHZ93",
        "outputId": "47d7bd14-67a9-410e-a77b-4c399c855f2b"
      },
      "execution_count": 11,
      "outputs": [
        {
          "output_type": "stream",
          "name": "stdout",
          "text": [
            "Writing /content/chilean_data_explore/chilean_data_explore/spiders/base.py\n"
          ]
        }
      ]
    },
    {
      "cell_type": "code",
      "source": [
        "!scrapy crawl base"
      ],
      "metadata": {
        "colab": {
          "base_uri": "https://localhost:8080/"
        },
        "id": "FNcPAxDZJeSE",
        "outputId": "515a5c09-34d2-4383-dca1-ea96795cb93d"
      },
      "execution_count": 12,
      "outputs": [
        {
          "output_type": "stream",
          "name": "stdout",
          "text": [
            "2022-11-05 03:11:30 [scrapy.utils.log] INFO: Scrapy 2.7.1 started (bot: chilean_data_explore)\n",
            "2022-11-05 03:11:30 [scrapy.utils.log] INFO: Versions: lxml 4.9.1.0, libxml2 2.9.14, cssselect 1.2.0, parsel 1.7.0, w3lib 2.0.1, Twisted 22.10.0, Python 3.7.15 (default, Oct 12 2022, 19:14:55) - [GCC 7.5.0], pyOpenSSL 22.1.0 (OpenSSL 3.0.7 1 Nov 2022), cryptography 38.0.3, Platform Linux-5.10.133+-x86_64-with-Ubuntu-18.04-bionic\n",
            "2022-11-05 03:11:30 [scrapy.crawler] INFO: Overridden settings:\n",
            "{'BOT_NAME': 'chilean_data_explore',\n",
            " 'NEWSPIDER_MODULE': 'chilean_data_explore.spiders',\n",
            " 'REQUEST_FINGERPRINTER_IMPLEMENTATION': '2.7',\n",
            " 'ROBOTSTXT_OBEY': True,\n",
            " 'SPIDER_MODULES': ['chilean_data_explore.spiders'],\n",
            " 'TWISTED_REACTOR': 'twisted.internet.asyncioreactor.AsyncioSelectorReactor'}\n",
            "2022-11-05 03:11:30 [asyncio] DEBUG: Using selector: EpollSelector\n",
            "2022-11-05 03:11:30 [scrapy.utils.log] DEBUG: Using reactor: twisted.internet.asyncioreactor.AsyncioSelectorReactor\n",
            "2022-11-05 03:11:30 [scrapy.utils.log] DEBUG: Using asyncio event loop: asyncio.unix_events._UnixSelectorEventLoop\n",
            "2022-11-05 03:11:30 [scrapy.extensions.telnet] INFO: Telnet Password: da885aeece196427\n",
            "2022-11-05 03:11:30 [scrapy.middleware] INFO: Enabled extensions:\n",
            "['scrapy.extensions.corestats.CoreStats',\n",
            " 'scrapy.extensions.telnet.TelnetConsole',\n",
            " 'scrapy.extensions.memusage.MemoryUsage',\n",
            " 'scrapy.extensions.logstats.LogStats']\n",
            "2022-11-05 03:11:30 [scrapy.middleware] INFO: Enabled downloader middlewares:\n",
            "['scrapy.downloadermiddlewares.robotstxt.RobotsTxtMiddleware',\n",
            " 'scrapy.downloadermiddlewares.httpauth.HttpAuthMiddleware',\n",
            " 'scrapy.downloadermiddlewares.downloadtimeout.DownloadTimeoutMiddleware',\n",
            " 'scrapy.downloadermiddlewares.defaultheaders.DefaultHeadersMiddleware',\n",
            " 'scrapy.downloadermiddlewares.useragent.UserAgentMiddleware',\n",
            " 'scrapy.downloadermiddlewares.retry.RetryMiddleware',\n",
            " 'scrapy.downloadermiddlewares.redirect.MetaRefreshMiddleware',\n",
            " 'scrapy.downloadermiddlewares.httpcompression.HttpCompressionMiddleware',\n",
            " 'scrapy.downloadermiddlewares.redirect.RedirectMiddleware',\n",
            " 'scrapy.downloadermiddlewares.cookies.CookiesMiddleware',\n",
            " 'scrapy.downloadermiddlewares.httpproxy.HttpProxyMiddleware',\n",
            " 'scrapy.downloadermiddlewares.stats.DownloaderStats']\n",
            "2022-11-05 03:11:30 [scrapy.middleware] INFO: Enabled spider middlewares:\n",
            "['scrapy.spidermiddlewares.httperror.HttpErrorMiddleware',\n",
            " 'scrapy.spidermiddlewares.offsite.OffsiteMiddleware',\n",
            " 'scrapy.spidermiddlewares.referer.RefererMiddleware',\n",
            " 'scrapy.spidermiddlewares.urllength.UrlLengthMiddleware',\n",
            " 'scrapy.spidermiddlewares.depth.DepthMiddleware']\n",
            "2022-11-05 03:11:30 [scrapy.middleware] INFO: Enabled item pipelines:\n",
            "[]\n",
            "2022-11-05 03:11:30 [scrapy.core.engine] INFO: Spider opened\n",
            "2022-11-05 03:11:30 [scrapy.extensions.logstats] INFO: Crawled 0 pages (at 0 pages/min), scraped 0 items (at 0 items/min)\n",
            "2022-11-05 03:11:30 [scrapy.extensions.telnet] INFO: Telnet console listening on 127.0.0.1:6023\n",
            "2022-11-05 03:11:31 [scrapy.downloadermiddlewares.redirect] DEBUG: Redirecting (302) to <GET https://si3.bcentral.cl/ErrorPage.html> from <GET https://si3.bcentral.cl/robots.txt>\n",
            "2022-11-05 03:11:31 [scrapy.core.engine] DEBUG: Crawled (200) <GET https://si3.bcentral.cl/ErrorPage.html> (referer: None)\n",
            "2022-11-05 03:11:31 [protego] DEBUG: Rule at line 8 without any user agent to enforce it on.\n",
            "2022-11-05 03:11:31 [protego] DEBUG: Rule at line 20 without any user agent to enforce it on.\n",
            "2022-11-05 03:11:31 [protego] DEBUG: Rule at line 21 without any user agent to enforce it on.\n",
            "2022-11-05 03:11:31 [protego] DEBUG: Rule at line 25 without any user agent to enforce it on.\n",
            "2022-11-05 03:11:31 [protego] DEBUG: Rule at line 28 without any user agent to enforce it on.\n",
            "2022-11-05 03:11:31 [protego] DEBUG: Rule at line 39 without any user agent to enforce it on.\n",
            "2022-11-05 03:11:31 [protego] DEBUG: Rule at line 55 without any user agent to enforce it on.\n",
            "2022-11-05 03:11:31 [protego] DEBUG: Rule at line 84 without any user agent to enforce it on.\n",
            "2022-11-05 03:11:31 [protego] DEBUG: Rule at line 90 without any user agent to enforce it on.\n",
            "2022-11-05 03:11:31 [protego] DEBUG: Rule at line 91 without any user agent to enforce it on.\n",
            "2022-11-05 03:11:31 [protego] DEBUG: Rule at line 95 without any user agent to enforce it on.\n",
            "2022-11-05 03:11:31 [protego] DEBUG: Rule at line 96 without any user agent to enforce it on.\n",
            "2022-11-05 03:11:32 [filelock] DEBUG: Attempting to acquire lock 140085749784976 on /root/.cache/python-tldextract/3.7.15.final__usr__7d8fdf__tldextract-3.4.0/publicsuffix.org-tlds/de84b5ca2167d4c83e38fb162f2e8738.tldextract.json.lock\n",
            "2022-11-05 03:11:32 [filelock] DEBUG: Lock 140085749784976 acquired on /root/.cache/python-tldextract/3.7.15.final__usr__7d8fdf__tldextract-3.4.0/publicsuffix.org-tlds/de84b5ca2167d4c83e38fb162f2e8738.tldextract.json.lock\n",
            "2022-11-05 03:11:32 [filelock] DEBUG: Attempting to acquire lock 140085734750288 on /root/.cache/python-tldextract/3.7.15.final__usr__7d8fdf__tldextract-3.4.0/urls/62bf135d1c2f3d4db4228b9ecaf507a2.tldextract.json.lock\n",
            "2022-11-05 03:11:32 [filelock] DEBUG: Lock 140085734750288 acquired on /root/.cache/python-tldextract/3.7.15.final__usr__7d8fdf__tldextract-3.4.0/urls/62bf135d1c2f3d4db4228b9ecaf507a2.tldextract.json.lock\n",
            "2022-11-05 03:11:32 [urllib3.connectionpool] DEBUG: Starting new HTTPS connection (1): publicsuffix.org:443\n",
            "2022-11-05 03:11:32 [urllib3.connectionpool] DEBUG: https://publicsuffix.org:443 \"GET /list/public_suffix_list.dat HTTP/1.1\" 200 None\n",
            "2022-11-05 03:11:32 [filelock] DEBUG: Attempting to release lock 140085734750288 on /root/.cache/python-tldextract/3.7.15.final__usr__7d8fdf__tldextract-3.4.0/urls/62bf135d1c2f3d4db4228b9ecaf507a2.tldextract.json.lock\n",
            "2022-11-05 03:11:32 [filelock] DEBUG: Lock 140085734750288 released on /root/.cache/python-tldextract/3.7.15.final__usr__7d8fdf__tldextract-3.4.0/urls/62bf135d1c2f3d4db4228b9ecaf507a2.tldextract.json.lock\n",
            "2022-11-05 03:11:32 [filelock] DEBUG: Attempting to release lock 140085749784976 on /root/.cache/python-tldextract/3.7.15.final__usr__7d8fdf__tldextract-3.4.0/publicsuffix.org-tlds/de84b5ca2167d4c83e38fb162f2e8738.tldextract.json.lock\n",
            "2022-11-05 03:11:32 [filelock] DEBUG: Lock 140085749784976 released on /root/.cache/python-tldextract/3.7.15.final__usr__7d8fdf__tldextract-3.4.0/publicsuffix.org-tlds/de84b5ca2167d4c83e38fb162f2e8738.tldextract.json.lock\n",
            "2022-11-05 03:11:32 [scrapy.core.engine] DEBUG: Crawled (200) <GET https://si3.bcentral.cl/siete> (referer: None)\n",
            "2022-11-05 03:11:33 [scrapy.core.scraper] DEBUG: Scraped from <200 https://si3.bcentral.cl/siete>\n",
            "{'date': [datetime.datetime(2022, 11, 5, 3, 11, 33, 67688)],\n",
            " 'description': ['<a target=\"_blank\" '\n",
            "                 'href=\"https://si3.bcentral.cl/estadisticas/Principal1/enlaces/aplicaciones/index.html\">Glosario</a>',\n",
            "                 '<a target=\"_blank\" '\n",
            "                 'href=\"https://si3.bcentral.cl/estadisticas/Principal1/enlaces/aplicaciones/index_faq.html\">Preguntas '\n",
            "                 'Frecuentes</a>',\n",
            "                 '<a class=\"nav-link\" target=\"_blank\" '\n",
            "                 'href=\"https://si3.bcentral.cl/estadisticas/Principal1/enlaces/aplicaciones/Metodolog_BDE.html\">Metodologías</a>',\n",
            "                 '<a class=\"nav-link\" '\n",
            "                 'href=\"https://si3.bcentral.cl/estadisticas/Principal1/enlaces/aplicaciones/BDE_movil.html\">BDE '\n",
            "                 'Móvil</a>'],\n",
            " 'server': ['e9951ca065fa'],\n",
            " 'title': ['Base de Datos Estadísticos ']}\n",
            "2022-11-05 03:11:33 [scrapy.core.engine] INFO: Closing spider (finished)\n",
            "2022-11-05 03:11:33 [scrapy.statscollectors] INFO: Dumping Scrapy stats:\n",
            "{'downloader/request_bytes': 674,\n",
            " 'downloader/request_count': 3,\n",
            " 'downloader/request_method_count/GET': 3,\n",
            " 'downloader/response_bytes': 38967,\n",
            " 'downloader/response_count': 3,\n",
            " 'downloader/response_status_count/200': 2,\n",
            " 'downloader/response_status_count/302': 1,\n",
            " 'elapsed_time_seconds': 2.357373,\n",
            " 'finish_reason': 'finished',\n",
            " 'finish_time': datetime.datetime(2022, 11, 5, 3, 11, 33, 75431),\n",
            " 'item_scraped_count': 1,\n",
            " 'log_count/DEBUG': 29,\n",
            " 'log_count/INFO': 10,\n",
            " 'memusage/max': 93134848,\n",
            " 'memusage/startup': 93134848,\n",
            " 'response_received_count': 2,\n",
            " 'robotstxt/request_count': 1,\n",
            " 'robotstxt/response_count': 1,\n",
            " 'robotstxt/response_status_count/200': 1,\n",
            " 'scheduler/dequeued': 1,\n",
            " 'scheduler/dequeued/memory': 1,\n",
            " 'scheduler/enqueued': 1,\n",
            " 'scheduler/enqueued/memory': 1,\n",
            " 'start_time': datetime.datetime(2022, 11, 5, 3, 11, 30, 718058)}\n",
            "2022-11-05 03:11:33 [scrapy.core.engine] INFO: Spider closed (finished)\n"
          ]
        }
      ]
    },
    {
      "cell_type": "code",
      "source": [
        "!scrapy crawl base -o items.csv"
      ],
      "metadata": {
        "colab": {
          "base_uri": "https://localhost:8080/"
        },
        "id": "npKp6C2eADMv",
        "outputId": "f394a19e-ae97-46b0-cc7a-6df33d25a809"
      },
      "execution_count": 13,
      "outputs": [
        {
          "output_type": "stream",
          "name": "stdout",
          "text": [
            "2022-11-05 03:11:35 [scrapy.utils.log] INFO: Scrapy 2.7.1 started (bot: chilean_data_explore)\n",
            "2022-11-05 03:11:35 [scrapy.utils.log] INFO: Versions: lxml 4.9.1.0, libxml2 2.9.14, cssselect 1.2.0, parsel 1.7.0, w3lib 2.0.1, Twisted 22.10.0, Python 3.7.15 (default, Oct 12 2022, 19:14:55) - [GCC 7.5.0], pyOpenSSL 22.1.0 (OpenSSL 3.0.7 1 Nov 2022), cryptography 38.0.3, Platform Linux-5.10.133+-x86_64-with-Ubuntu-18.04-bionic\n",
            "2022-11-05 03:11:35 [scrapy.crawler] INFO: Overridden settings:\n",
            "{'BOT_NAME': 'chilean_data_explore',\n",
            " 'NEWSPIDER_MODULE': 'chilean_data_explore.spiders',\n",
            " 'REQUEST_FINGERPRINTER_IMPLEMENTATION': '2.7',\n",
            " 'ROBOTSTXT_OBEY': True,\n",
            " 'SPIDER_MODULES': ['chilean_data_explore.spiders'],\n",
            " 'TWISTED_REACTOR': 'twisted.internet.asyncioreactor.AsyncioSelectorReactor'}\n",
            "2022-11-05 03:11:35 [asyncio] DEBUG: Using selector: EpollSelector\n",
            "2022-11-05 03:11:35 [scrapy.utils.log] DEBUG: Using reactor: twisted.internet.asyncioreactor.AsyncioSelectorReactor\n",
            "2022-11-05 03:11:35 [scrapy.utils.log] DEBUG: Using asyncio event loop: asyncio.unix_events._UnixSelectorEventLoop\n",
            "2022-11-05 03:11:35 [scrapy.extensions.telnet] INFO: Telnet Password: da123ff6874c505a\n",
            "2022-11-05 03:11:35 [scrapy.middleware] INFO: Enabled extensions:\n",
            "['scrapy.extensions.corestats.CoreStats',\n",
            " 'scrapy.extensions.telnet.TelnetConsole',\n",
            " 'scrapy.extensions.memusage.MemoryUsage',\n",
            " 'scrapy.extensions.feedexport.FeedExporter',\n",
            " 'scrapy.extensions.logstats.LogStats']\n",
            "2022-11-05 03:11:35 [scrapy.middleware] INFO: Enabled downloader middlewares:\n",
            "['scrapy.downloadermiddlewares.robotstxt.RobotsTxtMiddleware',\n",
            " 'scrapy.downloadermiddlewares.httpauth.HttpAuthMiddleware',\n",
            " 'scrapy.downloadermiddlewares.downloadtimeout.DownloadTimeoutMiddleware',\n",
            " 'scrapy.downloadermiddlewares.defaultheaders.DefaultHeadersMiddleware',\n",
            " 'scrapy.downloadermiddlewares.useragent.UserAgentMiddleware',\n",
            " 'scrapy.downloadermiddlewares.retry.RetryMiddleware',\n",
            " 'scrapy.downloadermiddlewares.redirect.MetaRefreshMiddleware',\n",
            " 'scrapy.downloadermiddlewares.httpcompression.HttpCompressionMiddleware',\n",
            " 'scrapy.downloadermiddlewares.redirect.RedirectMiddleware',\n",
            " 'scrapy.downloadermiddlewares.cookies.CookiesMiddleware',\n",
            " 'scrapy.downloadermiddlewares.httpproxy.HttpProxyMiddleware',\n",
            " 'scrapy.downloadermiddlewares.stats.DownloaderStats']\n",
            "2022-11-05 03:11:35 [scrapy.middleware] INFO: Enabled spider middlewares:\n",
            "['scrapy.spidermiddlewares.httperror.HttpErrorMiddleware',\n",
            " 'scrapy.spidermiddlewares.offsite.OffsiteMiddleware',\n",
            " 'scrapy.spidermiddlewares.referer.RefererMiddleware',\n",
            " 'scrapy.spidermiddlewares.urllength.UrlLengthMiddleware',\n",
            " 'scrapy.spidermiddlewares.depth.DepthMiddleware']\n",
            "2022-11-05 03:11:35 [scrapy.middleware] INFO: Enabled item pipelines:\n",
            "[]\n",
            "2022-11-05 03:11:35 [scrapy.core.engine] INFO: Spider opened\n",
            "2022-11-05 03:11:35 [scrapy.extensions.logstats] INFO: Crawled 0 pages (at 0 pages/min), scraped 0 items (at 0 items/min)\n",
            "2022-11-05 03:11:35 [scrapy.extensions.telnet] INFO: Telnet console listening on 127.0.0.1:6023\n",
            "2022-11-05 03:11:37 [scrapy.downloadermiddlewares.redirect] DEBUG: Redirecting (302) to <GET https://si3.bcentral.cl/ErrorPage.html> from <GET https://si3.bcentral.cl/robots.txt>\n",
            "2022-11-05 03:11:37 [scrapy.core.engine] DEBUG: Crawled (200) <GET https://si3.bcentral.cl/ErrorPage.html> (referer: None)\n",
            "2022-11-05 03:11:37 [protego] DEBUG: Rule at line 8 without any user agent to enforce it on.\n",
            "2022-11-05 03:11:37 [protego] DEBUG: Rule at line 20 without any user agent to enforce it on.\n",
            "2022-11-05 03:11:37 [protego] DEBUG: Rule at line 21 without any user agent to enforce it on.\n",
            "2022-11-05 03:11:37 [protego] DEBUG: Rule at line 25 without any user agent to enforce it on.\n",
            "2022-11-05 03:11:37 [protego] DEBUG: Rule at line 28 without any user agent to enforce it on.\n",
            "2022-11-05 03:11:37 [protego] DEBUG: Rule at line 39 without any user agent to enforce it on.\n",
            "2022-11-05 03:11:37 [protego] DEBUG: Rule at line 55 without any user agent to enforce it on.\n",
            "2022-11-05 03:11:37 [protego] DEBUG: Rule at line 84 without any user agent to enforce it on.\n",
            "2022-11-05 03:11:37 [protego] DEBUG: Rule at line 90 without any user agent to enforce it on.\n",
            "2022-11-05 03:11:37 [protego] DEBUG: Rule at line 91 without any user agent to enforce it on.\n",
            "2022-11-05 03:11:37 [protego] DEBUG: Rule at line 95 without any user agent to enforce it on.\n",
            "2022-11-05 03:11:37 [protego] DEBUG: Rule at line 96 without any user agent to enforce it on.\n",
            "2022-11-05 03:11:38 [filelock] DEBUG: Attempting to acquire lock 140059604888528 on /root/.cache/python-tldextract/3.7.15.final__usr__7d8fdf__tldextract-3.4.0/publicsuffix.org-tlds/de84b5ca2167d4c83e38fb162f2e8738.tldextract.json.lock\n",
            "2022-11-05 03:11:38 [filelock] DEBUG: Lock 140059604888528 acquired on /root/.cache/python-tldextract/3.7.15.final__usr__7d8fdf__tldextract-3.4.0/publicsuffix.org-tlds/de84b5ca2167d4c83e38fb162f2e8738.tldextract.json.lock\n",
            "2022-11-05 03:11:38 [filelock] DEBUG: Attempting to release lock 140059604888528 on /root/.cache/python-tldextract/3.7.15.final__usr__7d8fdf__tldextract-3.4.0/publicsuffix.org-tlds/de84b5ca2167d4c83e38fb162f2e8738.tldextract.json.lock\n",
            "2022-11-05 03:11:38 [filelock] DEBUG: Lock 140059604888528 released on /root/.cache/python-tldextract/3.7.15.final__usr__7d8fdf__tldextract-3.4.0/publicsuffix.org-tlds/de84b5ca2167d4c83e38fb162f2e8738.tldextract.json.lock\n",
            "2022-11-05 03:11:38 [scrapy.core.engine] DEBUG: Crawled (200) <GET https://si3.bcentral.cl/siete> (referer: None)\n",
            "2022-11-05 03:11:38 [scrapy.core.scraper] DEBUG: Scraped from <200 https://si3.bcentral.cl/siete>\n",
            "{'date': [datetime.datetime(2022, 11, 5, 3, 11, 38, 461936)],\n",
            " 'description': ['<a target=\"_blank\" '\n",
            "                 'href=\"https://si3.bcentral.cl/estadisticas/Principal1/enlaces/aplicaciones/index.html\">Glosario</a>',\n",
            "                 '<a target=\"_blank\" '\n",
            "                 'href=\"https://si3.bcentral.cl/estadisticas/Principal1/enlaces/aplicaciones/index_faq.html\">Preguntas '\n",
            "                 'Frecuentes</a>',\n",
            "                 '<a class=\"nav-link\" target=\"_blank\" '\n",
            "                 'href=\"https://si3.bcentral.cl/estadisticas/Principal1/enlaces/aplicaciones/Metodolog_BDE.html\">Metodologías</a>',\n",
            "                 '<a class=\"nav-link\" '\n",
            "                 'href=\"https://si3.bcentral.cl/estadisticas/Principal1/enlaces/aplicaciones/BDE_movil.html\">BDE '\n",
            "                 'Móvil</a>'],\n",
            " 'server': ['e9951ca065fa'],\n",
            " 'title': ['Base de Datos Estadísticos ']}\n",
            "2022-11-05 03:11:38 [scrapy.core.engine] INFO: Closing spider (finished)\n",
            "2022-11-05 03:11:38 [scrapy.extensions.feedexport] INFO: Stored csv feed (1 items) in: items.csv\n",
            "2022-11-05 03:11:38 [scrapy.statscollectors] INFO: Dumping Scrapy stats:\n",
            "{'downloader/request_bytes': 674,\n",
            " 'downloader/request_count': 3,\n",
            " 'downloader/request_method_count/GET': 3,\n",
            " 'downloader/response_bytes': 38967,\n",
            " 'downloader/response_count': 3,\n",
            " 'downloader/response_status_count/200': 2,\n",
            " 'downloader/response_status_count/302': 1,\n",
            " 'elapsed_time_seconds': 3.084923,\n",
            " 'feedexport/success_count/FileFeedStorage': 1,\n",
            " 'finish_reason': 'finished',\n",
            " 'finish_time': datetime.datetime(2022, 11, 5, 3, 11, 38, 468473),\n",
            " 'item_scraped_count': 1,\n",
            " 'log_count/DEBUG': 23,\n",
            " 'log_count/INFO': 11,\n",
            " 'memusage/max': 93249536,\n",
            " 'memusage/startup': 93249536,\n",
            " 'response_received_count': 2,\n",
            " 'robotstxt/request_count': 1,\n",
            " 'robotstxt/response_count': 1,\n",
            " 'robotstxt/response_status_count/200': 1,\n",
            " 'scheduler/dequeued': 1,\n",
            " 'scheduler/dequeued/memory': 1,\n",
            " 'scheduler/enqueued': 1,\n",
            " 'scheduler/enqueued/memory': 1,\n",
            " 'start_time': datetime.datetime(2022, 11, 5, 3, 11, 35, 383550)}\n",
            "2022-11-05 03:11:38 [scrapy.core.engine] INFO: Spider closed (finished)\n"
          ]
        }
      ]
    },
    {
      "cell_type": "code",
      "source": [
        "!scrapy parse --spider=base https://si3.bcentral.cl/siete"
      ],
      "metadata": {
        "colab": {
          "base_uri": "https://localhost:8080/"
        },
        "id": "iQI8QVlgDB0Y",
        "outputId": "9cf32db1-3b52-4146-a077-d8bd3f0748ce"
      },
      "execution_count": 14,
      "outputs": [
        {
          "output_type": "stream",
          "name": "stdout",
          "text": [
            "2022-11-05 03:11:40 [scrapy.utils.log] INFO: Scrapy 2.7.1 started (bot: chilean_data_explore)\n",
            "2022-11-05 03:11:40 [scrapy.utils.log] INFO: Versions: lxml 4.9.1.0, libxml2 2.9.14, cssselect 1.2.0, parsel 1.7.0, w3lib 2.0.1, Twisted 22.10.0, Python 3.7.15 (default, Oct 12 2022, 19:14:55) - [GCC 7.5.0], pyOpenSSL 22.1.0 (OpenSSL 3.0.7 1 Nov 2022), cryptography 38.0.3, Platform Linux-5.10.133+-x86_64-with-Ubuntu-18.04-bionic\n",
            "2022-11-05 03:11:40 [scrapy.crawler] INFO: Overridden settings:\n",
            "{'BOT_NAME': 'chilean_data_explore',\n",
            " 'NEWSPIDER_MODULE': 'chilean_data_explore.spiders',\n",
            " 'REQUEST_FINGERPRINTER_IMPLEMENTATION': '2.7',\n",
            " 'ROBOTSTXT_OBEY': True,\n",
            " 'SPIDER_MODULES': ['chilean_data_explore.spiders'],\n",
            " 'TWISTED_REACTOR': 'twisted.internet.asyncioreactor.AsyncioSelectorReactor'}\n",
            "2022-11-05 03:11:40 [asyncio] DEBUG: Using selector: EpollSelector\n",
            "2022-11-05 03:11:40 [scrapy.utils.log] DEBUG: Using reactor: twisted.internet.asyncioreactor.AsyncioSelectorReactor\n",
            "2022-11-05 03:11:40 [scrapy.utils.log] DEBUG: Using asyncio event loop: asyncio.unix_events._UnixSelectorEventLoop\n",
            "2022-11-05 03:11:40 [scrapy.extensions.telnet] INFO: Telnet Password: 2ad042006b7bbe0d\n",
            "2022-11-05 03:11:40 [scrapy.middleware] INFO: Enabled extensions:\n",
            "['scrapy.extensions.corestats.CoreStats',\n",
            " 'scrapy.extensions.telnet.TelnetConsole',\n",
            " 'scrapy.extensions.memusage.MemoryUsage',\n",
            " 'scrapy.extensions.logstats.LogStats']\n",
            "2022-11-05 03:11:40 [scrapy.middleware] INFO: Enabled downloader middlewares:\n",
            "['scrapy.downloadermiddlewares.robotstxt.RobotsTxtMiddleware',\n",
            " 'scrapy.downloadermiddlewares.httpauth.HttpAuthMiddleware',\n",
            " 'scrapy.downloadermiddlewares.downloadtimeout.DownloadTimeoutMiddleware',\n",
            " 'scrapy.downloadermiddlewares.defaultheaders.DefaultHeadersMiddleware',\n",
            " 'scrapy.downloadermiddlewares.useragent.UserAgentMiddleware',\n",
            " 'scrapy.downloadermiddlewares.retry.RetryMiddleware',\n",
            " 'scrapy.downloadermiddlewares.redirect.MetaRefreshMiddleware',\n",
            " 'scrapy.downloadermiddlewares.httpcompression.HttpCompressionMiddleware',\n",
            " 'scrapy.downloadermiddlewares.redirect.RedirectMiddleware',\n",
            " 'scrapy.downloadermiddlewares.cookies.CookiesMiddleware',\n",
            " 'scrapy.downloadermiddlewares.httpproxy.HttpProxyMiddleware',\n",
            " 'scrapy.downloadermiddlewares.stats.DownloaderStats']\n",
            "2022-11-05 03:11:40 [scrapy.middleware] INFO: Enabled spider middlewares:\n",
            "['scrapy.spidermiddlewares.httperror.HttpErrorMiddleware',\n",
            " 'scrapy.spidermiddlewares.offsite.OffsiteMiddleware',\n",
            " 'scrapy.spidermiddlewares.referer.RefererMiddleware',\n",
            " 'scrapy.spidermiddlewares.urllength.UrlLengthMiddleware',\n",
            " 'scrapy.spidermiddlewares.depth.DepthMiddleware']\n",
            "2022-11-05 03:11:40 [scrapy.middleware] INFO: Enabled item pipelines:\n",
            "[]\n",
            "2022-11-05 03:11:40 [scrapy.core.engine] INFO: Spider opened\n",
            "2022-11-05 03:11:41 [scrapy.extensions.logstats] INFO: Crawled 0 pages (at 0 pages/min), scraped 0 items (at 0 items/min)\n",
            "2022-11-05 03:11:41 [scrapy.extensions.telnet] INFO: Telnet console listening on 127.0.0.1:6023\n",
            "2022-11-05 03:11:41 [scrapy.downloadermiddlewares.redirect] DEBUG: Redirecting (302) to <GET https://si3.bcentral.cl/ErrorPage.html> from <GET https://si3.bcentral.cl/robots.txt>\n",
            "2022-11-05 03:11:42 [scrapy.core.engine] DEBUG: Crawled (200) <GET https://si3.bcentral.cl/ErrorPage.html> (referer: None)\n",
            "2022-11-05 03:11:42 [protego] DEBUG: Rule at line 8 without any user agent to enforce it on.\n",
            "2022-11-05 03:11:42 [protego] DEBUG: Rule at line 20 without any user agent to enforce it on.\n",
            "2022-11-05 03:11:42 [protego] DEBUG: Rule at line 21 without any user agent to enforce it on.\n",
            "2022-11-05 03:11:42 [protego] DEBUG: Rule at line 25 without any user agent to enforce it on.\n",
            "2022-11-05 03:11:42 [protego] DEBUG: Rule at line 28 without any user agent to enforce it on.\n",
            "2022-11-05 03:11:42 [protego] DEBUG: Rule at line 39 without any user agent to enforce it on.\n",
            "2022-11-05 03:11:42 [protego] DEBUG: Rule at line 55 without any user agent to enforce it on.\n",
            "2022-11-05 03:11:42 [protego] DEBUG: Rule at line 84 without any user agent to enforce it on.\n",
            "2022-11-05 03:11:42 [protego] DEBUG: Rule at line 90 without any user agent to enforce it on.\n",
            "2022-11-05 03:11:42 [protego] DEBUG: Rule at line 91 without any user agent to enforce it on.\n",
            "2022-11-05 03:11:42 [protego] DEBUG: Rule at line 95 without any user agent to enforce it on.\n",
            "2022-11-05 03:11:42 [protego] DEBUG: Rule at line 96 without any user agent to enforce it on.\n",
            "2022-11-05 03:11:43 [filelock] DEBUG: Attempting to acquire lock 140707976386000 on /root/.cache/python-tldextract/3.7.15.final__usr__7d8fdf__tldextract-3.4.0/publicsuffix.org-tlds/de84b5ca2167d4c83e38fb162f2e8738.tldextract.json.lock\n",
            "2022-11-05 03:11:43 [filelock] DEBUG: Lock 140707976386000 acquired on /root/.cache/python-tldextract/3.7.15.final__usr__7d8fdf__tldextract-3.4.0/publicsuffix.org-tlds/de84b5ca2167d4c83e38fb162f2e8738.tldextract.json.lock\n",
            "2022-11-05 03:11:43 [filelock] DEBUG: Attempting to release lock 140707976386000 on /root/.cache/python-tldextract/3.7.15.final__usr__7d8fdf__tldextract-3.4.0/publicsuffix.org-tlds/de84b5ca2167d4c83e38fb162f2e8738.tldextract.json.lock\n",
            "2022-11-05 03:11:43 [filelock] DEBUG: Lock 140707976386000 released on /root/.cache/python-tldextract/3.7.15.final__usr__7d8fdf__tldextract-3.4.0/publicsuffix.org-tlds/de84b5ca2167d4c83e38fb162f2e8738.tldextract.json.lock\n",
            "2022-11-05 03:11:43 [scrapy.core.engine] DEBUG: Crawled (200) <GET https://si3.bcentral.cl/siete> (referer: None)\n",
            "2022-11-05 03:11:43 [scrapy.core.engine] INFO: Closing spider (finished)\n",
            "2022-11-05 03:11:43 [scrapy.statscollectors] INFO: Dumping Scrapy stats:\n",
            "{'downloader/request_bytes': 674,\n",
            " 'downloader/request_count': 3,\n",
            " 'downloader/request_method_count/GET': 3,\n",
            " 'downloader/response_bytes': 38967,\n",
            " 'downloader/response_count': 3,\n",
            " 'downloader/response_status_count/200': 2,\n",
            " 'downloader/response_status_count/302': 1,\n",
            " 'elapsed_time_seconds': 2.223864,\n",
            " 'finish_reason': 'finished',\n",
            " 'finish_time': datetime.datetime(2022, 11, 5, 3, 11, 43, 318222),\n",
            " 'log_count/DEBUG': 22,\n",
            " 'log_count/INFO': 10,\n",
            " 'memusage/max': 93306880,\n",
            " 'memusage/startup': 93306880,\n",
            " 'response_received_count': 2,\n",
            " 'robotstxt/request_count': 1,\n",
            " 'robotstxt/response_count': 1,\n",
            " 'robotstxt/response_status_count/200': 1,\n",
            " 'scheduler/dequeued': 1,\n",
            " 'scheduler/dequeued/memory': 1,\n",
            " 'scheduler/enqueued': 1,\n",
            " 'scheduler/enqueued/memory': 1,\n",
            " 'start_time': datetime.datetime(2022, 11, 5, 3, 11, 41, 94358)}\n",
            "2022-11-05 03:11:43 [scrapy.core.engine] INFO: Spider closed (finished)\n",
            "\n",
            ">>> STATUS DEPTH LEVEL 1 <<<\n",
            "# Scraped Items  ------------------------------------------------------------\n",
            "[{\u001b[33m'\u001b[39;49;00m\u001b[33mdate\u001b[39;49;00m\u001b[33m'\u001b[39;49;00m: [datetime.datetime(\u001b[34m2022\u001b[39;49;00m, \u001b[34m11\u001b[39;49;00m, \u001b[34m5\u001b[39;49;00m, \u001b[34m3\u001b[39;49;00m, \u001b[34m11\u001b[39;49;00m, \u001b[34m43\u001b[39;49;00m, \u001b[34m314324\u001b[39;49;00m)],\n",
            "  \u001b[33m'\u001b[39;49;00m\u001b[33mdescription\u001b[39;49;00m\u001b[33m'\u001b[39;49;00m: [\u001b[33m'\u001b[39;49;00m\u001b[33m<a target=\u001b[39;49;00m\u001b[33m\"\u001b[39;49;00m\u001b[33m_blank\u001b[39;49;00m\u001b[33m\"\u001b[39;49;00m\u001b[33m \u001b[39;49;00m\u001b[33m'\u001b[39;49;00m\n",
            "                  \u001b[33m'\u001b[39;49;00m\u001b[33mhref=\u001b[39;49;00m\u001b[33m\"\u001b[39;49;00m\u001b[33mhttps://si3.bcentral.cl/estadisticas/Principal1/enlaces/aplicaciones/index.html\u001b[39;49;00m\u001b[33m\"\u001b[39;49;00m\u001b[33m>Glosario</a>\u001b[39;49;00m\u001b[33m'\u001b[39;49;00m,\n",
            "                  \u001b[33m'\u001b[39;49;00m\u001b[33m<a target=\u001b[39;49;00m\u001b[33m\"\u001b[39;49;00m\u001b[33m_blank\u001b[39;49;00m\u001b[33m\"\u001b[39;49;00m\u001b[33m \u001b[39;49;00m\u001b[33m'\u001b[39;49;00m\n",
            "                  \u001b[33m'\u001b[39;49;00m\u001b[33mhref=\u001b[39;49;00m\u001b[33m\"\u001b[39;49;00m\u001b[33mhttps://si3.bcentral.cl/estadisticas/Principal1/enlaces/aplicaciones/index_faq.html\u001b[39;49;00m\u001b[33m\"\u001b[39;49;00m\u001b[33m>Preguntas \u001b[39;49;00m\u001b[33m'\u001b[39;49;00m\n",
            "                  \u001b[33m'\u001b[39;49;00m\u001b[33mFrecuentes</a>\u001b[39;49;00m\u001b[33m'\u001b[39;49;00m,\n",
            "                  \u001b[33m'\u001b[39;49;00m\u001b[33m<a class=\u001b[39;49;00m\u001b[33m\"\u001b[39;49;00m\u001b[33mnav-link\u001b[39;49;00m\u001b[33m\"\u001b[39;49;00m\u001b[33m target=\u001b[39;49;00m\u001b[33m\"\u001b[39;49;00m\u001b[33m_blank\u001b[39;49;00m\u001b[33m\"\u001b[39;49;00m\u001b[33m \u001b[39;49;00m\u001b[33m'\u001b[39;49;00m\n",
            "                  \u001b[33m'\u001b[39;49;00m\u001b[33mhref=\u001b[39;49;00m\u001b[33m\"\u001b[39;49;00m\u001b[33mhttps://si3.bcentral.cl/estadisticas/Principal1/enlaces/aplicaciones/Metodolog_BDE.html\u001b[39;49;00m\u001b[33m\"\u001b[39;49;00m\u001b[33m>Metodologías</a>\u001b[39;49;00m\u001b[33m'\u001b[39;49;00m,\n",
            "                  \u001b[33m'\u001b[39;49;00m\u001b[33m<a class=\u001b[39;49;00m\u001b[33m\"\u001b[39;49;00m\u001b[33mnav-link\u001b[39;49;00m\u001b[33m\"\u001b[39;49;00m\u001b[33m \u001b[39;49;00m\u001b[33m'\u001b[39;49;00m\n",
            "                  \u001b[33m'\u001b[39;49;00m\u001b[33mhref=\u001b[39;49;00m\u001b[33m\"\u001b[39;49;00m\u001b[33mhttps://si3.bcentral.cl/estadisticas/Principal1/enlaces/aplicaciones/BDE_movil.html\u001b[39;49;00m\u001b[33m\"\u001b[39;49;00m\u001b[33m>BDE \u001b[39;49;00m\u001b[33m'\u001b[39;49;00m\n",
            "                  \u001b[33m'\u001b[39;49;00m\u001b[33mMóvil</a>\u001b[39;49;00m\u001b[33m'\u001b[39;49;00m],\n",
            "  \u001b[33m'\u001b[39;49;00m\u001b[33mserver\u001b[39;49;00m\u001b[33m'\u001b[39;49;00m: [\u001b[33m'\u001b[39;49;00m\u001b[33me9951ca065fa\u001b[39;49;00m\u001b[33m'\u001b[39;49;00m],\n",
            "  \u001b[33m'\u001b[39;49;00m\u001b[33mtitle\u001b[39;49;00m\u001b[33m'\u001b[39;49;00m: [\u001b[33m'\u001b[39;49;00m\u001b[33mBase de Datos Estadísticos \u001b[39;49;00m\u001b[33m'\u001b[39;49;00m]}]\n",
            "\n",
            "# Requests  -----------------------------------------------------------------\n",
            "[]\n",
            "\n"
          ]
        }
      ]
    },
    {
      "cell_type": "markdown",
      "source": [
        "## Spider for two-direction-movement"
      ],
      "metadata": {
        "id": "pA5FqcRkISfk"
      }
    },
    {
      "cell_type": "code",
      "source": [
        "%%writefile /content/chilean_data_explore/chilean_data_explore/spiders/manual.py\n",
        "import scrapy\n",
        "from chilean_data_explore.items import PropertiesItem \n",
        "from scrapy.loader import ItemLoader\n",
        "import datetime\n",
        "import socket\n",
        "from scrapy.http import Request\n",
        "from urllib.parse import urljoin\n",
        "\n",
        "class BasicSpider(scrapy.Spider):\n",
        "    name = 'manual'\n",
        "    allowed_domains = ['si3.bcentral.cl']\n",
        "    start_urls = ['https://si3.bcentral.cl/Siete']\n",
        "\n",
        "    def parse(self, response):\n",
        "      next_selector=response.xpath('//a[starts-with(@onclick, \"SetCapitu\")]//@onclick').extract()\n",
        "      collec=[]\n",
        "      for string in next_selector:\n",
        "        string = string.replace(\"SetCapitulo(\",\"\") \n",
        "        string = string.replace(\")\",\"\") \n",
        "        string = string.replace(\"'\",\"\") \n",
        "        string = string.replace(\" \",\"\") \n",
        "        string = \"/\".join(string.split(',')) \n",
        "        string = \"Siete/ES/Siete/Cuadro/\" + string.strip()\n",
        "        collec.append(string)\n",
        "      next_selector = collec\n",
        "\n",
        "      for url in next_selector:\n",
        "        x = urljoin(response.url, url)\n",
        "        yield Request(x, callback=self.parse)"
      ],
      "metadata": {
        "colab": {
          "base_uri": "https://localhost:8080/"
        },
        "id": "P5zxQVxlaOoU",
        "outputId": "112aaaf0-f673-4b06-c972-11bb5365346d"
      },
      "execution_count": 15,
      "outputs": [
        {
          "output_type": "stream",
          "name": "stdout",
          "text": [
            "Writing /content/chilean_data_explore/chilean_data_explore/spiders/manual.py\n"
          ]
        }
      ]
    },
    {
      "cell_type": "code",
      "source": [
        "!scrapy crawl manual \n",
        "!scrapy parse --spider=manual https://si3.bcentral.cl/Siete"
      ],
      "metadata": {
        "colab": {
          "base_uri": "https://localhost:8080/"
        },
        "id": "D-64ZVxfaC-b",
        "outputId": "b5824461-e42e-4e58-9889-34394ba31107"
      },
      "execution_count": 16,
      "outputs": [
        {
          "output_type": "stream",
          "name": "stdout",
          "text": [
            "2022-11-05 03:11:45 [scrapy.utils.log] INFO: Scrapy 2.7.1 started (bot: chilean_data_explore)\n",
            "2022-11-05 03:11:45 [scrapy.utils.log] INFO: Versions: lxml 4.9.1.0, libxml2 2.9.14, cssselect 1.2.0, parsel 1.7.0, w3lib 2.0.1, Twisted 22.10.0, Python 3.7.15 (default, Oct 12 2022, 19:14:55) - [GCC 7.5.0], pyOpenSSL 22.1.0 (OpenSSL 3.0.7 1 Nov 2022), cryptography 38.0.3, Platform Linux-5.10.133+-x86_64-with-Ubuntu-18.04-bionic\n",
            "2022-11-05 03:11:45 [scrapy.crawler] INFO: Overridden settings:\n",
            "{'BOT_NAME': 'chilean_data_explore',\n",
            " 'NEWSPIDER_MODULE': 'chilean_data_explore.spiders',\n",
            " 'REQUEST_FINGERPRINTER_IMPLEMENTATION': '2.7',\n",
            " 'ROBOTSTXT_OBEY': True,\n",
            " 'SPIDER_MODULES': ['chilean_data_explore.spiders'],\n",
            " 'TWISTED_REACTOR': 'twisted.internet.asyncioreactor.AsyncioSelectorReactor'}\n",
            "2022-11-05 03:11:45 [asyncio] DEBUG: Using selector: EpollSelector\n",
            "2022-11-05 03:11:45 [scrapy.utils.log] DEBUG: Using reactor: twisted.internet.asyncioreactor.AsyncioSelectorReactor\n",
            "2022-11-05 03:11:45 [scrapy.utils.log] DEBUG: Using asyncio event loop: asyncio.unix_events._UnixSelectorEventLoop\n",
            "2022-11-05 03:11:45 [scrapy.extensions.telnet] INFO: Telnet Password: 0e042face7fe53f2\n",
            "2022-11-05 03:11:45 [scrapy.middleware] INFO: Enabled extensions:\n",
            "['scrapy.extensions.corestats.CoreStats',\n",
            " 'scrapy.extensions.telnet.TelnetConsole',\n",
            " 'scrapy.extensions.memusage.MemoryUsage',\n",
            " 'scrapy.extensions.logstats.LogStats']\n",
            "2022-11-05 03:11:45 [scrapy.middleware] INFO: Enabled downloader middlewares:\n",
            "['scrapy.downloadermiddlewares.robotstxt.RobotsTxtMiddleware',\n",
            " 'scrapy.downloadermiddlewares.httpauth.HttpAuthMiddleware',\n",
            " 'scrapy.downloadermiddlewares.downloadtimeout.DownloadTimeoutMiddleware',\n",
            " 'scrapy.downloadermiddlewares.defaultheaders.DefaultHeadersMiddleware',\n",
            " 'scrapy.downloadermiddlewares.useragent.UserAgentMiddleware',\n",
            " 'scrapy.downloadermiddlewares.retry.RetryMiddleware',\n",
            " 'scrapy.downloadermiddlewares.redirect.MetaRefreshMiddleware',\n",
            " 'scrapy.downloadermiddlewares.httpcompression.HttpCompressionMiddleware',\n",
            " 'scrapy.downloadermiddlewares.redirect.RedirectMiddleware',\n",
            " 'scrapy.downloadermiddlewares.cookies.CookiesMiddleware',\n",
            " 'scrapy.downloadermiddlewares.httpproxy.HttpProxyMiddleware',\n",
            " 'scrapy.downloadermiddlewares.stats.DownloaderStats']\n",
            "2022-11-05 03:11:45 [scrapy.middleware] INFO: Enabled spider middlewares:\n",
            "['scrapy.spidermiddlewares.httperror.HttpErrorMiddleware',\n",
            " 'scrapy.spidermiddlewares.offsite.OffsiteMiddleware',\n",
            " 'scrapy.spidermiddlewares.referer.RefererMiddleware',\n",
            " 'scrapy.spidermiddlewares.urllength.UrlLengthMiddleware',\n",
            " 'scrapy.spidermiddlewares.depth.DepthMiddleware']\n",
            "2022-11-05 03:11:45 [scrapy.middleware] INFO: Enabled item pipelines:\n",
            "[]\n",
            "2022-11-05 03:11:45 [scrapy.core.engine] INFO: Spider opened\n",
            "2022-11-05 03:11:45 [scrapy.extensions.logstats] INFO: Crawled 0 pages (at 0 pages/min), scraped 0 items (at 0 items/min)\n",
            "2022-11-05 03:11:45 [scrapy.extensions.telnet] INFO: Telnet console listening on 127.0.0.1:6023\n",
            "2022-11-05 03:11:46 [scrapy.downloadermiddlewares.redirect] DEBUG: Redirecting (302) to <GET https://si3.bcentral.cl/ErrorPage.html> from <GET https://si3.bcentral.cl/robots.txt>\n",
            "2022-11-05 03:11:46 [scrapy.core.engine] DEBUG: Crawled (200) <GET https://si3.bcentral.cl/ErrorPage.html> (referer: None)\n",
            "2022-11-05 03:11:46 [protego] DEBUG: Rule at line 8 without any user agent to enforce it on.\n",
            "2022-11-05 03:11:46 [protego] DEBUG: Rule at line 20 without any user agent to enforce it on.\n",
            "2022-11-05 03:11:46 [protego] DEBUG: Rule at line 21 without any user agent to enforce it on.\n",
            "2022-11-05 03:11:46 [protego] DEBUG: Rule at line 25 without any user agent to enforce it on.\n",
            "2022-11-05 03:11:46 [protego] DEBUG: Rule at line 28 without any user agent to enforce it on.\n",
            "2022-11-05 03:11:46 [protego] DEBUG: Rule at line 39 without any user agent to enforce it on.\n",
            "2022-11-05 03:11:46 [protego] DEBUG: Rule at line 55 without any user agent to enforce it on.\n",
            "2022-11-05 03:11:46 [protego] DEBUG: Rule at line 84 without any user agent to enforce it on.\n",
            "2022-11-05 03:11:46 [protego] DEBUG: Rule at line 90 without any user agent to enforce it on.\n",
            "2022-11-05 03:11:46 [protego] DEBUG: Rule at line 91 without any user agent to enforce it on.\n",
            "2022-11-05 03:11:46 [protego] DEBUG: Rule at line 95 without any user agent to enforce it on.\n",
            "2022-11-05 03:11:46 [protego] DEBUG: Rule at line 96 without any user agent to enforce it on.\n",
            "2022-11-05 03:11:47 [filelock] DEBUG: Attempting to acquire lock 140374780645328 on /root/.cache/python-tldextract/3.7.15.final__usr__7d8fdf__tldextract-3.4.0/publicsuffix.org-tlds/de84b5ca2167d4c83e38fb162f2e8738.tldextract.json.lock\n",
            "2022-11-05 03:11:47 [filelock] DEBUG: Lock 140374780645328 acquired on /root/.cache/python-tldextract/3.7.15.final__usr__7d8fdf__tldextract-3.4.0/publicsuffix.org-tlds/de84b5ca2167d4c83e38fb162f2e8738.tldextract.json.lock\n",
            "2022-11-05 03:11:47 [filelock] DEBUG: Attempting to release lock 140374780645328 on /root/.cache/python-tldextract/3.7.15.final__usr__7d8fdf__tldextract-3.4.0/publicsuffix.org-tlds/de84b5ca2167d4c83e38fb162f2e8738.tldextract.json.lock\n",
            "2022-11-05 03:11:47 [filelock] DEBUG: Lock 140374780645328 released on /root/.cache/python-tldextract/3.7.15.final__usr__7d8fdf__tldextract-3.4.0/publicsuffix.org-tlds/de84b5ca2167d4c83e38fb162f2e8738.tldextract.json.lock\n",
            "2022-11-05 03:11:47 [scrapy.core.engine] DEBUG: Crawled (200) <GET https://si3.bcentral.cl/Siete> (referer: None)\n",
            "2022-11-05 03:11:47 [scrapy.dupefilters] DEBUG: Filtered duplicate request: <GET https://si3.bcentral.cl/Siete/ES/Siete/Cuadro/CAP_ESTADIST_MACRO/MN_EST_MACRO_IV/PEM_TC> - no more duplicates will be shown (see DUPEFILTER_DEBUG to show all duplicates)\n",
            "2022-11-05 03:11:50 [scrapy.core.engine] DEBUG: Crawled (200) <GET https://si3.bcentral.cl/Siete/ES/Siete/Cuadro/CAP_ESTADIST_EXPERIM/MN_EXPERIM01/EST_EXP_001> (referer: https://si3.bcentral.cl/)\n",
            "2022-11-05 03:11:51 [scrapy.core.engine] DEBUG: Crawled (200) <GET https://si3.bcentral.cl/Siete/ES/Siete/Cuadro/CAP_EI/MN_EI11/EI_CREC_TRI> (referer: https://si3.bcentral.cl/)\n",
            "2022-11-05 03:11:51 [scrapy.core.engine] DEBUG: Crawled (200) <GET https://si3.bcentral.cl/Siete/ES/Siete/Cuadro/CAP_IND_SEC/MN_IND_SEC20/IS_GENERAL_PROPIEDAD_2008> (referer: https://si3.bcentral.cl/)\n",
            "2022-11-05 03:11:52 [scrapy.core.engine] DEBUG: Crawled (200) <GET https://si3.bcentral.cl/Siete/ES/Siete/Cuadro/CAP_BDP/MN_BDP42/BP6M_RES01> (referer: https://si3.bcentral.cl/)\n",
            "2022-11-05 03:11:52 [scrapy.core.engine] DEBUG: Crawled (200) <GET https://si3.bcentral.cl/Siete/ES/Siete/Cuadro/CAP_ESTADIST_GENERO/MN_GENERO1/EST_GEN_POB_01> (referer: https://si3.bcentral.cl/)\n",
            "2022-11-05 03:11:53 [scrapy.core.engine] DEBUG: Crawled (200) <GET https://si3.bcentral.cl/Siete/ES/Siete/Cuadro/CAP_TIPO_CAMBIO/MN_TIPO_CAMBIO4/DOLAR_OBS_ADO> (referer: https://si3.bcentral.cl/)\n",
            "2022-11-05 03:11:53 [scrapy.core.engine] DEBUG: Crawled (200) <GET https://si3.bcentral.cl/Siete/ES/Siete/Cuadro/CAP_DERYSPOT/MN_DERYSPOT/DER_MON_01> (referer: https://si3.bcentral.cl/)\n",
            "2022-11-05 03:11:53 [scrapy.core.engine] DEBUG: Crawled (200) <GET https://si3.bcentral.cl/Siete/ES/Siete/Cuadro/CAP_ESTADIST_REGIONAL/MN_REGIONAL1/CCNN2018_PIB_REGIONAL_T> (referer: https://si3.bcentral.cl/)\n",
            "2022-11-05 03:11:53 [scrapy.core.engine] DEBUG: Crawled (200) <GET https://si3.bcentral.cl/Siete/ES/Siete/Cuadro/CAP_FIN_PUB/MN_FIN_PUB_1/GOB_TOT_1> (referer: https://si3.bcentral.cl/)\n",
            "2022-11-05 03:11:54 [scrapy.core.engine] DEBUG: Crawled (200) <GET https://si3.bcentral.cl/Siete/ES/Siete/Cuadro/CAP_ESTADIST_MACRO/MN_EST_MACRO_IV/PEM_TC> (referer: https://si3.bcentral.cl/)\n",
            "2022-11-05 03:11:54 [scrapy.core.engine] DEBUG: Crawled (200) <GET https://si3.bcentral.cl/Siete/ES/Siete/Cuadro/CAP_PRECIOS/MN_CAP_PRECIOS/UF_IVP_DIARIO> (referer: https://si3.bcentral.cl/)\n",
            "2022-11-05 03:11:54 [scrapy.core.engine] DEBUG: Crawled (200) <GET https://si3.bcentral.cl/Siete/ES/Siete/Cuadro/CAP_TASA_INTERES/MN_TASA_INTERES_09/TPM_C1> (referer: https://si3.bcentral.cl/)\n",
            "2022-11-05 03:11:54 [scrapy.core.engine] DEBUG: Crawled (200) <GET https://si3.bcentral.cl/Siete/ES/Siete/Cuadro/CAP_EMP_REM_DEM/MN_EMP_REM_DEM13/ED_TDNRM2> (referer: https://si3.bcentral.cl/)\n",
            "2022-11-05 03:11:55 [scrapy.core.engine] DEBUG: Crawled (200) <GET https://si3.bcentral.cl/Siete/ES/Siete/Cuadro/CAP_CCNN/MN_CCNN76/CCNN2018_IMACEC_01> (referer: https://si3.bcentral.cl/)\n",
            "2022-11-05 03:11:55 [scrapy.core.engine] DEBUG: Crawled (200) <GET https://si3.bcentral.cl/Siete/ES/Siete/Cuadro/CAP_EXP_ECO/MN_EXP_EC11/EXE_BCCH_01> (referer: https://si3.bcentral.cl/)\n",
            "2022-11-05 03:11:56 [scrapy.core.engine] DEBUG: Crawled (200) <GET https://si3.bcentral.cl/Siete/ES/Siete/Cuadro/CAP_DYB/MN_ESTAD_MON55/EM_BMAM2> (referer: https://si3.bcentral.cl/)\n",
            "2022-11-05 03:11:57 [scrapy.core.engine] INFO: Closing spider (finished)\n",
            "2022-11-05 03:11:57 [scrapy.statscollectors] INFO: Dumping Scrapy stats:\n",
            "{'downloader/request_bytes': 8843,\n",
            " 'downloader/request_count': 19,\n",
            " 'downloader/request_method_count/GET': 19,\n",
            " 'downloader/response_bytes': 4405586,\n",
            " 'downloader/response_count': 19,\n",
            " 'downloader/response_status_count/200': 18,\n",
            " 'downloader/response_status_count/302': 1,\n",
            " 'dupefilter/filtered': 16,\n",
            " 'elapsed_time_seconds': 11.230904,\n",
            " 'finish_reason': 'finished',\n",
            " 'finish_time': datetime.datetime(2022, 11, 5, 3, 11, 57, 51058),\n",
            " 'log_count/DEBUG': 39,\n",
            " 'log_count/INFO': 10,\n",
            " 'memusage/max': 93368320,\n",
            " 'memusage/startup': 93368320,\n",
            " 'request_depth_max': 1,\n",
            " 'response_received_count': 18,\n",
            " 'robotstxt/request_count': 1,\n",
            " 'robotstxt/response_count': 1,\n",
            " 'robotstxt/response_status_count/200': 1,\n",
            " 'scheduler/dequeued': 17,\n",
            " 'scheduler/dequeued/memory': 17,\n",
            " 'scheduler/enqueued': 17,\n",
            " 'scheduler/enqueued/memory': 17,\n",
            " 'start_time': datetime.datetime(2022, 11, 5, 3, 11, 45, 820154)}\n",
            "2022-11-05 03:11:57 [scrapy.core.engine] INFO: Spider closed (finished)\n",
            "2022-11-05 03:11:59 [scrapy.utils.log] INFO: Scrapy 2.7.1 started (bot: chilean_data_explore)\n",
            "2022-11-05 03:11:59 [scrapy.utils.log] INFO: Versions: lxml 4.9.1.0, libxml2 2.9.14, cssselect 1.2.0, parsel 1.7.0, w3lib 2.0.1, Twisted 22.10.0, Python 3.7.15 (default, Oct 12 2022, 19:14:55) - [GCC 7.5.0], pyOpenSSL 22.1.0 (OpenSSL 3.0.7 1 Nov 2022), cryptography 38.0.3, Platform Linux-5.10.133+-x86_64-with-Ubuntu-18.04-bionic\n",
            "2022-11-05 03:11:59 [scrapy.crawler] INFO: Overridden settings:\n",
            "{'BOT_NAME': 'chilean_data_explore',\n",
            " 'NEWSPIDER_MODULE': 'chilean_data_explore.spiders',\n",
            " 'REQUEST_FINGERPRINTER_IMPLEMENTATION': '2.7',\n",
            " 'ROBOTSTXT_OBEY': True,\n",
            " 'SPIDER_MODULES': ['chilean_data_explore.spiders'],\n",
            " 'TWISTED_REACTOR': 'twisted.internet.asyncioreactor.AsyncioSelectorReactor'}\n",
            "2022-11-05 03:11:59 [asyncio] DEBUG: Using selector: EpollSelector\n",
            "2022-11-05 03:11:59 [scrapy.utils.log] DEBUG: Using reactor: twisted.internet.asyncioreactor.AsyncioSelectorReactor\n",
            "2022-11-05 03:11:59 [scrapy.utils.log] DEBUG: Using asyncio event loop: asyncio.unix_events._UnixSelectorEventLoop\n",
            "2022-11-05 03:11:59 [scrapy.extensions.telnet] INFO: Telnet Password: 4352c49bb5fa4c3b\n",
            "2022-11-05 03:11:59 [scrapy.middleware] INFO: Enabled extensions:\n",
            "['scrapy.extensions.corestats.CoreStats',\n",
            " 'scrapy.extensions.telnet.TelnetConsole',\n",
            " 'scrapy.extensions.memusage.MemoryUsage',\n",
            " 'scrapy.extensions.logstats.LogStats']\n",
            "2022-11-05 03:11:59 [scrapy.middleware] INFO: Enabled downloader middlewares:\n",
            "['scrapy.downloadermiddlewares.robotstxt.RobotsTxtMiddleware',\n",
            " 'scrapy.downloadermiddlewares.httpauth.HttpAuthMiddleware',\n",
            " 'scrapy.downloadermiddlewares.downloadtimeout.DownloadTimeoutMiddleware',\n",
            " 'scrapy.downloadermiddlewares.defaultheaders.DefaultHeadersMiddleware',\n",
            " 'scrapy.downloadermiddlewares.useragent.UserAgentMiddleware',\n",
            " 'scrapy.downloadermiddlewares.retry.RetryMiddleware',\n",
            " 'scrapy.downloadermiddlewares.redirect.MetaRefreshMiddleware',\n",
            " 'scrapy.downloadermiddlewares.httpcompression.HttpCompressionMiddleware',\n",
            " 'scrapy.downloadermiddlewares.redirect.RedirectMiddleware',\n",
            " 'scrapy.downloadermiddlewares.cookies.CookiesMiddleware',\n",
            " 'scrapy.downloadermiddlewares.httpproxy.HttpProxyMiddleware',\n",
            " 'scrapy.downloadermiddlewares.stats.DownloaderStats']\n",
            "2022-11-05 03:11:59 [scrapy.middleware] INFO: Enabled spider middlewares:\n",
            "['scrapy.spidermiddlewares.httperror.HttpErrorMiddleware',\n",
            " 'scrapy.spidermiddlewares.offsite.OffsiteMiddleware',\n",
            " 'scrapy.spidermiddlewares.referer.RefererMiddleware',\n",
            " 'scrapy.spidermiddlewares.urllength.UrlLengthMiddleware',\n",
            " 'scrapy.spidermiddlewares.depth.DepthMiddleware']\n",
            "2022-11-05 03:11:59 [scrapy.middleware] INFO: Enabled item pipelines:\n",
            "[]\n",
            "2022-11-05 03:11:59 [scrapy.core.engine] INFO: Spider opened\n",
            "2022-11-05 03:11:59 [scrapy.extensions.logstats] INFO: Crawled 0 pages (at 0 pages/min), scraped 0 items (at 0 items/min)\n",
            "2022-11-05 03:11:59 [scrapy.extensions.telnet] INFO: Telnet console listening on 127.0.0.1:6023\n",
            "2022-11-05 03:12:01 [scrapy.downloadermiddlewares.redirect] DEBUG: Redirecting (302) to <GET https://si3.bcentral.cl/ErrorPage.html> from <GET https://si3.bcentral.cl/robots.txt>\n",
            "2022-11-05 03:12:01 [scrapy.core.engine] DEBUG: Crawled (200) <GET https://si3.bcentral.cl/ErrorPage.html> (referer: None)\n",
            "2022-11-05 03:12:01 [protego] DEBUG: Rule at line 8 without any user agent to enforce it on.\n",
            "2022-11-05 03:12:01 [protego] DEBUG: Rule at line 20 without any user agent to enforce it on.\n",
            "2022-11-05 03:12:01 [protego] DEBUG: Rule at line 21 without any user agent to enforce it on.\n",
            "2022-11-05 03:12:01 [protego] DEBUG: Rule at line 25 without any user agent to enforce it on.\n",
            "2022-11-05 03:12:01 [protego] DEBUG: Rule at line 28 without any user agent to enforce it on.\n",
            "2022-11-05 03:12:01 [protego] DEBUG: Rule at line 39 without any user agent to enforce it on.\n",
            "2022-11-05 03:12:01 [protego] DEBUG: Rule at line 55 without any user agent to enforce it on.\n",
            "2022-11-05 03:12:01 [protego] DEBUG: Rule at line 84 without any user agent to enforce it on.\n",
            "2022-11-05 03:12:01 [protego] DEBUG: Rule at line 90 without any user agent to enforce it on.\n",
            "2022-11-05 03:12:01 [protego] DEBUG: Rule at line 91 without any user agent to enforce it on.\n",
            "2022-11-05 03:12:01 [protego] DEBUG: Rule at line 95 without any user agent to enforce it on.\n",
            "2022-11-05 03:12:01 [protego] DEBUG: Rule at line 96 without any user agent to enforce it on.\n",
            "2022-11-05 03:12:02 [filelock] DEBUG: Attempting to acquire lock 140269361892688 on /root/.cache/python-tldextract/3.7.15.final__usr__7d8fdf__tldextract-3.4.0/publicsuffix.org-tlds/de84b5ca2167d4c83e38fb162f2e8738.tldextract.json.lock\n",
            "2022-11-05 03:12:02 [filelock] DEBUG: Lock 140269361892688 acquired on /root/.cache/python-tldextract/3.7.15.final__usr__7d8fdf__tldextract-3.4.0/publicsuffix.org-tlds/de84b5ca2167d4c83e38fb162f2e8738.tldextract.json.lock\n",
            "2022-11-05 03:12:02 [filelock] DEBUG: Attempting to release lock 140269361892688 on /root/.cache/python-tldextract/3.7.15.final__usr__7d8fdf__tldextract-3.4.0/publicsuffix.org-tlds/de84b5ca2167d4c83e38fb162f2e8738.tldextract.json.lock\n",
            "2022-11-05 03:12:02 [filelock] DEBUG: Lock 140269361892688 released on /root/.cache/python-tldextract/3.7.15.final__usr__7d8fdf__tldextract-3.4.0/publicsuffix.org-tlds/de84b5ca2167d4c83e38fb162f2e8738.tldextract.json.lock\n",
            "2022-11-05 03:12:02 [scrapy.core.engine] DEBUG: Crawled (200) <GET https://si3.bcentral.cl/Siete> (referer: None)\n",
            "2022-11-05 03:12:02 [scrapy.core.engine] INFO: Closing spider (finished)\n",
            "2022-11-05 03:12:02 [scrapy.statscollectors] INFO: Dumping Scrapy stats:\n",
            "{'downloader/request_bytes': 674,\n",
            " 'downloader/request_count': 3,\n",
            " 'downloader/request_method_count/GET': 3,\n",
            " 'downloader/response_bytes': 38967,\n",
            " 'downloader/response_count': 3,\n",
            " 'downloader/response_status_count/200': 2,\n",
            " 'downloader/response_status_count/302': 1,\n",
            " 'elapsed_time_seconds': 3.333112,\n",
            " 'finish_reason': 'finished',\n",
            " 'finish_time': datetime.datetime(2022, 11, 5, 3, 12, 2, 683088),\n",
            " 'log_count/DEBUG': 22,\n",
            " 'log_count/INFO': 10,\n",
            " 'memusage/max': 93515776,\n",
            " 'memusage/startup': 93515776,\n",
            " 'response_received_count': 2,\n",
            " 'robotstxt/request_count': 1,\n",
            " 'robotstxt/response_count': 1,\n",
            " 'robotstxt/response_status_count/200': 1,\n",
            " 'scheduler/dequeued': 1,\n",
            " 'scheduler/dequeued/memory': 1,\n",
            " 'scheduler/enqueued': 1,\n",
            " 'scheduler/enqueued/memory': 1,\n",
            " 'start_time': datetime.datetime(2022, 11, 5, 3, 11, 59, 349976)}\n",
            "2022-11-05 03:12:02 [scrapy.core.engine] INFO: Spider closed (finished)\n",
            "\n",
            ">>> STATUS DEPTH LEVEL 1 <<<\n",
            "# Scraped Items  ------------------------------------------------------------\n",
            "[]\n",
            "\n",
            "# Requests  -----------------------------------------------------------------\n",
            "[<GET https://si3.bcentral.cl/Siete/ES/Siete/Cuadro/CAP_ESTADIST_MACRO/MN_EST_MACRO_IV/PEM_TC>,\n",
            " <GET https://si3.bcentral.cl/Siete/ES/Siete/Cuadro/CAP_PRECIOS/MN_CAP_PRECIOS/UF_IVP_DIARIO>,\n",
            " <GET https://si3.bcentral.cl/Siete/ES/Siete/Cuadro/CAP_TASA_INTERES/MN_TASA_INTERES_09/TPM_C1>,\n",
            " <GET https://si3.bcentral.cl/Siete/ES/Siete/Cuadro/CAP_TIPO_CAMBIO/MN_TIPO_CAMBIO4/DOLAR_OBS_ADO>,\n",
            " <GET https://si3.bcentral.cl/Siete/ES/Siete/Cuadro/CAP_DYB/MN_ESTAD_MON55/EM_BMAM2>,\n",
            " <GET https://si3.bcentral.cl/Siete/ES/Siete/Cuadro/CAP_DERYSPOT/MN_DERYSPOT/DER_MON_01>,\n",
            " <GET https://si3.bcentral.cl/Siete/ES/Siete/Cuadro/CAP_CCNN/MN_CCNN76/CCNN2018_IMACEC_01>,\n",
            " <GET https://si3.bcentral.cl/Siete/ES/Siete/Cuadro/CAP_BDP/MN_BDP42/BP6M_RES01>,\n",
            " <GET https://si3.bcentral.cl/Siete/ES/Siete/Cuadro/CAP_EMP_REM_DEM/MN_EMP_REM_DEM13/ED_TDNRM2>,\n",
            " <GET https://si3.bcentral.cl/Siete/ES/Siete/Cuadro/CAP_EXP_ECO/MN_EXP_EC11/EXE_BCCH_01>,\n",
            " <GET https://si3.bcentral.cl/Siete/ES/Siete/Cuadro/CAP_IND_SEC/MN_IND_SEC20/IS_GENERAL_PROPIEDAD_2008>,\n",
            " <GET https://si3.bcentral.cl/Siete/ES/Siete/Cuadro/CAP_EI/MN_EI11/EI_CREC_TRI>,\n",
            " <GET https://si3.bcentral.cl/Siete/ES/Siete/Cuadro/CAP_FIN_PUB/MN_FIN_PUB_1/GOB_TOT_1>,\n",
            " <GET https://si3.bcentral.cl/Siete/ES/Siete/Cuadro/CAP_ESTADIST_GENERO/MN_GENERO1/EST_GEN_POB_01>,\n",
            " <GET https://si3.bcentral.cl/Siete/ES/Siete/Cuadro/CAP_ESTADIST_REGIONAL/MN_REGIONAL1/CCNN2018_PIB_REGIONAL_T>,\n",
            " <GET https://si3.bcentral.cl/Siete/ES/Siete/Cuadro/CAP_ESTADIST_EXPERIM/MN_EXPERIM01/EST_EXP_001>,\n",
            " <GET https://si3.bcentral.cl/Siete/ES/Siete/Cuadro/CAP_ESTADIST_MACRO/MN_EST_MACRO_IV/PEM_TC>,\n",
            " <GET https://si3.bcentral.cl/Siete/ES/Siete/Cuadro/CAP_PRECIOS/MN_CAP_PRECIOS/UF_IVP_DIARIO>,\n",
            " <GET https://si3.bcentral.cl/Siete/ES/Siete/Cuadro/CAP_TASA_INTERES/MN_TASA_INTERES_09/TPM_C1>,\n",
            " <GET https://si3.bcentral.cl/Siete/ES/Siete/Cuadro/CAP_TIPO_CAMBIO/MN_TIPO_CAMBIO4/DOLAR_OBS_ADO>,\n",
            " <GET https://si3.bcentral.cl/Siete/ES/Siete/Cuadro/CAP_DYB/MN_ESTAD_MON55/EM_BMAM2>,\n",
            " <GET https://si3.bcentral.cl/Siete/ES/Siete/Cuadro/CAP_DERYSPOT/MN_DERYSPOT/DER_MON_01>,\n",
            " <GET https://si3.bcentral.cl/Siete/ES/Siete/Cuadro/CAP_CCNN/MN_CCNN76/CCNN2018_IMACEC_01>,\n",
            " <GET https://si3.bcentral.cl/Siete/ES/Siete/Cuadro/CAP_BDP/MN_BDP42/BP6M_RES01>,\n",
            " <GET https://si3.bcentral.cl/Siete/ES/Siete/Cuadro/CAP_EMP_REM_DEM/MN_EMP_REM_DEM13/ED_TDNRM2>,\n",
            " <GET https://si3.bcentral.cl/Siete/ES/Siete/Cuadro/CAP_EXP_ECO/MN_EXP_EC11/EXE_BCCH_01>,\n",
            " <GET https://si3.bcentral.cl/Siete/ES/Siete/Cuadro/CAP_IND_SEC/MN_IND_SEC20/IS_GENERAL_PROPIEDAD_2008>,\n",
            " <GET https://si3.bcentral.cl/Siete/ES/Siete/Cuadro/CAP_EI/MN_EI11/EI_CREC_TRI>,\n",
            " <GET https://si3.bcentral.cl/Siete/ES/Siete/Cuadro/CAP_FIN_PUB/MN_FIN_PUB_1/GOB_TOT_1>,\n",
            " <GET https://si3.bcentral.cl/Siete/ES/Siete/Cuadro/CAP_ESTADIST_GENERO/MN_GENERO1/EST_GEN_POB_01>,\n",
            " <GET https://si3.bcentral.cl/Siete/ES/Siete/Cuadro/CAP_ESTADIST_REGIONAL/MN_REGIONAL1/CCNN2018_PIB_REGIONAL_T>,\n",
            " <GET https://si3.bcentral.cl/Siete/ES/Siete/Cuadro/CAP_ESTADIST_EXPERIM/MN_EXPERIM01/EST_EXP_001>]\n",
            "\n"
          ]
        }
      ]
    },
    {
      "cell_type": "markdown",
      "source": [
        "## Crawlspider for two-direction-movement"
      ],
      "metadata": {
        "id": "RDuADs6crNO7"
      }
    },
    {
      "cell_type": "code",
      "source": [
        "!scrapy genspider -t crawl automatic web"
      ],
      "metadata": {
        "colab": {
          "base_uri": "https://localhost:8080/"
        },
        "id": "eQFNDfdgr4y4",
        "outputId": "ae25e335-18bf-42dc-f051-dc00463fb218"
      },
      "execution_count": 17,
      "outputs": [
        {
          "output_type": "stream",
          "name": "stdout",
          "text": [
            "Created spider 'automatic' using template 'crawl' in module:\n",
            "  chilean_data_explore.spiders.automatic\n"
          ]
        }
      ]
    },
    {
      "cell_type": "code",
      "source": [
        "%%writefile /content/chilean_data_explore/chilean_data_explore/spiders/automatic.py\n",
        "\n",
        "import scrapy\n",
        "\n",
        "from scrapy.linkextractors import LinkExtractor\n",
        "from scrapy.spiders import CrawlSpider, Rule\n",
        "from chilean_data_explore.items import ChileanDataExploreItem\n",
        "\n",
        "\n",
        "class AutomaticSpider(CrawlSpider):\n",
        "    name = 'automatic'\n",
        "    allowed_domains = ['si3.bcentral.cl']\n",
        "    start_urls = ['https://si3.bcentral.cl/Siete']\n",
        "\n",
        "    rules = (\n",
        "        #vertical\n",
        "        Rule(LinkExtractor(allow='Siete'), callback='parse_item', follow=True),\n",
        "    )\n",
        "    \n",
        "    def parse_item(self, response):\n",
        "        exist = response.xpath('//a[starts-with(@onclick, \"SetCapitu\")]').extract_first()\n",
        "\n",
        "        if exist:\n",
        "          title = response.xpath('//a[starts-with(@onclick, \"SetCapitu\")]//@onclick')\n",
        "          title = [ self.start_urls[0]+\"/ES/Siete/Cuadro/\" +self.url_title(t.get())  for t in title]\n",
        "          #title = [ t.get()  for t in title]\n",
        "          print( title)\n",
        "\n",
        "          item = ChileanDataExploreItem()\n",
        "\n",
        "          item['url'] = \"response.url\"\n",
        "          item['article_from'] = \"self.name\"\n",
        "          item['title'] = title\n",
        "          item['publish_date'] = \"self._parse_publish_date(response)\"\n",
        "\n",
        "          #yield {          'title': title          }\n",
        "          yield item\n",
        "          \n",
        "          print(\"Testing > \", response.url )\n",
        "\n",
        "          for url_next_page in title:\n",
        "            yield response.follow(url_next_page, callback=self.parse_item)\n",
        "\n",
        "        else:\n",
        "          print(response.url)\n",
        "\n",
        "    def url_title(self,t):\n",
        "        replacements = [\n",
        "          (\"'\",\"\"),\n",
        "          (\")\",\"\"),\n",
        "          (\"(\",\"\"),\n",
        "          (\", \",\"/\"),\n",
        "          (\"SetCapitulo\",\"\"),\n",
        "        ]\n",
        "        for x,y in replacements:\n",
        "          t=t.replace(x,y)\n",
        "\n",
        "        return t"
      ],
      "metadata": {
        "colab": {
          "base_uri": "https://localhost:8080/"
        },
        "id": "B5vUvve2f-VA",
        "outputId": "81eba32c-7c9d-439b-c39e-7f47d0667cbd"
      },
      "execution_count": 18,
      "outputs": [
        {
          "output_type": "stream",
          "name": "stdout",
          "text": [
            "Overwriting /content/chilean_data_explore/chilean_data_explore/spiders/automatic.py\n"
          ]
        }
      ]
    },
    {
      "cell_type": "code",
      "source": [
        "!scrapy crawl automatic -O data_bcentral.csv"
      ],
      "metadata": {
        "colab": {
          "base_uri": "https://localhost:8080/"
        },
        "id": "lVO9WJHxnam2",
        "outputId": "4aed0d83-53c4-4389-8164-4b7e67a7b8cb"
      },
      "execution_count": 19,
      "outputs": [
        {
          "output_type": "stream",
          "name": "stdout",
          "text": [
            "2022-11-05 03:12:05 [scrapy.utils.log] INFO: Scrapy 2.7.1 started (bot: chilean_data_explore)\n",
            "2022-11-05 03:12:05 [scrapy.utils.log] INFO: Versions: lxml 4.9.1.0, libxml2 2.9.14, cssselect 1.2.0, parsel 1.7.0, w3lib 2.0.1, Twisted 22.10.0, Python 3.7.15 (default, Oct 12 2022, 19:14:55) - [GCC 7.5.0], pyOpenSSL 22.1.0 (OpenSSL 3.0.7 1 Nov 2022), cryptography 38.0.3, Platform Linux-5.10.133+-x86_64-with-Ubuntu-18.04-bionic\n",
            "2022-11-05 03:12:05 [scrapy.crawler] INFO: Overridden settings:\n",
            "{'BOT_NAME': 'chilean_data_explore',\n",
            " 'NEWSPIDER_MODULE': 'chilean_data_explore.spiders',\n",
            " 'REQUEST_FINGERPRINTER_IMPLEMENTATION': '2.7',\n",
            " 'ROBOTSTXT_OBEY': True,\n",
            " 'SPIDER_MODULES': ['chilean_data_explore.spiders'],\n",
            " 'TWISTED_REACTOR': 'twisted.internet.asyncioreactor.AsyncioSelectorReactor'}\n",
            "2022-11-05 03:12:05 [asyncio] DEBUG: Using selector: EpollSelector\n",
            "2022-11-05 03:12:05 [scrapy.utils.log] DEBUG: Using reactor: twisted.internet.asyncioreactor.AsyncioSelectorReactor\n",
            "2022-11-05 03:12:05 [scrapy.utils.log] DEBUG: Using asyncio event loop: asyncio.unix_events._UnixSelectorEventLoop\n",
            "2022-11-05 03:12:05 [scrapy.extensions.telnet] INFO: Telnet Password: 15ddb90933795857\n",
            "2022-11-05 03:12:05 [scrapy.middleware] INFO: Enabled extensions:\n",
            "['scrapy.extensions.corestats.CoreStats',\n",
            " 'scrapy.extensions.telnet.TelnetConsole',\n",
            " 'scrapy.extensions.memusage.MemoryUsage',\n",
            " 'scrapy.extensions.feedexport.FeedExporter',\n",
            " 'scrapy.extensions.logstats.LogStats']\n",
            "2022-11-05 03:12:06 [scrapy.middleware] INFO: Enabled downloader middlewares:\n",
            "['scrapy.downloadermiddlewares.robotstxt.RobotsTxtMiddleware',\n",
            " 'scrapy.downloadermiddlewares.httpauth.HttpAuthMiddleware',\n",
            " 'scrapy.downloadermiddlewares.downloadtimeout.DownloadTimeoutMiddleware',\n",
            " 'scrapy.downloadermiddlewares.defaultheaders.DefaultHeadersMiddleware',\n",
            " 'scrapy.downloadermiddlewares.useragent.UserAgentMiddleware',\n",
            " 'scrapy.downloadermiddlewares.retry.RetryMiddleware',\n",
            " 'scrapy.downloadermiddlewares.redirect.MetaRefreshMiddleware',\n",
            " 'scrapy.downloadermiddlewares.httpcompression.HttpCompressionMiddleware',\n",
            " 'scrapy.downloadermiddlewares.redirect.RedirectMiddleware',\n",
            " 'scrapy.downloadermiddlewares.cookies.CookiesMiddleware',\n",
            " 'scrapy.downloadermiddlewares.httpproxy.HttpProxyMiddleware',\n",
            " 'scrapy.downloadermiddlewares.stats.DownloaderStats']\n",
            "2022-11-05 03:12:06 [scrapy.middleware] INFO: Enabled spider middlewares:\n",
            "['scrapy.spidermiddlewares.httperror.HttpErrorMiddleware',\n",
            " 'scrapy.spidermiddlewares.offsite.OffsiteMiddleware',\n",
            " 'scrapy.spidermiddlewares.referer.RefererMiddleware',\n",
            " 'scrapy.spidermiddlewares.urllength.UrlLengthMiddleware',\n",
            " 'scrapy.spidermiddlewares.depth.DepthMiddleware']\n",
            "2022-11-05 03:12:06 [scrapy.middleware] INFO: Enabled item pipelines:\n",
            "[]\n",
            "2022-11-05 03:12:06 [scrapy.core.engine] INFO: Spider opened\n",
            "2022-11-05 03:12:06 [scrapy.extensions.logstats] INFO: Crawled 0 pages (at 0 pages/min), scraped 0 items (at 0 items/min)\n",
            "2022-11-05 03:12:06 [scrapy.extensions.telnet] INFO: Telnet console listening on 127.0.0.1:6023\n",
            "2022-11-05 03:12:06 [scrapy.downloadermiddlewares.redirect] DEBUG: Redirecting (302) to <GET https://si3.bcentral.cl/ErrorPage.html> from <GET https://si3.bcentral.cl/robots.txt>\n",
            "2022-11-05 03:12:07 [scrapy.core.engine] DEBUG: Crawled (200) <GET https://si3.bcentral.cl/ErrorPage.html> (referer: None)\n",
            "2022-11-05 03:12:07 [protego] DEBUG: Rule at line 8 without any user agent to enforce it on.\n",
            "2022-11-05 03:12:07 [protego] DEBUG: Rule at line 20 without any user agent to enforce it on.\n",
            "2022-11-05 03:12:07 [protego] DEBUG: Rule at line 21 without any user agent to enforce it on.\n",
            "2022-11-05 03:12:07 [protego] DEBUG: Rule at line 25 without any user agent to enforce it on.\n",
            "2022-11-05 03:12:07 [protego] DEBUG: Rule at line 28 without any user agent to enforce it on.\n",
            "2022-11-05 03:12:07 [protego] DEBUG: Rule at line 39 without any user agent to enforce it on.\n",
            "2022-11-05 03:12:07 [protego] DEBUG: Rule at line 55 without any user agent to enforce it on.\n",
            "2022-11-05 03:12:07 [protego] DEBUG: Rule at line 84 without any user agent to enforce it on.\n",
            "2022-11-05 03:12:07 [protego] DEBUG: Rule at line 90 without any user agent to enforce it on.\n",
            "2022-11-05 03:12:07 [protego] DEBUG: Rule at line 91 without any user agent to enforce it on.\n",
            "2022-11-05 03:12:07 [protego] DEBUG: Rule at line 95 without any user agent to enforce it on.\n",
            "2022-11-05 03:12:07 [protego] DEBUG: Rule at line 96 without any user agent to enforce it on.\n",
            "2022-11-05 03:12:08 [filelock] DEBUG: Attempting to acquire lock 140268742616336 on /root/.cache/python-tldextract/3.7.15.final__usr__7d8fdf__tldextract-3.4.0/publicsuffix.org-tlds/de84b5ca2167d4c83e38fb162f2e8738.tldextract.json.lock\n",
            "2022-11-05 03:12:08 [filelock] DEBUG: Lock 140268742616336 acquired on /root/.cache/python-tldextract/3.7.15.final__usr__7d8fdf__tldextract-3.4.0/publicsuffix.org-tlds/de84b5ca2167d4c83e38fb162f2e8738.tldextract.json.lock\n",
            "2022-11-05 03:12:08 [filelock] DEBUG: Attempting to release lock 140268742616336 on /root/.cache/python-tldextract/3.7.15.final__usr__7d8fdf__tldextract-3.4.0/publicsuffix.org-tlds/de84b5ca2167d4c83e38fb162f2e8738.tldextract.json.lock\n",
            "2022-11-05 03:12:08 [filelock] DEBUG: Lock 140268742616336 released on /root/.cache/python-tldextract/3.7.15.final__usr__7d8fdf__tldextract-3.4.0/publicsuffix.org-tlds/de84b5ca2167d4c83e38fb162f2e8738.tldextract.json.lock\n",
            "2022-11-05 03:12:08 [scrapy.core.engine] DEBUG: Crawled (200) <GET https://si3.bcentral.cl/Siete> (referer: None)\n",
            "2022-11-05 03:12:08 [scrapy.core.engine] DEBUG: Crawled (200) <GET https://si3.bcentral.cl/Siete> (referer: https://si3.bcentral.cl/)\n",
            "['https://si3.bcentral.cl/Siete/ES/Siete/Cuadro/CAP_ESTADIST_MACRO/MN_EST_MACRO_IV/PEM_TC', 'https://si3.bcentral.cl/Siete/ES/Siete/Cuadro/CAP_PRECIOS/MN_CAP_PRECIOS/UF_IVP_DIARIO', 'https://si3.bcentral.cl/Siete/ES/Siete/Cuadro/CAP_TASA_INTERES/MN_TASA_INTERES_09/TPM_C1', 'https://si3.bcentral.cl/Siete/ES/Siete/Cuadro/CAP_TIPO_CAMBIO/MN_TIPO_CAMBIO4/DOLAR_OBS_ADO', 'https://si3.bcentral.cl/Siete/ES/Siete/Cuadro/CAP_DYB/MN_ESTAD_MON55/EM_BMAM2', 'https://si3.bcentral.cl/Siete/ES/Siete/Cuadro/CAP_DERYSPOT/MN_DERYSPOT/DER_MON_01', 'https://si3.bcentral.cl/Siete/ES/Siete/Cuadro/CAP_CCNN/MN_CCNN76/CCNN2018_IMACEC_01', 'https://si3.bcentral.cl/Siete/ES/Siete/Cuadro/CAP_BDP/MN_BDP42/BP6M_RES01', 'https://si3.bcentral.cl/Siete/ES/Siete/Cuadro/CAP_EMP_REM_DEM/MN_EMP_REM_DEM13/ED_TDNRM2', 'https://si3.bcentral.cl/Siete/ES/Siete/Cuadro/CAP_EXP_ECO/MN_EXP_EC11/EXE_BCCH_01', 'https://si3.bcentral.cl/Siete/ES/Siete/Cuadro/CAP_IND_SEC/MN_IND_SEC20/IS_GENERAL_PROPIEDAD_2008', 'https://si3.bcentral.cl/Siete/ES/Siete/Cuadro/CAP_EI/MN_EI11/EI_CREC_TRI', 'https://si3.bcentral.cl/Siete/ES/Siete/Cuadro/CAP_FIN_PUB/MN_FIN_PUB_1/GOB_TOT_1', 'https://si3.bcentral.cl/Siete/ES/Siete/Cuadro/CAP_ESTADIST_GENERO/MN_GENERO1/EST_GEN_POB_01', 'https://si3.bcentral.cl/Siete/ES/Siete/Cuadro/CAP_ESTADIST_REGIONAL/MN_REGIONAL1/CCNN2018_PIB_REGIONAL_T', 'https://si3.bcentral.cl/Siete/ES/Siete/Cuadro/CAP_ESTADIST_EXPERIM/MN_EXPERIM01/EST_EXP_001', 'https://si3.bcentral.cl/Siete/ES/Siete/Cuadro/CAP_ESTADIST_MACRO/MN_EST_MACRO_IV/PEM_TC', 'https://si3.bcentral.cl/Siete/ES/Siete/Cuadro/CAP_PRECIOS/MN_CAP_PRECIOS/UF_IVP_DIARIO', 'https://si3.bcentral.cl/Siete/ES/Siete/Cuadro/CAP_TASA_INTERES/MN_TASA_INTERES_09/TPM_C1', 'https://si3.bcentral.cl/Siete/ES/Siete/Cuadro/CAP_TIPO_CAMBIO/MN_TIPO_CAMBIO4/DOLAR_OBS_ADO', 'https://si3.bcentral.cl/Siete/ES/Siete/Cuadro/CAP_DYB/MN_ESTAD_MON55/EM_BMAM2', 'https://si3.bcentral.cl/Siete/ES/Siete/Cuadro/CAP_DERYSPOT/MN_DERYSPOT/DER_MON_01', 'https://si3.bcentral.cl/Siete/ES/Siete/Cuadro/CAP_CCNN/MN_CCNN76/CCNN2018_IMACEC_01', 'https://si3.bcentral.cl/Siete/ES/Siete/Cuadro/CAP_BDP/MN_BDP42/BP6M_RES01', 'https://si3.bcentral.cl/Siete/ES/Siete/Cuadro/CAP_EMP_REM_DEM/MN_EMP_REM_DEM13/ED_TDNRM2', 'https://si3.bcentral.cl/Siete/ES/Siete/Cuadro/CAP_EXP_ECO/MN_EXP_EC11/EXE_BCCH_01', 'https://si3.bcentral.cl/Siete/ES/Siete/Cuadro/CAP_IND_SEC/MN_IND_SEC20/IS_GENERAL_PROPIEDAD_2008', 'https://si3.bcentral.cl/Siete/ES/Siete/Cuadro/CAP_EI/MN_EI11/EI_CREC_TRI', 'https://si3.bcentral.cl/Siete/ES/Siete/Cuadro/CAP_FIN_PUB/MN_FIN_PUB_1/GOB_TOT_1', 'https://si3.bcentral.cl/Siete/ES/Siete/Cuadro/CAP_ESTADIST_GENERO/MN_GENERO1/EST_GEN_POB_01', 'https://si3.bcentral.cl/Siete/ES/Siete/Cuadro/CAP_ESTADIST_REGIONAL/MN_REGIONAL1/CCNN2018_PIB_REGIONAL_T', 'https://si3.bcentral.cl/Siete/ES/Siete/Cuadro/CAP_ESTADIST_EXPERIM/MN_EXPERIM01/EST_EXP_001']\n",
            "2022-11-05 03:12:09 [scrapy.core.scraper] DEBUG: Scraped from <200 https://si3.bcentral.cl/Siete>\n",
            "{'article_from': 'self.name',\n",
            " 'publish_date': 'self._parse_publish_date(response)',\n",
            " 'title': ['https://si3.bcentral.cl/Siete/ES/Siete/Cuadro/CAP_ESTADIST_MACRO/MN_EST_MACRO_IV/PEM_TC',\n",
            "           'https://si3.bcentral.cl/Siete/ES/Siete/Cuadro/CAP_PRECIOS/MN_CAP_PRECIOS/UF_IVP_DIARIO',\n",
            "           'https://si3.bcentral.cl/Siete/ES/Siete/Cuadro/CAP_TASA_INTERES/MN_TASA_INTERES_09/TPM_C1',\n",
            "           'https://si3.bcentral.cl/Siete/ES/Siete/Cuadro/CAP_TIPO_CAMBIO/MN_TIPO_CAMBIO4/DOLAR_OBS_ADO',\n",
            "           'https://si3.bcentral.cl/Siete/ES/Siete/Cuadro/CAP_DYB/MN_ESTAD_MON55/EM_BMAM2',\n",
            "           'https://si3.bcentral.cl/Siete/ES/Siete/Cuadro/CAP_DERYSPOT/MN_DERYSPOT/DER_MON_01',\n",
            "           'https://si3.bcentral.cl/Siete/ES/Siete/Cuadro/CAP_CCNN/MN_CCNN76/CCNN2018_IMACEC_01',\n",
            "           'https://si3.bcentral.cl/Siete/ES/Siete/Cuadro/CAP_BDP/MN_BDP42/BP6M_RES01',\n",
            "           'https://si3.bcentral.cl/Siete/ES/Siete/Cuadro/CAP_EMP_REM_DEM/MN_EMP_REM_DEM13/ED_TDNRM2',\n",
            "           'https://si3.bcentral.cl/Siete/ES/Siete/Cuadro/CAP_EXP_ECO/MN_EXP_EC11/EXE_BCCH_01',\n",
            "           'https://si3.bcentral.cl/Siete/ES/Siete/Cuadro/CAP_IND_SEC/MN_IND_SEC20/IS_GENERAL_PROPIEDAD_2008',\n",
            "           'https://si3.bcentral.cl/Siete/ES/Siete/Cuadro/CAP_EI/MN_EI11/EI_CREC_TRI',\n",
            "           'https://si3.bcentral.cl/Siete/ES/Siete/Cuadro/CAP_FIN_PUB/MN_FIN_PUB_1/GOB_TOT_1',\n",
            "           'https://si3.bcentral.cl/Siete/ES/Siete/Cuadro/CAP_ESTADIST_GENERO/MN_GENERO1/EST_GEN_POB_01',\n",
            "           'https://si3.bcentral.cl/Siete/ES/Siete/Cuadro/CAP_ESTADIST_REGIONAL/MN_REGIONAL1/CCNN2018_PIB_REGIONAL_T',\n",
            "           'https://si3.bcentral.cl/Siete/ES/Siete/Cuadro/CAP_ESTADIST_EXPERIM/MN_EXPERIM01/EST_EXP_001',\n",
            "           'https://si3.bcentral.cl/Siete/ES/Siete/Cuadro/CAP_ESTADIST_MACRO/MN_EST_MACRO_IV/PEM_TC',\n",
            "           'https://si3.bcentral.cl/Siete/ES/Siete/Cuadro/CAP_PRECIOS/MN_CAP_PRECIOS/UF_IVP_DIARIO',\n",
            "           'https://si3.bcentral.cl/Siete/ES/Siete/Cuadro/CAP_TASA_INTERES/MN_TASA_INTERES_09/TPM_C1',\n",
            "           'https://si3.bcentral.cl/Siete/ES/Siete/Cuadro/CAP_TIPO_CAMBIO/MN_TIPO_CAMBIO4/DOLAR_OBS_ADO',\n",
            "           'https://si3.bcentral.cl/Siete/ES/Siete/Cuadro/CAP_DYB/MN_ESTAD_MON55/EM_BMAM2',\n",
            "           'https://si3.bcentral.cl/Siete/ES/Siete/Cuadro/CAP_DERYSPOT/MN_DERYSPOT/DER_MON_01',\n",
            "           'https://si3.bcentral.cl/Siete/ES/Siete/Cuadro/CAP_CCNN/MN_CCNN76/CCNN2018_IMACEC_01',\n",
            "           'https://si3.bcentral.cl/Siete/ES/Siete/Cuadro/CAP_BDP/MN_BDP42/BP6M_RES01',\n",
            "           'https://si3.bcentral.cl/Siete/ES/Siete/Cuadro/CAP_EMP_REM_DEM/MN_EMP_REM_DEM13/ED_TDNRM2',\n",
            "           'https://si3.bcentral.cl/Siete/ES/Siete/Cuadro/CAP_EXP_ECO/MN_EXP_EC11/EXE_BCCH_01',\n",
            "           'https://si3.bcentral.cl/Siete/ES/Siete/Cuadro/CAP_IND_SEC/MN_IND_SEC20/IS_GENERAL_PROPIEDAD_2008',\n",
            "           'https://si3.bcentral.cl/Siete/ES/Siete/Cuadro/CAP_EI/MN_EI11/EI_CREC_TRI',\n",
            "           'https://si3.bcentral.cl/Siete/ES/Siete/Cuadro/CAP_FIN_PUB/MN_FIN_PUB_1/GOB_TOT_1',\n",
            "           'https://si3.bcentral.cl/Siete/ES/Siete/Cuadro/CAP_ESTADIST_GENERO/MN_GENERO1/EST_GEN_POB_01',\n",
            "           'https://si3.bcentral.cl/Siete/ES/Siete/Cuadro/CAP_ESTADIST_REGIONAL/MN_REGIONAL1/CCNN2018_PIB_REGIONAL_T',\n",
            "           'https://si3.bcentral.cl/Siete/ES/Siete/Cuadro/CAP_ESTADIST_EXPERIM/MN_EXPERIM01/EST_EXP_001'],\n",
            " 'url': 'response.url'}\n",
            "Testing >  https://si3.bcentral.cl/Siete\n",
            "2022-11-05 03:12:09 [scrapy.dupefilters] DEBUG: Filtered duplicate request: <GET https://si3.bcentral.cl/Siete/ES/Siete/Cuadro/CAP_ESTADIST_MACRO/MN_EST_MACRO_IV/PEM_TC> - no more duplicates will be shown (see DUPEFILTER_DEBUG to show all duplicates)\n",
            "2022-11-05 03:12:10 [scrapy.core.engine] DEBUG: Crawled (200) <GET https://si3.bcentral.cl/Siete/ES/Siete/Cuadro/CAP_ESTADIST_MACRO/MN_EST_MACRO_IV/PEM_TC> (referer: https://si3.bcentral.cl/)\n",
            "https://si3.bcentral.cl/Siete/ES/Siete/Cuadro/CAP_ESTADIST_MACRO/MN_EST_MACRO_IV/PEM_TC\n",
            "2022-11-05 03:12:12 [scrapy.core.engine] DEBUG: Crawled (200) <GET https://si3.bcentral.cl/Siete/ES/Siete/Cuadro/CAP_PRECIOS/MN_CAP_PRECIOS/UF_IVP_DIARIO> (referer: https://si3.bcentral.cl/)\n",
            "https://si3.bcentral.cl/Siete/ES/Siete/Cuadro/CAP_PRECIOS/MN_CAP_PRECIOS/UF_IVP_DIARIO\n",
            "2022-11-05 03:12:12 [scrapy.core.engine] DEBUG: Crawled (200) <GET https://si3.bcentral.cl/Siete/ES/Siete/Cuadro/CAP_DERYSPOT/MN_DERYSPOT/DER_MON_01> (referer: https://si3.bcentral.cl/)\n",
            "2022-11-05 03:12:12 [scrapy.core.engine] DEBUG: Crawled (200) <GET https://si3.bcentral.cl/Siete/ES/Siete/Cuadro/CAP_EMP_REM_DEM/MN_EMP_REM_DEM13/ED_TDNRM2> (referer: https://si3.bcentral.cl/)\n",
            "https://si3.bcentral.cl/Siete/ES/Siete/Cuadro/CAP_DERYSPOT/MN_DERYSPOT/DER_MON_01\n",
            "https://si3.bcentral.cl/Siete/ES/Siete/Cuadro/CAP_EMP_REM_DEM/MN_EMP_REM_DEM13/ED_TDNRM2\n",
            "2022-11-05 03:12:14 [scrapy.core.engine] DEBUG: Crawled (200) <GET https://si3.bcentral.cl/Siete/ES/Siete/Cuadro/CAP_IND_SEC/MN_IND_SEC20/IS_GENERAL_PROPIEDAD_2008> (referer: https://si3.bcentral.cl/)\n",
            "https://si3.bcentral.cl/Siete/ES/Siete/Cuadro/CAP_IND_SEC/MN_IND_SEC20/IS_GENERAL_PROPIEDAD_2008\n",
            "2022-11-05 03:12:14 [scrapy.core.engine] DEBUG: Crawled (200) <GET https://si3.bcentral.cl/Siete/ES/Siete/Cuadro/CAP_EI/MN_EI11/EI_CREC_TRI> (referer: https://si3.bcentral.cl/)\n",
            "https://si3.bcentral.cl/Siete/ES/Siete/Cuadro/CAP_EI/MN_EI11/EI_CREC_TRI\n",
            "2022-11-05 03:12:14 [scrapy.core.engine] DEBUG: Crawled (200) <GET https://si3.bcentral.cl/Siete/ES/Siete/Cuadro/CAP_BDP/MN_BDP42/BP6M_RES01> (referer: https://si3.bcentral.cl/)\n",
            "2022-11-05 03:12:14 [scrapy.core.engine] DEBUG: Crawled (200) <GET https://si3.bcentral.cl/Siete/ES/Siete/Cuadro/CAP_EXP_ECO/MN_EXP_EC11/EXE_BCCH_01> (referer: https://si3.bcentral.cl/)\n",
            "2022-11-05 03:12:14 [scrapy.core.engine] DEBUG: Crawled (200) <GET https://si3.bcentral.cl/Siete/ES/Siete/Cuadro/CAP_ESTADIST_GENERO/MN_GENERO1/EST_GEN_POB_01> (referer: https://si3.bcentral.cl/)\n",
            "https://si3.bcentral.cl/Siete/ES/Siete/Cuadro/CAP_BDP/MN_BDP42/BP6M_RES01\n",
            "https://si3.bcentral.cl/Siete/ES/Siete/Cuadro/CAP_EXP_ECO/MN_EXP_EC11/EXE_BCCH_01\n",
            "https://si3.bcentral.cl/Siete/ES/Siete/Cuadro/CAP_ESTADIST_GENERO/MN_GENERO1/EST_GEN_POB_01\n",
            "2022-11-05 03:12:14 [scrapy.core.engine] DEBUG: Crawled (200) <GET https://si3.bcentral.cl/Siete/ES/Siete/Cuadro/CAP_TIPO_CAMBIO/MN_TIPO_CAMBIO4/DOLAR_OBS_ADO> (referer: https://si3.bcentral.cl/)\n",
            "https://si3.bcentral.cl/Siete/ES/Siete/Cuadro/CAP_TIPO_CAMBIO/MN_TIPO_CAMBIO4/DOLAR_OBS_ADO\n",
            "2022-11-05 03:12:15 [scrapy.core.engine] DEBUG: Crawled (200) <GET https://si3.bcentral.cl/Siete/ES/Siete/Cuadro/CAP_FIN_PUB/MN_FIN_PUB_1/GOB_TOT_1> (referer: https://si3.bcentral.cl/)\n",
            "https://si3.bcentral.cl/Siete/ES/Siete/Cuadro/CAP_FIN_PUB/MN_FIN_PUB_1/GOB_TOT_1\n",
            "2022-11-05 03:12:15 [scrapy.core.engine] DEBUG: Crawled (200) <GET https://si3.bcentral.cl/Siete/ES/Siete/Cuadro/CAP_ESTADIST_EXPERIM/MN_EXPERIM01/EST_EXP_001> (referer: https://si3.bcentral.cl/)\n",
            "2022-11-05 03:12:15 [scrapy.core.engine] DEBUG: Crawled (200) <GET https://si3.bcentral.cl/Siete/ES/Siete/Cuadro/CAP_TASA_INTERES/MN_TASA_INTERES_09/TPM_C1> (referer: https://si3.bcentral.cl/)\n",
            "https://si3.bcentral.cl/Siete/ES/Siete/Cuadro/CAP_ESTADIST_EXPERIM/MN_EXPERIM01/EST_EXP_001\n",
            "https://si3.bcentral.cl/Siete/ES/Siete/Cuadro/CAP_TASA_INTERES/MN_TASA_INTERES_09/TPM_C1\n",
            "2022-11-05 03:12:16 [scrapy.core.engine] DEBUG: Crawled (200) <GET https://si3.bcentral.cl/Siete/ES/Siete/Cuadro/CAP_ESTADIST_REGIONAL/MN_REGIONAL1/CCNN2018_PIB_REGIONAL_T> (referer: https://si3.bcentral.cl/)\n",
            "https://si3.bcentral.cl/Siete/ES/Siete/Cuadro/CAP_ESTADIST_REGIONAL/MN_REGIONAL1/CCNN2018_PIB_REGIONAL_T\n",
            "2022-11-05 03:12:17 [scrapy.core.engine] DEBUG: Crawled (200) <GET https://si3.bcentral.cl/Siete/ES/Siete/Cuadro/CAP_CCNN/MN_CCNN76/CCNN2018_IMACEC_01> (referer: https://si3.bcentral.cl/)\n",
            "https://si3.bcentral.cl/Siete/ES/Siete/Cuadro/CAP_CCNN/MN_CCNN76/CCNN2018_IMACEC_01\n",
            "2022-11-05 03:12:18 [scrapy.core.engine] DEBUG: Crawled (200) <GET https://si3.bcentral.cl/Siete/ES/Siete/Cuadro/CAP_DYB/MN_ESTAD_MON55/EM_BMAM2> (referer: https://si3.bcentral.cl/)\n",
            "https://si3.bcentral.cl/Siete/ES/Siete/Cuadro/CAP_DYB/MN_ESTAD_MON55/EM_BMAM2\n",
            "2022-11-05 03:12:18 [scrapy.core.engine] INFO: Closing spider (finished)\n",
            "2022-11-05 03:12:18 [scrapy.extensions.feedexport] INFO: Stored csv feed (1 items) in: data_bcentral.csv\n",
            "2022-11-05 03:12:18 [scrapy.statscollectors] INFO: Dumping Scrapy stats:\n",
            "{'downloader/request_bytes': 9297,\n",
            " 'downloader/request_count': 20,\n",
            " 'downloader/request_method_count/GET': 20,\n",
            " 'downloader/response_bytes': 4438779,\n",
            " 'downloader/response_count': 20,\n",
            " 'downloader/response_status_count/200': 19,\n",
            " 'downloader/response_status_count/302': 1,\n",
            " 'dupefilter/filtered': 17,\n",
            " 'elapsed_time_seconds': 12.336773,\n",
            " 'feedexport/success_count/FileFeedStorage': 1,\n",
            " 'finish_reason': 'finished',\n",
            " 'finish_time': datetime.datetime(2022, 11, 5, 3, 12, 18, 493624),\n",
            " 'item_scraped_count': 1,\n",
            " 'log_count/DEBUG': 41,\n",
            " 'log_count/INFO': 11,\n",
            " 'memusage/max': 93577216,\n",
            " 'memusage/startup': 93577216,\n",
            " 'request_depth_max': 2,\n",
            " 'response_received_count': 19,\n",
            " 'robotstxt/request_count': 1,\n",
            " 'robotstxt/response_count': 1,\n",
            " 'robotstxt/response_status_count/200': 1,\n",
            " 'scheduler/dequeued': 18,\n",
            " 'scheduler/dequeued/memory': 18,\n",
            " 'scheduler/enqueued': 18,\n",
            " 'scheduler/enqueued/memory': 18,\n",
            " 'start_time': datetime.datetime(2022, 11, 5, 3, 12, 6, 156851)}\n",
            "2022-11-05 03:12:18 [scrapy.core.engine] INFO: Spider closed (finished)\n"
          ]
        }
      ]
    },
    {
      "cell_type": "markdown",
      "source": [
        "## Setting up selenium enviroment"
      ],
      "metadata": {
        "id": "mq9RIExW_JYP"
      }
    },
    {
      "cell_type": "code",
      "source": [
        "!apt update\n",
        "!apt install chromium-chromedriver\n",
        "!pip install selenium"
      ],
      "metadata": {
        "colab": {
          "base_uri": "https://localhost:8080/"
        },
        "id": "xmhks0_X0TJK",
        "outputId": "7bf859bd-c039-4403-fe76-3d39c63b79a2"
      },
      "execution_count": 28,
      "outputs": [
        {
          "output_type": "stream",
          "name": "stdout",
          "text": [
            "\u001b[33m\r0% [Working]\u001b[0m\r            \rHit:1 http://archive.ubuntu.com/ubuntu bionic InRelease\n",
            "\u001b[33m\r0% [Waiting for headers] [Connecting to security.ubuntu.com (185.125.190.36)] [\u001b[0m\r                                                                               \rHit:2 http://archive.ubuntu.com/ubuntu bionic-updates InRelease\n",
            "\u001b[33m\r0% [Waiting for headers] [Connecting to security.ubuntu.com (185.125.190.36)] [\u001b[0m\r                                                                               \rHit:3 https://cloud.r-project.org/bin/linux/ubuntu bionic-cran40/ InRelease\n",
            "\u001b[33m\r0% [Waiting for headers] [Connecting to security.ubuntu.com (185.125.190.36)] [\u001b[0m\u001b[33m\r0% [1 InRelease gpgv 242 kB] [Waiting for headers] [Connecting to security.ubun\u001b[0m\r                                                                               \rGet:4 http://archive.ubuntu.com/ubuntu bionic-backports InRelease [83.3 kB]\n",
            "\u001b[33m\r0% [1 InRelease gpgv 242 kB] [4 InRelease 11.3 kB/83.3 kB 14%] [Connecting to s\u001b[0m\u001b[33m\r0% [1 InRelease gpgv 242 kB] [Waiting for headers] [Waiting for headers] [Waiti\u001b[0m\r                                                                               \rGet:5 http://security.ubuntu.com/ubuntu bionic-security InRelease [88.7 kB]\n",
            "\u001b[33m\r0% [1 InRelease gpgv 242 kB] [5 InRelease 14.2 kB/88.7 kB 16%] [Waiting for hea\u001b[0m\r                                                                               \rHit:6 http://ppa.launchpad.net/c2d4u.team/c2d4u4.0+/ubuntu bionic InRelease\n",
            "\u001b[33m\r0% [1 InRelease gpgv 242 kB] [5 InRelease 14.2 kB/88.7 kB 16%] [Waiting for hea\u001b[0m\r                                                                               \rIgn:7 https://developer.download.nvidia.com/compute/machine-learning/repos/ubuntu1804/x86_64  InRelease\n",
            "\u001b[33m\r0% [1 InRelease gpgv 242 kB] [5 InRelease 14.2 kB/88.7 kB 16%] [Waiting for hea\u001b[0m\r                                                                               \rHit:8 https://developer.download.nvidia.com/compute/cuda/repos/ubuntu1804/x86_64  InRelease\n",
            "Hit:9 https://developer.download.nvidia.com/compute/machine-learning/repos/ubuntu1804/x86_64  Release\n",
            "Hit:10 http://ppa.launchpad.net/cran/libgit2/ubuntu bionic InRelease\n",
            "Hit:11 http://ppa.launchpad.net/deadsnakes/ppa/ubuntu bionic InRelease\n",
            "Hit:12 http://ppa.launchpad.net/graphics-drivers/ppa/ubuntu bionic InRelease\n",
            "Fetched 172 kB in 3s (58.6 kB/s)\n",
            "Reading package lists... Done\n",
            "Building dependency tree       \n",
            "Reading state information... Done\n",
            "6 packages can be upgraded. Run 'apt list --upgradable' to see them.\n",
            "Reading package lists... Done\n",
            "Building dependency tree       \n",
            "Reading state information... Done\n",
            "chromium-chromedriver is already the newest version (105.0.5195.102-0ubuntu0.18.04.1).\n",
            "The following package was automatically installed and is no longer required:\n",
            "  libnvidia-common-460\n",
            "Use 'apt autoremove' to remove it.\n",
            "0 upgraded, 0 newly installed, 0 to remove and 6 not upgraded.\n",
            "Looking in indexes: https://pypi.org/simple, https://us-python.pkg.dev/colab-wheels/public/simple/\n",
            "Requirement already satisfied: selenium in /usr/local/lib/python3.7/dist-packages (4.6.0)\n",
            "Requirement already satisfied: trio~=0.17 in /usr/local/lib/python3.7/dist-packages (from selenium) (0.22.0)\n",
            "Requirement already satisfied: certifi>=2021.10.8 in /usr/local/lib/python3.7/dist-packages (from selenium) (2022.9.24)\n",
            "Requirement already satisfied: trio-websocket~=0.9 in /usr/local/lib/python3.7/dist-packages (from selenium) (0.9.2)\n",
            "Requirement already satisfied: urllib3[socks]~=1.26 in /usr/local/lib/python3.7/dist-packages (from selenium) (1.26.12)\n",
            "Requirement already satisfied: attrs>=19.2.0 in /usr/local/lib/python3.7/dist-packages (from trio~=0.17->selenium) (22.1.0)\n",
            "Requirement already satisfied: sniffio in /usr/local/lib/python3.7/dist-packages (from trio~=0.17->selenium) (1.3.0)\n",
            "Requirement already satisfied: async-generator>=1.9 in /usr/local/lib/python3.7/dist-packages (from trio~=0.17->selenium) (1.10)\n",
            "Requirement already satisfied: outcome in /usr/local/lib/python3.7/dist-packages (from trio~=0.17->selenium) (1.2.0)\n",
            "Requirement already satisfied: idna in /usr/local/lib/python3.7/dist-packages (from trio~=0.17->selenium) (2.10)\n",
            "Requirement already satisfied: sortedcontainers in /usr/local/lib/python3.7/dist-packages (from trio~=0.17->selenium) (2.4.0)\n",
            "Requirement already satisfied: exceptiongroup>=1.0.0rc9 in /usr/local/lib/python3.7/dist-packages (from trio~=0.17->selenium) (1.0.1)\n",
            "Requirement already satisfied: wsproto>=0.14 in /usr/local/lib/python3.7/dist-packages (from trio-websocket~=0.9->selenium) (1.2.0)\n",
            "Requirement already satisfied: PySocks!=1.5.7,<2.0,>=1.5.6 in /usr/local/lib/python3.7/dist-packages (from urllib3[socks]~=1.26->selenium) (1.7.1)\n",
            "Requirement already satisfied: h11<1,>=0.9.0 in /usr/local/lib/python3.7/dist-packages (from wsproto>=0.14->trio-websocket~=0.9->selenium) (0.14.0)\n",
            "Requirement already satisfied: typing-extensions in /usr/local/lib/python3.7/dist-packages (from h11<1,>=0.9.0->wsproto>=0.14->trio-websocket~=0.9->selenium) (4.1.1)\n"
          ]
        }
      ]
    },
    {
      "cell_type": "code",
      "source": [
        "%%writefile /content/class_selenium_xpath.py\n",
        "\n",
        "from selenium import webdriver\n",
        "from selenium.webdriver.common.by import By\n",
        "from bs4 import BeautifulSoup\n",
        "class selenium_scrapy:\n",
        "  url_list=[]\n",
        "  def driversetup(self):\n",
        "      options = webdriver.ChromeOptions()\n",
        "      #run Selenium in headless mode\n",
        "      options.add_argument('--headless')\n",
        "      options.add_argument('--no-sandbox')\n",
        "      #overcome limited resource problems\n",
        "      options.add_argument('--disable-dev-shm-usage')\n",
        "      options.add_argument(\"lang=en\")\n",
        "      #open Browser in maximized mode\n",
        "      options.add_argument(\"start-maximized\")\n",
        "      #disable infobars\n",
        "      options.add_argument(\"disable-infobars\")\n",
        "      #disable extension\n",
        "      options.add_argument(\"--disable-extensions\")\n",
        "      options.add_argument(\"--incognito\")\n",
        "      options.add_argument(\"--disable-blink-features=AutomationControlled\")\n",
        "      \n",
        "      driver = webdriver.Chrome(options=options)\n",
        "\n",
        "      driver.execute_script(\"Object.defineProperty(navigator, 'webdriver', {get: () => undefined});\")\n",
        "\n",
        "      return driver\n",
        "    \n",
        "  def pagesource(self,url):\n",
        "      driver = self.driversetup()\n",
        "      driver.get(url)\n",
        "      #soup = BeautifulSoup(driver.page_source)\n",
        "      soup=driver.find_elements(By.XPATH, '//a[starts-with(@onclick, \"SetCapitu\")]' )\n",
        "      self.url_list = []\n",
        "      for a in soup:\n",
        "        self.url_list.append(self.url_title(a.get_attribute('onclick')))\n",
        "\n",
        "      driver.close()\n",
        "\n",
        "  def url_title(self,t):\n",
        "      replacements = [\n",
        "        (\"'\",\"\"),\n",
        "        (\")\",\"\"),\n",
        "        (\"(\",\"\"),\n",
        "        (\", \",\"/\"),\n",
        "        (\"SetCapitulo\",\"\"),\n",
        "      ]\n",
        "      for x,y in replacements:\n",
        "        t=t.replace(x,y)\n",
        "      return t"
      ],
      "metadata": {
        "id": "zJntoVOa0UYh",
        "colab": {
          "base_uri": "https://localhost:8080/"
        },
        "outputId": "953781c9-c43c-4b71-c2ee-86ef5d48d5ec"
      },
      "execution_count": 42,
      "outputs": [
        {
          "output_type": "stream",
          "name": "stdout",
          "text": [
            "Writing /content/class_selenium_xpath.py\n"
          ]
        }
      ]
    },
    {
      "cell_type": "code",
      "source": [
        "from class_selenium_xpath import selenium_scrapy\n",
        "data_crawler = selenium_scrapy()\n",
        "url='https://si3.bcentral.cl/Siete'\n",
        "data_crawler.pagesource(url)\n",
        "\n",
        "print(data_crawler.url_list)\n"
      ],
      "metadata": {
        "colab": {
          "base_uri": "https://localhost:8080/"
        },
        "id": "dH1tzX5x0gVv",
        "outputId": "e7157571-0671-4a51-aa5a-ddc97b47c4af"
      },
      "execution_count": 43,
      "outputs": [
        {
          "output_type": "stream",
          "name": "stdout",
          "text": [
            "['CAP_ESTADIST_MACRO/MN_EST_MACRO_IV/PEM_TC', 'CAP_PRECIOS/MN_CAP_PRECIOS/UF_IVP_DIARIO', 'CAP_TASA_INTERES/MN_TASA_INTERES_09/TPM_C1', 'CAP_TIPO_CAMBIO/MN_TIPO_CAMBIO4/DOLAR_OBS_ADO', 'CAP_DYB/MN_ESTAD_MON55/EM_BMAM2', 'CAP_DERYSPOT/MN_DERYSPOT/DER_MON_01', 'CAP_CCNN/MN_CCNN76/CCNN2018_IMACEC_01', 'CAP_BDP/MN_BDP42/BP6M_RES01', 'CAP_EMP_REM_DEM/MN_EMP_REM_DEM13/ED_TDNRM2', 'CAP_EXP_ECO/MN_EXP_EC11/EXE_BCCH_01', 'CAP_IND_SEC/MN_IND_SEC20/IS_GENERAL_PROPIEDAD_2008', 'CAP_EI/MN_EI11/EI_CREC_TRI', 'CAP_FIN_PUB/MN_FIN_PUB_1/GOB_TOT_1', 'CAP_ESTADIST_GENERO/MN_GENERO1/EST_GEN_POB_01', 'CAP_ESTADIST_REGIONAL/MN_REGIONAL1/CCNN2018_PIB_REGIONAL_T', 'CAP_ESTADIST_EXPERIM/MN_EXPERIM01/EST_EXP_001', 'CAP_ESTADIST_MACRO/MN_EST_MACRO_IV/PEM_TC', 'CAP_PRECIOS/MN_CAP_PRECIOS/UF_IVP_DIARIO', 'CAP_TASA_INTERES/MN_TASA_INTERES_09/TPM_C1', 'CAP_TIPO_CAMBIO/MN_TIPO_CAMBIO4/DOLAR_OBS_ADO', 'CAP_DYB/MN_ESTAD_MON55/EM_BMAM2', 'CAP_DERYSPOT/MN_DERYSPOT/DER_MON_01', 'CAP_CCNN/MN_CCNN76/CCNN2018_IMACEC_01', 'CAP_BDP/MN_BDP42/BP6M_RES01', 'CAP_EMP_REM_DEM/MN_EMP_REM_DEM13/ED_TDNRM2', 'CAP_EXP_ECO/MN_EXP_EC11/EXE_BCCH_01', 'CAP_IND_SEC/MN_IND_SEC20/IS_GENERAL_PROPIEDAD_2008', 'CAP_EI/MN_EI11/EI_CREC_TRI', 'CAP_FIN_PUB/MN_FIN_PUB_1/GOB_TOT_1', 'CAP_ESTADIST_GENERO/MN_GENERO1/EST_GEN_POB_01', 'CAP_ESTADIST_REGIONAL/MN_REGIONAL1/CCNN2018_PIB_REGIONAL_T', 'CAP_ESTADIST_EXPERIM/MN_EXPERIM01/EST_EXP_001']\n"
          ]
        }
      ]
    },
    {
      "cell_type": "markdown",
      "source": [
        "#### Scrawl python"
      ],
      "metadata": {
        "id": "0GY-Ynl3tY_2"
      }
    },
    {
      "cell_type": "code",
      "source": [
        "!scrapy genspider -t crawl tencent web"
      ],
      "metadata": {
        "colab": {
          "base_uri": "https://localhost:8080/"
        },
        "id": "pm3B5BprimdP",
        "outputId": "8d189799-50af-4a7e-d6e4-45d88f596eaf"
      },
      "execution_count": 34,
      "outputs": [
        {
          "output_type": "stream",
          "name": "stdout",
          "text": [
            "Traceback (most recent call last):\n",
            "  File \"/usr/local/bin/scrapy\", line 8, in <module>\n",
            "    sys.exit(execute())\n",
            "  File \"/usr/local/lib/python3.7/dist-packages/scrapy/cmdline.py\", line 153, in execute\n",
            "    cmd.crawler_process = CrawlerProcess(settings)\n",
            "  File \"/usr/local/lib/python3.7/dist-packages/scrapy/crawler.py\", line 304, in __init__\n",
            "    super().__init__(settings)\n",
            "  File \"/usr/local/lib/python3.7/dist-packages/scrapy/crawler.py\", line 181, in __init__\n",
            "    self.spider_loader = self._get_spider_loader(settings)\n",
            "  File \"/usr/local/lib/python3.7/dist-packages/scrapy/crawler.py\", line 175, in _get_spider_loader\n",
            "    return loader_cls.from_settings(settings.frozencopy())\n",
            "  File \"/usr/local/lib/python3.7/dist-packages/scrapy/spiderloader.py\", line 67, in from_settings\n",
            "    return cls(settings)\n",
            "  File \"/usr/local/lib/python3.7/dist-packages/scrapy/spiderloader.py\", line 24, in __init__\n",
            "    self._load_all_spiders()\n",
            "  File \"/usr/local/lib/python3.7/dist-packages/scrapy/spiderloader.py\", line 51, in _load_all_spiders\n",
            "    for module in walk_modules(name):\n",
            "  File \"/usr/local/lib/python3.7/dist-packages/scrapy/utils/misc.py\", line 89, in walk_modules\n",
            "    submod = import_module(fullpath)\n",
            "  File \"/usr/lib/python3.7/importlib/__init__.py\", line 127, in import_module\n",
            "    return _bootstrap._gcd_import(name[level:], package, level)\n",
            "  File \"<frozen importlib._bootstrap>\", line 1006, in _gcd_import\n",
            "  File \"<frozen importlib._bootstrap>\", line 983, in _find_and_load\n",
            "  File \"<frozen importlib._bootstrap>\", line 967, in _find_and_load_unlocked\n",
            "  File \"<frozen importlib._bootstrap>\", line 677, in _load_unlocked\n",
            "  File \"<frozen importlib._bootstrap_external>\", line 728, in exec_module\n",
            "  File \"<frozen importlib._bootstrap>\", line 219, in _call_with_frames_removed\n",
            "  File \"/content/chilean_data_explore/chilean_data_explore/spiders/tencent.py\", line 11, in <module>\n",
            "    from .content.chilean_data_explore.chilean_data_explore.class_selenium_xpath import selenium_scrapy\n",
            "ModuleNotFoundError: No module named 'chilean_data_explore.spiders.content'\n"
          ]
        }
      ]
    },
    {
      "cell_type": "code",
      "source": [
        "%%writefile /content/chilean_data_explore/chilean_data_explore/spiders/tencent.py\n",
        "import scrapy\n",
        "\n",
        "#load class CrawlSpider and Rule\n",
        "from scrapy.spiders import CrawlSpider,Rule\n",
        "\n",
        "#load the link rules to match satisfiled links\n",
        "from scrapy.linkextractors import LinkExtractor \n",
        "\n",
        "#from tenSpider.items import TenspiderItem \n",
        "\n",
        "#from .content.chilean_data_explore.chilean_data_explore.spiders.class_selenium_xpath import selenium_scrapy\n",
        "from . import class_selenium_xpath\n",
        "\n",
        "\n",
        "class TencentSpider(CrawlSpider):\n",
        "    name = 'tencent'\n",
        "    allowed_domains = ['si3.bcentral.cl']\n",
        "    start_urls = ['https://si3.bcentral.cl/Siete']\n",
        "\n",
        "    # the extract function in response,return a list match the rule\n",
        "    list_pagelink=selenium_scrapy()\n",
        "    list_pagelink.pagesource(start_urls[0])\n",
        "    \n",
        "    #follow item will be used to Recursive crawling\n",
        "    rules=[\n",
        "        # get the link in pagelink, send the request one by one,\n",
        "        # call the specified function to process \n",
        "        Rule(list_pagelink.url_list,callback=\"parseTencent\",follow=True)\n",
        "    ]\n",
        "\n",
        "    def list_url(self,response):\n",
        "        list_url_ = [ \"/ES/Siete/Cuadro/\" +self.url_title(t.get())  for t in response.xpath('//a[starts-with(@onclick, \"SetCapitu\")]//@onclick') ]\n",
        "        print(list_url_)\n",
        "        return list_url_\n",
        "\n",
        "    def url_title(self,t):\n",
        "        replacements = [\n",
        "          (\"'\",\"\"),\n",
        "          (\")\",\"\"),\n",
        "          (\"(\",\"\"),\n",
        "          (\", \",\"/\"),\n",
        "          (\"SetCapitulo\",\"\"),\n",
        "        ]\n",
        "        for x,y in replacements:\n",
        "          t=t.replace(x,y)\n",
        "\n",
        "        return t\n",
        "\n",
        "    # specified process function\n",
        "    def parseTencent(self,response):\n",
        "        print(\">>>>>>>>>>>>>>>>>>>>>>>>>>>>>>><<<<\",response.url)\n",
        "        for each in response.xpath(\"//tr[@class='even'] | //tr[@class='odd']\"):\n",
        "            item={}#TenspiderItem()\n",
        "            #store the data into dict item\n",
        "            #extract will transform the data into unicode string\n",
        "            item['positionname']=each.xpath('./td[1]/a/text()').extract()[0]\n",
        "            item['positionlink']=each.xpath('./td[1]/a/@href').extract()[0]\n",
        "            item['positionType']=each.xpath('./td[2]/text()').extract()[0]\n",
        "            item['peopleNum']=each.xpath('./td[3]/text()').extract()[0]\n",
        "            item['workLocation']=each.xpath('./td[4]/text()').extract()[0]\n",
        "            item['publishTime']=each.xpath('./td[5]/text()').extract()[0]\n",
        "\n",
        "            print(item)\n",
        "            yield item"
      ],
      "metadata": {
        "colab": {
          "base_uri": "https://localhost:8080/"
        },
        "id": "I7-EFjgWiukh",
        "outputId": "ce922ad7-9107-40a9-83f3-8112fa4095fc"
      },
      "execution_count": 55,
      "outputs": [
        {
          "output_type": "stream",
          "name": "stdout",
          "text": [
            "Overwriting /content/chilean_data_explore/chilean_data_explore/spiders/tencent.py\n"
          ]
        }
      ]
    },
    {
      "cell_type": "code",
      "source": [
        "!scrapy crawl tencent"
      ],
      "metadata": {
        "colab": {
          "base_uri": "https://localhost:8080/"
        },
        "id": "tTTzd8Dejmfj",
        "outputId": "70649b29-c238-485c-b6c8-7085e0b75e20"
      },
      "execution_count": 56,
      "outputs": [
        {
          "output_type": "stream",
          "name": "stdout",
          "text": [
            "Traceback (most recent call last):\n",
            "  File \"/usr/local/bin/scrapy\", line 8, in <module>\n",
            "    sys.exit(execute())\n",
            "  File \"/usr/local/lib/python3.7/dist-packages/scrapy/cmdline.py\", line 153, in execute\n",
            "    cmd.crawler_process = CrawlerProcess(settings)\n",
            "  File \"/usr/local/lib/python3.7/dist-packages/scrapy/crawler.py\", line 304, in __init__\n",
            "    super().__init__(settings)\n",
            "  File \"/usr/local/lib/python3.7/dist-packages/scrapy/crawler.py\", line 181, in __init__\n",
            "    self.spider_loader = self._get_spider_loader(settings)\n",
            "  File \"/usr/local/lib/python3.7/dist-packages/scrapy/crawler.py\", line 175, in _get_spider_loader\n",
            "    return loader_cls.from_settings(settings.frozencopy())\n",
            "  File \"/usr/local/lib/python3.7/dist-packages/scrapy/spiderloader.py\", line 67, in from_settings\n",
            "    return cls(settings)\n",
            "  File \"/usr/local/lib/python3.7/dist-packages/scrapy/spiderloader.py\", line 24, in __init__\n",
            "    self._load_all_spiders()\n",
            "  File \"/usr/local/lib/python3.7/dist-packages/scrapy/spiderloader.py\", line 51, in _load_all_spiders\n",
            "    for module in walk_modules(name):\n",
            "  File \"/usr/local/lib/python3.7/dist-packages/scrapy/utils/misc.py\", line 89, in walk_modules\n",
            "    submod = import_module(fullpath)\n",
            "  File \"/usr/lib/python3.7/importlib/__init__.py\", line 127, in import_module\n",
            "    return _bootstrap._gcd_import(name[level:], package, level)\n",
            "  File \"<frozen importlib._bootstrap>\", line 1006, in _gcd_import\n",
            "  File \"<frozen importlib._bootstrap>\", line 983, in _find_and_load\n",
            "  File \"<frozen importlib._bootstrap>\", line 967, in _find_and_load_unlocked\n",
            "  File \"<frozen importlib._bootstrap>\", line 677, in _load_unlocked\n",
            "  File \"<frozen importlib._bootstrap_external>\", line 728, in exec_module\n",
            "  File \"<frozen importlib._bootstrap>\", line 219, in _call_with_frames_removed\n",
            "  File \"/content/chilean_data_explore/chilean_data_explore/spiders/tencent.py\", line 15, in <module>\n",
            "    class TencentSpider(CrawlSpider):\n",
            "  File \"/content/chilean_data_explore/chilean_data_explore/spiders/tencent.py\", line 21, in TencentSpider\n",
            "    list_pagelink=selenium_scrapy()\n",
            "NameError: name 'selenium_scrapy' is not defined\n"
          ]
        }
      ]
    },
    {
      "cell_type": "code",
      "source": [],
      "metadata": {
        "id": "pRnhg35dtbo6"
      },
      "execution_count": 33,
      "outputs": []
    },
    {
      "cell_type": "markdown",
      "metadata": {
        "id": "m3fr-sbmiard"
      },
      "source": [
        "# Storing crawled data "
      ]
    },
    {
      "cell_type": "code",
      "execution_count": null,
      "metadata": {
        "colab": {
          "base_uri": "https://localhost:8080/"
        },
        "id": "H3Xs4DvVhptd",
        "outputId": "2ecc2cc0-c446-4ebc-ac26-c6d98efa7744"
      },
      "outputs": [
        {
          "name": "stdout",
          "output_type": "stream",
          "text": [
            "Looking in indexes: https://pypi.org/simple, https://us-python.pkg.dev/colab-wheels/public/simple/\n",
            "Requirement already satisfied: boto3 in /usr/local/lib/python3.7/dist-packages (1.24.90)\n",
            "Requirement already satisfied: botocore<1.28.0,>=1.27.90 in /usr/local/lib/python3.7/dist-packages (from boto3) (1.27.90)\n",
            "Requirement already satisfied: jmespath<2.0.0,>=0.7.1 in /usr/local/lib/python3.7/dist-packages (from boto3) (1.0.1)\n",
            "Requirement already satisfied: s3transfer<0.7.0,>=0.6.0 in /usr/local/lib/python3.7/dist-packages (from boto3) (0.6.0)\n",
            "Requirement already satisfied: urllib3<1.27,>=1.25.4 in /usr/local/lib/python3.7/dist-packages (from botocore<1.28.0,>=1.27.90->boto3) (1.26.12)\n",
            "Requirement already satisfied: python-dateutil<3.0.0,>=2.1 in /usr/local/lib/python3.7/dist-packages (from botocore<1.28.0,>=1.27.90->boto3) (2.8.2)\n",
            "Requirement already satisfied: six>=1.5 in /usr/local/lib/python3.7/dist-packages (from python-dateutil<3.0.0,>=2.1->botocore<1.28.0,>=1.27.90->boto3) (1.15.0)\n"
          ]
        }
      ],
      "source": [
        "!python -m pip install boto3\n"
      ]
    },
    {
      "cell_type": "code",
      "execution_count": null,
      "metadata": {
        "id": "-qTH9y60mktG"
      },
      "outputs": [],
      "source": [
        "import boto3\n",
        "import os\n",
        "import requests\n",
        "import tqdm"
      ]
    },
    {
      "cell_type": "code",
      "execution_count": null,
      "metadata": {
        "id": "IVJmdLnhlp2g"
      },
      "outputs": [],
      "source": [
        "dynamo_client  =  boto3.resource(service_name = 'data_crawled_dydb',region_name = 'us-east-1',\n",
        "              aws_access_key_id = 'AKIA3BS5NFXXXXXXX',\n",
        "              aws_secret_access_key = 'qfGTJL28HrqcbhKCM0t//xxx7gTGG4iNrv3/d94Lsp')"
      ]
    },
    {
      "cell_type": "code",
      "execution_count": null,
      "metadata": {
        "id": "p3_jZTMKl1QE"
      },
      "outputs": [],
      "source": [
        "product_table = dynamo_client.Table('institution')\n",
        "product_table.table_status\n",
        "\n",
        "product_table_link = dynamo_client.Table('link_collection')\n",
        "product_table_link.table_status\n",
        "\n",
        "product_table_file = dynamo_client.Table('file_collection')\n",
        "product_table_file.table_status"
      ]
    },
    {
      "cell_type": "code",
      "execution_count": null,
      "metadata": {
        "id": "-sPF8vXMlqko"
      },
      "outputs": [],
      "source": [
        "dynamo_client.get_available_subresources()"
      ]
    },
    {
      "cell_type": "code",
      "execution_count": null,
      "metadata": {
        "id": "60fizkKMlXAY"
      },
      "outputs": [],
      "source": [
        "def query_police_department_record_by_guid(guid):  \n",
        "    db = dynamodb_resource()\n",
        "    extra_msg = {\"region_name\": REGION, \"aws_service\": \"dynamodb\", \n",
        "        \"police_department_table\":POLICE_DEPARTMENTS_TABLE,\n",
        "        \"guid\":guid}\n",
        "    log.info(f\"Get PD record by GUID\", extra=extra_msg)\n",
        "    pd_table = db.Table(POLICE_DEPARTMENTS_TABLE)\n",
        "    response = pd_table.get_item(\n",
        "        Key={\n",
        "            'guid': guid\n",
        "            }\n",
        "    )\n",
        "    return response['Item']"
      ]
    },
    {
      "cell_type": "code",
      "execution_count": null,
      "metadata": {
        "id": "u-gDjN1cpY01"
      },
      "outputs": [],
      "source": [
        "print(query_police_department_record_by_guid(\"jlkdajfldskj1312312\"))"
      ]
    },
    {
      "cell_type": "markdown",
      "metadata": {
        "id": "r0_pb1WDLr-3"
      },
      "source": []
    },
    {
      "cell_type": "markdown",
      "metadata": {
        "id": "3gB_b1yYNYbE"
      },
      "source": [
        "#References"
      ]
    },
    {
      "cell_type": "markdown",
      "metadata": {
        "id": "VCw9Gh1nib7k"
      },
      "source": [
        "> DynamoDB and its purposes\n",
        "\n",
        "*   [A one size fits all database doesn't fit anyone\n",
        "](https://www.allthingsdistributed.com/2018/06/purpose-built-databases-in-aws.html)\n",
        "\n",
        "*   [Amazon DynamoDB](https://aws.amazon.com/dynamodb/)\n",
        "\n",
        "*   [Scaling globally with the new AWS](https://www.allthingsdistributed.com/2022/08/aws-launches-middle-east-uae-region.html)\n",
        "\n",
        "\n",
        "> Interfaces for reliable connections\n",
        "\n",
        "*   [DynamoDB and the AWS SDKs](https://docs.aws.amazon.com/amazondynamodb/latest/developerguide/GettingStarted.html\n",
        ")\n",
        "\n",
        "*   [Boto3 and Amazon DynamoDB](https://www.section.io/engineering-education/python-boto3-and-amazon-dynamodb-programming-tutorial/)\n",
        "\n",
        "*   [DynamoDb in Python using BOTO3](https://www.analyticsvidhya.com/blog/2022/05/working-with-dynamodb-in-python-using-boto3/)\n",
        "\n",
        "> Scrapy \n",
        "\n",
        "* [Google Colab tips: using both %%writefile magic and %%javascript magic in the same cell\n",
        "](https://stephencowchau.medium.com/google-colab-tips-using-both-writefile-magic-and-javascript-magic-in-the-same-cell-7820e508e455)\n",
        "\n",
        "* [Scrapy - User Agents and Proxies](https://scrapeops.io/python-scrapy-playbook/scrapy-beginners-guide-user-agents-proxies/)\n",
        "\n",
        "* [Scrapy - LinkExtractors](https://www.tutorialspoint.com/scrapy/scrapy_link_extractors.htm)\n",
        "\n",
        "> Xpath\n",
        "\n",
        "* [Parsing HTML with Xpath](https://scrapfly.io/blog/parsing-html-with-xpath/)\n",
        "\n",
        "* [Scrapy - User Agents and Proxies](https://scrapeops.io/python-scrapy-playbook/scrapy-beginners-guide-user-agents-proxies/)\n",
        "\n",
        "* [XPath tester](https://extendsclass.com/xpath-tester.html)\n",
        "\n",
        "*   [XPath tester codebeautify](https://codebeautify.org/Xpath-Tester)\n",
        "\n",
        "*   [Xpath for python: is xpath underappreciated?](https://towardsdatascience.com/xpath-for-python-89f4423415e0)\n",
        "\n",
        "> Selenium\n",
        "\n",
        "*   [Selenium webdriver in colab](https://blog.devgenius.io/use-selenium-webdriver-in-google-colab-d5f2dba1d9f5)\n",
        "\n",
        "*   [Selenium - Navigation](https://selenium-python.readthedocs.io/navigating.html?highlight=driver.find_element#drag-and-drop)\n",
        "\n",
        "\n"
      ]
    }
  ],
  "metadata": {
    "colab": {
      "collapsed_sections": [
        "m3fr-sbmiard"
      ],
      "provenance": [],
      "authorship_tag": "ABX9TyPj/pcwDa5mAdfyp+h9npWq"
    },
    "kernelspec": {
      "display_name": "Python 3",
      "name": "python3"
    },
    "language_info": {
      "name": "python"
    }
  },
  "nbformat": 4,
  "nbformat_minor": 0
}