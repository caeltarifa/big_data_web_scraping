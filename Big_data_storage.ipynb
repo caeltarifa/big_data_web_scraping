{
  "cells": [
    {
      "cell_type": "markdown",
      "metadata": {
        "id": "tQmxJTMZLtzW"
      },
      "source": [
        "# Data crawling with scrapy"
      ]
    },
    {
      "cell_type": "code",
      "execution_count": 1,
      "metadata": {
        "id": "331KxoyiLzDh",
        "colab": {
          "base_uri": "https://localhost:8080/"
        },
        "outputId": "8fb8fe35-6191-4bff-e5df-b03128de42f1"
      },
      "outputs": [
        {
          "output_type": "stream",
          "name": "stdout",
          "text": [
            "Looking in indexes: https://pypi.org/simple, https://us-python.pkg.dev/colab-wheels/public/simple/\n",
            "Collecting scrapy\n",
            "  Downloading Scrapy-2.7.1-py2.py3-none-any.whl (271 kB)\n",
            "\u001b[K     |████████████████████████████████| 271 kB 4.9 MB/s \n",
            "\u001b[?25hCollecting w3lib>=1.17.0\n",
            "  Downloading w3lib-2.0.1-py3-none-any.whl (20 kB)\n",
            "Collecting PyDispatcher>=2.0.5\n",
            "  Downloading PyDispatcher-2.0.6.tar.gz (38 kB)\n",
            "Collecting pyOpenSSL>=21.0.0\n",
            "  Downloading pyOpenSSL-22.1.0-py3-none-any.whl (57 kB)\n",
            "\u001b[K     |████████████████████████████████| 57 kB 4.2 MB/s \n",
            "\u001b[?25hCollecting zope.interface>=5.1.0\n",
            "  Downloading zope.interface-5.5.1-cp37-cp37m-manylinux_2_5_x86_64.manylinux1_x86_64.manylinux_2_12_x86_64.manylinux2010_x86_64.whl (254 kB)\n",
            "\u001b[K     |████████████████████████████████| 254 kB 46.7 MB/s \n",
            "\u001b[?25hCollecting cssselect>=0.9.1\n",
            "  Downloading cssselect-1.2.0-py2.py3-none-any.whl (18 kB)\n",
            "Collecting Twisted>=18.9.0\n",
            "  Downloading Twisted-22.10.0-py3-none-any.whl (3.1 MB)\n",
            "\u001b[K     |████████████████████████████████| 3.1 MB 50.0 MB/s \n",
            "\u001b[?25hRequirement already satisfied: setuptools in /usr/local/lib/python3.7/dist-packages (from scrapy) (57.4.0)\n",
            "Requirement already satisfied: packaging in /usr/local/lib/python3.7/dist-packages (from scrapy) (21.3)\n",
            "Collecting tldextract\n",
            "  Downloading tldextract-3.4.0-py3-none-any.whl (93 kB)\n",
            "\u001b[K     |████████████████████████████████| 93 kB 2.4 MB/s \n",
            "\u001b[?25hCollecting itemloaders>=1.0.1\n",
            "  Downloading itemloaders-1.0.6-py3-none-any.whl (11 kB)\n",
            "Collecting itemadapter>=0.1.0\n",
            "  Downloading itemadapter-0.7.0-py3-none-any.whl (10 kB)\n",
            "Requirement already satisfied: lxml>=4.3.0 in /usr/local/lib/python3.7/dist-packages (from scrapy) (4.9.1)\n",
            "Collecting protego>=0.1.15\n",
            "  Downloading Protego-0.2.1-py2.py3-none-any.whl (8.2 kB)\n",
            "Collecting service-identity>=18.1.0\n",
            "  Downloading service_identity-21.1.0-py2.py3-none-any.whl (12 kB)\n",
            "Collecting parsel>=1.5.0\n",
            "  Downloading parsel-1.7.0-py2.py3-none-any.whl (14 kB)\n",
            "Collecting cryptography>=3.3\n",
            "  Downloading cryptography-38.0.3-cp36-abi3-manylinux_2_24_x86_64.whl (4.1 MB)\n",
            "\u001b[K     |████████████████████████████████| 4.1 MB 37.7 MB/s \n",
            "\u001b[?25hCollecting queuelib>=1.4.2\n",
            "  Downloading queuelib-1.6.2-py2.py3-none-any.whl (13 kB)\n",
            "Requirement already satisfied: cffi>=1.12 in /usr/local/lib/python3.7/dist-packages (from cryptography>=3.3->scrapy) (1.15.1)\n",
            "Requirement already satisfied: pycparser in /usr/local/lib/python3.7/dist-packages (from cffi>=1.12->cryptography>=3.3->scrapy) (2.21)\n",
            "Collecting jmespath>=0.9.5\n",
            "  Downloading jmespath-1.0.1-py3-none-any.whl (20 kB)\n",
            "Requirement already satisfied: six in /usr/local/lib/python3.7/dist-packages (from protego>=0.1.15->scrapy) (1.15.0)\n",
            "Requirement already satisfied: pyasn1 in /usr/local/lib/python3.7/dist-packages (from service-identity>=18.1.0->scrapy) (0.4.8)\n",
            "Requirement already satisfied: attrs>=19.1.0 in /usr/local/lib/python3.7/dist-packages (from service-identity>=18.1.0->scrapy) (22.1.0)\n",
            "Requirement already satisfied: pyasn1-modules in /usr/local/lib/python3.7/dist-packages (from service-identity>=18.1.0->scrapy) (0.2.8)\n",
            "Requirement already satisfied: typing-extensions>=3.6.5 in /usr/local/lib/python3.7/dist-packages (from Twisted>=18.9.0->scrapy) (4.1.1)\n",
            "Collecting incremental>=21.3.0\n",
            "  Downloading incremental-22.10.0-py2.py3-none-any.whl (16 kB)\n",
            "Collecting hyperlink>=17.1.1\n",
            "  Downloading hyperlink-21.0.0-py2.py3-none-any.whl (74 kB)\n",
            "\u001b[K     |████████████████████████████████| 74 kB 2.5 MB/s \n",
            "\u001b[?25hCollecting constantly>=15.1\n",
            "  Downloading constantly-15.1.0-py2.py3-none-any.whl (7.9 kB)\n",
            "Collecting Automat>=0.8.0\n",
            "  Downloading Automat-22.10.0-py2.py3-none-any.whl (26 kB)\n",
            "Requirement already satisfied: idna>=2.5 in /usr/local/lib/python3.7/dist-packages (from hyperlink>=17.1.1->Twisted>=18.9.0->scrapy) (2.10)\n",
            "Requirement already satisfied: pyparsing!=3.0.5,>=2.0.2 in /usr/local/lib/python3.7/dist-packages (from packaging->scrapy) (3.0.9)\n",
            "Collecting requests-file>=1.4\n",
            "  Downloading requests_file-1.5.1-py2.py3-none-any.whl (3.7 kB)\n",
            "Requirement already satisfied: requests>=2.1.0 in /usr/local/lib/python3.7/dist-packages (from tldextract->scrapy) (2.23.0)\n",
            "Requirement already satisfied: filelock>=3.0.8 in /usr/local/lib/python3.7/dist-packages (from tldextract->scrapy) (3.8.0)\n",
            "Requirement already satisfied: certifi>=2017.4.17 in /usr/local/lib/python3.7/dist-packages (from requests>=2.1.0->tldextract->scrapy) (2022.9.24)\n",
            "Requirement already satisfied: urllib3!=1.25.0,!=1.25.1,<1.26,>=1.21.1 in /usr/local/lib/python3.7/dist-packages (from requests>=2.1.0->tldextract->scrapy) (1.24.3)\n",
            "Requirement already satisfied: chardet<4,>=3.0.2 in /usr/local/lib/python3.7/dist-packages (from requests>=2.1.0->tldextract->scrapy) (3.0.4)\n",
            "Building wheels for collected packages: PyDispatcher\n",
            "  Building wheel for PyDispatcher (setup.py) ... \u001b[?25l\u001b[?25hdone\n",
            "  Created wheel for PyDispatcher: filename=PyDispatcher-2.0.6-py3-none-any.whl size=11959 sha256=5637998689385928a2da73e04b94c4ab353ad3d45bfe4a1333511b275a36ce73\n",
            "  Stored in directory: /root/.cache/pip/wheels/c9/d6/6a/de198d890277cde60ca3dbebe7ae592d3b381c7d9bb2455f4d\n",
            "Successfully built PyDispatcher\n",
            "Installing collected packages: w3lib, cssselect, zope.interface, requests-file, parsel, jmespath, itemadapter, incremental, hyperlink, cryptography, constantly, Automat, Twisted, tldextract, service-identity, queuelib, pyOpenSSL, PyDispatcher, protego, itemloaders, scrapy\n",
            "Successfully installed Automat-22.10.0 PyDispatcher-2.0.6 Twisted-22.10.0 constantly-15.1.0 cryptography-38.0.3 cssselect-1.2.0 hyperlink-21.0.0 incremental-22.10.0 itemadapter-0.7.0 itemloaders-1.0.6 jmespath-1.0.1 parsel-1.7.0 protego-0.2.1 pyOpenSSL-22.1.0 queuelib-1.6.2 requests-file-1.5.1 scrapy-2.7.1 service-identity-21.1.0 tldextract-3.4.0 w3lib-2.0.1 zope.interface-5.5.1\n"
          ]
        }
      ],
      "source": [
        "!pip install scrapy "
      ]
    },
    {
      "cell_type": "code",
      "execution_count": 2,
      "metadata": {
        "colab": {
          "base_uri": "https://localhost:8080/"
        },
        "id": "U-WS95CGMDxH",
        "outputId": "330012dd-dd78-4b52-e6cb-75e4d1d45162"
      },
      "outputs": [
        {
          "output_type": "stream",
          "name": "stdout",
          "text": [
            "New Scrapy project 'chilean_data_explore', using template directory '/usr/local/lib/python3.7/dist-packages/scrapy/templates/project', created in:\n",
            "    /content/chilean_data_explore\n",
            "\n",
            "You can start your first spider with:\n",
            "    cd chilean_data_explore\n",
            "    scrapy genspider example example.com\n"
          ]
        }
      ],
      "source": [
        "!scrapy startproject chilean_data_explore"
      ]
    },
    {
      "cell_type": "code",
      "source": [
        "import os"
      ],
      "metadata": {
        "id": "6DHjjfHmG1TO"
      },
      "execution_count": 3,
      "outputs": []
    },
    {
      "cell_type": "markdown",
      "source": [
        "!pwd\n",
        "!ls\n"
      ],
      "metadata": {
        "id": "L8yHQ4bUGaR8"
      }
    },
    {
      "cell_type": "code",
      "execution_count": 4,
      "metadata": {
        "id": "ktEKleAVsslZ",
        "colab": {
          "base_uri": "https://localhost:8080/"
        },
        "outputId": "5a3cf354-6f5a-4437-f056-3bb9de4d8524"
      },
      "outputs": [
        {
          "output_type": "stream",
          "name": "stdout",
          "text": [
            "/content/chilean_data_explore/chilean_data_explore\n",
            "__init__.py  items.py  middlewares.py  pipelines.py  settings.py  spiders\n"
          ]
        }
      ],
      "source": [
        "os.chdir('/content/chilean_data_explore/chilean_data_explore/')\n",
        "!pwd\n",
        "!ls"
      ]
    },
    {
      "cell_type": "code",
      "source": [
        "from chilean_data_explore.chilean_data_explore.items import ChileanDataExploreItem"
      ],
      "metadata": {
        "id": "rUwNiy6yKidC"
      },
      "execution_count": 5,
      "outputs": []
    },
    {
      "cell_type": "code",
      "source": [
        "%%writefile items.py\n",
        "\n",
        "import scrapy\n",
        "\n",
        "class ChileanDataExploreItem(scrapy.Item):\n",
        "    url = scrapy.Field() # str\n",
        "    article_from = scrapy.Field() # str\n",
        "    article_type = scrapy.Field() # str\n",
        "    title = scrapy.Field() # str\n",
        "    publish_date = scrapy.Field() # str\n",
        "    authors = scrapy.Field() # list json\n",
        "    tags = scrapy.Field() # list json\n",
        "    text = scrapy.Field() # list json\n",
        "    text_html = scrapy.Field() # str\n",
        "    images = scrapy.Field() # list json\n",
        "    video = scrapy.Field() # list json\n",
        "    links = scrapy.Field() # list json\n",
        "\n",
        "from scrapy.item import Item, Field\n",
        "class PropertiesItem(Item):\n",
        "     # Primary fields\n",
        "     title = Field()\n",
        "     price = Field()\n",
        "     description = Field()\n",
        "     address = Field()\n",
        "     image_urls = Field()\n",
        "\n",
        "     # Calculated fields\n",
        "     images = Field()\n",
        "     location = Field()\n",
        "     \n",
        "     # Housekeeping fields\n",
        "     url = Field()\n",
        "     project = Field()\n",
        "     spider = Field()\n",
        "     server = Field()\n",
        "     date = Field()"
      ],
      "metadata": {
        "colab": {
          "base_uri": "https://localhost:8080/"
        },
        "id": "gm0AZwn-I4SK",
        "outputId": "75bb1839-94bf-4eb5-82ed-b76f0518f151"
      },
      "execution_count": 6,
      "outputs": [
        {
          "output_type": "stream",
          "name": "stdout",
          "text": [
            "Overwriting items.py\n"
          ]
        }
      ]
    },
    {
      "cell_type": "code",
      "execution_count": 7,
      "metadata": {
        "id": "b497KTrOMQvL",
        "colab": {
          "base_uri": "https://localhost:8080/"
        },
        "outputId": "187fc66a-8db3-48f4-a207-ef14a2962cad"
      },
      "outputs": [
        {
          "output_type": "stream",
          "name": "stdout",
          "text": [
            "/content/chilean_data_explore/chilean_data_explore\n"
          ]
        }
      ],
      "source": [
        "!pwd\n",
        "os.chdir('/content/chilean_data_explore/chilean_data_explore/spiders')\n",
        "!mkdir logo"
      ]
    },
    {
      "cell_type": "code",
      "execution_count": 8,
      "metadata": {
        "colab": {
          "base_uri": "https://localhost:8080/"
        },
        "id": "6tNWJKg5MoDH",
        "outputId": "a20f69ac-d31b-4c69-86d5-4e79ac43af91"
      },
      "outputs": [
        {
          "output_type": "stream",
          "name": "stdout",
          "text": [
            "Writing quotes_spider.py\n"
          ]
        }
      ],
      "source": [
        "#%%writefile -a /chilean_data_explore/chilean_data_explore/spiders/quotes_spider.py\n",
        "%%writefile quotes_spider.py\n",
        "import scrapy\n",
        "from chilean_data_explore.items import ChileanDataExploreItem\n",
        "\n",
        "import time\n",
        "import re\n",
        "\n",
        "class ChinatimesSpider(scrapy.Spider):\n",
        "    name = 'chinatimes'\n",
        "    allowed_domains = ['chinatimes.com']\n",
        "    base_url = 'https://www.chinatimes.com'\n",
        "\n",
        "    url_array = [\n",
        "      'http://observatorio.ministeriodesarrollosocial.gob.cl/encuesta-casen',\n",
        "      'https://www.sii.cl/sobre_el_sii/estadisticas_de_empresas.html',\n",
        "      'https://www.ide.cl/index.php/informacion-territorial/descargar-informacion-territorial',\n",
        "    ]\n",
        "\n",
        "    date_str = str(time.strftime(\"%F\", time.localtime()))\n",
        "\n",
        "    #custom_settings = {\n",
        "    #    'LOG_FILE': 'log/%s-%s.log' % (name, date_str),\n",
        "    #}\n",
        "\n",
        "    def start_requests(self):\n",
        "        list_url = '%s/realtimenews' % (self.base_url)\n",
        "        yield scrapy.Request(url=list_url, callback=self.parse_list)\n",
        "\n",
        "    def parse_list(self, response):\n",
        "        for page_url in response.css('section.article-list>ul>li h3.title>a::attr(href)').getall():\n",
        "            yield scrapy.Request(url=self.base_url + page_url, callback=self.parse_news)\n",
        "\n",
        "    def parse_news(self, response):\n",
        "        item = ChileanDataExploreItem()\n",
        "\n",
        "        item['url'] = response.url\n",
        "        #item['article_from'] = self.name\n",
        "        #item['article_type'] = 'news'\n",
        "\n",
        "        #item['title'] = self._parse_title(response)\n",
        "        #item['publish_date'] = self._parse_publish_date(response)\n",
        "        #item['authors'] = self._parse_authors(response)\n",
        "        #item['tags'] = self._parse_tags(response)\n",
        "        #item['text'] = self._parse_text(response)\n",
        "        #item['text_html'] = self._parse_text_html(response)\n",
        "        #item['images'] = self._parse_images(response)\n",
        "        #item['video'] = self._parse_video(response)\n",
        "        #item['links'] = self._parse_links(response)\n",
        "\n",
        "        return item\n",
        "\n",
        "    def _parse_title(self, response):\n",
        "        return response.css('article.article-box h1.article-title::text').get()\n",
        "\n",
        "    def _parse_publish_date(self, response):\n",
        "        return response.css('article.article-box time::attr(datetime)').get()\n",
        "\n",
        "    def _parse_authors(self, response):\n",
        "        authors = response.css('article.article-box div.author>a::text').getall()\n",
        "        if len(authors) == 0:\n",
        "            authors = [response.css('article.article-box div.author::text').get(default='').strip()]\n",
        "        return authors\n",
        "\n",
        "    def _parse_tags(self, response):\n",
        "        return response.css('article.article-box div.article-hash-tag a::text').getall()\n",
        "\n",
        "    def _parse_text(self, response):\n",
        "        return response.css('article.article-box div.article-body p::text').getall()\n",
        "\n",
        "    def _parse_text_html(self, response):\n",
        "        return response.css('article.article-box div.article-body').get()\n",
        "\n",
        "    def _parse_images(self, response):\n",
        "        images_list = []\n",
        "        images_list.extend(response.css('article.article-box div.main-figure').css('img::attr(src)').getall())\n",
        "        images_list.extend(response.css('article.article-box div.article-body').css('img::attr(src)').getall())\n",
        "        return images_list\n",
        "\n",
        "    def _parse_video(self, response):\n",
        "        return response.css('article.article-box div.article-body iframe::attr(src)').getall()\n",
        "\n",
        "    def _parse_links(self, response):\n",
        "        return response.css('article.article-box div.article-body').css('a::attr(href)').getall()"
      ]
    },
    {
      "cell_type": "code",
      "execution_count": 9,
      "metadata": {
        "colab": {
          "base_uri": "https://localhost:8080/"
        },
        "id": "pT91tYzFtJRV",
        "outputId": "0b1fd95c-c0c6-4896-aecb-c604ab96651b"
      },
      "outputs": [
        {
          "output_type": "stream",
          "name": "stdout",
          "text": [
            "2022-11-11 03:55:46 [scrapy.utils.log] INFO: Scrapy 2.7.1 started (bot: chilean_data_explore)\n",
            "2022-11-11 03:55:46 [scrapy.utils.log] INFO: Versions: lxml 4.9.1.0, libxml2 2.9.14, cssselect 1.2.0, parsel 1.7.0, w3lib 2.0.1, Twisted 22.10.0, Python 3.7.15 (default, Oct 12 2022, 19:14:55) - [GCC 7.5.0], pyOpenSSL 22.1.0 (OpenSSL 3.0.7 1 Nov 2022), cryptography 38.0.3, Platform Linux-5.10.133+-x86_64-with-Ubuntu-18.04-bionic\n",
            "2022-11-11 03:55:46 [scrapy.crawler] INFO: Overridden settings:\n",
            "{'BOT_NAME': 'chilean_data_explore',\n",
            " 'NEWSPIDER_MODULE': 'chilean_data_explore.spiders',\n",
            " 'REQUEST_FINGERPRINTER_IMPLEMENTATION': '2.7',\n",
            " 'ROBOTSTXT_OBEY': True,\n",
            " 'SPIDER_LOADER_WARN_ONLY': True,\n",
            " 'SPIDER_MODULES': ['chilean_data_explore.spiders'],\n",
            " 'TWISTED_REACTOR': 'twisted.internet.asyncioreactor.AsyncioSelectorReactor'}\n",
            "2022-11-11 03:55:46 [asyncio] DEBUG: Using selector: EpollSelector\n",
            "2022-11-11 03:55:46 [scrapy.utils.log] DEBUG: Using reactor: twisted.internet.asyncioreactor.AsyncioSelectorReactor\n",
            "2022-11-11 03:55:46 [scrapy.utils.log] DEBUG: Using asyncio event loop: asyncio.unix_events._UnixSelectorEventLoop\n",
            "2022-11-11 03:55:46 [scrapy.extensions.telnet] INFO: Telnet Password: 98d5b69176281357\n",
            "2022-11-11 03:55:46 [scrapy.middleware] INFO: Enabled extensions:\n",
            "['scrapy.extensions.corestats.CoreStats',\n",
            " 'scrapy.extensions.telnet.TelnetConsole',\n",
            " 'scrapy.extensions.memusage.MemoryUsage',\n",
            " 'scrapy.extensions.feedexport.FeedExporter',\n",
            " 'scrapy.extensions.logstats.LogStats']\n",
            "2022-11-11 03:55:47 [scrapy.middleware] INFO: Enabled downloader middlewares:\n",
            "['scrapy.downloadermiddlewares.robotstxt.RobotsTxtMiddleware',\n",
            " 'scrapy.downloadermiddlewares.httpauth.HttpAuthMiddleware',\n",
            " 'scrapy.downloadermiddlewares.downloadtimeout.DownloadTimeoutMiddleware',\n",
            " 'scrapy.downloadermiddlewares.defaultheaders.DefaultHeadersMiddleware',\n",
            " 'scrapy.downloadermiddlewares.useragent.UserAgentMiddleware',\n",
            " 'scrapy.downloadermiddlewares.retry.RetryMiddleware',\n",
            " 'scrapy.downloadermiddlewares.redirect.MetaRefreshMiddleware',\n",
            " 'scrapy.downloadermiddlewares.httpcompression.HttpCompressionMiddleware',\n",
            " 'scrapy.downloadermiddlewares.redirect.RedirectMiddleware',\n",
            " 'scrapy.downloadermiddlewares.cookies.CookiesMiddleware',\n",
            " 'scrapy.downloadermiddlewares.httpproxy.HttpProxyMiddleware',\n",
            " 'scrapy.downloadermiddlewares.stats.DownloaderStats']\n",
            "2022-11-11 03:55:47 [scrapy.middleware] INFO: Enabled spider middlewares:\n",
            "['scrapy.spidermiddlewares.httperror.HttpErrorMiddleware',\n",
            " 'scrapy.spidermiddlewares.offsite.OffsiteMiddleware',\n",
            " 'scrapy.spidermiddlewares.referer.RefererMiddleware',\n",
            " 'scrapy.spidermiddlewares.urllength.UrlLengthMiddleware',\n",
            " 'scrapy.spidermiddlewares.depth.DepthMiddleware']\n",
            "2022-11-11 03:55:47 [scrapy.middleware] INFO: Enabled item pipelines:\n",
            "[]\n",
            "2022-11-11 03:55:47 [scrapy.core.engine] INFO: Spider opened\n",
            "2022-11-11 03:55:47 [scrapy.extensions.logstats] INFO: Crawled 0 pages (at 0 pages/min), scraped 0 items (at 0 items/min)\n",
            "2022-11-11 03:55:47 [scrapy.extensions.telnet] INFO: Telnet console listening on 127.0.0.1:6023\n",
            "2022-11-11 03:55:47 [scrapy.core.engine] DEBUG: Crawled (200) <GET https://www.chinatimes.com/robots.txt> (referer: None)\n",
            "2022-11-11 03:55:47 [scrapy.core.engine] DEBUG: Crawled (200) <GET https://www.chinatimes.com/realtimenews> (referer: None)\n",
            "2022-11-11 03:55:47 [scrapy.core.engine] DEBUG: Crawled (200) <GET https://www.chinatimes.com/realtimenews/20221111002226-260410> (referer: https://www.chinatimes.com/realtimenews)\n",
            "2022-11-11 03:55:47 [scrapy.core.scraper] DEBUG: Scraped from <200 https://www.chinatimes.com/realtimenews/20221111002226-260410>\n",
            "{'url': 'https://www.chinatimes.com/realtimenews/20221111002226-260410'}\n",
            "2022-11-11 03:55:47 [scrapy.core.engine] DEBUG: Crawled (200) <GET https://www.chinatimes.com/realtimenews/20221111002182-260410> (referer: https://www.chinatimes.com/realtimenews)\n",
            "2022-11-11 03:55:48 [scrapy.core.engine] DEBUG: Crawled (200) <GET https://www.chinatimes.com/realtimenews/20221111002196-260407> (referer: https://www.chinatimes.com/realtimenews)\n",
            "2022-11-11 03:55:48 [scrapy.core.engine] DEBUG: Crawled (200) <GET https://www.chinatimes.com/realtimenews/20221111002127-260417> (referer: https://www.chinatimes.com/realtimenews)\n",
            "2022-11-11 03:55:48 [scrapy.core.engine] DEBUG: Crawled (200) <GET https://www.chinatimes.com/realtimenews/20221111002210-260407> (referer: https://www.chinatimes.com/realtimenews)\n",
            "2022-11-11 03:55:48 [scrapy.core.engine] DEBUG: Crawled (200) <GET https://www.chinatimes.com/realtimenews/20221111002228-260410> (referer: https://www.chinatimes.com/realtimenews)\n",
            "2022-11-11 03:55:48 [scrapy.core.engine] DEBUG: Crawled (200) <GET https://www.chinatimes.com/realtimenews/20221111001824-260408> (referer: https://www.chinatimes.com/realtimenews)\n",
            "2022-11-11 03:55:48 [scrapy.core.engine] DEBUG: Crawled (200) <GET https://www.chinatimes.com/realtimenews/20221111002205-260407> (referer: https://www.chinatimes.com/realtimenews)\n",
            "2022-11-11 03:55:48 [scrapy.core.scraper] DEBUG: Scraped from <200 https://www.chinatimes.com/realtimenews/20221111002182-260410>\n",
            "{'url': 'https://www.chinatimes.com/realtimenews/20221111002182-260410'}\n",
            "2022-11-11 03:55:48 [scrapy.core.engine] DEBUG: Crawled (200) <GET https://www.chinatimes.com/realtimenews/20221111002233-260410> (referer: https://www.chinatimes.com/realtimenews)\n",
            "2022-11-11 03:55:48 [scrapy.core.scraper] DEBUG: Scraped from <200 https://www.chinatimes.com/realtimenews/20221111002196-260407>\n",
            "{'url': 'https://www.chinatimes.com/realtimenews/20221111002196-260407'}\n",
            "2022-11-11 03:55:48 [scrapy.core.engine] DEBUG: Crawled (200) <GET https://www.chinatimes.com/realtimenews/20221111002236-260421> (referer: https://www.chinatimes.com/realtimenews)\n",
            "2022-11-11 03:55:48 [scrapy.core.scraper] DEBUG: Scraped from <200 https://www.chinatimes.com/realtimenews/20221111002127-260417>\n",
            "{'url': 'https://www.chinatimes.com/realtimenews/20221111002127-260417'}\n",
            "2022-11-11 03:55:48 [scrapy.core.scraper] DEBUG: Scraped from <200 https://www.chinatimes.com/realtimenews/20221111002210-260407>\n",
            "{'url': 'https://www.chinatimes.com/realtimenews/20221111002210-260407'}\n",
            "2022-11-11 03:55:48 [scrapy.core.scraper] DEBUG: Scraped from <200 https://www.chinatimes.com/realtimenews/20221111002228-260410>\n",
            "{'url': 'https://www.chinatimes.com/realtimenews/20221111002228-260410'}\n",
            "2022-11-11 03:55:48 [scrapy.core.scraper] DEBUG: Scraped from <200 https://www.chinatimes.com/realtimenews/20221111001824-260408>\n",
            "{'url': 'https://www.chinatimes.com/realtimenews/20221111001824-260408'}\n",
            "2022-11-11 03:55:48 [scrapy.core.scraper] DEBUG: Scraped from <200 https://www.chinatimes.com/realtimenews/20221111002205-260407>\n",
            "{'url': 'https://www.chinatimes.com/realtimenews/20221111002205-260407'}\n",
            "2022-11-11 03:55:48 [scrapy.core.engine] DEBUG: Crawled (200) <GET https://www.chinatimes.com/realtimenews/20221111002194-260410> (referer: https://www.chinatimes.com/realtimenews)\n",
            "2022-11-11 03:55:48 [scrapy.core.engine] DEBUG: Crawled (200) <GET https://www.chinatimes.com/realtimenews/20221111002234-260410> (referer: https://www.chinatimes.com/realtimenews)\n",
            "2022-11-11 03:55:48 [scrapy.core.scraper] DEBUG: Scraped from <200 https://www.chinatimes.com/realtimenews/20221111002233-260410>\n",
            "{'url': 'https://www.chinatimes.com/realtimenews/20221111002233-260410'}\n",
            "2022-11-11 03:55:48 [scrapy.core.scraper] DEBUG: Scraped from <200 https://www.chinatimes.com/realtimenews/20221111002236-260421>\n",
            "{'url': 'https://www.chinatimes.com/realtimenews/20221111002236-260421'}\n",
            "2022-11-11 03:55:48 [scrapy.core.engine] DEBUG: Crawled (200) <GET https://www.chinatimes.com/realtimenews/20221111001826-260408> (referer: https://www.chinatimes.com/realtimenews)\n",
            "2022-11-11 03:55:48 [scrapy.core.engine] DEBUG: Crawled (200) <GET https://www.chinatimes.com/realtimenews/20221111001987-260408> (referer: https://www.chinatimes.com/realtimenews)\n",
            "2022-11-11 03:55:48 [scrapy.core.engine] DEBUG: Crawled (200) <GET https://www.chinatimes.com/realtimenews/20221111001948-260404> (referer: https://www.chinatimes.com/realtimenews)\n",
            "2022-11-11 03:55:48 [scrapy.core.engine] DEBUG: Crawled (200) <GET https://www.chinatimes.com/realtimenews/20221111002230-260407> (referer: https://www.chinatimes.com/realtimenews)\n",
            "2022-11-11 03:55:48 [scrapy.core.engine] DEBUG: Crawled (200) <GET https://www.chinatimes.com/realtimenews/20221111001622-260408> (referer: https://www.chinatimes.com/realtimenews)\n",
            "2022-11-11 03:55:48 [scrapy.core.scraper] DEBUG: Scraped from <200 https://www.chinatimes.com/realtimenews/20221111002194-260410>\n",
            "{'url': 'https://www.chinatimes.com/realtimenews/20221111002194-260410'}\n",
            "2022-11-11 03:55:48 [scrapy.core.scraper] DEBUG: Scraped from <200 https://www.chinatimes.com/realtimenews/20221111002234-260410>\n",
            "{'url': 'https://www.chinatimes.com/realtimenews/20221111002234-260410'}\n",
            "2022-11-11 03:55:48 [scrapy.core.engine] DEBUG: Crawled (200) <GET https://www.chinatimes.com/realtimenews/20221111002192-260410> (referer: https://www.chinatimes.com/realtimenews)\n",
            "2022-11-11 03:55:48 [scrapy.core.scraper] DEBUG: Scraped from <200 https://www.chinatimes.com/realtimenews/20221111001826-260408>\n",
            "{'url': 'https://www.chinatimes.com/realtimenews/20221111001826-260408'}\n",
            "2022-11-11 03:55:48 [scrapy.core.scraper] DEBUG: Scraped from <200 https://www.chinatimes.com/realtimenews/20221111001987-260408>\n",
            "{'url': 'https://www.chinatimes.com/realtimenews/20221111001987-260408'}\n",
            "2022-11-11 03:55:48 [scrapy.core.scraper] DEBUG: Scraped from <200 https://www.chinatimes.com/realtimenews/20221111001948-260404>\n",
            "{'url': 'https://www.chinatimes.com/realtimenews/20221111001948-260404'}\n",
            "2022-11-11 03:55:48 [scrapy.core.scraper] DEBUG: Scraped from <200 https://www.chinatimes.com/realtimenews/20221111002230-260407>\n",
            "{'url': 'https://www.chinatimes.com/realtimenews/20221111002230-260407'}\n",
            "2022-11-11 03:55:48 [scrapy.core.engine] DEBUG: Crawled (200) <GET https://www.chinatimes.com/realtimenews/20221111002198-260407> (referer: https://www.chinatimes.com/realtimenews)\n",
            "2022-11-11 03:55:48 [scrapy.core.scraper] DEBUG: Scraped from <200 https://www.chinatimes.com/realtimenews/20221111001622-260408>\n",
            "{'url': 'https://www.chinatimes.com/realtimenews/20221111001622-260408'}\n",
            "2022-11-11 03:55:48 [scrapy.core.scraper] DEBUG: Scraped from <200 https://www.chinatimes.com/realtimenews/20221111002192-260410>\n",
            "{'url': 'https://www.chinatimes.com/realtimenews/20221111002192-260410'}\n",
            "2022-11-11 03:55:48 [scrapy.core.engine] DEBUG: Crawled (200) <GET https://www.chinatimes.com/realtimenews/20221111002245-260407> (referer: https://www.chinatimes.com/realtimenews)\n",
            "2022-11-11 03:55:48 [scrapy.core.scraper] DEBUG: Scraped from <200 https://www.chinatimes.com/realtimenews/20221111002198-260407>\n",
            "{'url': 'https://www.chinatimes.com/realtimenews/20221111002198-260407'}\n",
            "2022-11-11 03:55:48 [scrapy.core.scraper] DEBUG: Scraped from <200 https://www.chinatimes.com/realtimenews/20221111002245-260407>\n",
            "{'url': 'https://www.chinatimes.com/realtimenews/20221111002245-260407'}\n",
            "2022-11-11 03:55:48 [scrapy.core.engine] INFO: Closing spider (finished)\n",
            "2022-11-11 03:55:48 [scrapy.extensions.feedexport] INFO: Stored json feed (20 items) in: quotes.json\n",
            "2022-11-11 03:55:48 [scrapy.statscollectors] INFO: Dumping Scrapy stats:\n",
            "{'downloader/request_bytes': 6498,\n",
            " 'downloader/request_count': 22,\n",
            " 'downloader/request_method_count/GET': 22,\n",
            " 'downloader/response_bytes': 325405,\n",
            " 'downloader/response_count': 22,\n",
            " 'downloader/response_status_count/200': 22,\n",
            " 'elapsed_time_seconds': 1.325581,\n",
            " 'feedexport/success_count/FileFeedStorage': 1,\n",
            " 'finish_reason': 'finished',\n",
            " 'finish_time': datetime.datetime(2022, 11, 11, 3, 55, 48, 601199),\n",
            " 'httpcompression/response_bytes': 1492649,\n",
            " 'httpcompression/response_count': 22,\n",
            " 'item_scraped_count': 20,\n",
            " 'log_count/DEBUG': 45,\n",
            " 'log_count/INFO': 11,\n",
            " 'memusage/max': 92749824,\n",
            " 'memusage/startup': 92749824,\n",
            " 'request_depth_max': 1,\n",
            " 'response_received_count': 22,\n",
            " 'robotstxt/request_count': 1,\n",
            " 'robotstxt/response_count': 1,\n",
            " 'robotstxt/response_status_count/200': 1,\n",
            " 'scheduler/dequeued': 21,\n",
            " 'scheduler/dequeued/memory': 21,\n",
            " 'scheduler/enqueued': 21,\n",
            " 'scheduler/enqueued/memory': 21,\n",
            " 'start_time': datetime.datetime(2022, 11, 11, 3, 55, 47, 275618)}\n",
            "2022-11-11 03:55:48 [scrapy.core.engine] INFO: Spider closed (finished)\n"
          ]
        }
      ],
      "source": [
        "!scrapy runspider quotes_spider.py -o quotes.json"
      ]
    },
    {
      "cell_type": "code",
      "source": [
        "os.chdir('/content/chilean_data_explore/')\n",
        "!pwd | ls -l\n"
      ],
      "metadata": {
        "colab": {
          "base_uri": "https://localhost:8080/"
        },
        "id": "mUarejI_GFGt",
        "outputId": "82db0288-ff5b-4996-9e46-728d277e8708"
      },
      "execution_count": 10,
      "outputs": [
        {
          "output_type": "stream",
          "name": "stdout",
          "text": [
            "total 8\n",
            "drwxr-xr-x 4 root root 4096 Nov 11 03:55 chilean_data_explore\n",
            "-rw-r--r-- 1 root root  283 Nov 11 03:55 scrapy.cfg\n"
          ]
        }
      ]
    },
    {
      "cell_type": "markdown",
      "source": [
        "## Spider for bcentral.cl"
      ],
      "metadata": {
        "id": "w27N3RGwI1F0"
      }
    },
    {
      "cell_type": "code",
      "source": [
        "%%writefile /content/chilean_data_explore/chilean_data_explore/spiders/base.py\n",
        "import scrapy\n",
        "from chilean_data_explore.items import PropertiesItem \n",
        "from scrapy.loader import ItemLoader\n",
        "import datetime\n",
        "import socket\n",
        "\n",
        "class BasicSpider(scrapy.Spider):\n",
        "    name = 'base'\n",
        "    allowed_domains = ['si3.bcentral.cl']\n",
        "    start_urls = ['https://si3.bcentral.cl/siete']\n",
        "\n",
        "    def parse(self, response):\n",
        "      loader_item = ItemLoader(item=PropertiesItem(), response=response)\n",
        "      loader_item.add_xpath('title','//title/text()')\n",
        "      loader_item.add_xpath('price','//*[@itemprop=\"price\"][1]/text()', re='[.0-9]+')\n",
        "      loader_item.add_xpath('description','//*[contains(@href, \"html\")]')\n",
        "      loader_item.add_value('server', socket.gethostname())\n",
        "      loader_item.add_value('date', datetime.datetime.now())\n",
        "      return loader_item.load_item()"
      ],
      "metadata": {
        "colab": {
          "base_uri": "https://localhost:8080/"
        },
        "id": "EXvokRiuHZ93",
        "outputId": "6d17875b-3afb-4bba-ebce-2ce2594e953e"
      },
      "execution_count": 11,
      "outputs": [
        {
          "output_type": "stream",
          "name": "stdout",
          "text": [
            "Writing /content/chilean_data_explore/chilean_data_explore/spiders/base.py\n"
          ]
        }
      ]
    },
    {
      "cell_type": "code",
      "source": [
        "!scrapy crawl base"
      ],
      "metadata": {
        "colab": {
          "base_uri": "https://localhost:8080/"
        },
        "id": "FNcPAxDZJeSE",
        "outputId": "70e19ebe-a388-413a-cee3-c59543d8989b"
      },
      "execution_count": 12,
      "outputs": [
        {
          "output_type": "stream",
          "name": "stdout",
          "text": [
            "2022-11-11 03:55:50 [scrapy.utils.log] INFO: Scrapy 2.7.1 started (bot: chilean_data_explore)\n",
            "2022-11-11 03:55:50 [scrapy.utils.log] INFO: Versions: lxml 4.9.1.0, libxml2 2.9.14, cssselect 1.2.0, parsel 1.7.0, w3lib 2.0.1, Twisted 22.10.0, Python 3.7.15 (default, Oct 12 2022, 19:14:55) - [GCC 7.5.0], pyOpenSSL 22.1.0 (OpenSSL 3.0.7 1 Nov 2022), cryptography 38.0.3, Platform Linux-5.10.133+-x86_64-with-Ubuntu-18.04-bionic\n",
            "2022-11-11 03:55:50 [scrapy.crawler] INFO: Overridden settings:\n",
            "{'BOT_NAME': 'chilean_data_explore',\n",
            " 'NEWSPIDER_MODULE': 'chilean_data_explore.spiders',\n",
            " 'REQUEST_FINGERPRINTER_IMPLEMENTATION': '2.7',\n",
            " 'ROBOTSTXT_OBEY': True,\n",
            " 'SPIDER_MODULES': ['chilean_data_explore.spiders'],\n",
            " 'TWISTED_REACTOR': 'twisted.internet.asyncioreactor.AsyncioSelectorReactor'}\n",
            "2022-11-11 03:55:50 [asyncio] DEBUG: Using selector: EpollSelector\n",
            "2022-11-11 03:55:50 [scrapy.utils.log] DEBUG: Using reactor: twisted.internet.asyncioreactor.AsyncioSelectorReactor\n",
            "2022-11-11 03:55:50 [scrapy.utils.log] DEBUG: Using asyncio event loop: asyncio.unix_events._UnixSelectorEventLoop\n",
            "2022-11-11 03:55:50 [scrapy.extensions.telnet] INFO: Telnet Password: f83b552d588fe0c0\n",
            "2022-11-11 03:55:50 [scrapy.middleware] INFO: Enabled extensions:\n",
            "['scrapy.extensions.corestats.CoreStats',\n",
            " 'scrapy.extensions.telnet.TelnetConsole',\n",
            " 'scrapy.extensions.memusage.MemoryUsage',\n",
            " 'scrapy.extensions.logstats.LogStats']\n",
            "2022-11-11 03:55:50 [scrapy.middleware] INFO: Enabled downloader middlewares:\n",
            "['scrapy.downloadermiddlewares.robotstxt.RobotsTxtMiddleware',\n",
            " 'scrapy.downloadermiddlewares.httpauth.HttpAuthMiddleware',\n",
            " 'scrapy.downloadermiddlewares.downloadtimeout.DownloadTimeoutMiddleware',\n",
            " 'scrapy.downloadermiddlewares.defaultheaders.DefaultHeadersMiddleware',\n",
            " 'scrapy.downloadermiddlewares.useragent.UserAgentMiddleware',\n",
            " 'scrapy.downloadermiddlewares.retry.RetryMiddleware',\n",
            " 'scrapy.downloadermiddlewares.redirect.MetaRefreshMiddleware',\n",
            " 'scrapy.downloadermiddlewares.httpcompression.HttpCompressionMiddleware',\n",
            " 'scrapy.downloadermiddlewares.redirect.RedirectMiddleware',\n",
            " 'scrapy.downloadermiddlewares.cookies.CookiesMiddleware',\n",
            " 'scrapy.downloadermiddlewares.httpproxy.HttpProxyMiddleware',\n",
            " 'scrapy.downloadermiddlewares.stats.DownloaderStats']\n",
            "2022-11-11 03:55:50 [scrapy.middleware] INFO: Enabled spider middlewares:\n",
            "['scrapy.spidermiddlewares.httperror.HttpErrorMiddleware',\n",
            " 'scrapy.spidermiddlewares.offsite.OffsiteMiddleware',\n",
            " 'scrapy.spidermiddlewares.referer.RefererMiddleware',\n",
            " 'scrapy.spidermiddlewares.urllength.UrlLengthMiddleware',\n",
            " 'scrapy.spidermiddlewares.depth.DepthMiddleware']\n",
            "2022-11-11 03:55:50 [scrapy.middleware] INFO: Enabled item pipelines:\n",
            "[]\n",
            "2022-11-11 03:55:50 [scrapy.core.engine] INFO: Spider opened\n",
            "2022-11-11 03:55:50 [scrapy.extensions.logstats] INFO: Crawled 0 pages (at 0 pages/min), scraped 0 items (at 0 items/min)\n",
            "2022-11-11 03:55:50 [scrapy.extensions.telnet] INFO: Telnet console listening on 127.0.0.1:6023\n",
            "2022-11-11 03:55:51 [scrapy.downloadermiddlewares.redirect] DEBUG: Redirecting (302) to <GET https://si3.bcentral.cl/ErrorPage.html> from <GET https://si3.bcentral.cl/robots.txt>\n",
            "2022-11-11 03:55:51 [scrapy.core.engine] DEBUG: Crawled (200) <GET https://si3.bcentral.cl/ErrorPage.html> (referer: None)\n",
            "2022-11-11 03:55:51 [protego] DEBUG: Rule at line 8 without any user agent to enforce it on.\n",
            "2022-11-11 03:55:51 [protego] DEBUG: Rule at line 20 without any user agent to enforce it on.\n",
            "2022-11-11 03:55:51 [protego] DEBUG: Rule at line 21 without any user agent to enforce it on.\n",
            "2022-11-11 03:55:51 [protego] DEBUG: Rule at line 25 without any user agent to enforce it on.\n",
            "2022-11-11 03:55:51 [protego] DEBUG: Rule at line 28 without any user agent to enforce it on.\n",
            "2022-11-11 03:55:51 [protego] DEBUG: Rule at line 39 without any user agent to enforce it on.\n",
            "2022-11-11 03:55:51 [protego] DEBUG: Rule at line 55 without any user agent to enforce it on.\n",
            "2022-11-11 03:55:51 [protego] DEBUG: Rule at line 84 without any user agent to enforce it on.\n",
            "2022-11-11 03:55:51 [protego] DEBUG: Rule at line 90 without any user agent to enforce it on.\n",
            "2022-11-11 03:55:51 [protego] DEBUG: Rule at line 91 without any user agent to enforce it on.\n",
            "2022-11-11 03:55:51 [protego] DEBUG: Rule at line 95 without any user agent to enforce it on.\n",
            "2022-11-11 03:55:51 [protego] DEBUG: Rule at line 96 without any user agent to enforce it on.\n",
            "2022-11-11 03:55:52 [filelock] DEBUG: Attempting to acquire lock 139781059884176 on /root/.cache/python-tldextract/3.7.15.final__usr__7d8fdf__tldextract-3.4.0/publicsuffix.org-tlds/de84b5ca2167d4c83e38fb162f2e8738.tldextract.json.lock\n",
            "2022-11-11 03:55:52 [filelock] DEBUG: Lock 139781059884176 acquired on /root/.cache/python-tldextract/3.7.15.final__usr__7d8fdf__tldextract-3.4.0/publicsuffix.org-tlds/de84b5ca2167d4c83e38fb162f2e8738.tldextract.json.lock\n",
            "2022-11-11 03:55:52 [filelock] DEBUG: Attempting to acquire lock 139781059900304 on /root/.cache/python-tldextract/3.7.15.final__usr__7d8fdf__tldextract-3.4.0/urls/62bf135d1c2f3d4db4228b9ecaf507a2.tldextract.json.lock\n",
            "2022-11-11 03:55:52 [filelock] DEBUG: Lock 139781059900304 acquired on /root/.cache/python-tldextract/3.7.15.final__usr__7d8fdf__tldextract-3.4.0/urls/62bf135d1c2f3d4db4228b9ecaf507a2.tldextract.json.lock\n",
            "2022-11-11 03:55:52 [urllib3.connectionpool] DEBUG: Starting new HTTPS connection (1): publicsuffix.org:443\n",
            "2022-11-11 03:55:53 [urllib3.connectionpool] DEBUG: https://publicsuffix.org:443 \"GET /list/public_suffix_list.dat HTTP/1.1\" 200 None\n",
            "2022-11-11 03:55:53 [filelock] DEBUG: Attempting to release lock 139781059900304 on /root/.cache/python-tldextract/3.7.15.final__usr__7d8fdf__tldextract-3.4.0/urls/62bf135d1c2f3d4db4228b9ecaf507a2.tldextract.json.lock\n",
            "2022-11-11 03:55:53 [filelock] DEBUG: Lock 139781059900304 released on /root/.cache/python-tldextract/3.7.15.final__usr__7d8fdf__tldextract-3.4.0/urls/62bf135d1c2f3d4db4228b9ecaf507a2.tldextract.json.lock\n",
            "2022-11-11 03:55:53 [filelock] DEBUG: Attempting to release lock 139781059884176 on /root/.cache/python-tldextract/3.7.15.final__usr__7d8fdf__tldextract-3.4.0/publicsuffix.org-tlds/de84b5ca2167d4c83e38fb162f2e8738.tldextract.json.lock\n",
            "2022-11-11 03:55:53 [filelock] DEBUG: Lock 139781059884176 released on /root/.cache/python-tldextract/3.7.15.final__usr__7d8fdf__tldextract-3.4.0/publicsuffix.org-tlds/de84b5ca2167d4c83e38fb162f2e8738.tldextract.json.lock\n",
            "2022-11-11 03:55:53 [scrapy.core.engine] DEBUG: Crawled (200) <GET https://si3.bcentral.cl/siete> (referer: None)\n",
            "2022-11-11 03:55:53 [scrapy.core.scraper] DEBUG: Scraped from <200 https://si3.bcentral.cl/siete>\n",
            "{'date': [datetime.datetime(2022, 11, 11, 3, 55, 53, 234932)],\n",
            " 'description': ['<a target=\"_blank\" '\n",
            "                 'href=\"https://si3.bcentral.cl/estadisticas/Principal1/enlaces/aplicaciones/index.html\">Glosario</a>',\n",
            "                 '<a target=\"_blank\" '\n",
            "                 'href=\"https://si3.bcentral.cl/estadisticas/Principal1/enlaces/aplicaciones/index_faq.html\">Preguntas '\n",
            "                 'Frecuentes</a>',\n",
            "                 '<a class=\"nav-link\" target=\"_blank\" '\n",
            "                 'href=\"https://si3.bcentral.cl/estadisticas/Principal1/enlaces/aplicaciones/Metodolog_BDE.html\">Metodologías</a>',\n",
            "                 '<a class=\"nav-link\" '\n",
            "                 'href=\"https://si3.bcentral.cl/estadisticas/Principal1/enlaces/aplicaciones/BDE_movil.html\">BDE '\n",
            "                 'Móvil</a>'],\n",
            " 'server': ['920d66a16ffb'],\n",
            " 'title': ['Base de Datos Estadísticos ']}\n",
            "2022-11-11 03:55:53 [scrapy.core.engine] INFO: Closing spider (finished)\n",
            "2022-11-11 03:55:53 [scrapy.statscollectors] INFO: Dumping Scrapy stats:\n",
            "{'downloader/request_bytes': 674,\n",
            " 'downloader/request_count': 3,\n",
            " 'downloader/request_method_count/GET': 3,\n",
            " 'downloader/response_bytes': 38967,\n",
            " 'downloader/response_count': 3,\n",
            " 'downloader/response_status_count/200': 2,\n",
            " 'downloader/response_status_count/302': 1,\n",
            " 'elapsed_time_seconds': 2.811103,\n",
            " 'finish_reason': 'finished',\n",
            " 'finish_time': datetime.datetime(2022, 11, 11, 3, 55, 53, 264270),\n",
            " 'item_scraped_count': 1,\n",
            " 'log_count/DEBUG': 29,\n",
            " 'log_count/INFO': 10,\n",
            " 'memusage/max': 92962816,\n",
            " 'memusage/startup': 92962816,\n",
            " 'response_received_count': 2,\n",
            " 'robotstxt/request_count': 1,\n",
            " 'robotstxt/response_count': 1,\n",
            " 'robotstxt/response_status_count/200': 1,\n",
            " 'scheduler/dequeued': 1,\n",
            " 'scheduler/dequeued/memory': 1,\n",
            " 'scheduler/enqueued': 1,\n",
            " 'scheduler/enqueued/memory': 1,\n",
            " 'start_time': datetime.datetime(2022, 11, 11, 3, 55, 50, 453167)}\n",
            "2022-11-11 03:55:53 [scrapy.core.engine] INFO: Spider closed (finished)\n"
          ]
        }
      ]
    },
    {
      "cell_type": "code",
      "source": [
        "!scrapy crawl base -o items.csv"
      ],
      "metadata": {
        "colab": {
          "base_uri": "https://localhost:8080/"
        },
        "id": "npKp6C2eADMv",
        "outputId": "47b97f61-9699-4a4d-f364-1c87af19ed9a"
      },
      "execution_count": 13,
      "outputs": [
        {
          "output_type": "stream",
          "name": "stdout",
          "text": [
            "2022-11-11 03:55:55 [scrapy.utils.log] INFO: Scrapy 2.7.1 started (bot: chilean_data_explore)\n",
            "2022-11-11 03:55:55 [scrapy.utils.log] INFO: Versions: lxml 4.9.1.0, libxml2 2.9.14, cssselect 1.2.0, parsel 1.7.0, w3lib 2.0.1, Twisted 22.10.0, Python 3.7.15 (default, Oct 12 2022, 19:14:55) - [GCC 7.5.0], pyOpenSSL 22.1.0 (OpenSSL 3.0.7 1 Nov 2022), cryptography 38.0.3, Platform Linux-5.10.133+-x86_64-with-Ubuntu-18.04-bionic\n",
            "2022-11-11 03:55:55 [scrapy.crawler] INFO: Overridden settings:\n",
            "{'BOT_NAME': 'chilean_data_explore',\n",
            " 'NEWSPIDER_MODULE': 'chilean_data_explore.spiders',\n",
            " 'REQUEST_FINGERPRINTER_IMPLEMENTATION': '2.7',\n",
            " 'ROBOTSTXT_OBEY': True,\n",
            " 'SPIDER_MODULES': ['chilean_data_explore.spiders'],\n",
            " 'TWISTED_REACTOR': 'twisted.internet.asyncioreactor.AsyncioSelectorReactor'}\n",
            "2022-11-11 03:55:55 [asyncio] DEBUG: Using selector: EpollSelector\n",
            "2022-11-11 03:55:55 [scrapy.utils.log] DEBUG: Using reactor: twisted.internet.asyncioreactor.AsyncioSelectorReactor\n",
            "2022-11-11 03:55:55 [scrapy.utils.log] DEBUG: Using asyncio event loop: asyncio.unix_events._UnixSelectorEventLoop\n",
            "2022-11-11 03:55:55 [scrapy.extensions.telnet] INFO: Telnet Password: eb74c444511ccfcb\n",
            "2022-11-11 03:55:55 [scrapy.middleware] INFO: Enabled extensions:\n",
            "['scrapy.extensions.corestats.CoreStats',\n",
            " 'scrapy.extensions.telnet.TelnetConsole',\n",
            " 'scrapy.extensions.memusage.MemoryUsage',\n",
            " 'scrapy.extensions.feedexport.FeedExporter',\n",
            " 'scrapy.extensions.logstats.LogStats']\n",
            "2022-11-11 03:55:55 [scrapy.middleware] INFO: Enabled downloader middlewares:\n",
            "['scrapy.downloadermiddlewares.robotstxt.RobotsTxtMiddleware',\n",
            " 'scrapy.downloadermiddlewares.httpauth.HttpAuthMiddleware',\n",
            " 'scrapy.downloadermiddlewares.downloadtimeout.DownloadTimeoutMiddleware',\n",
            " 'scrapy.downloadermiddlewares.defaultheaders.DefaultHeadersMiddleware',\n",
            " 'scrapy.downloadermiddlewares.useragent.UserAgentMiddleware',\n",
            " 'scrapy.downloadermiddlewares.retry.RetryMiddleware',\n",
            " 'scrapy.downloadermiddlewares.redirect.MetaRefreshMiddleware',\n",
            " 'scrapy.downloadermiddlewares.httpcompression.HttpCompressionMiddleware',\n",
            " 'scrapy.downloadermiddlewares.redirect.RedirectMiddleware',\n",
            " 'scrapy.downloadermiddlewares.cookies.CookiesMiddleware',\n",
            " 'scrapy.downloadermiddlewares.httpproxy.HttpProxyMiddleware',\n",
            " 'scrapy.downloadermiddlewares.stats.DownloaderStats']\n",
            "2022-11-11 03:55:55 [scrapy.middleware] INFO: Enabled spider middlewares:\n",
            "['scrapy.spidermiddlewares.httperror.HttpErrorMiddleware',\n",
            " 'scrapy.spidermiddlewares.offsite.OffsiteMiddleware',\n",
            " 'scrapy.spidermiddlewares.referer.RefererMiddleware',\n",
            " 'scrapy.spidermiddlewares.urllength.UrlLengthMiddleware',\n",
            " 'scrapy.spidermiddlewares.depth.DepthMiddleware']\n",
            "2022-11-11 03:55:55 [scrapy.middleware] INFO: Enabled item pipelines:\n",
            "[]\n",
            "2022-11-11 03:55:55 [scrapy.core.engine] INFO: Spider opened\n",
            "2022-11-11 03:55:55 [scrapy.extensions.logstats] INFO: Crawled 0 pages (at 0 pages/min), scraped 0 items (at 0 items/min)\n",
            "2022-11-11 03:55:55 [scrapy.extensions.telnet] INFO: Telnet console listening on 127.0.0.1:6023\n",
            "2022-11-11 03:55:57 [scrapy.downloadermiddlewares.redirect] DEBUG: Redirecting (302) to <GET https://si3.bcentral.cl/ErrorPage.html> from <GET https://si3.bcentral.cl/robots.txt>\n",
            "2022-11-11 03:55:57 [scrapy.core.engine] DEBUG: Crawled (200) <GET https://si3.bcentral.cl/ErrorPage.html> (referer: None)\n",
            "2022-11-11 03:55:57 [protego] DEBUG: Rule at line 8 without any user agent to enforce it on.\n",
            "2022-11-11 03:55:57 [protego] DEBUG: Rule at line 20 without any user agent to enforce it on.\n",
            "2022-11-11 03:55:57 [protego] DEBUG: Rule at line 21 without any user agent to enforce it on.\n",
            "2022-11-11 03:55:57 [protego] DEBUG: Rule at line 25 without any user agent to enforce it on.\n",
            "2022-11-11 03:55:57 [protego] DEBUG: Rule at line 28 without any user agent to enforce it on.\n",
            "2022-11-11 03:55:57 [protego] DEBUG: Rule at line 39 without any user agent to enforce it on.\n",
            "2022-11-11 03:55:57 [protego] DEBUG: Rule at line 55 without any user agent to enforce it on.\n",
            "2022-11-11 03:55:57 [protego] DEBUG: Rule at line 84 without any user agent to enforce it on.\n",
            "2022-11-11 03:55:57 [protego] DEBUG: Rule at line 90 without any user agent to enforce it on.\n",
            "2022-11-11 03:55:57 [protego] DEBUG: Rule at line 91 without any user agent to enforce it on.\n",
            "2022-11-11 03:55:57 [protego] DEBUG: Rule at line 95 without any user agent to enforce it on.\n",
            "2022-11-11 03:55:57 [protego] DEBUG: Rule at line 96 without any user agent to enforce it on.\n",
            "2022-11-11 03:55:59 [filelock] DEBUG: Attempting to acquire lock 140286708136144 on /root/.cache/python-tldextract/3.7.15.final__usr__7d8fdf__tldextract-3.4.0/publicsuffix.org-tlds/de84b5ca2167d4c83e38fb162f2e8738.tldextract.json.lock\n",
            "2022-11-11 03:55:59 [filelock] DEBUG: Lock 140286708136144 acquired on /root/.cache/python-tldextract/3.7.15.final__usr__7d8fdf__tldextract-3.4.0/publicsuffix.org-tlds/de84b5ca2167d4c83e38fb162f2e8738.tldextract.json.lock\n",
            "2022-11-11 03:55:59 [filelock] DEBUG: Attempting to release lock 140286708136144 on /root/.cache/python-tldextract/3.7.15.final__usr__7d8fdf__tldextract-3.4.0/publicsuffix.org-tlds/de84b5ca2167d4c83e38fb162f2e8738.tldextract.json.lock\n",
            "2022-11-11 03:55:59 [filelock] DEBUG: Lock 140286708136144 released on /root/.cache/python-tldextract/3.7.15.final__usr__7d8fdf__tldextract-3.4.0/publicsuffix.org-tlds/de84b5ca2167d4c83e38fb162f2e8738.tldextract.json.lock\n",
            "2022-11-11 03:55:59 [scrapy.core.engine] DEBUG: Crawled (200) <GET https://si3.bcentral.cl/siete> (referer: None)\n",
            "2022-11-11 03:55:59 [scrapy.core.scraper] DEBUG: Scraped from <200 https://si3.bcentral.cl/siete>\n",
            "{'date': [datetime.datetime(2022, 11, 11, 3, 55, 59, 200917)],\n",
            " 'description': ['<a target=\"_blank\" '\n",
            "                 'href=\"https://si3.bcentral.cl/estadisticas/Principal1/enlaces/aplicaciones/index.html\">Glosario</a>',\n",
            "                 '<a target=\"_blank\" '\n",
            "                 'href=\"https://si3.bcentral.cl/estadisticas/Principal1/enlaces/aplicaciones/index_faq.html\">Preguntas '\n",
            "                 'Frecuentes</a>',\n",
            "                 '<a class=\"nav-link\" target=\"_blank\" '\n",
            "                 'href=\"https://si3.bcentral.cl/estadisticas/Principal1/enlaces/aplicaciones/Metodolog_BDE.html\">Metodologías</a>',\n",
            "                 '<a class=\"nav-link\" '\n",
            "                 'href=\"https://si3.bcentral.cl/estadisticas/Principal1/enlaces/aplicaciones/BDE_movil.html\">BDE '\n",
            "                 'Móvil</a>'],\n",
            " 'server': ['920d66a16ffb'],\n",
            " 'title': ['Base de Datos Estadísticos ']}\n",
            "2022-11-11 03:55:59 [scrapy.core.engine] INFO: Closing spider (finished)\n",
            "2022-11-11 03:55:59 [scrapy.extensions.feedexport] INFO: Stored csv feed (1 items) in: items.csv\n",
            "2022-11-11 03:55:59 [scrapy.statscollectors] INFO: Dumping Scrapy stats:\n",
            "{'downloader/request_bytes': 674,\n",
            " 'downloader/request_count': 3,\n",
            " 'downloader/request_method_count/GET': 3,\n",
            " 'downloader/response_bytes': 38967,\n",
            " 'downloader/response_count': 3,\n",
            " 'downloader/response_status_count/200': 2,\n",
            " 'downloader/response_status_count/302': 1,\n",
            " 'elapsed_time_seconds': 3.63768,\n",
            " 'feedexport/success_count/FileFeedStorage': 1,\n",
            " 'finish_reason': 'finished',\n",
            " 'finish_time': datetime.datetime(2022, 11, 11, 3, 55, 59, 208400),\n",
            " 'item_scraped_count': 1,\n",
            " 'log_count/DEBUG': 23,\n",
            " 'log_count/INFO': 11,\n",
            " 'memusage/max': 93138944,\n",
            " 'memusage/startup': 93138944,\n",
            " 'response_received_count': 2,\n",
            " 'robotstxt/request_count': 1,\n",
            " 'robotstxt/response_count': 1,\n",
            " 'robotstxt/response_status_count/200': 1,\n",
            " 'scheduler/dequeued': 1,\n",
            " 'scheduler/dequeued/memory': 1,\n",
            " 'scheduler/enqueued': 1,\n",
            " 'scheduler/enqueued/memory': 1,\n",
            " 'start_time': datetime.datetime(2022, 11, 11, 3, 55, 55, 570720)}\n",
            "2022-11-11 03:55:59 [scrapy.core.engine] INFO: Spider closed (finished)\n"
          ]
        }
      ]
    },
    {
      "cell_type": "code",
      "source": [
        "!scrapy parse --spider=base https://si3.bcentral.cl/siete"
      ],
      "metadata": {
        "id": "iQI8QVlgDB0Y",
        "colab": {
          "base_uri": "https://localhost:8080/"
        },
        "outputId": "fe94cd99-4392-4af7-ca0d-0920b5623f91"
      },
      "execution_count": 14,
      "outputs": [
        {
          "output_type": "stream",
          "name": "stdout",
          "text": [
            "2022-11-11 03:56:01 [scrapy.utils.log] INFO: Scrapy 2.7.1 started (bot: chilean_data_explore)\n",
            "2022-11-11 03:56:01 [scrapy.utils.log] INFO: Versions: lxml 4.9.1.0, libxml2 2.9.14, cssselect 1.2.0, parsel 1.7.0, w3lib 2.0.1, Twisted 22.10.0, Python 3.7.15 (default, Oct 12 2022, 19:14:55) - [GCC 7.5.0], pyOpenSSL 22.1.0 (OpenSSL 3.0.7 1 Nov 2022), cryptography 38.0.3, Platform Linux-5.10.133+-x86_64-with-Ubuntu-18.04-bionic\n",
            "2022-11-11 03:56:01 [scrapy.crawler] INFO: Overridden settings:\n",
            "{'BOT_NAME': 'chilean_data_explore',\n",
            " 'NEWSPIDER_MODULE': 'chilean_data_explore.spiders',\n",
            " 'REQUEST_FINGERPRINTER_IMPLEMENTATION': '2.7',\n",
            " 'ROBOTSTXT_OBEY': True,\n",
            " 'SPIDER_MODULES': ['chilean_data_explore.spiders'],\n",
            " 'TWISTED_REACTOR': 'twisted.internet.asyncioreactor.AsyncioSelectorReactor'}\n",
            "2022-11-11 03:56:01 [asyncio] DEBUG: Using selector: EpollSelector\n",
            "2022-11-11 03:56:01 [scrapy.utils.log] DEBUG: Using reactor: twisted.internet.asyncioreactor.AsyncioSelectorReactor\n",
            "2022-11-11 03:56:01 [scrapy.utils.log] DEBUG: Using asyncio event loop: asyncio.unix_events._UnixSelectorEventLoop\n",
            "2022-11-11 03:56:01 [scrapy.extensions.telnet] INFO: Telnet Password: 123d5929a7cd2e79\n",
            "2022-11-11 03:56:01 [scrapy.middleware] INFO: Enabled extensions:\n",
            "['scrapy.extensions.corestats.CoreStats',\n",
            " 'scrapy.extensions.telnet.TelnetConsole',\n",
            " 'scrapy.extensions.memusage.MemoryUsage',\n",
            " 'scrapy.extensions.logstats.LogStats']\n",
            "2022-11-11 03:56:01 [scrapy.middleware] INFO: Enabled downloader middlewares:\n",
            "['scrapy.downloadermiddlewares.robotstxt.RobotsTxtMiddleware',\n",
            " 'scrapy.downloadermiddlewares.httpauth.HttpAuthMiddleware',\n",
            " 'scrapy.downloadermiddlewares.downloadtimeout.DownloadTimeoutMiddleware',\n",
            " 'scrapy.downloadermiddlewares.defaultheaders.DefaultHeadersMiddleware',\n",
            " 'scrapy.downloadermiddlewares.useragent.UserAgentMiddleware',\n",
            " 'scrapy.downloadermiddlewares.retry.RetryMiddleware',\n",
            " 'scrapy.downloadermiddlewares.redirect.MetaRefreshMiddleware',\n",
            " 'scrapy.downloadermiddlewares.httpcompression.HttpCompressionMiddleware',\n",
            " 'scrapy.downloadermiddlewares.redirect.RedirectMiddleware',\n",
            " 'scrapy.downloadermiddlewares.cookies.CookiesMiddleware',\n",
            " 'scrapy.downloadermiddlewares.httpproxy.HttpProxyMiddleware',\n",
            " 'scrapy.downloadermiddlewares.stats.DownloaderStats']\n",
            "2022-11-11 03:56:01 [scrapy.middleware] INFO: Enabled spider middlewares:\n",
            "['scrapy.spidermiddlewares.httperror.HttpErrorMiddleware',\n",
            " 'scrapy.spidermiddlewares.offsite.OffsiteMiddleware',\n",
            " 'scrapy.spidermiddlewares.referer.RefererMiddleware',\n",
            " 'scrapy.spidermiddlewares.urllength.UrlLengthMiddleware',\n",
            " 'scrapy.spidermiddlewares.depth.DepthMiddleware']\n",
            "2022-11-11 03:56:01 [scrapy.middleware] INFO: Enabled item pipelines:\n",
            "[]\n",
            "2022-11-11 03:56:01 [scrapy.core.engine] INFO: Spider opened\n",
            "2022-11-11 03:56:01 [scrapy.extensions.logstats] INFO: Crawled 0 pages (at 0 pages/min), scraped 0 items (at 0 items/min)\n",
            "2022-11-11 03:56:01 [scrapy.extensions.telnet] INFO: Telnet console listening on 127.0.0.1:6023\n",
            "2022-11-11 03:56:03 [scrapy.downloadermiddlewares.redirect] DEBUG: Redirecting (302) to <GET https://si3.bcentral.cl/ErrorPage.html> from <GET https://si3.bcentral.cl/robots.txt>\n",
            "2022-11-11 03:56:03 [scrapy.core.engine] DEBUG: Crawled (200) <GET https://si3.bcentral.cl/ErrorPage.html> (referer: None)\n",
            "2022-11-11 03:56:03 [protego] DEBUG: Rule at line 8 without any user agent to enforce it on.\n",
            "2022-11-11 03:56:03 [protego] DEBUG: Rule at line 20 without any user agent to enforce it on.\n",
            "2022-11-11 03:56:03 [protego] DEBUG: Rule at line 21 without any user agent to enforce it on.\n",
            "2022-11-11 03:56:03 [protego] DEBUG: Rule at line 25 without any user agent to enforce it on.\n",
            "2022-11-11 03:56:03 [protego] DEBUG: Rule at line 28 without any user agent to enforce it on.\n",
            "2022-11-11 03:56:03 [protego] DEBUG: Rule at line 39 without any user agent to enforce it on.\n",
            "2022-11-11 03:56:03 [protego] DEBUG: Rule at line 55 without any user agent to enforce it on.\n",
            "2022-11-11 03:56:03 [protego] DEBUG: Rule at line 84 without any user agent to enforce it on.\n",
            "2022-11-11 03:56:03 [protego] DEBUG: Rule at line 90 without any user agent to enforce it on.\n",
            "2022-11-11 03:56:03 [protego] DEBUG: Rule at line 91 without any user agent to enforce it on.\n",
            "2022-11-11 03:56:03 [protego] DEBUG: Rule at line 95 without any user agent to enforce it on.\n",
            "2022-11-11 03:56:03 [protego] DEBUG: Rule at line 96 without any user agent to enforce it on.\n",
            "2022-11-11 03:56:04 [filelock] DEBUG: Attempting to acquire lock 139916362990160 on /root/.cache/python-tldextract/3.7.15.final__usr__7d8fdf__tldextract-3.4.0/publicsuffix.org-tlds/de84b5ca2167d4c83e38fb162f2e8738.tldextract.json.lock\n",
            "2022-11-11 03:56:04 [filelock] DEBUG: Lock 139916362990160 acquired on /root/.cache/python-tldextract/3.7.15.final__usr__7d8fdf__tldextract-3.4.0/publicsuffix.org-tlds/de84b5ca2167d4c83e38fb162f2e8738.tldextract.json.lock\n",
            "2022-11-11 03:56:04 [filelock] DEBUG: Attempting to release lock 139916362990160 on /root/.cache/python-tldextract/3.7.15.final__usr__7d8fdf__tldextract-3.4.0/publicsuffix.org-tlds/de84b5ca2167d4c83e38fb162f2e8738.tldextract.json.lock\n",
            "2022-11-11 03:56:04 [filelock] DEBUG: Lock 139916362990160 released on /root/.cache/python-tldextract/3.7.15.final__usr__7d8fdf__tldextract-3.4.0/publicsuffix.org-tlds/de84b5ca2167d4c83e38fb162f2e8738.tldextract.json.lock\n",
            "2022-11-11 03:56:04 [scrapy.core.engine] DEBUG: Crawled (200) <GET https://si3.bcentral.cl/siete> (referer: None)\n",
            "2022-11-11 03:56:05 [scrapy.core.engine] INFO: Closing spider (finished)\n",
            "2022-11-11 03:56:05 [scrapy.statscollectors] INFO: Dumping Scrapy stats:\n",
            "{'downloader/request_bytes': 674,\n",
            " 'downloader/request_count': 3,\n",
            " 'downloader/request_method_count/GET': 3,\n",
            " 'downloader/response_bytes': 38967,\n",
            " 'downloader/response_count': 3,\n",
            " 'downloader/response_status_count/200': 2,\n",
            " 'downloader/response_status_count/302': 1,\n",
            " 'elapsed_time_seconds': 3.723595,\n",
            " 'finish_reason': 'finished',\n",
            " 'finish_time': datetime.datetime(2022, 11, 11, 3, 56, 5, 98179),\n",
            " 'log_count/DEBUG': 22,\n",
            " 'log_count/INFO': 10,\n",
            " 'memusage/max': 93196288,\n",
            " 'memusage/startup': 93196288,\n",
            " 'response_received_count': 2,\n",
            " 'robotstxt/request_count': 1,\n",
            " 'robotstxt/response_count': 1,\n",
            " 'robotstxt/response_status_count/200': 1,\n",
            " 'scheduler/dequeued': 1,\n",
            " 'scheduler/dequeued/memory': 1,\n",
            " 'scheduler/enqueued': 1,\n",
            " 'scheduler/enqueued/memory': 1,\n",
            " 'start_time': datetime.datetime(2022, 11, 11, 3, 56, 1, 374584)}\n",
            "2022-11-11 03:56:05 [scrapy.core.engine] INFO: Spider closed (finished)\n",
            "\n",
            ">>> STATUS DEPTH LEVEL 1 <<<\n",
            "# Scraped Items  ------------------------------------------------------------\n",
            "[{\u001b[33m'\u001b[39;49;00m\u001b[33mdate\u001b[39;49;00m\u001b[33m'\u001b[39;49;00m: [datetime.datetime(\u001b[34m2022\u001b[39;49;00m, \u001b[34m11\u001b[39;49;00m, \u001b[34m11\u001b[39;49;00m, \u001b[34m3\u001b[39;49;00m, \u001b[34m56\u001b[39;49;00m, \u001b[34m5\u001b[39;49;00m, \u001b[34m94342\u001b[39;49;00m)],\n",
            "  \u001b[33m'\u001b[39;49;00m\u001b[33mdescription\u001b[39;49;00m\u001b[33m'\u001b[39;49;00m: [\u001b[33m'\u001b[39;49;00m\u001b[33m<a target=\u001b[39;49;00m\u001b[33m\"\u001b[39;49;00m\u001b[33m_blank\u001b[39;49;00m\u001b[33m\"\u001b[39;49;00m\u001b[33m \u001b[39;49;00m\u001b[33m'\u001b[39;49;00m\n",
            "                  \u001b[33m'\u001b[39;49;00m\u001b[33mhref=\u001b[39;49;00m\u001b[33m\"\u001b[39;49;00m\u001b[33mhttps://si3.bcentral.cl/estadisticas/Principal1/enlaces/aplicaciones/index.html\u001b[39;49;00m\u001b[33m\"\u001b[39;49;00m\u001b[33m>Glosario</a>\u001b[39;49;00m\u001b[33m'\u001b[39;49;00m,\n",
            "                  \u001b[33m'\u001b[39;49;00m\u001b[33m<a target=\u001b[39;49;00m\u001b[33m\"\u001b[39;49;00m\u001b[33m_blank\u001b[39;49;00m\u001b[33m\"\u001b[39;49;00m\u001b[33m \u001b[39;49;00m\u001b[33m'\u001b[39;49;00m\n",
            "                  \u001b[33m'\u001b[39;49;00m\u001b[33mhref=\u001b[39;49;00m\u001b[33m\"\u001b[39;49;00m\u001b[33mhttps://si3.bcentral.cl/estadisticas/Principal1/enlaces/aplicaciones/index_faq.html\u001b[39;49;00m\u001b[33m\"\u001b[39;49;00m\u001b[33m>Preguntas \u001b[39;49;00m\u001b[33m'\u001b[39;49;00m\n",
            "                  \u001b[33m'\u001b[39;49;00m\u001b[33mFrecuentes</a>\u001b[39;49;00m\u001b[33m'\u001b[39;49;00m,\n",
            "                  \u001b[33m'\u001b[39;49;00m\u001b[33m<a class=\u001b[39;49;00m\u001b[33m\"\u001b[39;49;00m\u001b[33mnav-link\u001b[39;49;00m\u001b[33m\"\u001b[39;49;00m\u001b[33m target=\u001b[39;49;00m\u001b[33m\"\u001b[39;49;00m\u001b[33m_blank\u001b[39;49;00m\u001b[33m\"\u001b[39;49;00m\u001b[33m \u001b[39;49;00m\u001b[33m'\u001b[39;49;00m\n",
            "                  \u001b[33m'\u001b[39;49;00m\u001b[33mhref=\u001b[39;49;00m\u001b[33m\"\u001b[39;49;00m\u001b[33mhttps://si3.bcentral.cl/estadisticas/Principal1/enlaces/aplicaciones/Metodolog_BDE.html\u001b[39;49;00m\u001b[33m\"\u001b[39;49;00m\u001b[33m>Metodologías</a>\u001b[39;49;00m\u001b[33m'\u001b[39;49;00m,\n",
            "                  \u001b[33m'\u001b[39;49;00m\u001b[33m<a class=\u001b[39;49;00m\u001b[33m\"\u001b[39;49;00m\u001b[33mnav-link\u001b[39;49;00m\u001b[33m\"\u001b[39;49;00m\u001b[33m \u001b[39;49;00m\u001b[33m'\u001b[39;49;00m\n",
            "                  \u001b[33m'\u001b[39;49;00m\u001b[33mhref=\u001b[39;49;00m\u001b[33m\"\u001b[39;49;00m\u001b[33mhttps://si3.bcentral.cl/estadisticas/Principal1/enlaces/aplicaciones/BDE_movil.html\u001b[39;49;00m\u001b[33m\"\u001b[39;49;00m\u001b[33m>BDE \u001b[39;49;00m\u001b[33m'\u001b[39;49;00m\n",
            "                  \u001b[33m'\u001b[39;49;00m\u001b[33mMóvil</a>\u001b[39;49;00m\u001b[33m'\u001b[39;49;00m],\n",
            "  \u001b[33m'\u001b[39;49;00m\u001b[33mserver\u001b[39;49;00m\u001b[33m'\u001b[39;49;00m: [\u001b[33m'\u001b[39;49;00m\u001b[33m920d66a16ffb\u001b[39;49;00m\u001b[33m'\u001b[39;49;00m],\n",
            "  \u001b[33m'\u001b[39;49;00m\u001b[33mtitle\u001b[39;49;00m\u001b[33m'\u001b[39;49;00m: [\u001b[33m'\u001b[39;49;00m\u001b[33mBase de Datos Estadísticos \u001b[39;49;00m\u001b[33m'\u001b[39;49;00m]}]\n",
            "\n",
            "# Requests  -----------------------------------------------------------------\n",
            "[]\n",
            "\n"
          ]
        }
      ]
    },
    {
      "cell_type": "markdown",
      "source": [
        "## Spider for two-direction-movement"
      ],
      "metadata": {
        "id": "pA5FqcRkISfk"
      }
    },
    {
      "cell_type": "code",
      "source": [
        "%%writefile /content/chilean_data_explore/chilean_data_explore/spiders/manual.py\n",
        "import scrapy\n",
        "from chilean_data_explore.items import PropertiesItem \n",
        "from scrapy.loader import ItemLoader\n",
        "import datetime\n",
        "import socket\n",
        "from scrapy.http import Request\n",
        "from urllib.parse import urljoin\n",
        "\n",
        "class BasicSpider(scrapy.Spider):\n",
        "    name = 'manual'\n",
        "    allowed_domains = ['si3.bcentral.cl']\n",
        "    start_urls = ['https://si3.bcentral.cl/Siete']\n",
        "\n",
        "    def parse(self, response):\n",
        "      next_selector=response.xpath('//a[starts-with(@onclick, \"SetCapitu\")]//@onclick').extract()\n",
        "      collec=[]\n",
        "      for string in next_selector:\n",
        "        string = string.replace(\"SetCapitulo(\",\"\") \n",
        "        string = string.replace(\")\",\"\") \n",
        "        string = string.replace(\"'\",\"\") \n",
        "        string = string.replace(\" \",\"\") \n",
        "        string = \"/\".join(string.split(',')) \n",
        "        string = \"Siete/ES/Siete/Cuadro/\" + string.strip()\n",
        "        collec.append(string)\n",
        "      next_selector = collec\n",
        "\n",
        "      for url in next_selector:\n",
        "        x = urljoin(response.url, url)\n",
        "        yield Request(x, callback=self.parse)"
      ],
      "metadata": {
        "colab": {
          "base_uri": "https://localhost:8080/"
        },
        "id": "P5zxQVxlaOoU",
        "outputId": "445a4502-96e3-4a20-86dd-4a4b96607fc4"
      },
      "execution_count": 15,
      "outputs": [
        {
          "output_type": "stream",
          "name": "stdout",
          "text": [
            "Writing /content/chilean_data_explore/chilean_data_explore/spiders/manual.py\n"
          ]
        }
      ]
    },
    {
      "cell_type": "code",
      "source": [
        "!scrapy crawl manual \n",
        "!scrapy parse --spider=manual https://si3.bcentral.cl/Siete"
      ],
      "metadata": {
        "id": "D-64ZVxfaC-b",
        "colab": {
          "base_uri": "https://localhost:8080/"
        },
        "outputId": "6068e08f-3b35-4f6e-8598-27990fea6d89"
      },
      "execution_count": 16,
      "outputs": [
        {
          "output_type": "stream",
          "name": "stdout",
          "text": [
            "2022-11-11 03:56:07 [scrapy.utils.log] INFO: Scrapy 2.7.1 started (bot: chilean_data_explore)\n",
            "2022-11-11 03:56:07 [scrapy.utils.log] INFO: Versions: lxml 4.9.1.0, libxml2 2.9.14, cssselect 1.2.0, parsel 1.7.0, w3lib 2.0.1, Twisted 22.10.0, Python 3.7.15 (default, Oct 12 2022, 19:14:55) - [GCC 7.5.0], pyOpenSSL 22.1.0 (OpenSSL 3.0.7 1 Nov 2022), cryptography 38.0.3, Platform Linux-5.10.133+-x86_64-with-Ubuntu-18.04-bionic\n",
            "2022-11-11 03:56:07 [scrapy.crawler] INFO: Overridden settings:\n",
            "{'BOT_NAME': 'chilean_data_explore',\n",
            " 'NEWSPIDER_MODULE': 'chilean_data_explore.spiders',\n",
            " 'REQUEST_FINGERPRINTER_IMPLEMENTATION': '2.7',\n",
            " 'ROBOTSTXT_OBEY': True,\n",
            " 'SPIDER_MODULES': ['chilean_data_explore.spiders'],\n",
            " 'TWISTED_REACTOR': 'twisted.internet.asyncioreactor.AsyncioSelectorReactor'}\n",
            "2022-11-11 03:56:07 [asyncio] DEBUG: Using selector: EpollSelector\n",
            "2022-11-11 03:56:07 [scrapy.utils.log] DEBUG: Using reactor: twisted.internet.asyncioreactor.AsyncioSelectorReactor\n",
            "2022-11-11 03:56:07 [scrapy.utils.log] DEBUG: Using asyncio event loop: asyncio.unix_events._UnixSelectorEventLoop\n",
            "2022-11-11 03:56:07 [scrapy.extensions.telnet] INFO: Telnet Password: 9cb40e5ae3d3e28a\n",
            "2022-11-11 03:56:07 [scrapy.middleware] INFO: Enabled extensions:\n",
            "['scrapy.extensions.corestats.CoreStats',\n",
            " 'scrapy.extensions.telnet.TelnetConsole',\n",
            " 'scrapy.extensions.memusage.MemoryUsage',\n",
            " 'scrapy.extensions.logstats.LogStats']\n",
            "2022-11-11 03:56:07 [scrapy.middleware] INFO: Enabled downloader middlewares:\n",
            "['scrapy.downloadermiddlewares.robotstxt.RobotsTxtMiddleware',\n",
            " 'scrapy.downloadermiddlewares.httpauth.HttpAuthMiddleware',\n",
            " 'scrapy.downloadermiddlewares.downloadtimeout.DownloadTimeoutMiddleware',\n",
            " 'scrapy.downloadermiddlewares.defaultheaders.DefaultHeadersMiddleware',\n",
            " 'scrapy.downloadermiddlewares.useragent.UserAgentMiddleware',\n",
            " 'scrapy.downloadermiddlewares.retry.RetryMiddleware',\n",
            " 'scrapy.downloadermiddlewares.redirect.MetaRefreshMiddleware',\n",
            " 'scrapy.downloadermiddlewares.httpcompression.HttpCompressionMiddleware',\n",
            " 'scrapy.downloadermiddlewares.redirect.RedirectMiddleware',\n",
            " 'scrapy.downloadermiddlewares.cookies.CookiesMiddleware',\n",
            " 'scrapy.downloadermiddlewares.httpproxy.HttpProxyMiddleware',\n",
            " 'scrapy.downloadermiddlewares.stats.DownloaderStats']\n",
            "2022-11-11 03:56:07 [scrapy.middleware] INFO: Enabled spider middlewares:\n",
            "['scrapy.spidermiddlewares.httperror.HttpErrorMiddleware',\n",
            " 'scrapy.spidermiddlewares.offsite.OffsiteMiddleware',\n",
            " 'scrapy.spidermiddlewares.referer.RefererMiddleware',\n",
            " 'scrapy.spidermiddlewares.urllength.UrlLengthMiddleware',\n",
            " 'scrapy.spidermiddlewares.depth.DepthMiddleware']\n",
            "2022-11-11 03:56:07 [scrapy.middleware] INFO: Enabled item pipelines:\n",
            "[]\n",
            "2022-11-11 03:56:07 [scrapy.core.engine] INFO: Spider opened\n",
            "2022-11-11 03:56:07 [scrapy.extensions.logstats] INFO: Crawled 0 pages (at 0 pages/min), scraped 0 items (at 0 items/min)\n",
            "2022-11-11 03:56:07 [scrapy.extensions.telnet] INFO: Telnet console listening on 127.0.0.1:6023\n",
            "2022-11-11 03:56:08 [scrapy.downloadermiddlewares.redirect] DEBUG: Redirecting (302) to <GET https://si3.bcentral.cl/ErrorPage.html> from <GET https://si3.bcentral.cl/robots.txt>\n",
            "2022-11-11 03:56:08 [scrapy.core.engine] DEBUG: Crawled (200) <GET https://si3.bcentral.cl/ErrorPage.html> (referer: None)\n",
            "2022-11-11 03:56:08 [protego] DEBUG: Rule at line 8 without any user agent to enforce it on.\n",
            "2022-11-11 03:56:08 [protego] DEBUG: Rule at line 20 without any user agent to enforce it on.\n",
            "2022-11-11 03:56:08 [protego] DEBUG: Rule at line 21 without any user agent to enforce it on.\n",
            "2022-11-11 03:56:08 [protego] DEBUG: Rule at line 25 without any user agent to enforce it on.\n",
            "2022-11-11 03:56:08 [protego] DEBUG: Rule at line 28 without any user agent to enforce it on.\n",
            "2022-11-11 03:56:08 [protego] DEBUG: Rule at line 39 without any user agent to enforce it on.\n",
            "2022-11-11 03:56:08 [protego] DEBUG: Rule at line 55 without any user agent to enforce it on.\n",
            "2022-11-11 03:56:08 [protego] DEBUG: Rule at line 84 without any user agent to enforce it on.\n",
            "2022-11-11 03:56:08 [protego] DEBUG: Rule at line 90 without any user agent to enforce it on.\n",
            "2022-11-11 03:56:08 [protego] DEBUG: Rule at line 91 without any user agent to enforce it on.\n",
            "2022-11-11 03:56:08 [protego] DEBUG: Rule at line 95 without any user agent to enforce it on.\n",
            "2022-11-11 03:56:08 [protego] DEBUG: Rule at line 96 without any user agent to enforce it on.\n",
            "2022-11-11 03:56:09 [filelock] DEBUG: Attempting to acquire lock 139679616776144 on /root/.cache/python-tldextract/3.7.15.final__usr__7d8fdf__tldextract-3.4.0/publicsuffix.org-tlds/de84b5ca2167d4c83e38fb162f2e8738.tldextract.json.lock\n",
            "2022-11-11 03:56:09 [filelock] DEBUG: Lock 139679616776144 acquired on /root/.cache/python-tldextract/3.7.15.final__usr__7d8fdf__tldextract-3.4.0/publicsuffix.org-tlds/de84b5ca2167d4c83e38fb162f2e8738.tldextract.json.lock\n",
            "2022-11-11 03:56:09 [filelock] DEBUG: Attempting to release lock 139679616776144 on /root/.cache/python-tldextract/3.7.15.final__usr__7d8fdf__tldextract-3.4.0/publicsuffix.org-tlds/de84b5ca2167d4c83e38fb162f2e8738.tldextract.json.lock\n",
            "2022-11-11 03:56:09 [filelock] DEBUG: Lock 139679616776144 released on /root/.cache/python-tldextract/3.7.15.final__usr__7d8fdf__tldextract-3.4.0/publicsuffix.org-tlds/de84b5ca2167d4c83e38fb162f2e8738.tldextract.json.lock\n",
            "2022-11-11 03:56:09 [scrapy.core.engine] DEBUG: Crawled (200) <GET https://si3.bcentral.cl/Siete> (referer: None)\n",
            "2022-11-11 03:56:09 [scrapy.dupefilters] DEBUG: Filtered duplicate request: <GET https://si3.bcentral.cl/Siete/ES/Siete/Cuadro/CAP_ESTADIST_MACRO/MN_EST_MACRO_IV/PEM_TC> - no more duplicates will be shown (see DUPEFILTER_DEBUG to show all duplicates)\n",
            "2022-11-11 03:56:12 [scrapy.core.engine] DEBUG: Crawled (200) <GET https://si3.bcentral.cl/Siete/ES/Siete/Cuadro/CAP_ESTADIST_EXPERIM/MN_EXPERIM01/EST_EXP_001> (referer: https://si3.bcentral.cl/)\n",
            "2022-11-11 03:56:13 [scrapy.core.engine] DEBUG: Crawled (200) <GET https://si3.bcentral.cl/Siete/ES/Siete/Cuadro/CAP_ESTADIST_GENERO/MN_GENERO1/EST_GEN_POB_01> (referer: https://si3.bcentral.cl/)\n",
            "2022-11-11 03:56:13 [scrapy.core.engine] DEBUG: Crawled (200) <GET https://si3.bcentral.cl/Siete/ES/Siete/Cuadro/CAP_BDP/MN_BDP42/BP6M_RES01> (referer: https://si3.bcentral.cl/)\n",
            "2022-11-11 03:56:14 [scrapy.core.engine] DEBUG: Crawled (200) <GET https://si3.bcentral.cl/Siete/ES/Siete/Cuadro/CAP_DERYSPOT/MN_DERYSPOT/DER_MON_01> (referer: https://si3.bcentral.cl/)\n",
            "2022-11-11 03:56:14 [scrapy.core.engine] DEBUG: Crawled (200) <GET https://si3.bcentral.cl/Siete/ES/Siete/Cuadro/CAP_FIN_PUB/MN_FIN_PUB_1/GOB_TOT_1> (referer: https://si3.bcentral.cl/)\n",
            "2022-11-11 03:56:14 [scrapy.core.engine] DEBUG: Crawled (200) <GET https://si3.bcentral.cl/Siete/ES/Siete/Cuadro/CAP_IND_SEC/MN_IND_SEC20/IS_GENERAL_PROPIEDAD_2008> (referer: https://si3.bcentral.cl/)\n",
            "2022-11-11 03:56:15 [scrapy.core.engine] DEBUG: Crawled (200) <GET https://si3.bcentral.cl/Siete/ES/Siete/Cuadro/CAP_EMP_REM_DEM/MN_EMP_REM_DEM13/ED_TDNRM2> (referer: https://si3.bcentral.cl/)\n",
            "2022-11-11 03:56:15 [scrapy.core.engine] DEBUG: Crawled (200) <GET https://si3.bcentral.cl/Siete/ES/Siete/Cuadro/CAP_TIPO_CAMBIO/MN_TIPO_CAMBIO4/DOLAR_OBS_ADO> (referer: https://si3.bcentral.cl/)\n",
            "2022-11-11 03:56:16 [scrapy.core.engine] DEBUG: Crawled (200) <GET https://si3.bcentral.cl/Siete/ES/Siete/Cuadro/CAP_EI/MN_EI11/EI_CREC_TRI> (referer: https://si3.bcentral.cl/)\n",
            "2022-11-11 03:56:16 [scrapy.core.engine] DEBUG: Crawled (200) <GET https://si3.bcentral.cl/Siete/ES/Siete/Cuadro/CAP_DYB/MN_ESTAD_MON55/EM_BMAM2> (referer: https://si3.bcentral.cl/)\n",
            "2022-11-11 03:56:16 [scrapy.core.engine] DEBUG: Crawled (200) <GET https://si3.bcentral.cl/Siete/ES/Siete/Cuadro/CAP_PRECIOS/MN_CAP_PRECIOS/UF_IVP_DIARIO> (referer: https://si3.bcentral.cl/)\n",
            "2022-11-11 03:56:16 [scrapy.core.engine] DEBUG: Crawled (200) <GET https://si3.bcentral.cl/Siete/ES/Siete/Cuadro/CAP_TASA_INTERES/MN_TASA_INTERES_09/TPM_C1> (referer: https://si3.bcentral.cl/)\n",
            "2022-11-11 03:56:16 [scrapy.core.engine] DEBUG: Crawled (200) <GET https://si3.bcentral.cl/Siete/ES/Siete/Cuadro/CAP_ESTADIST_MACRO/MN_EST_MACRO_IV/PEM_TC> (referer: https://si3.bcentral.cl/)\n",
            "2022-11-11 03:56:17 [scrapy.core.engine] DEBUG: Crawled (200) <GET https://si3.bcentral.cl/Siete/ES/Siete/Cuadro/CAP_CCNN/MN_CCNN76/CCNN2018_IMACEC_01> (referer: https://si3.bcentral.cl/)\n",
            "2022-11-11 03:56:17 [scrapy.core.engine] DEBUG: Crawled (200) <GET https://si3.bcentral.cl/Siete/ES/Siete/Cuadro/CAP_ESTADIST_REGIONAL/MN_REGIONAL1/CCNN2018_PIB_REGIONAL_T> (referer: https://si3.bcentral.cl/)\n",
            "2022-11-11 03:56:19 [scrapy.core.engine] DEBUG: Crawled (200) <GET https://si3.bcentral.cl/Siete/ES/Siete/Cuadro/CAP_EXP_ECO/MN_EXP_EC11/EXE_BCCH_01> (referer: https://si3.bcentral.cl/)\n",
            "2022-11-11 03:56:19 [scrapy.core.engine] INFO: Closing spider (finished)\n",
            "2022-11-11 03:56:19 [scrapy.statscollectors] INFO: Dumping Scrapy stats:\n",
            "{'downloader/request_bytes': 8843,\n",
            " 'downloader/request_count': 19,\n",
            " 'downloader/request_method_count/GET': 19,\n",
            " 'downloader/response_bytes': 4438596,\n",
            " 'downloader/response_count': 19,\n",
            " 'downloader/response_status_count/200': 18,\n",
            " 'downloader/response_status_count/302': 1,\n",
            " 'dupefilter/filtered': 16,\n",
            " 'elapsed_time_seconds': 11.912602,\n",
            " 'finish_reason': 'finished',\n",
            " 'finish_time': datetime.datetime(2022, 11, 11, 3, 56, 19, 281299),\n",
            " 'log_count/DEBUG': 39,\n",
            " 'log_count/INFO': 10,\n",
            " 'memusage/max': 93253632,\n",
            " 'memusage/startup': 93253632,\n",
            " 'request_depth_max': 1,\n",
            " 'response_received_count': 18,\n",
            " 'robotstxt/request_count': 1,\n",
            " 'robotstxt/response_count': 1,\n",
            " 'robotstxt/response_status_count/200': 1,\n",
            " 'scheduler/dequeued': 17,\n",
            " 'scheduler/dequeued/memory': 17,\n",
            " 'scheduler/enqueued': 17,\n",
            " 'scheduler/enqueued/memory': 17,\n",
            " 'start_time': datetime.datetime(2022, 11, 11, 3, 56, 7, 368697)}\n",
            "2022-11-11 03:56:19 [scrapy.core.engine] INFO: Spider closed (finished)\n",
            "2022-11-11 03:56:21 [scrapy.utils.log] INFO: Scrapy 2.7.1 started (bot: chilean_data_explore)\n",
            "2022-11-11 03:56:21 [scrapy.utils.log] INFO: Versions: lxml 4.9.1.0, libxml2 2.9.14, cssselect 1.2.0, parsel 1.7.0, w3lib 2.0.1, Twisted 22.10.0, Python 3.7.15 (default, Oct 12 2022, 19:14:55) - [GCC 7.5.0], pyOpenSSL 22.1.0 (OpenSSL 3.0.7 1 Nov 2022), cryptography 38.0.3, Platform Linux-5.10.133+-x86_64-with-Ubuntu-18.04-bionic\n",
            "2022-11-11 03:56:21 [scrapy.crawler] INFO: Overridden settings:\n",
            "{'BOT_NAME': 'chilean_data_explore',\n",
            " 'NEWSPIDER_MODULE': 'chilean_data_explore.spiders',\n",
            " 'REQUEST_FINGERPRINTER_IMPLEMENTATION': '2.7',\n",
            " 'ROBOTSTXT_OBEY': True,\n",
            " 'SPIDER_MODULES': ['chilean_data_explore.spiders'],\n",
            " 'TWISTED_REACTOR': 'twisted.internet.asyncioreactor.AsyncioSelectorReactor'}\n",
            "2022-11-11 03:56:21 [asyncio] DEBUG: Using selector: EpollSelector\n",
            "2022-11-11 03:56:21 [scrapy.utils.log] DEBUG: Using reactor: twisted.internet.asyncioreactor.AsyncioSelectorReactor\n",
            "2022-11-11 03:56:21 [scrapy.utils.log] DEBUG: Using asyncio event loop: asyncio.unix_events._UnixSelectorEventLoop\n",
            "2022-11-11 03:56:21 [scrapy.extensions.telnet] INFO: Telnet Password: ca44e0e95016b288\n",
            "2022-11-11 03:56:21 [scrapy.middleware] INFO: Enabled extensions:\n",
            "['scrapy.extensions.corestats.CoreStats',\n",
            " 'scrapy.extensions.telnet.TelnetConsole',\n",
            " 'scrapy.extensions.memusage.MemoryUsage',\n",
            " 'scrapy.extensions.logstats.LogStats']\n",
            "2022-11-11 03:56:21 [scrapy.middleware] INFO: Enabled downloader middlewares:\n",
            "['scrapy.downloadermiddlewares.robotstxt.RobotsTxtMiddleware',\n",
            " 'scrapy.downloadermiddlewares.httpauth.HttpAuthMiddleware',\n",
            " 'scrapy.downloadermiddlewares.downloadtimeout.DownloadTimeoutMiddleware',\n",
            " 'scrapy.downloadermiddlewares.defaultheaders.DefaultHeadersMiddleware',\n",
            " 'scrapy.downloadermiddlewares.useragent.UserAgentMiddleware',\n",
            " 'scrapy.downloadermiddlewares.retry.RetryMiddleware',\n",
            " 'scrapy.downloadermiddlewares.redirect.MetaRefreshMiddleware',\n",
            " 'scrapy.downloadermiddlewares.httpcompression.HttpCompressionMiddleware',\n",
            " 'scrapy.downloadermiddlewares.redirect.RedirectMiddleware',\n",
            " 'scrapy.downloadermiddlewares.cookies.CookiesMiddleware',\n",
            " 'scrapy.downloadermiddlewares.httpproxy.HttpProxyMiddleware',\n",
            " 'scrapy.downloadermiddlewares.stats.DownloaderStats']\n",
            "2022-11-11 03:56:21 [scrapy.middleware] INFO: Enabled spider middlewares:\n",
            "['scrapy.spidermiddlewares.httperror.HttpErrorMiddleware',\n",
            " 'scrapy.spidermiddlewares.offsite.OffsiteMiddleware',\n",
            " 'scrapy.spidermiddlewares.referer.RefererMiddleware',\n",
            " 'scrapy.spidermiddlewares.urllength.UrlLengthMiddleware',\n",
            " 'scrapy.spidermiddlewares.depth.DepthMiddleware']\n",
            "2022-11-11 03:56:21 [scrapy.middleware] INFO: Enabled item pipelines:\n",
            "[]\n",
            "2022-11-11 03:56:21 [scrapy.core.engine] INFO: Spider opened\n",
            "2022-11-11 03:56:21 [scrapy.extensions.logstats] INFO: Crawled 0 pages (at 0 pages/min), scraped 0 items (at 0 items/min)\n",
            "2022-11-11 03:56:21 [scrapy.extensions.telnet] INFO: Telnet console listening on 127.0.0.1:6023\n",
            "2022-11-11 03:56:22 [scrapy.downloadermiddlewares.redirect] DEBUG: Redirecting (302) to <GET https://si3.bcentral.cl/ErrorPage.html> from <GET https://si3.bcentral.cl/robots.txt>\n",
            "2022-11-11 03:56:22 [scrapy.core.engine] DEBUG: Crawled (200) <GET https://si3.bcentral.cl/ErrorPage.html> (referer: None)\n",
            "2022-11-11 03:56:22 [protego] DEBUG: Rule at line 8 without any user agent to enforce it on.\n",
            "2022-11-11 03:56:22 [protego] DEBUG: Rule at line 20 without any user agent to enforce it on.\n",
            "2022-11-11 03:56:22 [protego] DEBUG: Rule at line 21 without any user agent to enforce it on.\n",
            "2022-11-11 03:56:22 [protego] DEBUG: Rule at line 25 without any user agent to enforce it on.\n",
            "2022-11-11 03:56:22 [protego] DEBUG: Rule at line 28 without any user agent to enforce it on.\n",
            "2022-11-11 03:56:22 [protego] DEBUG: Rule at line 39 without any user agent to enforce it on.\n",
            "2022-11-11 03:56:22 [protego] DEBUG: Rule at line 55 without any user agent to enforce it on.\n",
            "2022-11-11 03:56:22 [protego] DEBUG: Rule at line 84 without any user agent to enforce it on.\n",
            "2022-11-11 03:56:22 [protego] DEBUG: Rule at line 90 without any user agent to enforce it on.\n",
            "2022-11-11 03:56:22 [protego] DEBUG: Rule at line 91 without any user agent to enforce it on.\n",
            "2022-11-11 03:56:22 [protego] DEBUG: Rule at line 95 without any user agent to enforce it on.\n",
            "2022-11-11 03:56:22 [protego] DEBUG: Rule at line 96 without any user agent to enforce it on.\n",
            "2022-11-11 03:56:24 [filelock] DEBUG: Attempting to acquire lock 140385730207184 on /root/.cache/python-tldextract/3.7.15.final__usr__7d8fdf__tldextract-3.4.0/publicsuffix.org-tlds/de84b5ca2167d4c83e38fb162f2e8738.tldextract.json.lock\n",
            "2022-11-11 03:56:24 [filelock] DEBUG: Lock 140385730207184 acquired on /root/.cache/python-tldextract/3.7.15.final__usr__7d8fdf__tldextract-3.4.0/publicsuffix.org-tlds/de84b5ca2167d4c83e38fb162f2e8738.tldextract.json.lock\n",
            "2022-11-11 03:56:24 [filelock] DEBUG: Attempting to release lock 140385730207184 on /root/.cache/python-tldextract/3.7.15.final__usr__7d8fdf__tldextract-3.4.0/publicsuffix.org-tlds/de84b5ca2167d4c83e38fb162f2e8738.tldextract.json.lock\n",
            "2022-11-11 03:56:24 [filelock] DEBUG: Lock 140385730207184 released on /root/.cache/python-tldextract/3.7.15.final__usr__7d8fdf__tldextract-3.4.0/publicsuffix.org-tlds/de84b5ca2167d4c83e38fb162f2e8738.tldextract.json.lock\n",
            "2022-11-11 03:56:24 [scrapy.core.engine] DEBUG: Crawled (200) <GET https://si3.bcentral.cl/Siete> (referer: None)\n",
            "2022-11-11 03:56:24 [scrapy.core.engine] INFO: Closing spider (finished)\n",
            "2022-11-11 03:56:24 [scrapy.statscollectors] INFO: Dumping Scrapy stats:\n",
            "{'downloader/request_bytes': 674,\n",
            " 'downloader/request_count': 3,\n",
            " 'downloader/request_method_count/GET': 3,\n",
            " 'downloader/response_bytes': 38967,\n",
            " 'downloader/response_count': 3,\n",
            " 'downloader/response_status_count/200': 2,\n",
            " 'downloader/response_status_count/302': 1,\n",
            " 'elapsed_time_seconds': 2.721884,\n",
            " 'finish_reason': 'finished',\n",
            " 'finish_time': datetime.datetime(2022, 11, 11, 3, 56, 24, 275386),\n",
            " 'log_count/DEBUG': 22,\n",
            " 'log_count/INFO': 10,\n",
            " 'memusage/max': 93360128,\n",
            " 'memusage/startup': 93360128,\n",
            " 'response_received_count': 2,\n",
            " 'robotstxt/request_count': 1,\n",
            " 'robotstxt/response_count': 1,\n",
            " 'robotstxt/response_status_count/200': 1,\n",
            " 'scheduler/dequeued': 1,\n",
            " 'scheduler/dequeued/memory': 1,\n",
            " 'scheduler/enqueued': 1,\n",
            " 'scheduler/enqueued/memory': 1,\n",
            " 'start_time': datetime.datetime(2022, 11, 11, 3, 56, 21, 553502)}\n",
            "2022-11-11 03:56:24 [scrapy.core.engine] INFO: Spider closed (finished)\n",
            "\n",
            ">>> STATUS DEPTH LEVEL 1 <<<\n",
            "# Scraped Items  ------------------------------------------------------------\n",
            "[]\n",
            "\n",
            "# Requests  -----------------------------------------------------------------\n",
            "[<GET https://si3.bcentral.cl/Siete/ES/Siete/Cuadro/CAP_ESTADIST_MACRO/MN_EST_MACRO_IV/PEM_TC>,\n",
            " <GET https://si3.bcentral.cl/Siete/ES/Siete/Cuadro/CAP_PRECIOS/MN_CAP_PRECIOS/UF_IVP_DIARIO>,\n",
            " <GET https://si3.bcentral.cl/Siete/ES/Siete/Cuadro/CAP_TASA_INTERES/MN_TASA_INTERES_09/TPM_C1>,\n",
            " <GET https://si3.bcentral.cl/Siete/ES/Siete/Cuadro/CAP_TIPO_CAMBIO/MN_TIPO_CAMBIO4/DOLAR_OBS_ADO>,\n",
            " <GET https://si3.bcentral.cl/Siete/ES/Siete/Cuadro/CAP_DYB/MN_ESTAD_MON55/EM_BMAM2>,\n",
            " <GET https://si3.bcentral.cl/Siete/ES/Siete/Cuadro/CAP_DERYSPOT/MN_DERYSPOT/DER_MON_01>,\n",
            " <GET https://si3.bcentral.cl/Siete/ES/Siete/Cuadro/CAP_CCNN/MN_CCNN76/CCNN2018_IMACEC_01>,\n",
            " <GET https://si3.bcentral.cl/Siete/ES/Siete/Cuadro/CAP_BDP/MN_BDP42/BP6M_RES01>,\n",
            " <GET https://si3.bcentral.cl/Siete/ES/Siete/Cuadro/CAP_EMP_REM_DEM/MN_EMP_REM_DEM13/ED_TDNRM2>,\n",
            " <GET https://si3.bcentral.cl/Siete/ES/Siete/Cuadro/CAP_EXP_ECO/MN_EXP_EC11/EXE_BCCH_01>,\n",
            " <GET https://si3.bcentral.cl/Siete/ES/Siete/Cuadro/CAP_IND_SEC/MN_IND_SEC20/IS_GENERAL_PROPIEDAD_2008>,\n",
            " <GET https://si3.bcentral.cl/Siete/ES/Siete/Cuadro/CAP_EI/MN_EI11/EI_CREC_TRI>,\n",
            " <GET https://si3.bcentral.cl/Siete/ES/Siete/Cuadro/CAP_FIN_PUB/MN_FIN_PUB_1/GOB_TOT_1>,\n",
            " <GET https://si3.bcentral.cl/Siete/ES/Siete/Cuadro/CAP_ESTADIST_GENERO/MN_GENERO1/EST_GEN_POB_01>,\n",
            " <GET https://si3.bcentral.cl/Siete/ES/Siete/Cuadro/CAP_ESTADIST_REGIONAL/MN_REGIONAL1/CCNN2018_PIB_REGIONAL_T>,\n",
            " <GET https://si3.bcentral.cl/Siete/ES/Siete/Cuadro/CAP_ESTADIST_EXPERIM/MN_EXPERIM01/EST_EXP_001>,\n",
            " <GET https://si3.bcentral.cl/Siete/ES/Siete/Cuadro/CAP_ESTADIST_MACRO/MN_EST_MACRO_IV/PEM_TC>,\n",
            " <GET https://si3.bcentral.cl/Siete/ES/Siete/Cuadro/CAP_PRECIOS/MN_CAP_PRECIOS/UF_IVP_DIARIO>,\n",
            " <GET https://si3.bcentral.cl/Siete/ES/Siete/Cuadro/CAP_TASA_INTERES/MN_TASA_INTERES_09/TPM_C1>,\n",
            " <GET https://si3.bcentral.cl/Siete/ES/Siete/Cuadro/CAP_TIPO_CAMBIO/MN_TIPO_CAMBIO4/DOLAR_OBS_ADO>,\n",
            " <GET https://si3.bcentral.cl/Siete/ES/Siete/Cuadro/CAP_DYB/MN_ESTAD_MON55/EM_BMAM2>,\n",
            " <GET https://si3.bcentral.cl/Siete/ES/Siete/Cuadro/CAP_DERYSPOT/MN_DERYSPOT/DER_MON_01>,\n",
            " <GET https://si3.bcentral.cl/Siete/ES/Siete/Cuadro/CAP_CCNN/MN_CCNN76/CCNN2018_IMACEC_01>,\n",
            " <GET https://si3.bcentral.cl/Siete/ES/Siete/Cuadro/CAP_BDP/MN_BDP42/BP6M_RES01>,\n",
            " <GET https://si3.bcentral.cl/Siete/ES/Siete/Cuadro/CAP_EMP_REM_DEM/MN_EMP_REM_DEM13/ED_TDNRM2>,\n",
            " <GET https://si3.bcentral.cl/Siete/ES/Siete/Cuadro/CAP_EXP_ECO/MN_EXP_EC11/EXE_BCCH_01>,\n",
            " <GET https://si3.bcentral.cl/Siete/ES/Siete/Cuadro/CAP_IND_SEC/MN_IND_SEC20/IS_GENERAL_PROPIEDAD_2008>,\n",
            " <GET https://si3.bcentral.cl/Siete/ES/Siete/Cuadro/CAP_EI/MN_EI11/EI_CREC_TRI>,\n",
            " <GET https://si3.bcentral.cl/Siete/ES/Siete/Cuadro/CAP_FIN_PUB/MN_FIN_PUB_1/GOB_TOT_1>,\n",
            " <GET https://si3.bcentral.cl/Siete/ES/Siete/Cuadro/CAP_ESTADIST_GENERO/MN_GENERO1/EST_GEN_POB_01>,\n",
            " <GET https://si3.bcentral.cl/Siete/ES/Siete/Cuadro/CAP_ESTADIST_REGIONAL/MN_REGIONAL1/CCNN2018_PIB_REGIONAL_T>,\n",
            " <GET https://si3.bcentral.cl/Siete/ES/Siete/Cuadro/CAP_ESTADIST_EXPERIM/MN_EXPERIM01/EST_EXP_001>]\n",
            "\n"
          ]
        }
      ]
    },
    {
      "cell_type": "markdown",
      "source": [
        "## Crawlspider for two-direction-movement"
      ],
      "metadata": {
        "id": "RDuADs6crNO7"
      }
    },
    {
      "cell_type": "code",
      "source": [
        "!scrapy genspider -t crawl automatic web"
      ],
      "metadata": {
        "id": "eQFNDfdgr4y4",
        "colab": {
          "base_uri": "https://localhost:8080/"
        },
        "outputId": "4146c6ab-bbf7-495a-f58e-d67de9110a30"
      },
      "execution_count": 17,
      "outputs": [
        {
          "output_type": "stream",
          "name": "stdout",
          "text": [
            "Created spider 'automatic' using template 'crawl' in module:\n",
            "  chilean_data_explore.spiders.automatic\n"
          ]
        }
      ]
    },
    {
      "cell_type": "code",
      "source": [
        "%%writefile /content/chilean_data_explore/chilean_data_explore/spiders/automatic.py\n",
        "\n",
        "import scrapy\n",
        "\n",
        "from scrapy.linkextractors import LinkExtractor\n",
        "from scrapy.spiders import CrawlSpider, Rule\n",
        "from chilean_data_explore.items import ChileanDataExploreItem\n",
        "\n",
        "\n",
        "class AutomaticSpider(CrawlSpider):\n",
        "    name = 'automatic'\n",
        "    allowed_domains = ['si3.bcentral.cl']\n",
        "    start_urls = ['https://si3.bcentral.cl/Siete']\n",
        "\n",
        "    rules = (\n",
        "        #vertical\n",
        "        Rule(LinkExtractor(allow='Siete'), callback='parse_item', follow=True),\n",
        "    )\n",
        "    \n",
        "    def parse_item(self, response):\n",
        "        exist = response.xpath('//a[starts-with(@onclick, \"SetCapitu\")]').extract_first()\n",
        "\n",
        "        if exist:\n",
        "          title = response.xpath('//a[starts-with(@onclick, \"SetCapitu\")]//@onclick')\n",
        "          title = [ self.start_urls[0]+\"/ES/Siete/Cuadro/\" +self.url_title(t.get())  for t in title]\n",
        "          #title = [ t.get()  for t in title]\n",
        "          print( title)\n",
        "\n",
        "          item = ChileanDataExploreItem()\n",
        "\n",
        "          item['url'] = \"response.url\"\n",
        "          item['article_from'] = \"self.name\"\n",
        "          item['title'] = title\n",
        "          item['publish_date'] = \"self._parse_publish_date(response)\"\n",
        "\n",
        "          #yield {          'title': title          }\n",
        "          yield item\n",
        "          \n",
        "          print(\"Testing > \", response.url )\n",
        "\n",
        "          for url_next_page in title:\n",
        "            yield response.follow(url_next_page, callback=self.parse_item)\n",
        "\n",
        "        else:\n",
        "          print(response.url)\n",
        "\n",
        "    def url_title(self,t):\n",
        "        replacements = [\n",
        "          (\"'\",\"\"),\n",
        "          (\")\",\"\"),\n",
        "          (\"(\",\"\"),\n",
        "          (\", \",\"/\"),\n",
        "          (\"SetCapitulo\",\"\"),\n",
        "        ]\n",
        "        for x,y in replacements:\n",
        "          t=t.replace(x,y)\n",
        "\n",
        "        return t"
      ],
      "metadata": {
        "id": "B5vUvve2f-VA",
        "colab": {
          "base_uri": "https://localhost:8080/"
        },
        "outputId": "093b6c34-1a83-4744-9980-91bf7f91a39e"
      },
      "execution_count": 18,
      "outputs": [
        {
          "output_type": "stream",
          "name": "stdout",
          "text": [
            "Overwriting /content/chilean_data_explore/chilean_data_explore/spiders/automatic.py\n"
          ]
        }
      ]
    },
    {
      "cell_type": "code",
      "source": [
        "!scrapy crawl automatic -O data_bcentral.csv"
      ],
      "metadata": {
        "colab": {
          "base_uri": "https://localhost:8080/"
        },
        "id": "lVO9WJHxnam2",
        "outputId": "74445e27-a56f-4c7e-b17e-afaa3dd497ff"
      },
      "execution_count": 19,
      "outputs": [
        {
          "output_type": "stream",
          "name": "stdout",
          "text": [
            "2022-11-11 03:56:27 [scrapy.utils.log] INFO: Scrapy 2.7.1 started (bot: chilean_data_explore)\n",
            "2022-11-11 03:56:27 [scrapy.utils.log] INFO: Versions: lxml 4.9.1.0, libxml2 2.9.14, cssselect 1.2.0, parsel 1.7.0, w3lib 2.0.1, Twisted 22.10.0, Python 3.7.15 (default, Oct 12 2022, 19:14:55) - [GCC 7.5.0], pyOpenSSL 22.1.0 (OpenSSL 3.0.7 1 Nov 2022), cryptography 38.0.3, Platform Linux-5.10.133+-x86_64-with-Ubuntu-18.04-bionic\n",
            "2022-11-11 03:56:27 [scrapy.crawler] INFO: Overridden settings:\n",
            "{'BOT_NAME': 'chilean_data_explore',\n",
            " 'NEWSPIDER_MODULE': 'chilean_data_explore.spiders',\n",
            " 'REQUEST_FINGERPRINTER_IMPLEMENTATION': '2.7',\n",
            " 'ROBOTSTXT_OBEY': True,\n",
            " 'SPIDER_MODULES': ['chilean_data_explore.spiders'],\n",
            " 'TWISTED_REACTOR': 'twisted.internet.asyncioreactor.AsyncioSelectorReactor'}\n",
            "2022-11-11 03:56:27 [asyncio] DEBUG: Using selector: EpollSelector\n",
            "2022-11-11 03:56:27 [scrapy.utils.log] DEBUG: Using reactor: twisted.internet.asyncioreactor.AsyncioSelectorReactor\n",
            "2022-11-11 03:56:27 [scrapy.utils.log] DEBUG: Using asyncio event loop: asyncio.unix_events._UnixSelectorEventLoop\n",
            "2022-11-11 03:56:27 [scrapy.extensions.telnet] INFO: Telnet Password: 9a30002124df99b4\n",
            "2022-11-11 03:56:27 [scrapy.middleware] INFO: Enabled extensions:\n",
            "['scrapy.extensions.corestats.CoreStats',\n",
            " 'scrapy.extensions.telnet.TelnetConsole',\n",
            " 'scrapy.extensions.memusage.MemoryUsage',\n",
            " 'scrapy.extensions.feedexport.FeedExporter',\n",
            " 'scrapy.extensions.logstats.LogStats']\n",
            "2022-11-11 03:56:27 [scrapy.middleware] INFO: Enabled downloader middlewares:\n",
            "['scrapy.downloadermiddlewares.robotstxt.RobotsTxtMiddleware',\n",
            " 'scrapy.downloadermiddlewares.httpauth.HttpAuthMiddleware',\n",
            " 'scrapy.downloadermiddlewares.downloadtimeout.DownloadTimeoutMiddleware',\n",
            " 'scrapy.downloadermiddlewares.defaultheaders.DefaultHeadersMiddleware',\n",
            " 'scrapy.downloadermiddlewares.useragent.UserAgentMiddleware',\n",
            " 'scrapy.downloadermiddlewares.retry.RetryMiddleware',\n",
            " 'scrapy.downloadermiddlewares.redirect.MetaRefreshMiddleware',\n",
            " 'scrapy.downloadermiddlewares.httpcompression.HttpCompressionMiddleware',\n",
            " 'scrapy.downloadermiddlewares.redirect.RedirectMiddleware',\n",
            " 'scrapy.downloadermiddlewares.cookies.CookiesMiddleware',\n",
            " 'scrapy.downloadermiddlewares.httpproxy.HttpProxyMiddleware',\n",
            " 'scrapy.downloadermiddlewares.stats.DownloaderStats']\n",
            "2022-11-11 03:56:27 [scrapy.middleware] INFO: Enabled spider middlewares:\n",
            "['scrapy.spidermiddlewares.httperror.HttpErrorMiddleware',\n",
            " 'scrapy.spidermiddlewares.offsite.OffsiteMiddleware',\n",
            " 'scrapy.spidermiddlewares.referer.RefererMiddleware',\n",
            " 'scrapy.spidermiddlewares.urllength.UrlLengthMiddleware',\n",
            " 'scrapy.spidermiddlewares.depth.DepthMiddleware']\n",
            "2022-11-11 03:56:27 [scrapy.middleware] INFO: Enabled item pipelines:\n",
            "[]\n",
            "2022-11-11 03:56:27 [scrapy.core.engine] INFO: Spider opened\n",
            "2022-11-11 03:56:27 [scrapy.extensions.logstats] INFO: Crawled 0 pages (at 0 pages/min), scraped 0 items (at 0 items/min)\n",
            "2022-11-11 03:56:27 [scrapy.extensions.telnet] INFO: Telnet console listening on 127.0.0.1:6023\n",
            "2022-11-11 03:56:28 [scrapy.downloadermiddlewares.redirect] DEBUG: Redirecting (302) to <GET https://si3.bcentral.cl/ErrorPage.html> from <GET https://si3.bcentral.cl/robots.txt>\n",
            "2022-11-11 03:56:28 [scrapy.core.engine] DEBUG: Crawled (200) <GET https://si3.bcentral.cl/ErrorPage.html> (referer: None)\n",
            "2022-11-11 03:56:28 [protego] DEBUG: Rule at line 8 without any user agent to enforce it on.\n",
            "2022-11-11 03:56:28 [protego] DEBUG: Rule at line 20 without any user agent to enforce it on.\n",
            "2022-11-11 03:56:28 [protego] DEBUG: Rule at line 21 without any user agent to enforce it on.\n",
            "2022-11-11 03:56:28 [protego] DEBUG: Rule at line 25 without any user agent to enforce it on.\n",
            "2022-11-11 03:56:28 [protego] DEBUG: Rule at line 28 without any user agent to enforce it on.\n",
            "2022-11-11 03:56:28 [protego] DEBUG: Rule at line 39 without any user agent to enforce it on.\n",
            "2022-11-11 03:56:28 [protego] DEBUG: Rule at line 55 without any user agent to enforce it on.\n",
            "2022-11-11 03:56:28 [protego] DEBUG: Rule at line 84 without any user agent to enforce it on.\n",
            "2022-11-11 03:56:28 [protego] DEBUG: Rule at line 90 without any user agent to enforce it on.\n",
            "2022-11-11 03:56:28 [protego] DEBUG: Rule at line 91 without any user agent to enforce it on.\n",
            "2022-11-11 03:56:28 [protego] DEBUG: Rule at line 95 without any user agent to enforce it on.\n",
            "2022-11-11 03:56:28 [protego] DEBUG: Rule at line 96 without any user agent to enforce it on.\n",
            "2022-11-11 03:56:30 [filelock] DEBUG: Attempting to acquire lock 139760264531472 on /root/.cache/python-tldextract/3.7.15.final__usr__7d8fdf__tldextract-3.4.0/publicsuffix.org-tlds/de84b5ca2167d4c83e38fb162f2e8738.tldextract.json.lock\n",
            "2022-11-11 03:56:30 [filelock] DEBUG: Lock 139760264531472 acquired on /root/.cache/python-tldextract/3.7.15.final__usr__7d8fdf__tldextract-3.4.0/publicsuffix.org-tlds/de84b5ca2167d4c83e38fb162f2e8738.tldextract.json.lock\n",
            "2022-11-11 03:56:30 [filelock] DEBUG: Attempting to release lock 139760264531472 on /root/.cache/python-tldextract/3.7.15.final__usr__7d8fdf__tldextract-3.4.0/publicsuffix.org-tlds/de84b5ca2167d4c83e38fb162f2e8738.tldextract.json.lock\n",
            "2022-11-11 03:56:30 [filelock] DEBUG: Lock 139760264531472 released on /root/.cache/python-tldextract/3.7.15.final__usr__7d8fdf__tldextract-3.4.0/publicsuffix.org-tlds/de84b5ca2167d4c83e38fb162f2e8738.tldextract.json.lock\n",
            "2022-11-11 03:56:30 [scrapy.core.engine] DEBUG: Crawled (200) <GET https://si3.bcentral.cl/Siete> (referer: None)\n",
            "2022-11-11 03:56:31 [scrapy.core.engine] DEBUG: Crawled (200) <GET https://si3.bcentral.cl/Siete> (referer: https://si3.bcentral.cl/)\n",
            "['https://si3.bcentral.cl/Siete/ES/Siete/Cuadro/CAP_ESTADIST_MACRO/MN_EST_MACRO_IV/PEM_TC', 'https://si3.bcentral.cl/Siete/ES/Siete/Cuadro/CAP_PRECIOS/MN_CAP_PRECIOS/UF_IVP_DIARIO', 'https://si3.bcentral.cl/Siete/ES/Siete/Cuadro/CAP_TASA_INTERES/MN_TASA_INTERES_09/TPM_C1', 'https://si3.bcentral.cl/Siete/ES/Siete/Cuadro/CAP_TIPO_CAMBIO/MN_TIPO_CAMBIO4/DOLAR_OBS_ADO', 'https://si3.bcentral.cl/Siete/ES/Siete/Cuadro/CAP_DYB/MN_ESTAD_MON55/EM_BMAM2', 'https://si3.bcentral.cl/Siete/ES/Siete/Cuadro/CAP_DERYSPOT/MN_DERYSPOT/DER_MON_01', 'https://si3.bcentral.cl/Siete/ES/Siete/Cuadro/CAP_CCNN/MN_CCNN76/CCNN2018_IMACEC_01', 'https://si3.bcentral.cl/Siete/ES/Siete/Cuadro/CAP_BDP/MN_BDP42/BP6M_RES01', 'https://si3.bcentral.cl/Siete/ES/Siete/Cuadro/CAP_EMP_REM_DEM/MN_EMP_REM_DEM13/ED_TDNRM2', 'https://si3.bcentral.cl/Siete/ES/Siete/Cuadro/CAP_EXP_ECO/MN_EXP_EC11/EXE_BCCH_01', 'https://si3.bcentral.cl/Siete/ES/Siete/Cuadro/CAP_IND_SEC/MN_IND_SEC20/IS_GENERAL_PROPIEDAD_2008', 'https://si3.bcentral.cl/Siete/ES/Siete/Cuadro/CAP_EI/MN_EI11/EI_CREC_TRI', 'https://si3.bcentral.cl/Siete/ES/Siete/Cuadro/CAP_FIN_PUB/MN_FIN_PUB_1/GOB_TOT_1', 'https://si3.bcentral.cl/Siete/ES/Siete/Cuadro/CAP_ESTADIST_GENERO/MN_GENERO1/EST_GEN_POB_01', 'https://si3.bcentral.cl/Siete/ES/Siete/Cuadro/CAP_ESTADIST_REGIONAL/MN_REGIONAL1/CCNN2018_PIB_REGIONAL_T', 'https://si3.bcentral.cl/Siete/ES/Siete/Cuadro/CAP_ESTADIST_EXPERIM/MN_EXPERIM01/EST_EXP_001', 'https://si3.bcentral.cl/Siete/ES/Siete/Cuadro/CAP_ESTADIST_MACRO/MN_EST_MACRO_IV/PEM_TC', 'https://si3.bcentral.cl/Siete/ES/Siete/Cuadro/CAP_PRECIOS/MN_CAP_PRECIOS/UF_IVP_DIARIO', 'https://si3.bcentral.cl/Siete/ES/Siete/Cuadro/CAP_TASA_INTERES/MN_TASA_INTERES_09/TPM_C1', 'https://si3.bcentral.cl/Siete/ES/Siete/Cuadro/CAP_TIPO_CAMBIO/MN_TIPO_CAMBIO4/DOLAR_OBS_ADO', 'https://si3.bcentral.cl/Siete/ES/Siete/Cuadro/CAP_DYB/MN_ESTAD_MON55/EM_BMAM2', 'https://si3.bcentral.cl/Siete/ES/Siete/Cuadro/CAP_DERYSPOT/MN_DERYSPOT/DER_MON_01', 'https://si3.bcentral.cl/Siete/ES/Siete/Cuadro/CAP_CCNN/MN_CCNN76/CCNN2018_IMACEC_01', 'https://si3.bcentral.cl/Siete/ES/Siete/Cuadro/CAP_BDP/MN_BDP42/BP6M_RES01', 'https://si3.bcentral.cl/Siete/ES/Siete/Cuadro/CAP_EMP_REM_DEM/MN_EMP_REM_DEM13/ED_TDNRM2', 'https://si3.bcentral.cl/Siete/ES/Siete/Cuadro/CAP_EXP_ECO/MN_EXP_EC11/EXE_BCCH_01', 'https://si3.bcentral.cl/Siete/ES/Siete/Cuadro/CAP_IND_SEC/MN_IND_SEC20/IS_GENERAL_PROPIEDAD_2008', 'https://si3.bcentral.cl/Siete/ES/Siete/Cuadro/CAP_EI/MN_EI11/EI_CREC_TRI', 'https://si3.bcentral.cl/Siete/ES/Siete/Cuadro/CAP_FIN_PUB/MN_FIN_PUB_1/GOB_TOT_1', 'https://si3.bcentral.cl/Siete/ES/Siete/Cuadro/CAP_ESTADIST_GENERO/MN_GENERO1/EST_GEN_POB_01', 'https://si3.bcentral.cl/Siete/ES/Siete/Cuadro/CAP_ESTADIST_REGIONAL/MN_REGIONAL1/CCNN2018_PIB_REGIONAL_T', 'https://si3.bcentral.cl/Siete/ES/Siete/Cuadro/CAP_ESTADIST_EXPERIM/MN_EXPERIM01/EST_EXP_001']\n",
            "2022-11-11 03:56:31 [scrapy.core.scraper] DEBUG: Scraped from <200 https://si3.bcentral.cl/Siete>\n",
            "{'article_from': 'self.name',\n",
            " 'publish_date': 'self._parse_publish_date(response)',\n",
            " 'title': ['https://si3.bcentral.cl/Siete/ES/Siete/Cuadro/CAP_ESTADIST_MACRO/MN_EST_MACRO_IV/PEM_TC',\n",
            "           'https://si3.bcentral.cl/Siete/ES/Siete/Cuadro/CAP_PRECIOS/MN_CAP_PRECIOS/UF_IVP_DIARIO',\n",
            "           'https://si3.bcentral.cl/Siete/ES/Siete/Cuadro/CAP_TASA_INTERES/MN_TASA_INTERES_09/TPM_C1',\n",
            "           'https://si3.bcentral.cl/Siete/ES/Siete/Cuadro/CAP_TIPO_CAMBIO/MN_TIPO_CAMBIO4/DOLAR_OBS_ADO',\n",
            "           'https://si3.bcentral.cl/Siete/ES/Siete/Cuadro/CAP_DYB/MN_ESTAD_MON55/EM_BMAM2',\n",
            "           'https://si3.bcentral.cl/Siete/ES/Siete/Cuadro/CAP_DERYSPOT/MN_DERYSPOT/DER_MON_01',\n",
            "           'https://si3.bcentral.cl/Siete/ES/Siete/Cuadro/CAP_CCNN/MN_CCNN76/CCNN2018_IMACEC_01',\n",
            "           'https://si3.bcentral.cl/Siete/ES/Siete/Cuadro/CAP_BDP/MN_BDP42/BP6M_RES01',\n",
            "           'https://si3.bcentral.cl/Siete/ES/Siete/Cuadro/CAP_EMP_REM_DEM/MN_EMP_REM_DEM13/ED_TDNRM2',\n",
            "           'https://si3.bcentral.cl/Siete/ES/Siete/Cuadro/CAP_EXP_ECO/MN_EXP_EC11/EXE_BCCH_01',\n",
            "           'https://si3.bcentral.cl/Siete/ES/Siete/Cuadro/CAP_IND_SEC/MN_IND_SEC20/IS_GENERAL_PROPIEDAD_2008',\n",
            "           'https://si3.bcentral.cl/Siete/ES/Siete/Cuadro/CAP_EI/MN_EI11/EI_CREC_TRI',\n",
            "           'https://si3.bcentral.cl/Siete/ES/Siete/Cuadro/CAP_FIN_PUB/MN_FIN_PUB_1/GOB_TOT_1',\n",
            "           'https://si3.bcentral.cl/Siete/ES/Siete/Cuadro/CAP_ESTADIST_GENERO/MN_GENERO1/EST_GEN_POB_01',\n",
            "           'https://si3.bcentral.cl/Siete/ES/Siete/Cuadro/CAP_ESTADIST_REGIONAL/MN_REGIONAL1/CCNN2018_PIB_REGIONAL_T',\n",
            "           'https://si3.bcentral.cl/Siete/ES/Siete/Cuadro/CAP_ESTADIST_EXPERIM/MN_EXPERIM01/EST_EXP_001',\n",
            "           'https://si3.bcentral.cl/Siete/ES/Siete/Cuadro/CAP_ESTADIST_MACRO/MN_EST_MACRO_IV/PEM_TC',\n",
            "           'https://si3.bcentral.cl/Siete/ES/Siete/Cuadro/CAP_PRECIOS/MN_CAP_PRECIOS/UF_IVP_DIARIO',\n",
            "           'https://si3.bcentral.cl/Siete/ES/Siete/Cuadro/CAP_TASA_INTERES/MN_TASA_INTERES_09/TPM_C1',\n",
            "           'https://si3.bcentral.cl/Siete/ES/Siete/Cuadro/CAP_TIPO_CAMBIO/MN_TIPO_CAMBIO4/DOLAR_OBS_ADO',\n",
            "           'https://si3.bcentral.cl/Siete/ES/Siete/Cuadro/CAP_DYB/MN_ESTAD_MON55/EM_BMAM2',\n",
            "           'https://si3.bcentral.cl/Siete/ES/Siete/Cuadro/CAP_DERYSPOT/MN_DERYSPOT/DER_MON_01',\n",
            "           'https://si3.bcentral.cl/Siete/ES/Siete/Cuadro/CAP_CCNN/MN_CCNN76/CCNN2018_IMACEC_01',\n",
            "           'https://si3.bcentral.cl/Siete/ES/Siete/Cuadro/CAP_BDP/MN_BDP42/BP6M_RES01',\n",
            "           'https://si3.bcentral.cl/Siete/ES/Siete/Cuadro/CAP_EMP_REM_DEM/MN_EMP_REM_DEM13/ED_TDNRM2',\n",
            "           'https://si3.bcentral.cl/Siete/ES/Siete/Cuadro/CAP_EXP_ECO/MN_EXP_EC11/EXE_BCCH_01',\n",
            "           'https://si3.bcentral.cl/Siete/ES/Siete/Cuadro/CAP_IND_SEC/MN_IND_SEC20/IS_GENERAL_PROPIEDAD_2008',\n",
            "           'https://si3.bcentral.cl/Siete/ES/Siete/Cuadro/CAP_EI/MN_EI11/EI_CREC_TRI',\n",
            "           'https://si3.bcentral.cl/Siete/ES/Siete/Cuadro/CAP_FIN_PUB/MN_FIN_PUB_1/GOB_TOT_1',\n",
            "           'https://si3.bcentral.cl/Siete/ES/Siete/Cuadro/CAP_ESTADIST_GENERO/MN_GENERO1/EST_GEN_POB_01',\n",
            "           'https://si3.bcentral.cl/Siete/ES/Siete/Cuadro/CAP_ESTADIST_REGIONAL/MN_REGIONAL1/CCNN2018_PIB_REGIONAL_T',\n",
            "           'https://si3.bcentral.cl/Siete/ES/Siete/Cuadro/CAP_ESTADIST_EXPERIM/MN_EXPERIM01/EST_EXP_001'],\n",
            " 'url': 'response.url'}\n",
            "Testing >  https://si3.bcentral.cl/Siete\n",
            "2022-11-11 03:56:31 [scrapy.dupefilters] DEBUG: Filtered duplicate request: <GET https://si3.bcentral.cl/Siete/ES/Siete/Cuadro/CAP_ESTADIST_MACRO/MN_EST_MACRO_IV/PEM_TC> - no more duplicates will be shown (see DUPEFILTER_DEBUG to show all duplicates)\n",
            "2022-11-11 03:56:32 [scrapy.core.engine] DEBUG: Crawled (200) <GET https://si3.bcentral.cl/Siete/ES/Siete/Cuadro/CAP_ESTADIST_MACRO/MN_EST_MACRO_IV/PEM_TC> (referer: https://si3.bcentral.cl/)\n",
            "https://si3.bcentral.cl/Siete/ES/Siete/Cuadro/CAP_ESTADIST_MACRO/MN_EST_MACRO_IV/PEM_TC\n",
            "2022-11-11 03:56:34 [scrapy.core.engine] DEBUG: Crawled (200) <GET https://si3.bcentral.cl/Siete/ES/Siete/Cuadro/CAP_EMP_REM_DEM/MN_EMP_REM_DEM13/ED_TDNRM2> (referer: https://si3.bcentral.cl/)\n",
            "https://si3.bcentral.cl/Siete/ES/Siete/Cuadro/CAP_EMP_REM_DEM/MN_EMP_REM_DEM13/ED_TDNRM2\n",
            "2022-11-11 03:56:35 [scrapy.core.engine] DEBUG: Crawled (200) <GET https://si3.bcentral.cl/Siete/ES/Siete/Cuadro/CAP_PRECIOS/MN_CAP_PRECIOS/UF_IVP_DIARIO> (referer: https://si3.bcentral.cl/)\n",
            "https://si3.bcentral.cl/Siete/ES/Siete/Cuadro/CAP_PRECIOS/MN_CAP_PRECIOS/UF_IVP_DIARIO\n",
            "2022-11-11 03:56:35 [scrapy.core.engine] DEBUG: Crawled (200) <GET https://si3.bcentral.cl/Siete/ES/Siete/Cuadro/CAP_TIPO_CAMBIO/MN_TIPO_CAMBIO4/DOLAR_OBS_ADO> (referer: https://si3.bcentral.cl/)\n",
            "https://si3.bcentral.cl/Siete/ES/Siete/Cuadro/CAP_TIPO_CAMBIO/MN_TIPO_CAMBIO4/DOLAR_OBS_ADO\n",
            "2022-11-11 03:56:36 [scrapy.core.engine] DEBUG: Crawled (200) <GET https://si3.bcentral.cl/Siete/ES/Siete/Cuadro/CAP_EXP_ECO/MN_EXP_EC11/EXE_BCCH_01> (referer: https://si3.bcentral.cl/)\n",
            "https://si3.bcentral.cl/Siete/ES/Siete/Cuadro/CAP_EXP_ECO/MN_EXP_EC11/EXE_BCCH_01\n",
            "2022-11-11 03:56:36 [scrapy.core.engine] DEBUG: Crawled (200) <GET https://si3.bcentral.cl/Siete/ES/Siete/Cuadro/CAP_BDP/MN_BDP42/BP6M_RES01> (referer: https://si3.bcentral.cl/)\n",
            "https://si3.bcentral.cl/Siete/ES/Siete/Cuadro/CAP_BDP/MN_BDP42/BP6M_RES01\n",
            "2022-11-11 03:56:36 [scrapy.core.engine] DEBUG: Crawled (200) <GET https://si3.bcentral.cl/Siete/ES/Siete/Cuadro/CAP_IND_SEC/MN_IND_SEC20/IS_GENERAL_PROPIEDAD_2008> (referer: https://si3.bcentral.cl/)\n",
            "2022-11-11 03:56:36 [scrapy.core.engine] DEBUG: Crawled (200) <GET https://si3.bcentral.cl/Siete/ES/Siete/Cuadro/CAP_FIN_PUB/MN_FIN_PUB_1/GOB_TOT_1> (referer: https://si3.bcentral.cl/)\n",
            "https://si3.bcentral.cl/Siete/ES/Siete/Cuadro/CAP_IND_SEC/MN_IND_SEC20/IS_GENERAL_PROPIEDAD_2008\n",
            "https://si3.bcentral.cl/Siete/ES/Siete/Cuadro/CAP_FIN_PUB/MN_FIN_PUB_1/GOB_TOT_1\n",
            "2022-11-11 03:56:36 [scrapy.core.engine] DEBUG: Crawled (200) <GET https://si3.bcentral.cl/Siete/ES/Siete/Cuadro/CAP_DERYSPOT/MN_DERYSPOT/DER_MON_01> (referer: https://si3.bcentral.cl/)\n",
            "https://si3.bcentral.cl/Siete/ES/Siete/Cuadro/CAP_DERYSPOT/MN_DERYSPOT/DER_MON_01\n",
            "2022-11-11 03:56:37 [scrapy.core.engine] DEBUG: Crawled (200) <GET https://si3.bcentral.cl/Siete/ES/Siete/Cuadro/CAP_ESTADIST_EXPERIM/MN_EXPERIM01/EST_EXP_001> (referer: https://si3.bcentral.cl/)\n",
            "https://si3.bcentral.cl/Siete/ES/Siete/Cuadro/CAP_ESTADIST_EXPERIM/MN_EXPERIM01/EST_EXP_001\n",
            "2022-11-11 03:56:37 [scrapy.core.engine] DEBUG: Crawled (200) <GET https://si3.bcentral.cl/Siete/ES/Siete/Cuadro/CAP_ESTADIST_GENERO/MN_GENERO1/EST_GEN_POB_01> (referer: https://si3.bcentral.cl/)\n",
            "https://si3.bcentral.cl/Siete/ES/Siete/Cuadro/CAP_ESTADIST_GENERO/MN_GENERO1/EST_GEN_POB_01\n",
            "2022-11-11 03:56:37 [scrapy.core.engine] DEBUG: Crawled (200) <GET https://si3.bcentral.cl/Siete/ES/Siete/Cuadro/CAP_EI/MN_EI11/EI_CREC_TRI> (referer: https://si3.bcentral.cl/)\n",
            "https://si3.bcentral.cl/Siete/ES/Siete/Cuadro/CAP_EI/MN_EI11/EI_CREC_TRI\n",
            "2022-11-11 03:56:38 [scrapy.core.engine] DEBUG: Crawled (200) <GET https://si3.bcentral.cl/Siete/ES/Siete/Cuadro/CAP_ESTADIST_REGIONAL/MN_REGIONAL1/CCNN2018_PIB_REGIONAL_T> (referer: https://si3.bcentral.cl/)\n",
            "https://si3.bcentral.cl/Siete/ES/Siete/Cuadro/CAP_ESTADIST_REGIONAL/MN_REGIONAL1/CCNN2018_PIB_REGIONAL_T\n",
            "2022-11-11 03:56:38 [scrapy.core.engine] DEBUG: Crawled (200) <GET https://si3.bcentral.cl/Siete/ES/Siete/Cuadro/CAP_TASA_INTERES/MN_TASA_INTERES_09/TPM_C1> (referer: https://si3.bcentral.cl/)\n",
            "https://si3.bcentral.cl/Siete/ES/Siete/Cuadro/CAP_TASA_INTERES/MN_TASA_INTERES_09/TPM_C1\n",
            "2022-11-11 03:56:39 [scrapy.core.engine] DEBUG: Crawled (200) <GET https://si3.bcentral.cl/Siete/ES/Siete/Cuadro/CAP_CCNN/MN_CCNN76/CCNN2018_IMACEC_01> (referer: https://si3.bcentral.cl/)\n",
            "https://si3.bcentral.cl/Siete/ES/Siete/Cuadro/CAP_CCNN/MN_CCNN76/CCNN2018_IMACEC_01\n",
            "2022-11-11 03:56:40 [scrapy.core.engine] DEBUG: Crawled (200) <GET https://si3.bcentral.cl/Siete/ES/Siete/Cuadro/CAP_DYB/MN_ESTAD_MON55/EM_BMAM2> (referer: https://si3.bcentral.cl/)\n",
            "https://si3.bcentral.cl/Siete/ES/Siete/Cuadro/CAP_DYB/MN_ESTAD_MON55/EM_BMAM2\n",
            "2022-11-11 03:56:40 [scrapy.core.engine] INFO: Closing spider (finished)\n",
            "2022-11-11 03:56:40 [scrapy.extensions.feedexport] INFO: Stored csv feed (1 items) in: data_bcentral.csv\n",
            "2022-11-11 03:56:40 [scrapy.statscollectors] INFO: Dumping Scrapy stats:\n",
            "{'downloader/request_bytes': 9297,\n",
            " 'downloader/request_count': 20,\n",
            " 'downloader/request_method_count/GET': 20,\n",
            " 'downloader/response_bytes': 4471789,\n",
            " 'downloader/response_count': 20,\n",
            " 'downloader/response_status_count/200': 19,\n",
            " 'downloader/response_status_count/302': 1,\n",
            " 'dupefilter/filtered': 17,\n",
            " 'elapsed_time_seconds': 12.6345,\n",
            " 'feedexport/success_count/FileFeedStorage': 1,\n",
            " 'finish_reason': 'finished',\n",
            " 'finish_time': datetime.datetime(2022, 11, 11, 3, 56, 40, 225116),\n",
            " 'item_scraped_count': 1,\n",
            " 'log_count/DEBUG': 41,\n",
            " 'log_count/INFO': 11,\n",
            " 'memusage/max': 93401088,\n",
            " 'memusage/startup': 93401088,\n",
            " 'request_depth_max': 2,\n",
            " 'response_received_count': 19,\n",
            " 'robotstxt/request_count': 1,\n",
            " 'robotstxt/response_count': 1,\n",
            " 'robotstxt/response_status_count/200': 1,\n",
            " 'scheduler/dequeued': 18,\n",
            " 'scheduler/dequeued/memory': 18,\n",
            " 'scheduler/enqueued': 18,\n",
            " 'scheduler/enqueued/memory': 18,\n",
            " 'start_time': datetime.datetime(2022, 11, 11, 3, 56, 27, 590616)}\n",
            "2022-11-11 03:56:40 [scrapy.core.engine] INFO: Spider closed (finished)\n"
          ]
        }
      ]
    },
    {
      "cell_type": "markdown",
      "source": [
        "## Setting up selenium enviroment"
      ],
      "metadata": {
        "id": "mq9RIExW_JYP"
      }
    },
    {
      "cell_type": "code",
      "source": [
        "!apt update\n",
        "!apt install chromium-chromedriver\n",
        "!pip install selenium"
      ],
      "metadata": {
        "id": "xmhks0_X0TJK",
        "colab": {
          "base_uri": "https://localhost:8080/"
        },
        "outputId": "0de43a2a-91a1-4e84-dd9c-0a77042b263c"
      },
      "execution_count": 20,
      "outputs": [
        {
          "output_type": "stream",
          "name": "stdout",
          "text": [
            "\u001b[33m\r0% [Working]\u001b[0m\r            \rGet:1 http://security.ubuntu.com/ubuntu bionic-security InRelease [88.7 kB]\n",
            "Get:2 https://cloud.r-project.org/bin/linux/ubuntu bionic-cran40/ InRelease [3,626 B]\n",
            "Ign:3 https://developer.download.nvidia.com/compute/machine-learning/repos/ubuntu1804/x86_64  InRelease\n",
            "Hit:4 https://developer.download.nvidia.com/compute/cuda/repos/ubuntu1804/x86_64  InRelease\n",
            "Hit:5 http://archive.ubuntu.com/ubuntu bionic InRelease\n",
            "Hit:6 https://developer.download.nvidia.com/compute/machine-learning/repos/ubuntu1804/x86_64  Release\n",
            "Get:7 http://archive.ubuntu.com/ubuntu bionic-updates InRelease [88.7 kB]\n",
            "Hit:8 http://ppa.launchpad.net/c2d4u.team/c2d4u4.0+/ubuntu bionic InRelease\n",
            "Get:9 http://archive.ubuntu.com/ubuntu bionic-backports InRelease [83.3 kB]\n",
            "Hit:10 http://ppa.launchpad.net/cran/libgit2/ubuntu bionic InRelease\n",
            "Hit:11 http://ppa.launchpad.net/deadsnakes/ppa/ubuntu bionic InRelease\n",
            "Hit:12 http://ppa.launchpad.net/graphics-drivers/ppa/ubuntu bionic InRelease\n",
            "Get:13 http://security.ubuntu.com/ubuntu bionic-security/universe amd64 Packages [1,554 kB]\n",
            "Get:15 http://security.ubuntu.com/ubuntu bionic-security/restricted amd64 Packages [1,230 kB]\n",
            "Get:16 http://security.ubuntu.com/ubuntu bionic-security/main amd64 Packages [3,040 kB]\n",
            "Get:17 http://archive.ubuntu.com/ubuntu bionic-updates/multiverse amd64 Packages [29.9 kB]\n",
            "Get:18 http://archive.ubuntu.com/ubuntu bionic-updates/restricted amd64 Packages [1,271 kB]\n",
            "Get:19 http://archive.ubuntu.com/ubuntu bionic-updates/universe amd64 Packages [2,332 kB]\n",
            "Get:20 http://archive.ubuntu.com/ubuntu bionic-updates/main amd64 Packages [3,472 kB]\n",
            "Fetched 13.2 MB in 3s (3,957 kB/s)\n",
            "Reading package lists... Done\n",
            "Building dependency tree       \n",
            "Reading state information... Done\n",
            "5 packages can be upgraded. Run 'apt list --upgradable' to see them.\n",
            "Reading package lists... Done\n",
            "Building dependency tree       \n",
            "Reading state information... Done\n",
            "The following package was automatically installed and is no longer required:\n",
            "  libnvidia-common-460\n",
            "Use 'apt autoremove' to remove it.\n",
            "The following additional packages will be installed:\n",
            "  chromium-browser chromium-browser-l10n chromium-codecs-ffmpeg-extra\n",
            "Suggested packages:\n",
            "  webaccounts-chromium-extension unity-chromium-extension\n",
            "The following NEW packages will be installed:\n",
            "  chromium-browser chromium-browser-l10n chromium-chromedriver\n",
            "  chromium-codecs-ffmpeg-extra\n",
            "0 upgraded, 4 newly installed, 0 to remove and 5 not upgraded.\n",
            "Need to get 95.1 MB of archives.\n",
            "After this operation, 319 MB of additional disk space will be used.\n",
            "Get:1 http://archive.ubuntu.com/ubuntu bionic-updates/universe amd64 chromium-codecs-ffmpeg-extra amd64 107.0.5304.87-0ubuntu11.18.04.1 [1,158 kB]\n",
            "Get:2 http://archive.ubuntu.com/ubuntu bionic-updates/universe amd64 chromium-browser amd64 107.0.5304.87-0ubuntu11.18.04.1 [83.1 MB]\n",
            "Get:3 http://archive.ubuntu.com/ubuntu bionic-updates/universe amd64 chromium-browser-l10n all 107.0.5304.87-0ubuntu11.18.04.1 [5,260 kB]\n",
            "Get:4 http://archive.ubuntu.com/ubuntu bionic-updates/universe amd64 chromium-chromedriver amd64 107.0.5304.87-0ubuntu11.18.04.1 [5,570 kB]\n",
            "Fetched 95.1 MB in 2s (44.4 MB/s)\n",
            "Selecting previously unselected package chromium-codecs-ffmpeg-extra.\n",
            "(Reading database ... 123942 files and directories currently installed.)\n",
            "Preparing to unpack .../chromium-codecs-ffmpeg-extra_107.0.5304.87-0ubuntu11.18.04.1_amd64.deb ...\n",
            "Unpacking chromium-codecs-ffmpeg-extra (107.0.5304.87-0ubuntu11.18.04.1) ...\n",
            "Selecting previously unselected package chromium-browser.\n",
            "Preparing to unpack .../chromium-browser_107.0.5304.87-0ubuntu11.18.04.1_amd64.deb ...\n",
            "Unpacking chromium-browser (107.0.5304.87-0ubuntu11.18.04.1) ...\n",
            "Selecting previously unselected package chromium-browser-l10n.\n",
            "Preparing to unpack .../chromium-browser-l10n_107.0.5304.87-0ubuntu11.18.04.1_all.deb ...\n",
            "Unpacking chromium-browser-l10n (107.0.5304.87-0ubuntu11.18.04.1) ...\n",
            "Selecting previously unselected package chromium-chromedriver.\n",
            "Preparing to unpack .../chromium-chromedriver_107.0.5304.87-0ubuntu11.18.04.1_amd64.deb ...\n",
            "Unpacking chromium-chromedriver (107.0.5304.87-0ubuntu11.18.04.1) ...\n",
            "Setting up chromium-codecs-ffmpeg-extra (107.0.5304.87-0ubuntu11.18.04.1) ...\n",
            "Setting up chromium-browser (107.0.5304.87-0ubuntu11.18.04.1) ...\n",
            "update-alternatives: using /usr/bin/chromium-browser to provide /usr/bin/x-www-browser (x-www-browser) in auto mode\n",
            "update-alternatives: using /usr/bin/chromium-browser to provide /usr/bin/gnome-www-browser (gnome-www-browser) in auto mode\n",
            "Setting up chromium-chromedriver (107.0.5304.87-0ubuntu11.18.04.1) ...\n",
            "Setting up chromium-browser-l10n (107.0.5304.87-0ubuntu11.18.04.1) ...\n",
            "Processing triggers for man-db (2.8.3-2ubuntu0.1) ...\n",
            "Processing triggers for hicolor-icon-theme (0.17-2) ...\n",
            "Processing triggers for mime-support (3.60ubuntu1) ...\n",
            "Processing triggers for libc-bin (2.27-3ubuntu1.6) ...\n",
            "Looking in indexes: https://pypi.org/simple, https://us-python.pkg.dev/colab-wheels/public/simple/\n",
            "Collecting selenium\n",
            "  Downloading selenium-4.6.0-py3-none-any.whl (5.2 MB)\n",
            "\u001b[K     |████████████████████████████████| 5.2 MB 5.1 MB/s \n",
            "\u001b[?25hCollecting trio~=0.17\n",
            "  Downloading trio-0.22.0-py3-none-any.whl (384 kB)\n",
            "\u001b[K     |████████████████████████████████| 384 kB 56.2 MB/s \n",
            "\u001b[?25hCollecting trio-websocket~=0.9\n",
            "  Downloading trio_websocket-0.9.2-py3-none-any.whl (16 kB)\n",
            "Requirement already satisfied: certifi>=2021.10.8 in /usr/local/lib/python3.7/dist-packages (from selenium) (2022.9.24)\n",
            "Collecting urllib3[socks]~=1.26\n",
            "  Downloading urllib3-1.26.12-py2.py3-none-any.whl (140 kB)\n",
            "\u001b[K     |████████████████████████████████| 140 kB 50.0 MB/s \n",
            "\u001b[?25hCollecting async-generator>=1.9\n",
            "  Downloading async_generator-1.10-py3-none-any.whl (18 kB)\n",
            "Collecting exceptiongroup>=1.0.0rc9\n",
            "  Downloading exceptiongroup-1.0.1-py3-none-any.whl (12 kB)\n",
            "Requirement already satisfied: sortedcontainers in /usr/local/lib/python3.7/dist-packages (from trio~=0.17->selenium) (2.4.0)\n",
            "Requirement already satisfied: idna in /usr/local/lib/python3.7/dist-packages (from trio~=0.17->selenium) (2.10)\n",
            "Collecting sniffio\n",
            "  Downloading sniffio-1.3.0-py3-none-any.whl (10 kB)\n",
            "Requirement already satisfied: attrs>=19.2.0 in /usr/local/lib/python3.7/dist-packages (from trio~=0.17->selenium) (22.1.0)\n",
            "Collecting outcome\n",
            "  Downloading outcome-1.2.0-py2.py3-none-any.whl (9.7 kB)\n",
            "Collecting wsproto>=0.14\n",
            "  Downloading wsproto-1.2.0-py3-none-any.whl (24 kB)\n",
            "Requirement already satisfied: PySocks!=1.5.7,<2.0,>=1.5.6 in /usr/local/lib/python3.7/dist-packages (from urllib3[socks]~=1.26->selenium) (1.7.1)\n",
            "Collecting h11<1,>=0.9.0\n",
            "  Downloading h11-0.14.0-py3-none-any.whl (58 kB)\n",
            "\u001b[K     |████████████████████████████████| 58 kB 5.8 MB/s \n",
            "\u001b[?25hRequirement already satisfied: typing-extensions in /usr/local/lib/python3.7/dist-packages (from h11<1,>=0.9.0->wsproto>=0.14->trio-websocket~=0.9->selenium) (4.1.1)\n",
            "Installing collected packages: sniffio, outcome, h11, exceptiongroup, async-generator, wsproto, urllib3, trio, trio-websocket, selenium\n",
            "  Attempting uninstall: urllib3\n",
            "    Found existing installation: urllib3 1.24.3\n",
            "    Uninstalling urllib3-1.24.3:\n",
            "      Successfully uninstalled urllib3-1.24.3\n",
            "\u001b[31mERROR: pip's dependency resolver does not currently take into account all the packages that are installed. This behaviour is the source of the following dependency conflicts.\n",
            "requests 2.23.0 requires urllib3!=1.25.0,!=1.25.1,<1.26,>=1.21.1, but you have urllib3 1.26.12 which is incompatible.\u001b[0m\n",
            "Successfully installed async-generator-1.10 exceptiongroup-1.0.1 h11-0.14.0 outcome-1.2.0 selenium-4.6.0 sniffio-1.3.0 trio-0.22.0 trio-websocket-0.9.2 urllib3-1.26.12 wsproto-1.2.0\n"
          ]
        }
      ]
    },
    {
      "cell_type": "code",
      "source": [
        "%%writefile /content/chilean_data_explore/chilean_data_explore/spiders/class_selenium_xpath.py\n",
        "\n",
        "from selenium import webdriver\n",
        "from selenium.webdriver.common.by import By\n",
        "from bs4 import BeautifulSoup\n",
        "class selenium_scrapy:\n",
        "  url_list=[]\n",
        "  def driversetup(self):\n",
        "      options = webdriver.ChromeOptions()\n",
        "      #run Selenium in headless mode\n",
        "      options.add_argument('--headless')\n",
        "      options.add_argument('--no-sandbox')\n",
        "      #overcome limited resource problems\n",
        "      options.add_argument('--disable-dev-shm-usage')\n",
        "      options.add_argument(\"lang=en\")\n",
        "      #open Browser in maximized mode\n",
        "      options.add_argument(\"start-maximized\")\n",
        "      #disable infobars\n",
        "      options.add_argument(\"disable-infobars\")\n",
        "      #disable extension\n",
        "      options.add_argument(\"--disable-extensions\")\n",
        "      options.add_argument(\"--incognito\")\n",
        "      options.add_argument(\"--disable-blink-features=AutomationControlled\")\n",
        "      \n",
        "      driver = webdriver.Chrome(options=options)\n",
        "\n",
        "      driver.execute_script(\"Object.defineProperty(navigator, 'webdriver', {get: () => undefined});\")\n",
        "\n",
        "      return driver\n",
        "    \n",
        "  def pagesource(self,url):\n",
        "      driver = self.driversetup()\n",
        "      driver.get(url)\n",
        "      #soup = BeautifulSoup(driver.page_source)\n",
        "      soup=driver.find_elements(By.XPATH, '//a[starts-with(@onclick, \"SetCapitu\")]' )\n",
        "      self.url_list = []\n",
        "      for a in soup:\n",
        "        self.url_list.append(self.url_title(a.get_attribute('onclick')))\n",
        "      driver.close()\n",
        "\n",
        "  def url_title(self,t):\n",
        "      replacements = [\n",
        "        (\"'\",\"\"),\n",
        "        (\")\",\"\"),\n",
        "        (\"(\",\"\"),\n",
        "        (\", \",\"/\"),\n",
        "        (\"SetCapitulo\",\"\"),\n",
        "      ]\n",
        "      for x,y in replacements:\n",
        "        t=t.replace(x,y)\n",
        "      return t+'/'\n",
        "    \n",
        "  def click_element_(self, url):\n",
        "      driver = self.driversetup()\n",
        "      driver.get(url)\n",
        "\n",
        "      #soup = BeautifulSoup(driver.page_source)\n",
        "      soup=driver.find_element(By.XPATH, '//*[@id=\"fsTable\"]/div[1]/div[1]/button[5]' )\n",
        "      soup.click()\n",
        "\n",
        "      soup=driver.find_elements(By.XPATH, '//*[@id=\"btnIQYContinue\"]' )[0]\n",
        "      button_after_click = soup.text\n",
        "      \n",
        "      \n",
        "      soup=driver.find_elements(By.XPATH, '//*[@id=\"divCont\"]/h2' )[0]\n",
        "      soup = soup.text\n",
        "\n",
        "      driver.close()  \n",
        "\n",
        "      return soup + \"---\" + button_after_click"
      ],
      "metadata": {
        "id": "zJntoVOa0UYh",
        "colab": {
          "base_uri": "https://localhost:8080/"
        },
        "outputId": "d440da12-8057-482d-ea89-1fc4071bea72"
      },
      "execution_count": 21,
      "outputs": [
        {
          "output_type": "stream",
          "name": "stdout",
          "text": [
            "Writing /content/chilean_data_explore/chilean_data_explore/spiders/class_selenium_xpath.py\n"
          ]
        }
      ]
    },
    {
      "cell_type": "code",
      "source": [
        "from chilean_data_explore.chilean_data_explore.spiders.class_selenium_xpath import selenium_scrapy\n",
        "\n",
        "data_crawler = selenium_scrapy()\n",
        "url2='https://si3.bcentral.cl/Siete'\n",
        "data_crawler.pagesource(url2)\n",
        "\n",
        "print(data_crawler.url_list)\n",
        "\n",
        "print(data_crawler.click_element_('https://si3.bcentral.cl/Siete/ES/Siete/Cuadro/CAP_TASA_INTERES/MN_TASA_INTERES_09/TPM_C1',\n",
        "))\n",
        "\n",
        "del data_crawler\n"
      ],
      "metadata": {
        "id": "dH1tzX5x0gVv",
        "colab": {
          "base_uri": "https://localhost:8080/",
          "height": 447
        },
        "outputId": "f75ada72-4726-4a76-b2ff-ec9af2b0563d"
      },
      "execution_count": 22,
      "outputs": [
        {
          "output_type": "stream",
          "name": "stdout",
          "text": [
            "['CAP_ESTADIST_MACRO/MN_EST_MACRO_IV/PEM_TC/', 'CAP_PRECIOS/MN_CAP_PRECIOS/UF_IVP_DIARIO/', 'CAP_TASA_INTERES/MN_TASA_INTERES_09/TPM_C1/', 'CAP_TIPO_CAMBIO/MN_TIPO_CAMBIO4/DOLAR_OBS_ADO/', 'CAP_DYB/MN_ESTAD_MON55/EM_BMAM2/', 'CAP_DERYSPOT/MN_DERYSPOT/DER_MON_01/', 'CAP_CCNN/MN_CCNN76/CCNN2018_IMACEC_01/', 'CAP_BDP/MN_BDP42/BP6M_RES01/', 'CAP_EMP_REM_DEM/MN_EMP_REM_DEM13/ED_TDNRM2/', 'CAP_EXP_ECO/MN_EXP_EC11/EXE_BCCH_01/', 'CAP_IND_SEC/MN_IND_SEC20/IS_GENERAL_PROPIEDAD_2008/', 'CAP_EI/MN_EI11/EI_CREC_TRI/', 'CAP_FIN_PUB/MN_FIN_PUB_1/GOB_TOT_1/', 'CAP_ESTADIST_GENERO/MN_GENERO1/EST_GEN_POB_01/', 'CAP_ESTADIST_REGIONAL/MN_REGIONAL1/CCNN2018_PIB_REGIONAL_T/', 'CAP_ESTADIST_EXPERIM/MN_EXPERIM01/EST_EXP_001/', 'CAP_ESTADIST_MACRO/MN_EST_MACRO_IV/PEM_TC/', 'CAP_PRECIOS/MN_CAP_PRECIOS/UF_IVP_DIARIO/', 'CAP_TASA_INTERES/MN_TASA_INTERES_09/TPM_C1/', 'CAP_TIPO_CAMBIO/MN_TIPO_CAMBIO4/DOLAR_OBS_ADO/', 'CAP_DYB/MN_ESTAD_MON55/EM_BMAM2/', 'CAP_DERYSPOT/MN_DERYSPOT/DER_MON_01/', 'CAP_CCNN/MN_CCNN76/CCNN2018_IMACEC_01/', 'CAP_BDP/MN_BDP42/BP6M_RES01/', 'CAP_EMP_REM_DEM/MN_EMP_REM_DEM13/ED_TDNRM2/', 'CAP_EXP_ECO/MN_EXP_EC11/EXE_BCCH_01/', 'CAP_IND_SEC/MN_IND_SEC20/IS_GENERAL_PROPIEDAD_2008/', 'CAP_EI/MN_EI11/EI_CREC_TRI/', 'CAP_FIN_PUB/MN_FIN_PUB_1/GOB_TOT_1/', 'CAP_ESTADIST_GENERO/MN_GENERO1/EST_GEN_POB_01/', 'CAP_ESTADIST_REGIONAL/MN_REGIONAL1/CCNN2018_PIB_REGIONAL_T/', 'CAP_ESTADIST_EXPERIM/MN_EXPERIM01/EST_EXP_001/']\n"
          ]
        },
        {
          "output_type": "error",
          "ename": "TypeError",
          "evalue": "ignored",
          "traceback": [
            "\u001b[0;31m---------------------------------------------------------------------------\u001b[0m",
            "\u001b[0;31mTypeError\u001b[0m                                 Traceback (most recent call last)",
            "\u001b[0;32m<ipython-input-22-a08b5736d009>\u001b[0m in \u001b[0;36m<module>\u001b[0;34m\u001b[0m\n\u001b[1;32m      7\u001b[0m \u001b[0mprint\u001b[0m\u001b[0;34m(\u001b[0m\u001b[0mdata_crawler\u001b[0m\u001b[0;34m.\u001b[0m\u001b[0murl_list\u001b[0m\u001b[0;34m)\u001b[0m\u001b[0;34m\u001b[0m\u001b[0;34m\u001b[0m\u001b[0m\n\u001b[1;32m      8\u001b[0m \u001b[0;34m\u001b[0m\u001b[0m\n\u001b[0;32m----> 9\u001b[0;31m print(data_crawler.click_element_('https://si3.bcentral.cl/Siete/ES/Siete/Cuadro/CAP_TASA_INTERES/MN_TASA_INTERES_09/TPM_C1',\n\u001b[0m\u001b[1;32m     10\u001b[0m ))\n\u001b[1;32m     11\u001b[0m \u001b[0;34m\u001b[0m\u001b[0m\n",
            "\u001b[0;32m/content/chilean_data_explore/chilean_data_explore/spiders/class_selenium_xpath.py\u001b[0m in \u001b[0;36mclick_element_\u001b[0;34m(self, url)\u001b[0m\n\u001b[1;32m     55\u001b[0m \u001b[0;34m\u001b[0m\u001b[0m\n\u001b[1;32m     56\u001b[0m       \u001b[0;31m#soup = BeautifulSoup(driver.page_source)\u001b[0m\u001b[0;34m\u001b[0m\u001b[0;34m\u001b[0m\u001b[0;34m\u001b[0m\u001b[0m\n\u001b[0;32m---> 57\u001b[0;31m       \u001b[0msoup\u001b[0m\u001b[0;34m=\u001b[0m\u001b[0mdriver\u001b[0m\u001b[0;34m.\u001b[0m\u001b[0mfind_element\u001b[0m\u001b[0;34m(\u001b[0m\u001b[0mBy\u001b[0m\u001b[0;34m.\u001b[0m\u001b[0mXPATH\u001b[0m\u001b[0;34m,\u001b[0m \u001b[0;34m'//*[@id=\"fsTable\"]/div[1]/div[1]/button[5]'\u001b[0m \u001b[0;34m)\u001b[0m\u001b[0;34m[\u001b[0m\u001b[0;36m0\u001b[0m\u001b[0;34m]\u001b[0m\u001b[0;34m\u001b[0m\u001b[0;34m\u001b[0m\u001b[0m\n\u001b[0m\u001b[1;32m     58\u001b[0m       \u001b[0msoup\u001b[0m\u001b[0;34m.\u001b[0m\u001b[0mclick\u001b[0m\u001b[0;34m(\u001b[0m\u001b[0;34m)\u001b[0m\u001b[0;34m\u001b[0m\u001b[0;34m\u001b[0m\u001b[0m\n\u001b[1;32m     59\u001b[0m \u001b[0;34m\u001b[0m\u001b[0m\n",
            "\u001b[0;31mTypeError\u001b[0m: 'WebElement' object is not subscriptable"
          ]
        }
      ]
    },
    {
      "cell_type": "markdown",
      "source": [
        "#### Scrawl python"
      ],
      "metadata": {
        "id": "0GY-Ynl3tY_2"
      }
    },
    {
      "cell_type": "code",
      "source": [
        "!scrapy genspider -t crawl tencent web"
      ],
      "metadata": {
        "id": "pm3B5BprimdP"
      },
      "execution_count": null,
      "outputs": []
    },
    {
      "cell_type": "code",
      "source": [
        "%%writefile /content/chilean_data_explore/chilean_data_explore/spiders/tencent.py\n",
        "import scrapy\n",
        "\n",
        "#load class CrawlSpider and Rule\n",
        "from scrapy.spiders import CrawlSpider,Rule\n",
        "\n",
        "#load the link rules to match satisfiled links\n",
        "from scrapy.linkextractors import LinkExtractor \n",
        "\n",
        "#from tenSpider.items import TenspiderItem \n",
        "\n",
        "from chilean_data_explore.spiders.class_selenium_xpath import selenium_scrapy\n",
        "\n",
        "class TencentSpider(CrawlSpider):\n",
        "    name = 'tencent'\n",
        "    allowed_domains = ['si3.bcentral.cl']\n",
        "    start_urls = ['https://si3.bcentral.cl/Siete'] #/ES/Siete/Cuadro\n",
        "\n",
        "    # the extract function in response,return a list match the rule\n",
        "      #list_pagelink=selenium_scrapy()\n",
        "      #list_pagelink.pagesource(start_urls[0])\n",
        "    link_extractor = LinkExtractor(allow=('/'))\n",
        "\n",
        "    #follow item will be used to Recursive crawling\n",
        "    rules=[\n",
        "        # get the link in pagelink, send the request one by one,\n",
        "        # call the specified function to process \n",
        "        Rule(link_extractor,callback=\"parseTencent\", follow=True)\n",
        "    ]\n",
        "\n",
        "    # specified process function\n",
        "    def parseTencent(self,response):\n",
        "      if 'CAP_' in response.url:\n",
        "        print(\">>>>>>>>>>>>>>>>>>>>>>>>>>>>>>><<<<\",response.url)\n",
        "        list_pagelink=selenium_scrapy()\n",
        "        list_pagelink.click_element(response.url)\n",
        "        yield {\n",
        "          'data': response.xpath('//*[@id=\"navbar01\"]/div/h4').extract(),\n",
        "        }"
      ],
      "metadata": {
        "id": "I7-EFjgWiukh"
      },
      "execution_count": null,
      "outputs": []
    },
    {
      "cell_type": "code",
      "source": [
        "!scrapy crawl tencent"
      ],
      "metadata": {
        "id": "tTTzd8Dejmfj"
      },
      "execution_count": null,
      "outputs": []
    },
    {
      "cell_type": "code",
      "source": [],
      "metadata": {
        "id": "pRnhg35dtbo6"
      },
      "execution_count": null,
      "outputs": []
    },
    {
      "cell_type": "markdown",
      "metadata": {
        "id": "m3fr-sbmiard"
      },
      "source": [
        "# Storing crawled data "
      ]
    },
    {
      "cell_type": "code",
      "execution_count": null,
      "metadata": {
        "colab": {
          "base_uri": "https://localhost:8080/"
        },
        "id": "H3Xs4DvVhptd",
        "outputId": "2ecc2cc0-c446-4ebc-ac26-c6d98efa7744"
      },
      "outputs": [
        {
          "name": "stdout",
          "output_type": "stream",
          "text": [
            "Looking in indexes: https://pypi.org/simple, https://us-python.pkg.dev/colab-wheels/public/simple/\n",
            "Requirement already satisfied: boto3 in /usr/local/lib/python3.7/dist-packages (1.24.90)\n",
            "Requirement already satisfied: botocore<1.28.0,>=1.27.90 in /usr/local/lib/python3.7/dist-packages (from boto3) (1.27.90)\n",
            "Requirement already satisfied: jmespath<2.0.0,>=0.7.1 in /usr/local/lib/python3.7/dist-packages (from boto3) (1.0.1)\n",
            "Requirement already satisfied: s3transfer<0.7.0,>=0.6.0 in /usr/local/lib/python3.7/dist-packages (from boto3) (0.6.0)\n",
            "Requirement already satisfied: urllib3<1.27,>=1.25.4 in /usr/local/lib/python3.7/dist-packages (from botocore<1.28.0,>=1.27.90->boto3) (1.26.12)\n",
            "Requirement already satisfied: python-dateutil<3.0.0,>=2.1 in /usr/local/lib/python3.7/dist-packages (from botocore<1.28.0,>=1.27.90->boto3) (2.8.2)\n",
            "Requirement already satisfied: six>=1.5 in /usr/local/lib/python3.7/dist-packages (from python-dateutil<3.0.0,>=2.1->botocore<1.28.0,>=1.27.90->boto3) (1.15.0)\n"
          ]
        }
      ],
      "source": [
        "!python -m pip install boto3\n"
      ]
    },
    {
      "cell_type": "code",
      "execution_count": null,
      "metadata": {
        "id": "-qTH9y60mktG"
      },
      "outputs": [],
      "source": [
        "import boto3\n",
        "import os\n",
        "import requests\n",
        "import tqdm"
      ]
    },
    {
      "cell_type": "code",
      "execution_count": null,
      "metadata": {
        "id": "IVJmdLnhlp2g"
      },
      "outputs": [],
      "source": [
        "dynamo_client  =  boto3.resource(service_name = 'data_crawled_dydb',region_name = 'us-east-1',\n",
        "              aws_access_key_id = 'AKIA3BS5NFXXXXXXX',\n",
        "              aws_secret_access_key = 'qfGTJL28HrqcbhKCM0t//xxx7gTGG4iNrv3/d94Lsp')"
      ]
    },
    {
      "cell_type": "code",
      "execution_count": null,
      "metadata": {
        "id": "p3_jZTMKl1QE"
      },
      "outputs": [],
      "source": [
        "product_table = dynamo_client.Table('institution')\n",
        "product_table.table_status\n",
        "\n",
        "product_table_link = dynamo_client.Table('link_collection')\n",
        "product_table_link.table_status\n",
        "\n",
        "product_table_file = dynamo_client.Table('file_collection')\n",
        "product_table_file.table_status"
      ]
    },
    {
      "cell_type": "code",
      "execution_count": null,
      "metadata": {
        "id": "-sPF8vXMlqko"
      },
      "outputs": [],
      "source": [
        "dynamo_client.get_available_subresources()"
      ]
    },
    {
      "cell_type": "code",
      "execution_count": null,
      "metadata": {
        "id": "60fizkKMlXAY"
      },
      "outputs": [],
      "source": [
        "def query_police_department_record_by_guid(guid):  \n",
        "    db = dynamodb_resource()\n",
        "    extra_msg = {\"region_name\": REGION, \"aws_service\": \"dynamodb\", \n",
        "        \"police_department_table\":POLICE_DEPARTMENTS_TABLE,\n",
        "        \"guid\":guid}\n",
        "    log.info(f\"Get PD record by GUID\", extra=extra_msg)\n",
        "    pd_table = db.Table(POLICE_DEPARTMENTS_TABLE)\n",
        "    response = pd_table.get_item(\n",
        "        Key={\n",
        "            'guid': guid\n",
        "            }\n",
        "    )\n",
        "    return response['Item']"
      ]
    },
    {
      "cell_type": "code",
      "execution_count": null,
      "metadata": {
        "id": "u-gDjN1cpY01"
      },
      "outputs": [],
      "source": [
        "print(query_police_department_record_by_guid(\"jlkdajfldskj1312312\"))"
      ]
    },
    {
      "cell_type": "markdown",
      "metadata": {
        "id": "r0_pb1WDLr-3"
      },
      "source": []
    },
    {
      "cell_type": "markdown",
      "metadata": {
        "id": "3gB_b1yYNYbE"
      },
      "source": [
        "#References"
      ]
    },
    {
      "cell_type": "markdown",
      "metadata": {
        "id": "VCw9Gh1nib7k"
      },
      "source": [
        "> DynamoDB and its purposes\n",
        "*   [A one size fits all database doesn't fit anyone\n",
        "](https://www.allthingsdistributed.com/2018/06/purpose-built-databases-in-aws.html)\n",
        "*   [Amazon DynamoDB](https://aws.amazon.com/dynamodb/)\n",
        "*   [Scaling globally with the new AWS](https://www.allthingsdistributed.com/2022/08/aws-launches-middle-east-uae-region.html)\n",
        "\n",
        "> Interfaces for reliable connections\n",
        "*   [DynamoDB and the AWS SDKs](https://docs.aws.amazon.com/amazondynamodb/latest/developerguide/GettingStarted.html)\n",
        "*   [Boto3 and Amazon DynamoDB](https://www.section.io/engineering-education/python-boto3-and-amazon-dynamodb-programming-tutorial/)\n",
        "*   [DynamoDb in Python using BOTO3](https://www.analyticsvidhya.com/blog/2022/05/working-with-dynamodb-in-python-using-boto3/)\n",
        "\n",
        "\n",
        "> Scrapy \n",
        "* [Google Colab tips: using both %%writefile magic and %%javascript magic in the same cell](https://stephencowchau.medium.com/google-colab-tips-using-both-writefile-magic-and-javascript-magic-in-the-same-cell-7820e508e455)\n",
        "* [Scrapy - User Agents and Proxies](https://scrapeops.io/python-scrapy-playbook/scrapy-beginners-guide-user-agents-proxies/)\n",
        "* [Scrapy - LinkExtractors](https://www.tutorialspoint.com/scrapy/scrapy_link_extractors.htm)\n",
        "* [Scrapy - LinkExtractors - GitHub's Documentation](https://github.com/scrapy/scrapy/blob/master/docs/topics/link-extractors.rst)\n",
        "\n",
        "> Xpath\n",
        "* [Parsing HTML with Xpath](https://scrapfly.io/blog/parsing-html-with-xpath/)\n",
        "* [Scrapy - User Agents and Proxies](https://scrapeops.io/python-scrapy-playbook/scrapy-beginners-guide-user-agents-proxies/)\n",
        "* [XPath tester](https://extendsclass.com/xpath-tester.html)\n",
        "*   [XPath tester codebeautify](https://codebeautify.org/Xpath-Tester)\n",
        "*   [Xpath for python: is xpath underappreciated?](https://towardsdatascience.com/xpath-for-python-89f4423415e0)\n",
        "\n",
        "\n",
        "> Selenium\n",
        "*   [Selenium webdriver in colab](https://blog.devgenius.io/use-selenium-webdriver-in-google-colab-d5f2dba1d9f5)\n",
        "*   [Selenium - Navigation](https://selenium-python.readthedocs.io/navigating.html?highlight=driver.find_element#drag-and-drop)\n",
        "\n",
        "\n",
        "> Regular expressions (RegEx)\n",
        "*   [Regular-expressions](https://www.regular-expressions.info/tutorial.html)\n",
        "*   [Python RegEx](https://www.w3schools.com/python/python_regex.asp)\n",
        "*   [Regex Tester by language programming](https://regex101.com/r/vY6lJ4/1)\n",
        "*   [Never use RegEx for web scraping](https://www.youtube.com/watch?v=z_cdzgrjERQ)"
      ]
    },
    {
      "cell_type": "markdown",
      "source": [],
      "metadata": {
        "id": "0YlExH2W0ut6"
      }
    },
    {
      "cell_type": "code",
      "source": [
        "text = [\n",
        "'https://si3.bcentral.cl/Siete/ES/Siete/Cuadro/CAP_ESTADIST_MACRO/MN_EST_MACRO_IV/PEM_TC',\n",
        "'https://si3.bcentral.cl/Siete/ES/Siete/Cuadro/CAP_PRECIOS/MN_CAP_PRECIOS/UF_IVP_DIARIO',\n",
        "'https://si3.bcentral.cl/Siete/ES/Siete/Cuadro/CAP_TASA_INTERES/MN_TASA_INTERES_09/TPM_C1',\n",
        "'https://si3.bcentral.cl/Siete/ES/Siete/Cuadro/CAP_TIPO_CAMBIO/MN_TIPO_CAMBIO4/DOLAR_OBS_ADO',\n",
        "'https://si3.bcentral.cl/Siete/ES/Siete/Cuadro/CAP_DYB/MN_ESTAD_MON55/EM_BMAM2',\n",
        "'https://si3.bcentral.cl/Siete/ES/Siete/Cuadro/CAP_DERYSPOT/MN_DERYSPOT/DER_MON_01',\n",
        "'https://si3.bcentral.cl/Siete/ES/Siete/Cuadro/CAP_CCNN/MN_CCNN76/CCNN2018_IMACEC_01',\n",
        "'https://si3.bcentral.cl/Siete/ES/Siete/Cuadro/CAP_BDP/MN_BDP42/BP6M_RES01',\n",
        "'https://si3.bcentral.cl/Siete/ES/Siete/Cuadro/CAP_EMP_REM_DEM/MN_EMP_REM_DEM13/ED_TDNRM2',\n",
        "'https://si3.bcentral.cl/Siete/ES/Siete/Cuadro/CAP_EXP_ECO/MN_EXP_EC11/EXE_BCCH_01',\n",
        "'https://si3.bcentral.cl/Siete/ES/Siete/Cuadro/CAP_IND_SEC/MN_IND_SEC20/IS_GENERAL_PROPIEDAD_2008',\n",
        "'https://si3.bcentral.cl/Siete/ES/Siete/Cuadro/CAP_EI/MN_EI11/EI_CREC_TRI',\n",
        "'https://si3.bcentral.cl/Siete/ES/Siete/Cuadro/CAP_FIN_PUB/MN_FIN_PUB_1/GOB_TOT_1',\n",
        "'https://si3.bcentral.cl/Siete/ES/Siete/Cuadro/CAP_ESTADIST_GENERO/MN_GENERO1/EST_GEN_POB_01',\n",
        "'https://si3.bcentral.cl/Siete/ES/Siete/Cuadro/CAP_ESTADIST_REGIONAL/MN_REGIONAL1/CCNN2018_PIB_REGIONAL_T',\n",
        "'https://si3.bcentral.cl/Siete/ES/Siete/Cuadro/CAP_ESTADIST_EXPERIM/MN_EXPERIM01/EST_EXP_001',\n",
        "'https://si3.bcentral.cl/Siete/ES/Siete/Cuadro/CAP_ESTADIST_MACRO/MN_EST_MACRO_IV/PEM_TC',\n",
        "'https://si3.bcentral.cl/Siete/ES/Siete/Cuadro/CAP_PRECIOS/MN_CAP_PRECIOS/UF_IVP_DIARIO',\n",
        "'https://si3.bcentral.cl/Siete/ES/Siete/Cuadro/CAP_TASA_INTERES/MN_TASA_INTERES_09/TPM_C1',\n",
        "'https://si3.bcentral.cl/Siete/ES/Siete/Cuadro/CAP_TIPO_CAMBIO/MN_TIPO_CAMBIO4/DOLAR_OBS_ADO',\n",
        "'https://si3.bcentral.cl/Siete/ES/Siete/Cuadro/CAP_DYB/MN_ESTAD_MON55/EM_BMAM2',\n",
        "'https://si3.bcentral.cl/Siete/ES/Siete/Cuadro/CAP_DERYSPOT/MN_DERYSPOT/DER_MON_01',\n",
        "'https://si3.bcentral.cl/Siete/ES/Siete/Cuadro/CAP_CCNN/MN_CCNN76/CCNN2018_IMACEC_01',\n",
        "'https://si3.bcentral.cl/Siete/ES/Siete/Cuadro/CAP_BDP/MN_BDP42/BP6M_RES01',\n",
        "'https://si3.bcentral.cl/Siete/ES/Siete/Cuadro/CAP_EMP_REM_DEM/MN_EMP_REM_DEM13/ED_TDNRM2',\n",
        "'https://si3.bcentral.cl/Siete/ES/Siete/Cuadro/CAP_EXP_ECO/MN_EXP_EC11/EXE_BCCH_01',\n",
        "'https://si3.bcentral.cl/Siete/ES/Siete/Cuadro/CAP_IND_SEC/MN_IND_SEC20/IS_GENERAL_PROPIEDAD_2008',\n",
        "'https://si3.bcentral.cl/Siete/ES/Siete/Cuadro/CAP_EI/MN_EI11/EI_CREC_TRI',\n",
        "'https://si3.bcentral.cl/Siete/ES/Siete/Cuadro/CAP_FIN_PUB/MN_FIN_PUB_1/GOB_TOT_1',\n",
        "'https://si3.bcentral.cl/Siete/ES/Siete/Cuadro/CAP_ESTADIST_GENERO/MN_GENERO1/EST_GEN_POB_01',\n",
        "'https://si3.bcentral.cl/Siete/ES/Siete/Cuadro/CAP_ESTADIST_REGIONAL/MN_REGIONAL1/CCNN2018_PIB_REGIONAL_T',\n",
        "'https://si3.bcentral.cl/Siete/ES/Siete/Cuadro/CAP_ESTADIST_EXPERIM/MN_EXPERIM01/EST_EXP_00'\n",
        "]\n",
        "\n"
      ],
      "metadata": {
        "id": "0xeNx_I45rZc"
      },
      "execution_count": null,
      "outputs": []
    }
  ],
  "metadata": {
    "colab": {
      "collapsed_sections": [
        "w27N3RGwI1F0",
        "m3fr-sbmiard"
      ],
      "provenance": [],
      "toc_visible": true,
      "authorship_tag": "ABX9TyOEeCp1W1AyspomJi4e22kG"
    },
    "kernelspec": {
      "display_name": "Python 3",
      "name": "python3"
    },
    "language_info": {
      "name": "python"
    }
  },
  "nbformat": 4,
  "nbformat_minor": 0
}