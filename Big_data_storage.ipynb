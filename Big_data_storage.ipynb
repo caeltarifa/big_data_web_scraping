{
  "cells": [
    {
      "cell_type": "markdown",
      "metadata": {
        "id": "tQmxJTMZLtzW"
      },
      "source": [
        "# Data crawling with scrapy"
      ]
    },
    {
      "cell_type": "code",
      "execution_count": null,
      "metadata": {
        "colab": {
          "base_uri": "https://localhost:8080/"
        },
        "id": "331KxoyiLzDh",
        "outputId": "b7a5ae92-e273-495f-eb56-fc150622a775"
      },
      "outputs": [
        {
          "output_type": "stream",
          "name": "stdout",
          "text": [
            "Looking in indexes: https://pypi.org/simple, https://us-python.pkg.dev/colab-wheels/public/simple/\n",
            "Collecting scrapy\n",
            "  Downloading Scrapy-2.7.0-py2.py3-none-any.whl (270 kB)\n",
            "\u001b[K     |████████████████████████████████| 270 kB 5.3 MB/s \n",
            "\u001b[?25hRequirement already satisfied: setuptools in /usr/local/lib/python3.7/dist-packages (from scrapy) (57.4.0)\n",
            "Requirement already satisfied: packaging in /usr/local/lib/python3.7/dist-packages (from scrapy) (21.3)\n",
            "Collecting service-identity>=18.1.0\n",
            "  Downloading service_identity-21.1.0-py2.py3-none-any.whl (12 kB)\n",
            "Collecting pyOpenSSL>=21.0.0\n",
            "  Downloading pyOpenSSL-22.1.0-py3-none-any.whl (57 kB)\n",
            "\u001b[K     |████████████████████████████████| 57 kB 4.8 MB/s \n",
            "\u001b[?25hCollecting zope.interface>=5.1.0\n",
            "  Downloading zope.interface-5.5.0-cp37-cp37m-manylinux_2_5_x86_64.manylinux1_x86_64.manylinux_2_12_x86_64.manylinux2010_x86_64.whl (254 kB)\n",
            "\u001b[K     |████████████████████████████████| 254 kB 54.4 MB/s \n",
            "\u001b[?25hCollecting cssselect>=0.9.1\n",
            "  Downloading cssselect-1.1.0-py2.py3-none-any.whl (16 kB)\n",
            "Collecting tldextract\n",
            "  Downloading tldextract-3.4.0-py3-none-any.whl (93 kB)\n",
            "\u001b[K     |████████████████████████████████| 93 kB 2.5 MB/s \n",
            "\u001b[?25hRequirement already satisfied: lxml>=4.3.0 in /usr/local/lib/python3.7/dist-packages (from scrapy) (4.9.1)\n",
            "Collecting itemloaders>=1.0.1\n",
            "  Downloading itemloaders-1.0.6-py3-none-any.whl (11 kB)\n",
            "Collecting protego>=0.1.15\n",
            "  Downloading Protego-0.2.1-py2.py3-none-any.whl (8.2 kB)\n",
            "Collecting PyDispatcher>=2.0.5\n",
            "  Downloading PyDispatcher-2.0.6.tar.gz (38 kB)\n",
            "Collecting parsel>=1.5.0\n",
            "  Downloading parsel-1.6.0-py2.py3-none-any.whl (13 kB)\n",
            "Collecting itemadapter>=0.1.0\n",
            "  Downloading itemadapter-0.7.0-py3-none-any.whl (10 kB)\n",
            "Collecting w3lib>=1.17.0\n",
            "  Downloading w3lib-2.0.1-py3-none-any.whl (20 kB)\n",
            "Collecting cryptography>=3.3\n",
            "  Downloading cryptography-38.0.1-cp36-abi3-manylinux_2_24_x86_64.whl (4.0 MB)\n",
            "\u001b[K     |████████████████████████████████| 4.0 MB 31.6 MB/s \n",
            "\u001b[?25hCollecting Twisted>=18.9.0\n",
            "  Downloading Twisted-22.8.0-py3-none-any.whl (3.1 MB)\n",
            "\u001b[K     |████████████████████████████████| 3.1 MB 39.2 MB/s \n",
            "\u001b[?25hCollecting queuelib>=1.4.2\n",
            "  Downloading queuelib-1.6.2-py2.py3-none-any.whl (13 kB)\n",
            "Requirement already satisfied: cffi>=1.12 in /usr/local/lib/python3.7/dist-packages (from cryptography>=3.3->scrapy) (1.15.1)\n",
            "Requirement already satisfied: pycparser in /usr/local/lib/python3.7/dist-packages (from cffi>=1.12->cryptography>=3.3->scrapy) (2.21)\n",
            "Collecting jmespath>=0.9.5\n",
            "  Downloading jmespath-1.0.1-py3-none-any.whl (20 kB)\n",
            "Requirement already satisfied: six>=1.6.0 in /usr/local/lib/python3.7/dist-packages (from parsel>=1.5.0->scrapy) (1.15.0)\n",
            "Requirement already satisfied: attrs>=19.1.0 in /usr/local/lib/python3.7/dist-packages (from service-identity>=18.1.0->scrapy) (22.1.0)\n",
            "Requirement already satisfied: pyasn1-modules in /usr/local/lib/python3.7/dist-packages (from service-identity>=18.1.0->scrapy) (0.2.8)\n",
            "Requirement already satisfied: pyasn1 in /usr/local/lib/python3.7/dist-packages (from service-identity>=18.1.0->scrapy) (0.4.8)\n",
            "Collecting constantly>=15.1\n",
            "  Downloading constantly-15.1.0-py2.py3-none-any.whl (7.9 kB)\n",
            "Collecting Automat>=0.8.0\n",
            "  Downloading Automat-20.2.0-py2.py3-none-any.whl (31 kB)\n",
            "Requirement already satisfied: typing-extensions>=3.6.5 in /usr/local/lib/python3.7/dist-packages (from Twisted>=18.9.0->scrapy) (4.1.1)\n",
            "Collecting hyperlink>=17.1.1\n",
            "  Downloading hyperlink-21.0.0-py2.py3-none-any.whl (74 kB)\n",
            "\u001b[K     |████████████████████████████████| 74 kB 3.2 MB/s \n",
            "\u001b[?25hCollecting incremental>=21.3.0\n",
            "  Downloading incremental-22.10.0-py2.py3-none-any.whl (16 kB)\n",
            "Requirement already satisfied: idna>=2.5 in /usr/local/lib/python3.7/dist-packages (from hyperlink>=17.1.1->Twisted>=18.9.0->scrapy) (2.10)\n",
            "Requirement already satisfied: pyparsing!=3.0.5,>=2.0.2 in /usr/local/lib/python3.7/dist-packages (from packaging->scrapy) (3.0.9)\n",
            "Collecting requests-file>=1.4\n",
            "  Downloading requests_file-1.5.1-py2.py3-none-any.whl (3.7 kB)\n",
            "Requirement already satisfied: filelock>=3.0.8 in /usr/local/lib/python3.7/dist-packages (from tldextract->scrapy) (3.8.0)\n",
            "Requirement already satisfied: requests>=2.1.0 in /usr/local/lib/python3.7/dist-packages (from tldextract->scrapy) (2.23.0)\n",
            "Requirement already satisfied: certifi>=2017.4.17 in /usr/local/lib/python3.7/dist-packages (from requests>=2.1.0->tldextract->scrapy) (2022.9.24)\n",
            "Requirement already satisfied: urllib3!=1.25.0,!=1.25.1,<1.26,>=1.21.1 in /usr/local/lib/python3.7/dist-packages (from requests>=2.1.0->tldextract->scrapy) (1.24.3)\n",
            "Requirement already satisfied: chardet<4,>=3.0.2 in /usr/local/lib/python3.7/dist-packages (from requests>=2.1.0->tldextract->scrapy) (3.0.4)\n",
            "Building wheels for collected packages: PyDispatcher\n",
            "  Building wheel for PyDispatcher (setup.py) ... \u001b[?25l\u001b[?25hdone\n",
            "  Created wheel for PyDispatcher: filename=PyDispatcher-2.0.6-py3-none-any.whl size=11958 sha256=d889bec8d76f208a5d18977c5e059e43e082ec75c7f5cc52eaa8d02a36d45b5c\n",
            "  Stored in directory: /root/.cache/pip/wheels/c9/d6/6a/de198d890277cde60ca3dbebe7ae592d3b381c7d9bb2455f4d\n",
            "Successfully built PyDispatcher\n",
            "Installing collected packages: w3lib, cssselect, zope.interface, requests-file, parsel, jmespath, itemadapter, incremental, hyperlink, cryptography, constantly, Automat, Twisted, tldextract, service-identity, queuelib, pyOpenSSL, PyDispatcher, protego, itemloaders, scrapy\n",
            "Successfully installed Automat-20.2.0 PyDispatcher-2.0.6 Twisted-22.8.0 constantly-15.1.0 cryptography-38.0.1 cssselect-1.1.0 hyperlink-21.0.0 incremental-22.10.0 itemadapter-0.7.0 itemloaders-1.0.6 jmespath-1.0.1 parsel-1.6.0 protego-0.2.1 pyOpenSSL-22.1.0 queuelib-1.6.2 requests-file-1.5.1 scrapy-2.7.0 service-identity-21.1.0 tldextract-3.4.0 w3lib-2.0.1 zope.interface-5.5.0\n"
          ]
        }
      ],
      "source": [
        "!pip install scrapy "
      ]
    },
    {
      "cell_type": "code",
      "execution_count": null,
      "metadata": {
        "colab": {
          "base_uri": "https://localhost:8080/"
        },
        "id": "U-WS95CGMDxH",
        "outputId": "17e353fd-8e2f-43f4-a4b3-2ec5f2924029"
      },
      "outputs": [
        {
          "output_type": "stream",
          "name": "stdout",
          "text": [
            "New Scrapy project 'chilean_data_explore', using template directory '/usr/local/lib/python3.7/dist-packages/scrapy/templates/project', created in:\n",
            "    /content/chilean_data_explore\n",
            "\n",
            "You can start your first spider with:\n",
            "    cd chilean_data_explore\n",
            "    scrapy genspider example example.com\n"
          ]
        }
      ],
      "source": [
        "!scrapy startproject chilean_data_explore"
      ]
    },
    {
      "cell_type": "code",
      "source": [
        "import os\n"
      ],
      "metadata": {
        "id": "6DHjjfHmG1TO"
      },
      "execution_count": null,
      "outputs": []
    },
    {
      "cell_type": "markdown",
      "source": [
        "!pwd\n",
        "!ls\n"
      ],
      "metadata": {
        "id": "L8yHQ4bUGaR8"
      }
    },
    {
      "cell_type": "code",
      "execution_count": null,
      "metadata": {
        "id": "ktEKleAVsslZ",
        "colab": {
          "base_uri": "https://localhost:8080/"
        },
        "outputId": "14ffb558-1b72-4ff9-a507-41d651217a47"
      },
      "outputs": [
        {
          "output_type": "stream",
          "name": "stdout",
          "text": [
            "/content/chilean_data_explore/chilean_data_explore\n",
            "__init__.py  items.py  middlewares.py  pipelines.py  settings.py  spiders\n"
          ]
        }
      ],
      "source": [
        "os.chdir('/content/chilean_data_explore/chilean_data_explore/')\n",
        "!pwd\n",
        "!ls"
      ]
    },
    {
      "cell_type": "code",
      "source": [
        "from chilean_data_explore.chilean_data_explore.items import ChileanDataExploreItem"
      ],
      "metadata": {
        "id": "rUwNiy6yKidC"
      },
      "execution_count": null,
      "outputs": []
    },
    {
      "cell_type": "code",
      "source": [
        "%%writefile items.py\n",
        "\n",
        "import scrapy\n",
        "\n",
        "class ChileanDataExploreItem(scrapy.Item):\n",
        "    url = scrapy.Field() # str\n",
        "    article_from = scrapy.Field() # str\n",
        "    article_type = scrapy.Field() # str\n",
        "    title = scrapy.Field() # str\n",
        "    publish_date = scrapy.Field() # str\n",
        "    authors = scrapy.Field() # list json\n",
        "    tags = scrapy.Field() # list json\n",
        "    text = scrapy.Field() # list json\n",
        "    text_html = scrapy.Field() # str\n",
        "    images = scrapy.Field() # list json\n",
        "    video = scrapy.Field() # list json\n",
        "    links = scrapy.Field() # list json\n",
        "\n",
        "from scrapy.item import Item, Field\n",
        "class PropertiesItem(Item):\n",
        "     # Primary fields\n",
        "     title = Field()\n",
        "     price = Field()\n",
        "     description = Field()\n",
        "     address = Field()\n",
        "     image_urls = Field()\n",
        "\n",
        "     # Calculated fields\n",
        "     images = Field()\n",
        "     location = Field()\n",
        "     \n",
        "     # Housekeeping fields\n",
        "     url = Field()\n",
        "     project = Field()\n",
        "     spider = Field()\n",
        "     server = Field()\n",
        "     date = Field()"
      ],
      "metadata": {
        "colab": {
          "base_uri": "https://localhost:8080/"
        },
        "id": "gm0AZwn-I4SK",
        "outputId": "50a32730-e78b-4180-ee37-02f836b7d627"
      },
      "execution_count": null,
      "outputs": [
        {
          "output_type": "stream",
          "name": "stdout",
          "text": [
            "Overwriting items.py\n"
          ]
        }
      ]
    },
    {
      "cell_type": "code",
      "execution_count": null,
      "metadata": {
        "colab": {
          "base_uri": "https://localhost:8080/"
        },
        "id": "b497KTrOMQvL",
        "outputId": "614b02ef-f84c-44c2-c125-4f289ef3e3f8"
      },
      "outputs": [
        {
          "output_type": "stream",
          "name": "stdout",
          "text": [
            "/content/chilean_data_explore/chilean_data_explore\n"
          ]
        }
      ],
      "source": [
        "!pwd\n",
        "os.chdir('/content/chilean_data_explore/chilean_data_explore/spiders')\n",
        "!mkdir logo"
      ]
    },
    {
      "cell_type": "code",
      "execution_count": null,
      "metadata": {
        "colab": {
          "base_uri": "https://localhost:8080/"
        },
        "id": "6tNWJKg5MoDH",
        "outputId": "8f32f444-073b-41c3-cfdc-9cb10d8283b9"
      },
      "outputs": [
        {
          "output_type": "stream",
          "name": "stdout",
          "text": [
            "Writing quotes_spider.py\n"
          ]
        }
      ],
      "source": [
        "#%%writefile -a /chilean_data_explore/chilean_data_explore/spiders/quotes_spider.py\n",
        "%%writefile quotes_spider.py\n",
        "import scrapy\n",
        "from chilean_data_explore.items import ChileanDataExploreItem\n",
        "\n",
        "import time\n",
        "import re\n",
        "\n",
        "class ChinatimesSpider(scrapy.Spider):\n",
        "    name = 'chinatimes'\n",
        "    allowed_domains = ['chinatimes.com']\n",
        "    base_url = 'https://www.chinatimes.com'\n",
        "\n",
        "    url_array = [\n",
        "      'http://observatorio.ministeriodesarrollosocial.gob.cl/encuesta-casen',\n",
        "      'https://www.sii.cl/sobre_el_sii/estadisticas_de_empresas.html',\n",
        "      'https://www.ide.cl/index.php/informacion-territorial/descargar-informacion-territorial',\n",
        "    ]\n",
        "\n",
        "    date_str = str(time.strftime(\"%F\", time.localtime()))\n",
        "\n",
        "    #custom_settings = {\n",
        "    #    'LOG_FILE': 'log/%s-%s.log' % (name, date_str),\n",
        "    #}\n",
        "\n",
        "    def start_requests(self):\n",
        "        list_url = '%s/realtimenews' % (self.base_url)\n",
        "        yield scrapy.Request(url=list_url, callback=self.parse_list)\n",
        "\n",
        "    def parse_list(self, response):\n",
        "        for page_url in response.css('section.article-list>ul>li h3.title>a::attr(href)').getall():\n",
        "            yield scrapy.Request(url=self.base_url + page_url, callback=self.parse_news)\n",
        "\n",
        "    def parse_news(self, response):\n",
        "        item = ChileanDataExploreItem()\n",
        "\n",
        "        item['url'] = response.url\n",
        "        #item['article_from'] = self.name\n",
        "        #item['article_type'] = 'news'\n",
        "\n",
        "        #item['title'] = self._parse_title(response)\n",
        "        #item['publish_date'] = self._parse_publish_date(response)\n",
        "        #item['authors'] = self._parse_authors(response)\n",
        "        #item['tags'] = self._parse_tags(response)\n",
        "        #item['text'] = self._parse_text(response)\n",
        "        #item['text_html'] = self._parse_text_html(response)\n",
        "        #item['images'] = self._parse_images(response)\n",
        "        #item['video'] = self._parse_video(response)\n",
        "        #item['links'] = self._parse_links(response)\n",
        "\n",
        "        return item\n",
        "\n",
        "    def _parse_title(self, response):\n",
        "        return response.css('article.article-box h1.article-title::text').get()\n",
        "\n",
        "    def _parse_publish_date(self, response):\n",
        "        return response.css('article.article-box time::attr(datetime)').get()\n",
        "\n",
        "    def _parse_authors(self, response):\n",
        "        authors = response.css('article.article-box div.author>a::text').getall()\n",
        "        if len(authors) == 0:\n",
        "            authors = [response.css('article.article-box div.author::text').get(default='').strip()]\n",
        "        return authors\n",
        "\n",
        "    def _parse_tags(self, response):\n",
        "        return response.css('article.article-box div.article-hash-tag a::text').getall()\n",
        "\n",
        "    def _parse_text(self, response):\n",
        "        return response.css('article.article-box div.article-body p::text').getall()\n",
        "\n",
        "    def _parse_text_html(self, response):\n",
        "        return response.css('article.article-box div.article-body').get()\n",
        "\n",
        "    def _parse_images(self, response):\n",
        "        images_list = []\n",
        "        images_list.extend(response.css('article.article-box div.main-figure').css('img::attr(src)').getall())\n",
        "        images_list.extend(response.css('article.article-box div.article-body').css('img::attr(src)').getall())\n",
        "        return images_list\n",
        "\n",
        "    def _parse_video(self, response):\n",
        "        return response.css('article.article-box div.article-body iframe::attr(src)').getall()\n",
        "\n",
        "    def _parse_links(self, response):\n",
        "        return response.css('article.article-box div.article-body').css('a::attr(href)').getall()"
      ]
    },
    {
      "cell_type": "code",
      "execution_count": null,
      "metadata": {
        "colab": {
          "base_uri": "https://localhost:8080/"
        },
        "id": "pT91tYzFtJRV",
        "outputId": "b5efbbdd-ba0a-4244-d95d-dcd85f56c4fd"
      },
      "outputs": [
        {
          "output_type": "stream",
          "name": "stdout",
          "text": [
            "2022-10-27 12:52:19 [scrapy.utils.log] INFO: Scrapy 2.7.0 started (bot: chilean_data_explore)\n",
            "2022-10-27 12:52:19 [scrapy.utils.log] INFO: Versions: lxml 4.9.1.0, libxml2 2.9.14, cssselect 1.1.0, parsel 1.6.0, w3lib 2.0.1, Twisted 22.8.0, Python 3.7.15 (default, Oct 12 2022, 19:14:55) - [GCC 7.5.0], pyOpenSSL 22.1.0 (OpenSSL 3.0.5 5 Jul 2022), cryptography 38.0.1, Platform Linux-5.10.133+-x86_64-with-Ubuntu-18.04-bionic\n",
            "2022-10-27 12:52:19 [scrapy.crawler] INFO: Overridden settings:\n",
            "{'BOT_NAME': 'chilean_data_explore',\n",
            " 'NEWSPIDER_MODULE': 'chilean_data_explore.spiders',\n",
            " 'REQUEST_FINGERPRINTER_IMPLEMENTATION': '2.7',\n",
            " 'ROBOTSTXT_OBEY': True,\n",
            " 'SPIDER_LOADER_WARN_ONLY': True,\n",
            " 'SPIDER_MODULES': ['chilean_data_explore.spiders'],\n",
            " 'TWISTED_REACTOR': 'twisted.internet.asyncioreactor.AsyncioSelectorReactor'}\n",
            "2022-10-27 12:52:19 [asyncio] DEBUG: Using selector: EpollSelector\n",
            "2022-10-27 12:52:19 [scrapy.utils.log] DEBUG: Using reactor: twisted.internet.asyncioreactor.AsyncioSelectorReactor\n",
            "2022-10-27 12:52:19 [scrapy.utils.log] DEBUG: Using asyncio event loop: asyncio.unix_events._UnixSelectorEventLoop\n",
            "2022-10-27 12:52:19 [scrapy.extensions.telnet] INFO: Telnet Password: 579bc09c77190a27\n",
            "2022-10-27 12:52:19 [scrapy.middleware] INFO: Enabled extensions:\n",
            "['scrapy.extensions.corestats.CoreStats',\n",
            " 'scrapy.extensions.telnet.TelnetConsole',\n",
            " 'scrapy.extensions.memusage.MemoryUsage',\n",
            " 'scrapy.extensions.feedexport.FeedExporter',\n",
            " 'scrapy.extensions.logstats.LogStats']\n",
            "2022-10-27 12:52:19 [scrapy.middleware] INFO: Enabled downloader middlewares:\n",
            "['scrapy.downloadermiddlewares.robotstxt.RobotsTxtMiddleware',\n",
            " 'scrapy.downloadermiddlewares.httpauth.HttpAuthMiddleware',\n",
            " 'scrapy.downloadermiddlewares.downloadtimeout.DownloadTimeoutMiddleware',\n",
            " 'scrapy.downloadermiddlewares.defaultheaders.DefaultHeadersMiddleware',\n",
            " 'scrapy.downloadermiddlewares.useragent.UserAgentMiddleware',\n",
            " 'scrapy.downloadermiddlewares.retry.RetryMiddleware',\n",
            " 'scrapy.downloadermiddlewares.redirect.MetaRefreshMiddleware',\n",
            " 'scrapy.downloadermiddlewares.httpcompression.HttpCompressionMiddleware',\n",
            " 'scrapy.downloadermiddlewares.redirect.RedirectMiddleware',\n",
            " 'scrapy.downloadermiddlewares.cookies.CookiesMiddleware',\n",
            " 'scrapy.downloadermiddlewares.httpproxy.HttpProxyMiddleware',\n",
            " 'scrapy.downloadermiddlewares.stats.DownloaderStats']\n",
            "2022-10-27 12:52:19 [scrapy.middleware] INFO: Enabled spider middlewares:\n",
            "['scrapy.spidermiddlewares.httperror.HttpErrorMiddleware',\n",
            " 'scrapy.spidermiddlewares.offsite.OffsiteMiddleware',\n",
            " 'scrapy.spidermiddlewares.referer.RefererMiddleware',\n",
            " 'scrapy.spidermiddlewares.urllength.UrlLengthMiddleware',\n",
            " 'scrapy.spidermiddlewares.depth.DepthMiddleware']\n",
            "2022-10-27 12:52:19 [scrapy.middleware] INFO: Enabled item pipelines:\n",
            "[]\n",
            "2022-10-27 12:52:19 [scrapy.core.engine] INFO: Spider opened\n",
            "2022-10-27 12:52:19 [scrapy.extensions.logstats] INFO: Crawled 0 pages (at 0 pages/min), scraped 0 items (at 0 items/min)\n",
            "2022-10-27 12:52:19 [scrapy.extensions.telnet] INFO: Telnet console listening on 127.0.0.1:6023\n",
            "2022-10-27 12:52:19 [scrapy.core.engine] DEBUG: Crawled (200) <GET https://www.chinatimes.com/robots.txt> (referer: None)\n",
            "2022-10-27 12:52:19 [scrapy.core.engine] DEBUG: Crawled (200) <GET https://www.chinatimes.com/realtimenews> (referer: None)\n",
            "2022-10-27 12:52:20 [scrapy.core.engine] DEBUG: Crawled (200) <GET https://www.chinatimes.com/realtimenews/20221027004837-260405> (referer: https://www.chinatimes.com/realtimenews)\n",
            "2022-10-27 12:52:20 [scrapy.core.engine] DEBUG: Crawled (200) <GET https://www.chinatimes.com/realtimenews/20221027005036-260408> (referer: https://www.chinatimes.com/realtimenews)\n",
            "2022-10-27 12:52:20 [scrapy.core.engine] DEBUG: Crawled (200) <GET https://www.chinatimes.com/realtimenews/20221027005168-260405> (referer: https://www.chinatimes.com/realtimenews)\n",
            "2022-10-27 12:52:20 [scrapy.core.engine] DEBUG: Crawled (200) <GET https://www.chinatimes.com/realtimenews/20221027005171-260407> (referer: https://www.chinatimes.com/realtimenews)\n",
            "2022-10-27 12:52:20 [scrapy.core.engine] DEBUG: Crawled (200) <GET https://www.chinatimes.com/realtimenews/20221027005111-260408> (referer: https://www.chinatimes.com/realtimenews)\n",
            "2022-10-27 12:52:20 [scrapy.core.engine] DEBUG: Crawled (200) <GET https://www.chinatimes.com/realtimenews/20221027005214-260404> (referer: https://www.chinatimes.com/realtimenews)\n",
            "2022-10-27 12:52:20 [scrapy.core.engine] DEBUG: Crawled (200) <GET https://www.chinatimes.com/realtimenews/20221027005170-260409> (referer: https://www.chinatimes.com/realtimenews)\n",
            "2022-10-27 12:52:20 [scrapy.core.engine] DEBUG: Crawled (200) <GET https://www.chinatimes.com/realtimenews/20221027005238-260410> (referer: https://www.chinatimes.com/realtimenews)\n",
            "2022-10-27 12:52:20 [scrapy.core.engine] DEBUG: Crawled (200) <GET https://www.chinatimes.com/realtimenews/20221027005221-260408> (referer: https://www.chinatimes.com/realtimenews)\n",
            "2022-10-27 12:52:20 [scrapy.core.scraper] DEBUG: Scraped from <200 https://www.chinatimes.com/realtimenews/20221027004837-260405>\n",
            "{'url': 'https://www.chinatimes.com/realtimenews/20221027004837-260405'}\n",
            "2022-10-27 12:52:20 [scrapy.core.scraper] DEBUG: Scraped from <200 https://www.chinatimes.com/realtimenews/20221027005036-260408>\n",
            "{'url': 'https://www.chinatimes.com/realtimenews/20221027005036-260408'}\n",
            "2022-10-27 12:52:20 [scrapy.core.engine] DEBUG: Crawled (200) <GET https://www.chinatimes.com/realtimenews/20221027005253-260410> (referer: https://www.chinatimes.com/realtimenews)\n",
            "2022-10-27 12:52:20 [scrapy.core.scraper] DEBUG: Scraped from <200 https://www.chinatimes.com/realtimenews/20221027005168-260405>\n",
            "{'url': 'https://www.chinatimes.com/realtimenews/20221027005168-260405'}\n",
            "2022-10-27 12:52:20 [scrapy.core.scraper] DEBUG: Scraped from <200 https://www.chinatimes.com/realtimenews/20221027005171-260407>\n",
            "{'url': 'https://www.chinatimes.com/realtimenews/20221027005171-260407'}\n",
            "2022-10-27 12:52:20 [scrapy.core.engine] DEBUG: Crawled (200) <GET https://www.chinatimes.com/realtimenews/20221027005191-260410> (referer: https://www.chinatimes.com/realtimenews)\n",
            "2022-10-27 12:52:20 [scrapy.core.scraper] DEBUG: Scraped from <200 https://www.chinatimes.com/realtimenews/20221027005111-260408>\n",
            "{'url': 'https://www.chinatimes.com/realtimenews/20221027005111-260408'}\n",
            "2022-10-27 12:52:20 [scrapy.core.scraper] DEBUG: Scraped from <200 https://www.chinatimes.com/realtimenews/20221027005214-260404>\n",
            "{'url': 'https://www.chinatimes.com/realtimenews/20221027005214-260404'}\n",
            "2022-10-27 12:52:20 [scrapy.core.scraper] DEBUG: Scraped from <200 https://www.chinatimes.com/realtimenews/20221027005170-260409>\n",
            "{'url': 'https://www.chinatimes.com/realtimenews/20221027005170-260409'}\n",
            "2022-10-27 12:52:20 [scrapy.core.scraper] DEBUG: Scraped from <200 https://www.chinatimes.com/realtimenews/20221027005238-260410>\n",
            "{'url': 'https://www.chinatimes.com/realtimenews/20221027005238-260410'}\n",
            "2022-10-27 12:52:20 [scrapy.core.engine] DEBUG: Crawled (200) <GET https://www.chinatimes.com/realtimenews/20221027005172-260409> (referer: https://www.chinatimes.com/realtimenews)\n",
            "2022-10-27 12:52:20 [scrapy.core.scraper] DEBUG: Scraped from <200 https://www.chinatimes.com/realtimenews/20221027005221-260408>\n",
            "{'url': 'https://www.chinatimes.com/realtimenews/20221027005221-260408'}\n",
            "2022-10-27 12:52:20 [scrapy.core.scraper] DEBUG: Scraped from <200 https://www.chinatimes.com/realtimenews/20221027005253-260410>\n",
            "{'url': 'https://www.chinatimes.com/realtimenews/20221027005253-260410'}\n",
            "2022-10-27 12:52:20 [scrapy.core.engine] DEBUG: Crawled (200) <GET https://www.chinatimes.com/realtimenews/20221027005242-260405> (referer: https://www.chinatimes.com/realtimenews)\n",
            "2022-10-27 12:52:20 [scrapy.core.scraper] DEBUG: Scraped from <200 https://www.chinatimes.com/realtimenews/20221027005191-260410>\n",
            "{'url': 'https://www.chinatimes.com/realtimenews/20221027005191-260410'}\n",
            "2022-10-27 12:52:20 [scrapy.core.scraper] DEBUG: Scraped from <200 https://www.chinatimes.com/realtimenews/20221027005172-260409>\n",
            "{'url': 'https://www.chinatimes.com/realtimenews/20221027005172-260409'}\n",
            "2022-10-27 12:52:20 [scrapy.core.engine] DEBUG: Crawled (200) <GET https://www.chinatimes.com/realtimenews/20221027005239-260410> (referer: https://www.chinatimes.com/realtimenews)\n",
            "2022-10-27 12:52:20 [scrapy.core.engine] DEBUG: Crawled (200) <GET https://www.chinatimes.com/realtimenews/20221027005146-260421> (referer: https://www.chinatimes.com/realtimenews)\n",
            "2022-10-27 12:52:20 [scrapy.core.engine] DEBUG: Crawled (200) <GET https://www.chinatimes.com/realtimenews/20221027005150-260407> (referer: https://www.chinatimes.com/realtimenews)\n",
            "2022-10-27 12:52:20 [scrapy.core.engine] DEBUG: Crawled (200) <GET https://www.chinatimes.com/realtimenews/20221027005182-260405> (referer: https://www.chinatimes.com/realtimenews)\n",
            "2022-10-27 12:52:20 [scrapy.core.scraper] DEBUG: Scraped from <200 https://www.chinatimes.com/realtimenews/20221027005242-260405>\n",
            "{'url': 'https://www.chinatimes.com/realtimenews/20221027005242-260405'}\n",
            "2022-10-27 12:52:20 [scrapy.core.engine] DEBUG: Crawled (200) <GET https://www.chinatimes.com/realtimenews/20221027005117-260407> (referer: https://www.chinatimes.com/realtimenews)\n",
            "2022-10-27 12:52:20 [scrapy.core.engine] DEBUG: Crawled (200) <GET https://www.chinatimes.com/realtimenews/20221027005159-260421> (referer: https://www.chinatimes.com/realtimenews)\n",
            "2022-10-27 12:52:20 [scrapy.core.scraper] DEBUG: Scraped from <200 https://www.chinatimes.com/realtimenews/20221027005239-260410>\n",
            "{'url': 'https://www.chinatimes.com/realtimenews/20221027005239-260410'}\n",
            "2022-10-27 12:52:20 [scrapy.core.scraper] DEBUG: Scraped from <200 https://www.chinatimes.com/realtimenews/20221027005146-260421>\n",
            "{'url': 'https://www.chinatimes.com/realtimenews/20221027005146-260421'}\n",
            "2022-10-27 12:52:20 [scrapy.core.scraper] DEBUG: Scraped from <200 https://www.chinatimes.com/realtimenews/20221027005150-260407>\n",
            "{'url': 'https://www.chinatimes.com/realtimenews/20221027005150-260407'}\n",
            "2022-10-27 12:52:20 [scrapy.core.scraper] DEBUG: Scraped from <200 https://www.chinatimes.com/realtimenews/20221027005182-260405>\n",
            "{'url': 'https://www.chinatimes.com/realtimenews/20221027005182-260405'}\n",
            "2022-10-27 12:52:20 [scrapy.core.scraper] DEBUG: Scraped from <200 https://www.chinatimes.com/realtimenews/20221027005117-260407>\n",
            "{'url': 'https://www.chinatimes.com/realtimenews/20221027005117-260407'}\n",
            "2022-10-27 12:52:20 [scrapy.core.engine] DEBUG: Crawled (200) <GET https://www.chinatimes.com/realtimenews/20221027005155-260407> (referer: https://www.chinatimes.com/realtimenews)\n",
            "2022-10-27 12:52:20 [scrapy.core.scraper] DEBUG: Scraped from <200 https://www.chinatimes.com/realtimenews/20221027005159-260421>\n",
            "{'url': 'https://www.chinatimes.com/realtimenews/20221027005159-260421'}\n",
            "2022-10-27 12:52:20 [scrapy.core.scraper] DEBUG: Scraped from <200 https://www.chinatimes.com/realtimenews/20221027005155-260407>\n",
            "{'url': 'https://www.chinatimes.com/realtimenews/20221027005155-260407'}\n",
            "2022-10-27 12:52:20 [scrapy.core.engine] INFO: Closing spider (finished)\n",
            "2022-10-27 12:52:20 [scrapy.extensions.feedexport] INFO: Stored json feed (20 items) in: quotes.json\n",
            "2022-10-27 12:52:20 [scrapy.statscollectors] INFO: Dumping Scrapy stats:\n",
            "{'downloader/request_bytes': 6498,\n",
            " 'downloader/request_count': 22,\n",
            " 'downloader/request_method_count/GET': 22,\n",
            " 'downloader/response_bytes': 332358,\n",
            " 'downloader/response_count': 22,\n",
            " 'downloader/response_status_count/200': 22,\n",
            " 'elapsed_time_seconds': 1.449584,\n",
            " 'feedexport/success_count/FileFeedStorage': 1,\n",
            " 'finish_reason': 'finished',\n",
            " 'finish_time': datetime.datetime(2022, 10, 27, 12, 52, 20, 958199),\n",
            " 'httpcompression/response_bytes': 1541077,\n",
            " 'httpcompression/response_count': 22,\n",
            " 'item_scraped_count': 20,\n",
            " 'log_count/DEBUG': 45,\n",
            " 'log_count/INFO': 11,\n",
            " 'memusage/max': 92909568,\n",
            " 'memusage/startup': 92909568,\n",
            " 'request_depth_max': 1,\n",
            " 'response_received_count': 22,\n",
            " 'robotstxt/request_count': 1,\n",
            " 'robotstxt/response_count': 1,\n",
            " 'robotstxt/response_status_count/200': 1,\n",
            " 'scheduler/dequeued': 21,\n",
            " 'scheduler/dequeued/memory': 21,\n",
            " 'scheduler/enqueued': 21,\n",
            " 'scheduler/enqueued/memory': 21,\n",
            " 'start_time': datetime.datetime(2022, 10, 27, 12, 52, 19, 508615)}\n",
            "2022-10-27 12:52:20 [scrapy.core.engine] INFO: Spider closed (finished)\n"
          ]
        }
      ],
      "source": [
        "!scrapy runspider quotes_spider.py -o quotes.json"
      ]
    },
    {
      "cell_type": "code",
      "source": [
        "os.chdir('/content/chilean_data_explore/')\n",
        "!pwd | ls -l\n"
      ],
      "metadata": {
        "colab": {
          "base_uri": "https://localhost:8080/"
        },
        "id": "mUarejI_GFGt",
        "outputId": "0919e2d4-83ce-4484-dad8-f3109e483b4c"
      },
      "execution_count": null,
      "outputs": [
        {
          "output_type": "stream",
          "name": "stdout",
          "text": [
            "total 8\n",
            "drwxr-xr-x 4 root root 4096 Oct 27 12:52 chilean_data_explore\n",
            "-rw-r--r-- 1 root root  283 Oct 27 12:52 scrapy.cfg\n"
          ]
        }
      ]
    },
    {
      "cell_type": "markdown",
      "source": [
        "## Spider for bcentral.cl"
      ],
      "metadata": {
        "id": "w27N3RGwI1F0"
      }
    },
    {
      "cell_type": "code",
      "source": [
        "%%writefile /content/chilean_data_explore/chilean_data_explore/spiders/base.py\n",
        "import scrapy\n",
        "from chilean_data_explore.items import PropertiesItem \n",
        "from scrapy.loader import ItemLoader\n",
        "import datetime\n",
        "import socket\n",
        "\n",
        "class BasicSpider(scrapy.Spider):\n",
        "    name = 'base'\n",
        "    allowed_domains = ['si3.bcentral.cl']\n",
        "    start_urls = ['https://si3.bcentral.cl/siete']\n",
        "\n",
        "    def parse(self, response):\n",
        "      loader_item = ItemLoader(item=PropertiesItem(), response=response)\n",
        "      loader_item.add_xpath('title','//title/text()')\n",
        "      loader_item.add_xpath('price','//*[@itemprop=\"price\"][1]/text()', re='[.0-9]+')\n",
        "      loader_item.add_xpath('description','//*[contains(@href, \"html\")]')\n",
        "      loader_item.add_value('server', socket.gethostname())\n",
        "      loader_item.add_value('date', datetime.datetime.now())\n",
        "      return loader_item.load_item()"
      ],
      "metadata": {
        "colab": {
          "base_uri": "https://localhost:8080/"
        },
        "id": "EXvokRiuHZ93",
        "outputId": "b65100fd-d9b9-4e59-da8f-6188935a7c81"
      },
      "execution_count": null,
      "outputs": [
        {
          "output_type": "stream",
          "name": "stdout",
          "text": [
            "Writing /content/chilean_data_explore/chilean_data_explore/spiders/base.py\n"
          ]
        }
      ]
    },
    {
      "cell_type": "code",
      "source": [
        "!scrapy crawl base"
      ],
      "metadata": {
        "colab": {
          "base_uri": "https://localhost:8080/"
        },
        "id": "FNcPAxDZJeSE",
        "outputId": "973b48c0-e787-42b3-f599-199e43804d50"
      },
      "execution_count": null,
      "outputs": [
        {
          "output_type": "stream",
          "name": "stdout",
          "text": [
            "2022-10-27 12:52:22 [scrapy.utils.log] INFO: Scrapy 2.7.0 started (bot: chilean_data_explore)\n",
            "2022-10-27 12:52:22 [scrapy.utils.log] INFO: Versions: lxml 4.9.1.0, libxml2 2.9.14, cssselect 1.1.0, parsel 1.6.0, w3lib 2.0.1, Twisted 22.8.0, Python 3.7.15 (default, Oct 12 2022, 19:14:55) - [GCC 7.5.0], pyOpenSSL 22.1.0 (OpenSSL 3.0.5 5 Jul 2022), cryptography 38.0.1, Platform Linux-5.10.133+-x86_64-with-Ubuntu-18.04-bionic\n",
            "2022-10-27 12:52:22 [scrapy.crawler] INFO: Overridden settings:\n",
            "{'BOT_NAME': 'chilean_data_explore',\n",
            " 'NEWSPIDER_MODULE': 'chilean_data_explore.spiders',\n",
            " 'REQUEST_FINGERPRINTER_IMPLEMENTATION': '2.7',\n",
            " 'ROBOTSTXT_OBEY': True,\n",
            " 'SPIDER_MODULES': ['chilean_data_explore.spiders'],\n",
            " 'TWISTED_REACTOR': 'twisted.internet.asyncioreactor.AsyncioSelectorReactor'}\n",
            "2022-10-27 12:52:22 [asyncio] DEBUG: Using selector: EpollSelector\n",
            "2022-10-27 12:52:22 [scrapy.utils.log] DEBUG: Using reactor: twisted.internet.asyncioreactor.AsyncioSelectorReactor\n",
            "2022-10-27 12:52:22 [scrapy.utils.log] DEBUG: Using asyncio event loop: asyncio.unix_events._UnixSelectorEventLoop\n",
            "2022-10-27 12:52:22 [scrapy.extensions.telnet] INFO: Telnet Password: c97d38572f37b299\n",
            "2022-10-27 12:52:22 [scrapy.middleware] INFO: Enabled extensions:\n",
            "['scrapy.extensions.corestats.CoreStats',\n",
            " 'scrapy.extensions.telnet.TelnetConsole',\n",
            " 'scrapy.extensions.memusage.MemoryUsage',\n",
            " 'scrapy.extensions.logstats.LogStats']\n",
            "2022-10-27 12:52:22 [scrapy.middleware] INFO: Enabled downloader middlewares:\n",
            "['scrapy.downloadermiddlewares.robotstxt.RobotsTxtMiddleware',\n",
            " 'scrapy.downloadermiddlewares.httpauth.HttpAuthMiddleware',\n",
            " 'scrapy.downloadermiddlewares.downloadtimeout.DownloadTimeoutMiddleware',\n",
            " 'scrapy.downloadermiddlewares.defaultheaders.DefaultHeadersMiddleware',\n",
            " 'scrapy.downloadermiddlewares.useragent.UserAgentMiddleware',\n",
            " 'scrapy.downloadermiddlewares.retry.RetryMiddleware',\n",
            " 'scrapy.downloadermiddlewares.redirect.MetaRefreshMiddleware',\n",
            " 'scrapy.downloadermiddlewares.httpcompression.HttpCompressionMiddleware',\n",
            " 'scrapy.downloadermiddlewares.redirect.RedirectMiddleware',\n",
            " 'scrapy.downloadermiddlewares.cookies.CookiesMiddleware',\n",
            " 'scrapy.downloadermiddlewares.httpproxy.HttpProxyMiddleware',\n",
            " 'scrapy.downloadermiddlewares.stats.DownloaderStats']\n",
            "2022-10-27 12:52:22 [scrapy.middleware] INFO: Enabled spider middlewares:\n",
            "['scrapy.spidermiddlewares.httperror.HttpErrorMiddleware',\n",
            " 'scrapy.spidermiddlewares.offsite.OffsiteMiddleware',\n",
            " 'scrapy.spidermiddlewares.referer.RefererMiddleware',\n",
            " 'scrapy.spidermiddlewares.urllength.UrlLengthMiddleware',\n",
            " 'scrapy.spidermiddlewares.depth.DepthMiddleware']\n",
            "2022-10-27 12:52:22 [scrapy.middleware] INFO: Enabled item pipelines:\n",
            "[]\n",
            "2022-10-27 12:52:22 [scrapy.core.engine] INFO: Spider opened\n",
            "2022-10-27 12:52:22 [scrapy.extensions.logstats] INFO: Crawled 0 pages (at 0 pages/min), scraped 0 items (at 0 items/min)\n",
            "2022-10-27 12:52:22 [scrapy.extensions.telnet] INFO: Telnet console listening on 127.0.0.1:6023\n",
            "2022-10-27 12:52:23 [scrapy.downloadermiddlewares.redirect] DEBUG: Redirecting (302) to <GET https://si3.bcentral.cl/ErrorPage.html> from <GET https://si3.bcentral.cl/robots.txt>\n",
            "/usr/local/lib/python3.7/dist-packages/scrapy/core/engine.py:279: ScrapyDeprecationWarning: Passing a 'spider' argument to ExecutionEngine.download is deprecated\n",
            "  return self.download(result, spider) if isinstance(result, Request) else result\n",
            "2022-10-27 12:52:23 [scrapy.core.engine] DEBUG: Crawled (200) <GET https://si3.bcentral.cl/ErrorPage.html> (referer: None)\n",
            "2022-10-27 12:52:23 [protego] DEBUG: Rule at line 8 without any user agent to enforce it on.\n",
            "2022-10-27 12:52:23 [protego] DEBUG: Rule at line 20 without any user agent to enforce it on.\n",
            "2022-10-27 12:52:23 [protego] DEBUG: Rule at line 21 without any user agent to enforce it on.\n",
            "2022-10-27 12:52:23 [protego] DEBUG: Rule at line 25 without any user agent to enforce it on.\n",
            "2022-10-27 12:52:23 [protego] DEBUG: Rule at line 28 without any user agent to enforce it on.\n",
            "2022-10-27 12:52:23 [protego] DEBUG: Rule at line 39 without any user agent to enforce it on.\n",
            "2022-10-27 12:52:23 [protego] DEBUG: Rule at line 55 without any user agent to enforce it on.\n",
            "2022-10-27 12:52:23 [protego] DEBUG: Rule at line 84 without any user agent to enforce it on.\n",
            "2022-10-27 12:52:23 [protego] DEBUG: Rule at line 90 without any user agent to enforce it on.\n",
            "2022-10-27 12:52:23 [protego] DEBUG: Rule at line 91 without any user agent to enforce it on.\n",
            "2022-10-27 12:52:23 [protego] DEBUG: Rule at line 95 without any user agent to enforce it on.\n",
            "2022-10-27 12:52:23 [protego] DEBUG: Rule at line 96 without any user agent to enforce it on.\n",
            "2022-10-27 12:52:25 [filelock] DEBUG: Attempting to acquire lock 140585896576016 on /root/.cache/python-tldextract/3.7.15.final__usr__7d8fdf__tldextract-3.4.0/publicsuffix.org-tlds/de84b5ca2167d4c83e38fb162f2e8738.tldextract.json.lock\n",
            "2022-10-27 12:52:25 [filelock] DEBUG: Lock 140585896576016 acquired on /root/.cache/python-tldextract/3.7.15.final__usr__7d8fdf__tldextract-3.4.0/publicsuffix.org-tlds/de84b5ca2167d4c83e38fb162f2e8738.tldextract.json.lock\n",
            "2022-10-27 12:52:25 [filelock] DEBUG: Attempting to acquire lock 140585896604560 on /root/.cache/python-tldextract/3.7.15.final__usr__7d8fdf__tldextract-3.4.0/urls/62bf135d1c2f3d4db4228b9ecaf507a2.tldextract.json.lock\n",
            "2022-10-27 12:52:25 [filelock] DEBUG: Lock 140585896604560 acquired on /root/.cache/python-tldextract/3.7.15.final__usr__7d8fdf__tldextract-3.4.0/urls/62bf135d1c2f3d4db4228b9ecaf507a2.tldextract.json.lock\n",
            "2022-10-27 12:52:25 [urllib3.connectionpool] DEBUG: Starting new HTTPS connection (1): publicsuffix.org:443\n",
            "2022-10-27 12:52:25 [urllib3.connectionpool] DEBUG: https://publicsuffix.org:443 \"GET /list/public_suffix_list.dat HTTP/1.1\" 200 None\n",
            "2022-10-27 12:52:25 [filelock] DEBUG: Attempting to release lock 140585896604560 on /root/.cache/python-tldextract/3.7.15.final__usr__7d8fdf__tldextract-3.4.0/urls/62bf135d1c2f3d4db4228b9ecaf507a2.tldextract.json.lock\n",
            "2022-10-27 12:52:25 [filelock] DEBUG: Lock 140585896604560 released on /root/.cache/python-tldextract/3.7.15.final__usr__7d8fdf__tldextract-3.4.0/urls/62bf135d1c2f3d4db4228b9ecaf507a2.tldextract.json.lock\n",
            "2022-10-27 12:52:25 [filelock] DEBUG: Attempting to release lock 140585896576016 on /root/.cache/python-tldextract/3.7.15.final__usr__7d8fdf__tldextract-3.4.0/publicsuffix.org-tlds/de84b5ca2167d4c83e38fb162f2e8738.tldextract.json.lock\n",
            "2022-10-27 12:52:25 [filelock] DEBUG: Lock 140585896576016 released on /root/.cache/python-tldextract/3.7.15.final__usr__7d8fdf__tldextract-3.4.0/publicsuffix.org-tlds/de84b5ca2167d4c83e38fb162f2e8738.tldextract.json.lock\n",
            "2022-10-27 12:52:25 [scrapy.core.engine] DEBUG: Crawled (200) <GET https://si3.bcentral.cl/siete> (referer: None)\n",
            "2022-10-27 12:52:25 [scrapy.core.scraper] DEBUG: Scraped from <200 https://si3.bcentral.cl/siete>\n",
            "{'date': [datetime.datetime(2022, 10, 27, 12, 52, 25, 710918)],\n",
            " 'description': ['<a target=\"_blank\" '\n",
            "                 'href=\"https://si3.bcentral.cl/estadisticas/Principal1/enlaces/aplicaciones/index.html\">Glosario</a>',\n",
            "                 '<a target=\"_blank\" '\n",
            "                 'href=\"https://si3.bcentral.cl/estadisticas/Principal1/enlaces/aplicaciones/index_faq.html\">Preguntas '\n",
            "                 'Frecuentes</a>',\n",
            "                 '<a class=\"nav-link\" target=\"_blank\" '\n",
            "                 'href=\"https://si3.bcentral.cl/estadisticas/Principal1/enlaces/aplicaciones/Metodolog_BDE.html\">Metodologías</a>',\n",
            "                 '<a class=\"nav-link\" '\n",
            "                 'href=\"https://si3.bcentral.cl/estadisticas/Principal1/enlaces/aplicaciones/BDE_movil.html\">BDE '\n",
            "                 'Móvil</a>'],\n",
            " 'server': ['4ef82249f791'],\n",
            " 'title': ['Base de Datos Estadísticos ']}\n",
            "2022-10-27 12:52:25 [scrapy.core.engine] INFO: Closing spider (finished)\n",
            "2022-10-27 12:52:25 [scrapy.statscollectors] INFO: Dumping Scrapy stats:\n",
            "{'downloader/request_bytes': 674,\n",
            " 'downloader/request_count': 3,\n",
            " 'downloader/request_method_count/GET': 3,\n",
            " 'downloader/response_bytes': 38967,\n",
            " 'downloader/response_count': 3,\n",
            " 'downloader/response_status_count/200': 2,\n",
            " 'downloader/response_status_count/302': 1,\n",
            " 'elapsed_time_seconds': 3.162676,\n",
            " 'finish_reason': 'finished',\n",
            " 'finish_time': datetime.datetime(2022, 10, 27, 12, 52, 25, 734967),\n",
            " 'item_scraped_count': 1,\n",
            " 'log_count/DEBUG': 29,\n",
            " 'log_count/INFO': 10,\n",
            " 'memusage/max': 93122560,\n",
            " 'memusage/startup': 93122560,\n",
            " 'response_received_count': 2,\n",
            " 'robotstxt/request_count': 1,\n",
            " 'robotstxt/response_count': 1,\n",
            " 'robotstxt/response_status_count/200': 1,\n",
            " 'scheduler/dequeued': 1,\n",
            " 'scheduler/dequeued/memory': 1,\n",
            " 'scheduler/enqueued': 1,\n",
            " 'scheduler/enqueued/memory': 1,\n",
            " 'start_time': datetime.datetime(2022, 10, 27, 12, 52, 22, 572291)}\n",
            "2022-10-27 12:52:25 [scrapy.core.engine] INFO: Spider closed (finished)\n"
          ]
        }
      ]
    },
    {
      "cell_type": "code",
      "source": [
        "!scrapy crawl base -o items.csv"
      ],
      "metadata": {
        "colab": {
          "base_uri": "https://localhost:8080/"
        },
        "id": "npKp6C2eADMv",
        "outputId": "109233cc-7f1f-4ee9-ccff-c991d2e6e7e7"
      },
      "execution_count": null,
      "outputs": [
        {
          "output_type": "stream",
          "name": "stdout",
          "text": [
            "2022-10-27 12:52:28 [scrapy.utils.log] INFO: Scrapy 2.7.0 started (bot: chilean_data_explore)\n",
            "2022-10-27 12:52:28 [scrapy.utils.log] INFO: Versions: lxml 4.9.1.0, libxml2 2.9.14, cssselect 1.1.0, parsel 1.6.0, w3lib 2.0.1, Twisted 22.8.0, Python 3.7.15 (default, Oct 12 2022, 19:14:55) - [GCC 7.5.0], pyOpenSSL 22.1.0 (OpenSSL 3.0.5 5 Jul 2022), cryptography 38.0.1, Platform Linux-5.10.133+-x86_64-with-Ubuntu-18.04-bionic\n",
            "2022-10-27 12:52:28 [scrapy.crawler] INFO: Overridden settings:\n",
            "{'BOT_NAME': 'chilean_data_explore',\n",
            " 'NEWSPIDER_MODULE': 'chilean_data_explore.spiders',\n",
            " 'REQUEST_FINGERPRINTER_IMPLEMENTATION': '2.7',\n",
            " 'ROBOTSTXT_OBEY': True,\n",
            " 'SPIDER_MODULES': ['chilean_data_explore.spiders'],\n",
            " 'TWISTED_REACTOR': 'twisted.internet.asyncioreactor.AsyncioSelectorReactor'}\n",
            "2022-10-27 12:52:28 [asyncio] DEBUG: Using selector: EpollSelector\n",
            "2022-10-27 12:52:28 [scrapy.utils.log] DEBUG: Using reactor: twisted.internet.asyncioreactor.AsyncioSelectorReactor\n",
            "2022-10-27 12:52:28 [scrapy.utils.log] DEBUG: Using asyncio event loop: asyncio.unix_events._UnixSelectorEventLoop\n",
            "2022-10-27 12:52:28 [scrapy.extensions.telnet] INFO: Telnet Password: c8106d2511544a9c\n",
            "2022-10-27 12:52:28 [scrapy.middleware] INFO: Enabled extensions:\n",
            "['scrapy.extensions.corestats.CoreStats',\n",
            " 'scrapy.extensions.telnet.TelnetConsole',\n",
            " 'scrapy.extensions.memusage.MemoryUsage',\n",
            " 'scrapy.extensions.feedexport.FeedExporter',\n",
            " 'scrapy.extensions.logstats.LogStats']\n",
            "2022-10-27 12:52:28 [scrapy.middleware] INFO: Enabled downloader middlewares:\n",
            "['scrapy.downloadermiddlewares.robotstxt.RobotsTxtMiddleware',\n",
            " 'scrapy.downloadermiddlewares.httpauth.HttpAuthMiddleware',\n",
            " 'scrapy.downloadermiddlewares.downloadtimeout.DownloadTimeoutMiddleware',\n",
            " 'scrapy.downloadermiddlewares.defaultheaders.DefaultHeadersMiddleware',\n",
            " 'scrapy.downloadermiddlewares.useragent.UserAgentMiddleware',\n",
            " 'scrapy.downloadermiddlewares.retry.RetryMiddleware',\n",
            " 'scrapy.downloadermiddlewares.redirect.MetaRefreshMiddleware',\n",
            " 'scrapy.downloadermiddlewares.httpcompression.HttpCompressionMiddleware',\n",
            " 'scrapy.downloadermiddlewares.redirect.RedirectMiddleware',\n",
            " 'scrapy.downloadermiddlewares.cookies.CookiesMiddleware',\n",
            " 'scrapy.downloadermiddlewares.httpproxy.HttpProxyMiddleware',\n",
            " 'scrapy.downloadermiddlewares.stats.DownloaderStats']\n",
            "2022-10-27 12:52:28 [scrapy.middleware] INFO: Enabled spider middlewares:\n",
            "['scrapy.spidermiddlewares.httperror.HttpErrorMiddleware',\n",
            " 'scrapy.spidermiddlewares.offsite.OffsiteMiddleware',\n",
            " 'scrapy.spidermiddlewares.referer.RefererMiddleware',\n",
            " 'scrapy.spidermiddlewares.urllength.UrlLengthMiddleware',\n",
            " 'scrapy.spidermiddlewares.depth.DepthMiddleware']\n",
            "2022-10-27 12:52:28 [scrapy.middleware] INFO: Enabled item pipelines:\n",
            "[]\n",
            "2022-10-27 12:52:28 [scrapy.core.engine] INFO: Spider opened\n",
            "2022-10-27 12:52:28 [scrapy.extensions.logstats] INFO: Crawled 0 pages (at 0 pages/min), scraped 0 items (at 0 items/min)\n",
            "2022-10-27 12:52:28 [scrapy.extensions.telnet] INFO: Telnet console listening on 127.0.0.1:6023\n",
            "2022-10-27 12:52:29 [scrapy.downloadermiddlewares.redirect] DEBUG: Redirecting (302) to <GET https://si3.bcentral.cl/ErrorPage.html> from <GET https://si3.bcentral.cl/robots.txt>\n",
            "/usr/local/lib/python3.7/dist-packages/scrapy/core/engine.py:279: ScrapyDeprecationWarning: Passing a 'spider' argument to ExecutionEngine.download is deprecated\n",
            "  return self.download(result, spider) if isinstance(result, Request) else result\n",
            "2022-10-27 12:52:29 [scrapy.core.engine] DEBUG: Crawled (200) <GET https://si3.bcentral.cl/ErrorPage.html> (referer: None)\n",
            "2022-10-27 12:52:29 [protego] DEBUG: Rule at line 8 without any user agent to enforce it on.\n",
            "2022-10-27 12:52:29 [protego] DEBUG: Rule at line 20 without any user agent to enforce it on.\n",
            "2022-10-27 12:52:29 [protego] DEBUG: Rule at line 21 without any user agent to enforce it on.\n",
            "2022-10-27 12:52:29 [protego] DEBUG: Rule at line 25 without any user agent to enforce it on.\n",
            "2022-10-27 12:52:29 [protego] DEBUG: Rule at line 28 without any user agent to enforce it on.\n",
            "2022-10-27 12:52:29 [protego] DEBUG: Rule at line 39 without any user agent to enforce it on.\n",
            "2022-10-27 12:52:29 [protego] DEBUG: Rule at line 55 without any user agent to enforce it on.\n",
            "2022-10-27 12:52:29 [protego] DEBUG: Rule at line 84 without any user agent to enforce it on.\n",
            "2022-10-27 12:52:29 [protego] DEBUG: Rule at line 90 without any user agent to enforce it on.\n",
            "2022-10-27 12:52:29 [protego] DEBUG: Rule at line 91 without any user agent to enforce it on.\n",
            "2022-10-27 12:52:29 [protego] DEBUG: Rule at line 95 without any user agent to enforce it on.\n",
            "2022-10-27 12:52:29 [protego] DEBUG: Rule at line 96 without any user agent to enforce it on.\n",
            "2022-10-27 12:52:31 [filelock] DEBUG: Attempting to acquire lock 139870710387792 on /root/.cache/python-tldextract/3.7.15.final__usr__7d8fdf__tldextract-3.4.0/publicsuffix.org-tlds/de84b5ca2167d4c83e38fb162f2e8738.tldextract.json.lock\n",
            "2022-10-27 12:52:31 [filelock] DEBUG: Lock 139870710387792 acquired on /root/.cache/python-tldextract/3.7.15.final__usr__7d8fdf__tldextract-3.4.0/publicsuffix.org-tlds/de84b5ca2167d4c83e38fb162f2e8738.tldextract.json.lock\n",
            "2022-10-27 12:52:31 [filelock] DEBUG: Attempting to release lock 139870710387792 on /root/.cache/python-tldextract/3.7.15.final__usr__7d8fdf__tldextract-3.4.0/publicsuffix.org-tlds/de84b5ca2167d4c83e38fb162f2e8738.tldextract.json.lock\n",
            "2022-10-27 12:52:31 [filelock] DEBUG: Lock 139870710387792 released on /root/.cache/python-tldextract/3.7.15.final__usr__7d8fdf__tldextract-3.4.0/publicsuffix.org-tlds/de84b5ca2167d4c83e38fb162f2e8738.tldextract.json.lock\n",
            "2022-10-27 12:52:31 [scrapy.core.engine] DEBUG: Crawled (200) <GET https://si3.bcentral.cl/siete> (referer: None)\n",
            "2022-10-27 12:52:31 [scrapy.core.scraper] DEBUG: Scraped from <200 https://si3.bcentral.cl/siete>\n",
            "{'date': [datetime.datetime(2022, 10, 27, 12, 52, 31, 422922)],\n",
            " 'description': ['<a target=\"_blank\" '\n",
            "                 'href=\"https://si3.bcentral.cl/estadisticas/Principal1/enlaces/aplicaciones/index.html\">Glosario</a>',\n",
            "                 '<a target=\"_blank\" '\n",
            "                 'href=\"https://si3.bcentral.cl/estadisticas/Principal1/enlaces/aplicaciones/index_faq.html\">Preguntas '\n",
            "                 'Frecuentes</a>',\n",
            "                 '<a class=\"nav-link\" target=\"_blank\" '\n",
            "                 'href=\"https://si3.bcentral.cl/estadisticas/Principal1/enlaces/aplicaciones/Metodolog_BDE.html\">Metodologías</a>',\n",
            "                 '<a class=\"nav-link\" '\n",
            "                 'href=\"https://si3.bcentral.cl/estadisticas/Principal1/enlaces/aplicaciones/BDE_movil.html\">BDE '\n",
            "                 'Móvil</a>'],\n",
            " 'server': ['4ef82249f791'],\n",
            " 'title': ['Base de Datos Estadísticos ']}\n",
            "2022-10-27 12:52:31 [scrapy.core.engine] INFO: Closing spider (finished)\n",
            "2022-10-27 12:52:31 [scrapy.extensions.feedexport] INFO: Stored csv feed (1 items) in: items.csv\n",
            "2022-10-27 12:52:31 [scrapy.statscollectors] INFO: Dumping Scrapy stats:\n",
            "{'downloader/request_bytes': 674,\n",
            " 'downloader/request_count': 3,\n",
            " 'downloader/request_method_count/GET': 3,\n",
            " 'downloader/response_bytes': 38967,\n",
            " 'downloader/response_count': 3,\n",
            " 'downloader/response_status_count/200': 2,\n",
            " 'downloader/response_status_count/302': 1,\n",
            " 'elapsed_time_seconds': 2.809811,\n",
            " 'feedexport/success_count/FileFeedStorage': 1,\n",
            " 'finish_reason': 'finished',\n",
            " 'finish_time': datetime.datetime(2022, 10, 27, 12, 52, 31, 434948),\n",
            " 'item_scraped_count': 1,\n",
            " 'log_count/DEBUG': 23,\n",
            " 'log_count/INFO': 11,\n",
            " 'memusage/max': 93282304,\n",
            " 'memusage/startup': 93282304,\n",
            " 'response_received_count': 2,\n",
            " 'robotstxt/request_count': 1,\n",
            " 'robotstxt/response_count': 1,\n",
            " 'robotstxt/response_status_count/200': 1,\n",
            " 'scheduler/dequeued': 1,\n",
            " 'scheduler/dequeued/memory': 1,\n",
            " 'scheduler/enqueued': 1,\n",
            " 'scheduler/enqueued/memory': 1,\n",
            " 'start_time': datetime.datetime(2022, 10, 27, 12, 52, 28, 625137)}\n",
            "2022-10-27 12:52:31 [scrapy.core.engine] INFO: Spider closed (finished)\n"
          ]
        }
      ]
    },
    {
      "cell_type": "code",
      "source": [
        "!scrapy parse --spider=base https://si3.bcentral.cl/siete"
      ],
      "metadata": {
        "colab": {
          "base_uri": "https://localhost:8080/"
        },
        "id": "iQI8QVlgDB0Y",
        "outputId": "65485496-c928-493c-f429-37c0513b77d4"
      },
      "execution_count": null,
      "outputs": [
        {
          "output_type": "stream",
          "name": "stdout",
          "text": [
            "2022-10-27 12:52:33 [scrapy.utils.log] INFO: Scrapy 2.7.0 started (bot: chilean_data_explore)\n",
            "2022-10-27 12:52:33 [scrapy.utils.log] INFO: Versions: lxml 4.9.1.0, libxml2 2.9.14, cssselect 1.1.0, parsel 1.6.0, w3lib 2.0.1, Twisted 22.8.0, Python 3.7.15 (default, Oct 12 2022, 19:14:55) - [GCC 7.5.0], pyOpenSSL 22.1.0 (OpenSSL 3.0.5 5 Jul 2022), cryptography 38.0.1, Platform Linux-5.10.133+-x86_64-with-Ubuntu-18.04-bionic\n",
            "2022-10-27 12:52:33 [scrapy.crawler] INFO: Overridden settings:\n",
            "{'BOT_NAME': 'chilean_data_explore',\n",
            " 'NEWSPIDER_MODULE': 'chilean_data_explore.spiders',\n",
            " 'REQUEST_FINGERPRINTER_IMPLEMENTATION': '2.7',\n",
            " 'ROBOTSTXT_OBEY': True,\n",
            " 'SPIDER_MODULES': ['chilean_data_explore.spiders'],\n",
            " 'TWISTED_REACTOR': 'twisted.internet.asyncioreactor.AsyncioSelectorReactor'}\n",
            "2022-10-27 12:52:33 [asyncio] DEBUG: Using selector: EpollSelector\n",
            "2022-10-27 12:52:33 [scrapy.utils.log] DEBUG: Using reactor: twisted.internet.asyncioreactor.AsyncioSelectorReactor\n",
            "2022-10-27 12:52:33 [scrapy.utils.log] DEBUG: Using asyncio event loop: asyncio.unix_events._UnixSelectorEventLoop\n",
            "2022-10-27 12:52:33 [scrapy.extensions.telnet] INFO: Telnet Password: 9c253316c52b1a1c\n",
            "2022-10-27 12:52:33 [scrapy.middleware] INFO: Enabled extensions:\n",
            "['scrapy.extensions.corestats.CoreStats',\n",
            " 'scrapy.extensions.telnet.TelnetConsole',\n",
            " 'scrapy.extensions.memusage.MemoryUsage',\n",
            " 'scrapy.extensions.logstats.LogStats']\n",
            "2022-10-27 12:52:34 [scrapy.middleware] INFO: Enabled downloader middlewares:\n",
            "['scrapy.downloadermiddlewares.robotstxt.RobotsTxtMiddleware',\n",
            " 'scrapy.downloadermiddlewares.httpauth.HttpAuthMiddleware',\n",
            " 'scrapy.downloadermiddlewares.downloadtimeout.DownloadTimeoutMiddleware',\n",
            " 'scrapy.downloadermiddlewares.defaultheaders.DefaultHeadersMiddleware',\n",
            " 'scrapy.downloadermiddlewares.useragent.UserAgentMiddleware',\n",
            " 'scrapy.downloadermiddlewares.retry.RetryMiddleware',\n",
            " 'scrapy.downloadermiddlewares.redirect.MetaRefreshMiddleware',\n",
            " 'scrapy.downloadermiddlewares.httpcompression.HttpCompressionMiddleware',\n",
            " 'scrapy.downloadermiddlewares.redirect.RedirectMiddleware',\n",
            " 'scrapy.downloadermiddlewares.cookies.CookiesMiddleware',\n",
            " 'scrapy.downloadermiddlewares.httpproxy.HttpProxyMiddleware',\n",
            " 'scrapy.downloadermiddlewares.stats.DownloaderStats']\n",
            "2022-10-27 12:52:34 [scrapy.middleware] INFO: Enabled spider middlewares:\n",
            "['scrapy.spidermiddlewares.httperror.HttpErrorMiddleware',\n",
            " 'scrapy.spidermiddlewares.offsite.OffsiteMiddleware',\n",
            " 'scrapy.spidermiddlewares.referer.RefererMiddleware',\n",
            " 'scrapy.spidermiddlewares.urllength.UrlLengthMiddleware',\n",
            " 'scrapy.spidermiddlewares.depth.DepthMiddleware']\n",
            "2022-10-27 12:52:34 [scrapy.middleware] INFO: Enabled item pipelines:\n",
            "[]\n",
            "2022-10-27 12:52:34 [scrapy.core.engine] INFO: Spider opened\n",
            "2022-10-27 12:52:34 [scrapy.extensions.logstats] INFO: Crawled 0 pages (at 0 pages/min), scraped 0 items (at 0 items/min)\n",
            "2022-10-27 12:52:34 [scrapy.extensions.telnet] INFO: Telnet console listening on 127.0.0.1:6023\n",
            "2022-10-27 12:52:35 [scrapy.downloadermiddlewares.redirect] DEBUG: Redirecting (302) to <GET https://si3.bcentral.cl/ErrorPage.html> from <GET https://si3.bcentral.cl/robots.txt>\n",
            "/usr/local/lib/python3.7/dist-packages/scrapy/core/engine.py:279: ScrapyDeprecationWarning: Passing a 'spider' argument to ExecutionEngine.download is deprecated\n",
            "  return self.download(result, spider) if isinstance(result, Request) else result\n",
            "2022-10-27 12:52:35 [scrapy.core.engine] DEBUG: Crawled (200) <GET https://si3.bcentral.cl/ErrorPage.html> (referer: None)\n",
            "2022-10-27 12:52:35 [protego] DEBUG: Rule at line 8 without any user agent to enforce it on.\n",
            "2022-10-27 12:52:35 [protego] DEBUG: Rule at line 20 without any user agent to enforce it on.\n",
            "2022-10-27 12:52:35 [protego] DEBUG: Rule at line 21 without any user agent to enforce it on.\n",
            "2022-10-27 12:52:35 [protego] DEBUG: Rule at line 25 without any user agent to enforce it on.\n",
            "2022-10-27 12:52:35 [protego] DEBUG: Rule at line 28 without any user agent to enforce it on.\n",
            "2022-10-27 12:52:35 [protego] DEBUG: Rule at line 39 without any user agent to enforce it on.\n",
            "2022-10-27 12:52:35 [protego] DEBUG: Rule at line 55 without any user agent to enforce it on.\n",
            "2022-10-27 12:52:35 [protego] DEBUG: Rule at line 84 without any user agent to enforce it on.\n",
            "2022-10-27 12:52:35 [protego] DEBUG: Rule at line 90 without any user agent to enforce it on.\n",
            "2022-10-27 12:52:35 [protego] DEBUG: Rule at line 91 without any user agent to enforce it on.\n",
            "2022-10-27 12:52:35 [protego] DEBUG: Rule at line 95 without any user agent to enforce it on.\n",
            "2022-10-27 12:52:35 [protego] DEBUG: Rule at line 96 without any user agent to enforce it on.\n",
            "2022-10-27 12:52:37 [filelock] DEBUG: Attempting to acquire lock 140039188777936 on /root/.cache/python-tldextract/3.7.15.final__usr__7d8fdf__tldextract-3.4.0/publicsuffix.org-tlds/de84b5ca2167d4c83e38fb162f2e8738.tldextract.json.lock\n",
            "2022-10-27 12:52:37 [filelock] DEBUG: Lock 140039188777936 acquired on /root/.cache/python-tldextract/3.7.15.final__usr__7d8fdf__tldextract-3.4.0/publicsuffix.org-tlds/de84b5ca2167d4c83e38fb162f2e8738.tldextract.json.lock\n",
            "2022-10-27 12:52:37 [filelock] DEBUG: Attempting to release lock 140039188777936 on /root/.cache/python-tldextract/3.7.15.final__usr__7d8fdf__tldextract-3.4.0/publicsuffix.org-tlds/de84b5ca2167d4c83e38fb162f2e8738.tldextract.json.lock\n",
            "2022-10-27 12:52:37 [filelock] DEBUG: Lock 140039188777936 released on /root/.cache/python-tldextract/3.7.15.final__usr__7d8fdf__tldextract-3.4.0/publicsuffix.org-tlds/de84b5ca2167d4c83e38fb162f2e8738.tldextract.json.lock\n",
            "2022-10-27 12:52:37 [scrapy.core.engine] DEBUG: Crawled (200) <GET https://si3.bcentral.cl/siete> (referer: None)\n",
            "2022-10-27 12:52:37 [scrapy.core.engine] INFO: Closing spider (finished)\n",
            "2022-10-27 12:52:37 [scrapy.statscollectors] INFO: Dumping Scrapy stats:\n",
            "{'downloader/request_bytes': 674,\n",
            " 'downloader/request_count': 3,\n",
            " 'downloader/request_method_count/GET': 3,\n",
            " 'downloader/response_bytes': 38967,\n",
            " 'downloader/response_count': 3,\n",
            " 'downloader/response_status_count/200': 2,\n",
            " 'downloader/response_status_count/302': 1,\n",
            " 'elapsed_time_seconds': 2.941836,\n",
            " 'finish_reason': 'finished',\n",
            " 'finish_time': datetime.datetime(2022, 10, 27, 12, 52, 37, 211625),\n",
            " 'log_count/DEBUG': 22,\n",
            " 'log_count/INFO': 10,\n",
            " 'memusage/max': 93331456,\n",
            " 'memusage/startup': 93331456,\n",
            " 'response_received_count': 2,\n",
            " 'robotstxt/request_count': 1,\n",
            " 'robotstxt/response_count': 1,\n",
            " 'robotstxt/response_status_count/200': 1,\n",
            " 'scheduler/dequeued': 1,\n",
            " 'scheduler/dequeued/memory': 1,\n",
            " 'scheduler/enqueued': 1,\n",
            " 'scheduler/enqueued/memory': 1,\n",
            " 'start_time': datetime.datetime(2022, 10, 27, 12, 52, 34, 269789)}\n",
            "2022-10-27 12:52:37 [scrapy.core.engine] INFO: Spider closed (finished)\n",
            "\n",
            ">>> STATUS DEPTH LEVEL 1 <<<\n",
            "# Scraped Items  ------------------------------------------------------------\n",
            "[{\u001b[33m'\u001b[39;49;00m\u001b[33mdate\u001b[39;49;00m\u001b[33m'\u001b[39;49;00m: [datetime.datetime(\u001b[34m2022\u001b[39;49;00m, \u001b[34m10\u001b[39;49;00m, \u001b[34m27\u001b[39;49;00m, \u001b[34m12\u001b[39;49;00m, \u001b[34m52\u001b[39;49;00m, \u001b[34m37\u001b[39;49;00m, \u001b[34m205873\u001b[39;49;00m)],\n",
            "  \u001b[33m'\u001b[39;49;00m\u001b[33mdescription\u001b[39;49;00m\u001b[33m'\u001b[39;49;00m: [\u001b[33m'\u001b[39;49;00m\u001b[33m<a target=\u001b[39;49;00m\u001b[33m\"\u001b[39;49;00m\u001b[33m_blank\u001b[39;49;00m\u001b[33m\"\u001b[39;49;00m\u001b[33m \u001b[39;49;00m\u001b[33m'\u001b[39;49;00m\n",
            "                  \u001b[33m'\u001b[39;49;00m\u001b[33mhref=\u001b[39;49;00m\u001b[33m\"\u001b[39;49;00m\u001b[33mhttps://si3.bcentral.cl/estadisticas/Principal1/enlaces/aplicaciones/index.html\u001b[39;49;00m\u001b[33m\"\u001b[39;49;00m\u001b[33m>Glosario</a>\u001b[39;49;00m\u001b[33m'\u001b[39;49;00m,\n",
            "                  \u001b[33m'\u001b[39;49;00m\u001b[33m<a target=\u001b[39;49;00m\u001b[33m\"\u001b[39;49;00m\u001b[33m_blank\u001b[39;49;00m\u001b[33m\"\u001b[39;49;00m\u001b[33m \u001b[39;49;00m\u001b[33m'\u001b[39;49;00m\n",
            "                  \u001b[33m'\u001b[39;49;00m\u001b[33mhref=\u001b[39;49;00m\u001b[33m\"\u001b[39;49;00m\u001b[33mhttps://si3.bcentral.cl/estadisticas/Principal1/enlaces/aplicaciones/index_faq.html\u001b[39;49;00m\u001b[33m\"\u001b[39;49;00m\u001b[33m>Preguntas \u001b[39;49;00m\u001b[33m'\u001b[39;49;00m\n",
            "                  \u001b[33m'\u001b[39;49;00m\u001b[33mFrecuentes</a>\u001b[39;49;00m\u001b[33m'\u001b[39;49;00m,\n",
            "                  \u001b[33m'\u001b[39;49;00m\u001b[33m<a class=\u001b[39;49;00m\u001b[33m\"\u001b[39;49;00m\u001b[33mnav-link\u001b[39;49;00m\u001b[33m\"\u001b[39;49;00m\u001b[33m target=\u001b[39;49;00m\u001b[33m\"\u001b[39;49;00m\u001b[33m_blank\u001b[39;49;00m\u001b[33m\"\u001b[39;49;00m\u001b[33m \u001b[39;49;00m\u001b[33m'\u001b[39;49;00m\n",
            "                  \u001b[33m'\u001b[39;49;00m\u001b[33mhref=\u001b[39;49;00m\u001b[33m\"\u001b[39;49;00m\u001b[33mhttps://si3.bcentral.cl/estadisticas/Principal1/enlaces/aplicaciones/Metodolog_BDE.html\u001b[39;49;00m\u001b[33m\"\u001b[39;49;00m\u001b[33m>Metodologías</a>\u001b[39;49;00m\u001b[33m'\u001b[39;49;00m,\n",
            "                  \u001b[33m'\u001b[39;49;00m\u001b[33m<a class=\u001b[39;49;00m\u001b[33m\"\u001b[39;49;00m\u001b[33mnav-link\u001b[39;49;00m\u001b[33m\"\u001b[39;49;00m\u001b[33m \u001b[39;49;00m\u001b[33m'\u001b[39;49;00m\n",
            "                  \u001b[33m'\u001b[39;49;00m\u001b[33mhref=\u001b[39;49;00m\u001b[33m\"\u001b[39;49;00m\u001b[33mhttps://si3.bcentral.cl/estadisticas/Principal1/enlaces/aplicaciones/BDE_movil.html\u001b[39;49;00m\u001b[33m\"\u001b[39;49;00m\u001b[33m>BDE \u001b[39;49;00m\u001b[33m'\u001b[39;49;00m\n",
            "                  \u001b[33m'\u001b[39;49;00m\u001b[33mMóvil</a>\u001b[39;49;00m\u001b[33m'\u001b[39;49;00m],\n",
            "  \u001b[33m'\u001b[39;49;00m\u001b[33mserver\u001b[39;49;00m\u001b[33m'\u001b[39;49;00m: [\u001b[33m'\u001b[39;49;00m\u001b[33m4ef82249f791\u001b[39;49;00m\u001b[33m'\u001b[39;49;00m],\n",
            "  \u001b[33m'\u001b[39;49;00m\u001b[33mtitle\u001b[39;49;00m\u001b[33m'\u001b[39;49;00m: [\u001b[33m'\u001b[39;49;00m\u001b[33mBase de Datos Estadísticos \u001b[39;49;00m\u001b[33m'\u001b[39;49;00m]}]\n",
            "\n",
            "# Requests  -----------------------------------------------------------------\n",
            "[]\n",
            "\n"
          ]
        }
      ]
    },
    {
      "cell_type": "markdown",
      "source": [
        "## Spider for two-direction-movement"
      ],
      "metadata": {
        "id": "pA5FqcRkISfk"
      }
    },
    {
      "cell_type": "code",
      "source": [
        "%%writefile /content/chilean_data_explore/chilean_data_explore/spiders/manual.py\n",
        "import scrapy\n",
        "from chilean_data_explore.items import PropertiesItem \n",
        "from scrapy.loader import ItemLoader\n",
        "import datetime\n",
        "import socket\n",
        "from scrapy.http import Request\n",
        "from urllib.parse import urljoin\n",
        "\n",
        "class BasicSpider(scrapy.Spider):\n",
        "    name = 'manual'\n",
        "    allowed_domains = ['si3.bcentral.cl']\n",
        "    start_urls = ['https://si3.bcentral.cl/Siete']\n",
        "\n",
        "    def parse(self, response):\n",
        "      next_selector=response.xpath('//a[starts-with(@onclick, \"SetCapitu\")]//@onclick').extract()\n",
        "      collec=[]\n",
        "      for string in next_selector:\n",
        "        string = string.replace(\"SetCapitulo(\",\"\") \n",
        "        string = string.replace(\")\",\"\") \n",
        "        string = string.replace(\"'\",\"\") \n",
        "        string = string.replace(\" \",\"\") \n",
        "        string = \"/\".join(string.split(',')) \n",
        "        string = \"Siete/ES/Siete/Cuadro/\" + string.strip()\n",
        "        collec.append(string)\n",
        "      next_selector = collec\n",
        "\n",
        "      for url in next_selector:\n",
        "        x = urljoin(response.url, url)\n",
        "        yield Request(x, callback=self.parse)"
      ],
      "metadata": {
        "colab": {
          "base_uri": "https://localhost:8080/"
        },
        "id": "P5zxQVxlaOoU",
        "outputId": "20e95355-2476-4b79-f1b4-cec49eef3fb7"
      },
      "execution_count": null,
      "outputs": [
        {
          "output_type": "stream",
          "name": "stdout",
          "text": [
            "Writing /content/chilean_data_explore/chilean_data_explore/spiders/manual.py\n"
          ]
        }
      ]
    },
    {
      "cell_type": "code",
      "source": [
        "!scrapy crawl manual \n",
        "!scrapy parse --spider=manual https://si3.bcentral.cl/Siete"
      ],
      "metadata": {
        "colab": {
          "base_uri": "https://localhost:8080/"
        },
        "id": "D-64ZVxfaC-b",
        "outputId": "fc499d04-026d-42a5-a892-fb0109c7b5c6"
      },
      "execution_count": null,
      "outputs": [
        {
          "output_type": "stream",
          "name": "stdout",
          "text": [
            "2022-10-27 12:52:39 [scrapy.utils.log] INFO: Scrapy 2.7.0 started (bot: chilean_data_explore)\n",
            "2022-10-27 12:52:39 [scrapy.utils.log] INFO: Versions: lxml 4.9.1.0, libxml2 2.9.14, cssselect 1.1.0, parsel 1.6.0, w3lib 2.0.1, Twisted 22.8.0, Python 3.7.15 (default, Oct 12 2022, 19:14:55) - [GCC 7.5.0], pyOpenSSL 22.1.0 (OpenSSL 3.0.5 5 Jul 2022), cryptography 38.0.1, Platform Linux-5.10.133+-x86_64-with-Ubuntu-18.04-bionic\n",
            "2022-10-27 12:52:39 [scrapy.crawler] INFO: Overridden settings:\n",
            "{'BOT_NAME': 'chilean_data_explore',\n",
            " 'NEWSPIDER_MODULE': 'chilean_data_explore.spiders',\n",
            " 'REQUEST_FINGERPRINTER_IMPLEMENTATION': '2.7',\n",
            " 'ROBOTSTXT_OBEY': True,\n",
            " 'SPIDER_MODULES': ['chilean_data_explore.spiders'],\n",
            " 'TWISTED_REACTOR': 'twisted.internet.asyncioreactor.AsyncioSelectorReactor'}\n",
            "2022-10-27 12:52:39 [asyncio] DEBUG: Using selector: EpollSelector\n",
            "2022-10-27 12:52:39 [scrapy.utils.log] DEBUG: Using reactor: twisted.internet.asyncioreactor.AsyncioSelectorReactor\n",
            "2022-10-27 12:52:39 [scrapy.utils.log] DEBUG: Using asyncio event loop: asyncio.unix_events._UnixSelectorEventLoop\n",
            "2022-10-27 12:52:39 [scrapy.extensions.telnet] INFO: Telnet Password: 010a6f5730bab747\n",
            "2022-10-27 12:52:39 [scrapy.middleware] INFO: Enabled extensions:\n",
            "['scrapy.extensions.corestats.CoreStats',\n",
            " 'scrapy.extensions.telnet.TelnetConsole',\n",
            " 'scrapy.extensions.memusage.MemoryUsage',\n",
            " 'scrapy.extensions.logstats.LogStats']\n",
            "2022-10-27 12:52:39 [scrapy.middleware] INFO: Enabled downloader middlewares:\n",
            "['scrapy.downloadermiddlewares.robotstxt.RobotsTxtMiddleware',\n",
            " 'scrapy.downloadermiddlewares.httpauth.HttpAuthMiddleware',\n",
            " 'scrapy.downloadermiddlewares.downloadtimeout.DownloadTimeoutMiddleware',\n",
            " 'scrapy.downloadermiddlewares.defaultheaders.DefaultHeadersMiddleware',\n",
            " 'scrapy.downloadermiddlewares.useragent.UserAgentMiddleware',\n",
            " 'scrapy.downloadermiddlewares.retry.RetryMiddleware',\n",
            " 'scrapy.downloadermiddlewares.redirect.MetaRefreshMiddleware',\n",
            " 'scrapy.downloadermiddlewares.httpcompression.HttpCompressionMiddleware',\n",
            " 'scrapy.downloadermiddlewares.redirect.RedirectMiddleware',\n",
            " 'scrapy.downloadermiddlewares.cookies.CookiesMiddleware',\n",
            " 'scrapy.downloadermiddlewares.httpproxy.HttpProxyMiddleware',\n",
            " 'scrapy.downloadermiddlewares.stats.DownloaderStats']\n",
            "2022-10-27 12:52:39 [scrapy.middleware] INFO: Enabled spider middlewares:\n",
            "['scrapy.spidermiddlewares.httperror.HttpErrorMiddleware',\n",
            " 'scrapy.spidermiddlewares.offsite.OffsiteMiddleware',\n",
            " 'scrapy.spidermiddlewares.referer.RefererMiddleware',\n",
            " 'scrapy.spidermiddlewares.urllength.UrlLengthMiddleware',\n",
            " 'scrapy.spidermiddlewares.depth.DepthMiddleware']\n",
            "2022-10-27 12:52:39 [scrapy.middleware] INFO: Enabled item pipelines:\n",
            "[]\n",
            "2022-10-27 12:52:39 [scrapy.core.engine] INFO: Spider opened\n",
            "2022-10-27 12:52:39 [scrapy.extensions.logstats] INFO: Crawled 0 pages (at 0 pages/min), scraped 0 items (at 0 items/min)\n",
            "2022-10-27 12:52:39 [scrapy.extensions.telnet] INFO: Telnet console listening on 127.0.0.1:6023\n",
            "2022-10-27 12:52:40 [scrapy.downloadermiddlewares.redirect] DEBUG: Redirecting (302) to <GET https://si3.bcentral.cl/ErrorPage.html> from <GET https://si3.bcentral.cl/robots.txt>\n",
            "/usr/local/lib/python3.7/dist-packages/scrapy/core/engine.py:279: ScrapyDeprecationWarning: Passing a 'spider' argument to ExecutionEngine.download is deprecated\n",
            "  return self.download(result, spider) if isinstance(result, Request) else result\n",
            "2022-10-27 12:52:41 [scrapy.core.engine] DEBUG: Crawled (200) <GET https://si3.bcentral.cl/ErrorPage.html> (referer: None)\n",
            "2022-10-27 12:52:41 [protego] DEBUG: Rule at line 8 without any user agent to enforce it on.\n",
            "2022-10-27 12:52:41 [protego] DEBUG: Rule at line 20 without any user agent to enforce it on.\n",
            "2022-10-27 12:52:41 [protego] DEBUG: Rule at line 21 without any user agent to enforce it on.\n",
            "2022-10-27 12:52:41 [protego] DEBUG: Rule at line 25 without any user agent to enforce it on.\n",
            "2022-10-27 12:52:41 [protego] DEBUG: Rule at line 28 without any user agent to enforce it on.\n",
            "2022-10-27 12:52:41 [protego] DEBUG: Rule at line 39 without any user agent to enforce it on.\n",
            "2022-10-27 12:52:41 [protego] DEBUG: Rule at line 55 without any user agent to enforce it on.\n",
            "2022-10-27 12:52:41 [protego] DEBUG: Rule at line 84 without any user agent to enforce it on.\n",
            "2022-10-27 12:52:41 [protego] DEBUG: Rule at line 90 without any user agent to enforce it on.\n",
            "2022-10-27 12:52:41 [protego] DEBUG: Rule at line 91 without any user agent to enforce it on.\n",
            "2022-10-27 12:52:41 [protego] DEBUG: Rule at line 95 without any user agent to enforce it on.\n",
            "2022-10-27 12:52:41 [protego] DEBUG: Rule at line 96 without any user agent to enforce it on.\n",
            "2022-10-27 12:52:42 [filelock] DEBUG: Attempting to acquire lock 139747120659344 on /root/.cache/python-tldextract/3.7.15.final__usr__7d8fdf__tldextract-3.4.0/publicsuffix.org-tlds/de84b5ca2167d4c83e38fb162f2e8738.tldextract.json.lock\n",
            "2022-10-27 12:52:42 [filelock] DEBUG: Lock 139747120659344 acquired on /root/.cache/python-tldextract/3.7.15.final__usr__7d8fdf__tldextract-3.4.0/publicsuffix.org-tlds/de84b5ca2167d4c83e38fb162f2e8738.tldextract.json.lock\n",
            "2022-10-27 12:52:42 [filelock] DEBUG: Attempting to release lock 139747120659344 on /root/.cache/python-tldextract/3.7.15.final__usr__7d8fdf__tldextract-3.4.0/publicsuffix.org-tlds/de84b5ca2167d4c83e38fb162f2e8738.tldextract.json.lock\n",
            "2022-10-27 12:52:42 [filelock] DEBUG: Lock 139747120659344 released on /root/.cache/python-tldextract/3.7.15.final__usr__7d8fdf__tldextract-3.4.0/publicsuffix.org-tlds/de84b5ca2167d4c83e38fb162f2e8738.tldextract.json.lock\n",
            "2022-10-27 12:52:42 [scrapy.core.engine] DEBUG: Crawled (200) <GET https://si3.bcentral.cl/Siete> (referer: None)\n",
            "2022-10-27 12:52:42 [scrapy.dupefilters] DEBUG: Filtered duplicate request: <GET https://si3.bcentral.cl/Siete/ES/Siete/Cuadro/CAP_ESTADIST_MACRO/MN_EST_MACRO_IV/PEM_TC> - no more duplicates will be shown (see DUPEFILTER_DEBUG to show all duplicates)\n",
            "2022-10-27 12:52:45 [scrapy.core.engine] DEBUG: Crawled (200) <GET https://si3.bcentral.cl/Siete/ES/Siete/Cuadro/CAP_ESTADIST_EXPERIM/MN_EXPERIM01/EST_EXP_001> (referer: https://si3.bcentral.cl/)\n",
            "2022-10-27 12:52:46 [scrapy.core.engine] DEBUG: Crawled (200) <GET https://si3.bcentral.cl/Siete/ES/Siete/Cuadro/CAP_BDP/MN_BDP42/BP6M_RES01> (referer: https://si3.bcentral.cl/)\n",
            "2022-10-27 12:52:46 [scrapy.core.engine] DEBUG: Crawled (200) <GET https://si3.bcentral.cl/Siete/ES/Siete/Cuadro/CAP_ESTADIST_GENERO/MN_GENERO1/EST_GEN_POB_01> (referer: https://si3.bcentral.cl/)\n",
            "2022-10-27 12:52:48 [scrapy.core.engine] DEBUG: Crawled (200) <GET https://si3.bcentral.cl/Siete/ES/Siete/Cuadro/CAP_CCNN/MN_CCNN76/CCNN2018_IMACEC_01> (referer: https://si3.bcentral.cl/)\n",
            "2022-10-27 12:52:48 [scrapy.core.engine] DEBUG: Crawled (200) <GET https://si3.bcentral.cl/Siete/ES/Siete/Cuadro/CAP_DERYSPOT/MN_DERYSPOT/DER_MON_01> (referer: https://si3.bcentral.cl/)\n",
            "2022-10-27 12:52:48 [scrapy.core.engine] DEBUG: Crawled (200) <GET https://si3.bcentral.cl/Siete/ES/Siete/Cuadro/CAP_FIN_PUB/MN_FIN_PUB_1/GOB_TOT_1> (referer: https://si3.bcentral.cl/)\n",
            "2022-10-27 12:52:49 [scrapy.core.engine] DEBUG: Crawled (200) <GET https://si3.bcentral.cl/Siete/ES/Siete/Cuadro/CAP_EMP_REM_DEM/MN_EMP_REM_DEM13/ED_TDNRM2> (referer: https://si3.bcentral.cl/)\n",
            "2022-10-27 12:52:49 [scrapy.core.engine] DEBUG: Crawled (200) <GET https://si3.bcentral.cl/Siete/ES/Siete/Cuadro/CAP_IND_SEC/MN_IND_SEC20/IS_GENERAL_PROPIEDAD_2008> (referer: https://si3.bcentral.cl/)\n",
            "2022-10-27 12:52:49 [scrapy.core.engine] DEBUG: Crawled (200) <GET https://si3.bcentral.cl/Siete/ES/Siete/Cuadro/CAP_TIPO_CAMBIO/MN_TIPO_CAMBIO4/DOLAR_OBS_ADO> (referer: https://si3.bcentral.cl/)\n",
            "2022-10-27 12:52:49 [scrapy.core.engine] DEBUG: Crawled (200) <GET https://si3.bcentral.cl/Siete/ES/Siete/Cuadro/CAP_DYB/MN_ESTAD_MON55/EM_BMAM2> (referer: https://si3.bcentral.cl/)\n",
            "2022-10-27 12:52:50 [scrapy.core.engine] DEBUG: Crawled (200) <GET https://si3.bcentral.cl/Siete/ES/Siete/Cuadro/CAP_PRECIOS/MN_CAP_PRECIOS/UF_IVP_DIARIO> (referer: https://si3.bcentral.cl/)\n",
            "2022-10-27 12:52:50 [scrapy.core.engine] DEBUG: Crawled (200) <GET https://si3.bcentral.cl/Siete/ES/Siete/Cuadro/CAP_EI/MN_EI11/EI_CREC_TRI> (referer: https://si3.bcentral.cl/)\n",
            "2022-10-27 12:52:50 [scrapy.core.engine] DEBUG: Crawled (200) <GET https://si3.bcentral.cl/Siete/ES/Siete/Cuadro/CAP_EXP_ECO/MN_EXP_EC11/EXE_BCCH_01> (referer: https://si3.bcentral.cl/)\n",
            "2022-10-27 12:52:51 [scrapy.core.engine] DEBUG: Crawled (200) <GET https://si3.bcentral.cl/Siete/ES/Siete/Cuadro/CAP_ESTADIST_REGIONAL/MN_REGIONAL1/CCNN2018_PIB_REGIONAL_T> (referer: https://si3.bcentral.cl/)\n",
            "2022-10-27 12:52:51 [scrapy.core.engine] DEBUG: Crawled (200) <GET https://si3.bcentral.cl/Siete/ES/Siete/Cuadro/CAP_TASA_INTERES/MN_TASA_INTERES_09/TPM_C1> (referer: https://si3.bcentral.cl/)\n",
            "2022-10-27 12:52:51 [scrapy.core.engine] DEBUG: Crawled (200) <GET https://si3.bcentral.cl/Siete/ES/Siete/Cuadro/CAP_ESTADIST_MACRO/MN_EST_MACRO_IV/PEM_TC> (referer: https://si3.bcentral.cl/)\n",
            "2022-10-27 12:52:51 [scrapy.core.engine] INFO: Closing spider (finished)\n",
            "2022-10-27 12:52:51 [scrapy.statscollectors] INFO: Dumping Scrapy stats:\n",
            "{'downloader/request_bytes': 8843,\n",
            " 'downloader/request_count': 19,\n",
            " 'downloader/request_method_count/GET': 19,\n",
            " 'downloader/response_bytes': 4395516,\n",
            " 'downloader/response_count': 19,\n",
            " 'downloader/response_status_count/200': 18,\n",
            " 'downloader/response_status_count/302': 1,\n",
            " 'dupefilter/filtered': 16,\n",
            " 'elapsed_time_seconds': 11.849384,\n",
            " 'finish_reason': 'finished',\n",
            " 'finish_time': datetime.datetime(2022, 10, 27, 12, 52, 51, 508641),\n",
            " 'log_count/DEBUG': 39,\n",
            " 'log_count/INFO': 10,\n",
            " 'memusage/max': 93401088,\n",
            " 'memusage/startup': 93401088,\n",
            " 'request_depth_max': 1,\n",
            " 'response_received_count': 18,\n",
            " 'robotstxt/request_count': 1,\n",
            " 'robotstxt/response_count': 1,\n",
            " 'robotstxt/response_status_count/200': 1,\n",
            " 'scheduler/dequeued': 17,\n",
            " 'scheduler/dequeued/memory': 17,\n",
            " 'scheduler/enqueued': 17,\n",
            " 'scheduler/enqueued/memory': 17,\n",
            " 'start_time': datetime.datetime(2022, 10, 27, 12, 52, 39, 659257)}\n",
            "2022-10-27 12:52:51 [scrapy.core.engine] INFO: Spider closed (finished)\n",
            "2022-10-27 12:52:53 [scrapy.utils.log] INFO: Scrapy 2.7.0 started (bot: chilean_data_explore)\n",
            "2022-10-27 12:52:53 [scrapy.utils.log] INFO: Versions: lxml 4.9.1.0, libxml2 2.9.14, cssselect 1.1.0, parsel 1.6.0, w3lib 2.0.1, Twisted 22.8.0, Python 3.7.15 (default, Oct 12 2022, 19:14:55) - [GCC 7.5.0], pyOpenSSL 22.1.0 (OpenSSL 3.0.5 5 Jul 2022), cryptography 38.0.1, Platform Linux-5.10.133+-x86_64-with-Ubuntu-18.04-bionic\n",
            "2022-10-27 12:52:53 [scrapy.crawler] INFO: Overridden settings:\n",
            "{'BOT_NAME': 'chilean_data_explore',\n",
            " 'NEWSPIDER_MODULE': 'chilean_data_explore.spiders',\n",
            " 'REQUEST_FINGERPRINTER_IMPLEMENTATION': '2.7',\n",
            " 'ROBOTSTXT_OBEY': True,\n",
            " 'SPIDER_MODULES': ['chilean_data_explore.spiders'],\n",
            " 'TWISTED_REACTOR': 'twisted.internet.asyncioreactor.AsyncioSelectorReactor'}\n",
            "2022-10-27 12:52:53 [asyncio] DEBUG: Using selector: EpollSelector\n",
            "2022-10-27 12:52:53 [scrapy.utils.log] DEBUG: Using reactor: twisted.internet.asyncioreactor.AsyncioSelectorReactor\n",
            "2022-10-27 12:52:53 [scrapy.utils.log] DEBUG: Using asyncio event loop: asyncio.unix_events._UnixSelectorEventLoop\n",
            "2022-10-27 12:52:53 [scrapy.extensions.telnet] INFO: Telnet Password: 4547ab6b6a1fbed7\n",
            "2022-10-27 12:52:53 [scrapy.middleware] INFO: Enabled extensions:\n",
            "['scrapy.extensions.corestats.CoreStats',\n",
            " 'scrapy.extensions.telnet.TelnetConsole',\n",
            " 'scrapy.extensions.memusage.MemoryUsage',\n",
            " 'scrapy.extensions.logstats.LogStats']\n",
            "2022-10-27 12:52:53 [scrapy.middleware] INFO: Enabled downloader middlewares:\n",
            "['scrapy.downloadermiddlewares.robotstxt.RobotsTxtMiddleware',\n",
            " 'scrapy.downloadermiddlewares.httpauth.HttpAuthMiddleware',\n",
            " 'scrapy.downloadermiddlewares.downloadtimeout.DownloadTimeoutMiddleware',\n",
            " 'scrapy.downloadermiddlewares.defaultheaders.DefaultHeadersMiddleware',\n",
            " 'scrapy.downloadermiddlewares.useragent.UserAgentMiddleware',\n",
            " 'scrapy.downloadermiddlewares.retry.RetryMiddleware',\n",
            " 'scrapy.downloadermiddlewares.redirect.MetaRefreshMiddleware',\n",
            " 'scrapy.downloadermiddlewares.httpcompression.HttpCompressionMiddleware',\n",
            " 'scrapy.downloadermiddlewares.redirect.RedirectMiddleware',\n",
            " 'scrapy.downloadermiddlewares.cookies.CookiesMiddleware',\n",
            " 'scrapy.downloadermiddlewares.httpproxy.HttpProxyMiddleware',\n",
            " 'scrapy.downloadermiddlewares.stats.DownloaderStats']\n",
            "2022-10-27 12:52:53 [scrapy.middleware] INFO: Enabled spider middlewares:\n",
            "['scrapy.spidermiddlewares.httperror.HttpErrorMiddleware',\n",
            " 'scrapy.spidermiddlewares.offsite.OffsiteMiddleware',\n",
            " 'scrapy.spidermiddlewares.referer.RefererMiddleware',\n",
            " 'scrapy.spidermiddlewares.urllength.UrlLengthMiddleware',\n",
            " 'scrapy.spidermiddlewares.depth.DepthMiddleware']\n",
            "2022-10-27 12:52:53 [scrapy.middleware] INFO: Enabled item pipelines:\n",
            "[]\n",
            "2022-10-27 12:52:53 [scrapy.core.engine] INFO: Spider opened\n",
            "2022-10-27 12:52:53 [scrapy.extensions.logstats] INFO: Crawled 0 pages (at 0 pages/min), scraped 0 items (at 0 items/min)\n",
            "2022-10-27 12:52:53 [scrapy.extensions.telnet] INFO: Telnet console listening on 127.0.0.1:6023\n",
            "2022-10-27 12:52:54 [scrapy.downloadermiddlewares.redirect] DEBUG: Redirecting (302) to <GET https://si3.bcentral.cl/ErrorPage.html> from <GET https://si3.bcentral.cl/robots.txt>\n",
            "/usr/local/lib/python3.7/dist-packages/scrapy/core/engine.py:279: ScrapyDeprecationWarning: Passing a 'spider' argument to ExecutionEngine.download is deprecated\n",
            "  return self.download(result, spider) if isinstance(result, Request) else result\n",
            "2022-10-27 12:52:55 [scrapy.core.engine] DEBUG: Crawled (200) <GET https://si3.bcentral.cl/ErrorPage.html> (referer: None)\n",
            "2022-10-27 12:52:55 [protego] DEBUG: Rule at line 8 without any user agent to enforce it on.\n",
            "2022-10-27 12:52:55 [protego] DEBUG: Rule at line 20 without any user agent to enforce it on.\n",
            "2022-10-27 12:52:55 [protego] DEBUG: Rule at line 21 without any user agent to enforce it on.\n",
            "2022-10-27 12:52:55 [protego] DEBUG: Rule at line 25 without any user agent to enforce it on.\n",
            "2022-10-27 12:52:55 [protego] DEBUG: Rule at line 28 without any user agent to enforce it on.\n",
            "2022-10-27 12:52:55 [protego] DEBUG: Rule at line 39 without any user agent to enforce it on.\n",
            "2022-10-27 12:52:55 [protego] DEBUG: Rule at line 55 without any user agent to enforce it on.\n",
            "2022-10-27 12:52:55 [protego] DEBUG: Rule at line 84 without any user agent to enforce it on.\n",
            "2022-10-27 12:52:55 [protego] DEBUG: Rule at line 90 without any user agent to enforce it on.\n",
            "2022-10-27 12:52:55 [protego] DEBUG: Rule at line 91 without any user agent to enforce it on.\n",
            "2022-10-27 12:52:55 [protego] DEBUG: Rule at line 95 without any user agent to enforce it on.\n",
            "2022-10-27 12:52:55 [protego] DEBUG: Rule at line 96 without any user agent to enforce it on.\n",
            "2022-10-27 12:52:56 [filelock] DEBUG: Attempting to acquire lock 139927354138960 on /root/.cache/python-tldextract/3.7.15.final__usr__7d8fdf__tldextract-3.4.0/publicsuffix.org-tlds/de84b5ca2167d4c83e38fb162f2e8738.tldextract.json.lock\n",
            "2022-10-27 12:52:56 [filelock] DEBUG: Lock 139927354138960 acquired on /root/.cache/python-tldextract/3.7.15.final__usr__7d8fdf__tldextract-3.4.0/publicsuffix.org-tlds/de84b5ca2167d4c83e38fb162f2e8738.tldextract.json.lock\n",
            "2022-10-27 12:52:56 [filelock] DEBUG: Attempting to release lock 139927354138960 on /root/.cache/python-tldextract/3.7.15.final__usr__7d8fdf__tldextract-3.4.0/publicsuffix.org-tlds/de84b5ca2167d4c83e38fb162f2e8738.tldextract.json.lock\n",
            "2022-10-27 12:52:56 [filelock] DEBUG: Lock 139927354138960 released on /root/.cache/python-tldextract/3.7.15.final__usr__7d8fdf__tldextract-3.4.0/publicsuffix.org-tlds/de84b5ca2167d4c83e38fb162f2e8738.tldextract.json.lock\n",
            "2022-10-27 12:52:56 [scrapy.core.engine] DEBUG: Crawled (200) <GET https://si3.bcentral.cl/Siete> (referer: None)\n",
            "2022-10-27 12:52:56 [scrapy.core.engine] INFO: Closing spider (finished)\n",
            "2022-10-27 12:52:56 [scrapy.statscollectors] INFO: Dumping Scrapy stats:\n",
            "{'downloader/request_bytes': 674,\n",
            " 'downloader/request_count': 3,\n",
            " 'downloader/request_method_count/GET': 3,\n",
            " 'downloader/response_bytes': 38967,\n",
            " 'downloader/response_count': 3,\n",
            " 'downloader/response_status_count/200': 2,\n",
            " 'downloader/response_status_count/302': 1,\n",
            " 'elapsed_time_seconds': 2.903975,\n",
            " 'finish_reason': 'finished',\n",
            " 'finish_time': datetime.datetime(2022, 10, 27, 12, 52, 56, 761251),\n",
            " 'log_count/DEBUG': 22,\n",
            " 'log_count/INFO': 10,\n",
            " 'memusage/max': 93597696,\n",
            " 'memusage/startup': 93597696,\n",
            " 'response_received_count': 2,\n",
            " 'robotstxt/request_count': 1,\n",
            " 'robotstxt/response_count': 1,\n",
            " 'robotstxt/response_status_count/200': 1,\n",
            " 'scheduler/dequeued': 1,\n",
            " 'scheduler/dequeued/memory': 1,\n",
            " 'scheduler/enqueued': 1,\n",
            " 'scheduler/enqueued/memory': 1,\n",
            " 'start_time': datetime.datetime(2022, 10, 27, 12, 52, 53, 857276)}\n",
            "2022-10-27 12:52:56 [scrapy.core.engine] INFO: Spider closed (finished)\n",
            "\n",
            ">>> STATUS DEPTH LEVEL 1 <<<\n",
            "# Scraped Items  ------------------------------------------------------------\n",
            "[]\n",
            "\n",
            "# Requests  -----------------------------------------------------------------\n",
            "[<GET https://si3.bcentral.cl/Siete/ES/Siete/Cuadro/CAP_ESTADIST_MACRO/MN_EST_MACRO_IV/PEM_TC>,\n",
            " <GET https://si3.bcentral.cl/Siete/ES/Siete/Cuadro/CAP_PRECIOS/MN_CAP_PRECIOS/UF_IVP_DIARIO>,\n",
            " <GET https://si3.bcentral.cl/Siete/ES/Siete/Cuadro/CAP_TASA_INTERES/MN_TASA_INTERES_09/TPM_C1>,\n",
            " <GET https://si3.bcentral.cl/Siete/ES/Siete/Cuadro/CAP_TIPO_CAMBIO/MN_TIPO_CAMBIO4/DOLAR_OBS_ADO>,\n",
            " <GET https://si3.bcentral.cl/Siete/ES/Siete/Cuadro/CAP_DYB/MN_ESTAD_MON55/EM_BMAM2>,\n",
            " <GET https://si3.bcentral.cl/Siete/ES/Siete/Cuadro/CAP_DERYSPOT/MN_DERYSPOT/DER_MON_01>,\n",
            " <GET https://si3.bcentral.cl/Siete/ES/Siete/Cuadro/CAP_CCNN/MN_CCNN76/CCNN2018_IMACEC_01>,\n",
            " <GET https://si3.bcentral.cl/Siete/ES/Siete/Cuadro/CAP_BDP/MN_BDP42/BP6M_RES01>,\n",
            " <GET https://si3.bcentral.cl/Siete/ES/Siete/Cuadro/CAP_EMP_REM_DEM/MN_EMP_REM_DEM13/ED_TDNRM2>,\n",
            " <GET https://si3.bcentral.cl/Siete/ES/Siete/Cuadro/CAP_EXP_ECO/MN_EXP_EC11/EXE_BCCH_01>,\n",
            " <GET https://si3.bcentral.cl/Siete/ES/Siete/Cuadro/CAP_IND_SEC/MN_IND_SEC20/IS_GENERAL_PROPIEDAD_2008>,\n",
            " <GET https://si3.bcentral.cl/Siete/ES/Siete/Cuadro/CAP_EI/MN_EI11/EI_CREC_TRI>,\n",
            " <GET https://si3.bcentral.cl/Siete/ES/Siete/Cuadro/CAP_FIN_PUB/MN_FIN_PUB_1/GOB_TOT_1>,\n",
            " <GET https://si3.bcentral.cl/Siete/ES/Siete/Cuadro/CAP_ESTADIST_GENERO/MN_GENERO1/EST_GEN_POB_01>,\n",
            " <GET https://si3.bcentral.cl/Siete/ES/Siete/Cuadro/CAP_ESTADIST_REGIONAL/MN_REGIONAL1/CCNN2018_PIB_REGIONAL_T>,\n",
            " <GET https://si3.bcentral.cl/Siete/ES/Siete/Cuadro/CAP_ESTADIST_EXPERIM/MN_EXPERIM01/EST_EXP_001>,\n",
            " <GET https://si3.bcentral.cl/Siete/ES/Siete/Cuadro/CAP_ESTADIST_MACRO/MN_EST_MACRO_IV/PEM_TC>,\n",
            " <GET https://si3.bcentral.cl/Siete/ES/Siete/Cuadro/CAP_PRECIOS/MN_CAP_PRECIOS/UF_IVP_DIARIO>,\n",
            " <GET https://si3.bcentral.cl/Siete/ES/Siete/Cuadro/CAP_TASA_INTERES/MN_TASA_INTERES_09/TPM_C1>,\n",
            " <GET https://si3.bcentral.cl/Siete/ES/Siete/Cuadro/CAP_TIPO_CAMBIO/MN_TIPO_CAMBIO4/DOLAR_OBS_ADO>,\n",
            " <GET https://si3.bcentral.cl/Siete/ES/Siete/Cuadro/CAP_DYB/MN_ESTAD_MON55/EM_BMAM2>,\n",
            " <GET https://si3.bcentral.cl/Siete/ES/Siete/Cuadro/CAP_DERYSPOT/MN_DERYSPOT/DER_MON_01>,\n",
            " <GET https://si3.bcentral.cl/Siete/ES/Siete/Cuadro/CAP_CCNN/MN_CCNN76/CCNN2018_IMACEC_01>,\n",
            " <GET https://si3.bcentral.cl/Siete/ES/Siete/Cuadro/CAP_BDP/MN_BDP42/BP6M_RES01>,\n",
            " <GET https://si3.bcentral.cl/Siete/ES/Siete/Cuadro/CAP_EMP_REM_DEM/MN_EMP_REM_DEM13/ED_TDNRM2>,\n",
            " <GET https://si3.bcentral.cl/Siete/ES/Siete/Cuadro/CAP_EXP_ECO/MN_EXP_EC11/EXE_BCCH_01>,\n",
            " <GET https://si3.bcentral.cl/Siete/ES/Siete/Cuadro/CAP_IND_SEC/MN_IND_SEC20/IS_GENERAL_PROPIEDAD_2008>,\n",
            " <GET https://si3.bcentral.cl/Siete/ES/Siete/Cuadro/CAP_EI/MN_EI11/EI_CREC_TRI>,\n",
            " <GET https://si3.bcentral.cl/Siete/ES/Siete/Cuadro/CAP_FIN_PUB/MN_FIN_PUB_1/GOB_TOT_1>,\n",
            " <GET https://si3.bcentral.cl/Siete/ES/Siete/Cuadro/CAP_ESTADIST_GENERO/MN_GENERO1/EST_GEN_POB_01>,\n",
            " <GET https://si3.bcentral.cl/Siete/ES/Siete/Cuadro/CAP_ESTADIST_REGIONAL/MN_REGIONAL1/CCNN2018_PIB_REGIONAL_T>,\n",
            " <GET https://si3.bcentral.cl/Siete/ES/Siete/Cuadro/CAP_ESTADIST_EXPERIM/MN_EXPERIM01/EST_EXP_001>]\n",
            "\n"
          ]
        }
      ]
    },
    {
      "cell_type": "markdown",
      "source": [
        "## Crawlspider for two-direction-movement"
      ],
      "metadata": {
        "id": "RDuADs6crNO7"
      }
    },
    {
      "cell_type": "code",
      "source": [
        " !scrapy genspider -t crawl automatic web"
      ],
      "metadata": {
        "colab": {
          "base_uri": "https://localhost:8080/"
        },
        "id": "eQFNDfdgr4y4",
        "outputId": "dc01e490-84fa-4b20-c091-11f504821942"
      },
      "execution_count": null,
      "outputs": [
        {
          "output_type": "stream",
          "name": "stdout",
          "text": [
            "Created spider 'automatic' using template 'crawl' in module:\n",
            "  chilean_data_explore.spiders.automatic\n"
          ]
        }
      ]
    },
    {
      "cell_type": "code",
      "source": [
        "%%writefile /content/chilean_data_explore/chilean_data_explore/spiders/automatic.py\n",
        "import scrapy\n",
        "from scrapy.linkextractors import LinkExtractor\n",
        "from scrapy.spiders import CrawlSpider, Rule\n",
        "\n",
        "\n",
        "class AutomaticSpider(CrawlSpider):\n",
        "    name = 'automatic'\n",
        "    allowed_domains = ['si3.bcentral.cl']\n",
        "    start_urls = ['https://si3.bcentral.cl/Siete']\n",
        "\n",
        "    rules = (\n",
        "        #horizontal\n",
        "        Rule(\n",
        "          LinkExtractor(\n",
        "            restrict_xpaths='//a[starts-with(@onclick, \"SetCapitu\")]//@onclick'\n",
        "            )\n",
        "            , callback='parse_item', follow=True\n",
        "            ),\n",
        "        #vertical\n",
        "        #Rule(LinkExtractor(allow=r'Items/'), callback='parse_item', follow=True),\n",
        "    )\n",
        "    \n",
        "    def parse_item(self, response):\n",
        "        item = {}\n",
        "        #item['domain_id'] = response.xpath('//input[@id=\"sid\"]/@value').get()\n",
        "        #item['name'] = response.xpath('//div[@id=\"name\"]').get()\n",
        "        #item['description'] = response.xpath('//div[@id=\"description\"]').get()\n",
        "        return item"
      ],
      "metadata": {
        "colab": {
          "base_uri": "https://localhost:8080/"
        },
        "id": "B5vUvve2f-VA",
        "outputId": "e8dfdbb7-617d-40f7-d9f9-ad2359961e57"
      },
      "execution_count": null,
      "outputs": [
        {
          "output_type": "stream",
          "name": "stdout",
          "text": [
            "Overwriting /content/chilean_data_explore/chilean_data_explore/spiders/automatic.py\n"
          ]
        }
      ]
    },
    {
      "cell_type": "code",
      "source": [
        "!scrapy crawl automatic "
      ],
      "metadata": {
        "colab": {
          "base_uri": "https://localhost:8080/"
        },
        "id": "lVO9WJHxnam2",
        "outputId": "ff1a1b96-c28d-42cd-9b53-582b715bfb4a"
      },
      "execution_count": null,
      "outputs": [
        {
          "output_type": "stream",
          "name": "stdout",
          "text": [
            "2022-10-27 13:26:55 [scrapy.utils.log] INFO: Scrapy 2.7.0 started (bot: chilean_data_explore)\n",
            "2022-10-27 13:26:55 [scrapy.utils.log] INFO: Versions: lxml 4.9.1.0, libxml2 2.9.14, cssselect 1.1.0, parsel 1.6.0, w3lib 2.0.1, Twisted 22.8.0, Python 3.7.15 (default, Oct 12 2022, 19:14:55) - [GCC 7.5.0], pyOpenSSL 22.1.0 (OpenSSL 3.0.5 5 Jul 2022), cryptography 38.0.1, Platform Linux-5.10.133+-x86_64-with-Ubuntu-18.04-bionic\n",
            "2022-10-27 13:26:55 [scrapy.crawler] INFO: Overridden settings:\n",
            "{'BOT_NAME': 'chilean_data_explore',\n",
            " 'NEWSPIDER_MODULE': 'chilean_data_explore.spiders',\n",
            " 'REQUEST_FINGERPRINTER_IMPLEMENTATION': '2.7',\n",
            " 'ROBOTSTXT_OBEY': True,\n",
            " 'SPIDER_MODULES': ['chilean_data_explore.spiders'],\n",
            " 'TWISTED_REACTOR': 'twisted.internet.asyncioreactor.AsyncioSelectorReactor'}\n",
            "2022-10-27 13:26:55 [asyncio] DEBUG: Using selector: EpollSelector\n",
            "2022-10-27 13:26:55 [scrapy.utils.log] DEBUG: Using reactor: twisted.internet.asyncioreactor.AsyncioSelectorReactor\n",
            "2022-10-27 13:26:55 [scrapy.utils.log] DEBUG: Using asyncio event loop: asyncio.unix_events._UnixSelectorEventLoop\n",
            "2022-10-27 13:26:55 [scrapy.extensions.telnet] INFO: Telnet Password: 3311809f2540cbce\n",
            "2022-10-27 13:26:55 [scrapy.middleware] INFO: Enabled extensions:\n",
            "['scrapy.extensions.corestats.CoreStats',\n",
            " 'scrapy.extensions.telnet.TelnetConsole',\n",
            " 'scrapy.extensions.memusage.MemoryUsage',\n",
            " 'scrapy.extensions.logstats.LogStats']\n",
            "Unhandled error in Deferred:\n",
            "2022-10-27 13:26:55 [twisted] CRITICAL: Unhandled error in Deferred:\n",
            "\n",
            "Traceback (most recent call last):\n",
            "  File \"/usr/local/lib/python3.7/dist-packages/scrapy/crawler.py\", line 220, in crawl\n",
            "    return self._crawl(crawler, *args, **kwargs)\n",
            "  File \"/usr/local/lib/python3.7/dist-packages/scrapy/crawler.py\", line 224, in _crawl\n",
            "    d = crawler.crawl(*args, **kwargs)\n",
            "  File \"/usr/local/lib/python3.7/dist-packages/twisted/internet/defer.py\", line 1946, in unwindGenerator\n",
            "    return _cancellableInlineCallbacks(gen)\n",
            "  File \"/usr/local/lib/python3.7/dist-packages/twisted/internet/defer.py\", line 1856, in _cancellableInlineCallbacks\n",
            "    _inlineCallbacks(None, gen, status, _copy_context())\n",
            "--- <exception caught here> ---\n",
            "  File \"/usr/local/lib/python3.7/dist-packages/twisted/internet/defer.py\", line 1696, in _inlineCallbacks\n",
            "    result = context.run(gen.send, result)\n",
            "  File \"/usr/local/lib/python3.7/dist-packages/scrapy/crawler.py\", line 115, in crawl\n",
            "    self.spider = self._create_spider(*args, **kwargs)\n",
            "  File \"/usr/local/lib/python3.7/dist-packages/scrapy/crawler.py\", line 127, in _create_spider\n",
            "    return self.spidercls.from_crawler(self, *args, **kwargs)\n",
            "  File \"/usr/local/lib/python3.7/dist-packages/scrapy/spiders/crawl.py\", line 142, in from_crawler\n",
            "    spider = super().from_crawler(crawler, *args, **kwargs)\n",
            "  File \"/usr/local/lib/python3.7/dist-packages/scrapy/spiders/__init__.py\", line 48, in from_crawler\n",
            "    spider = cls(*args, **kwargs)\n",
            "  File \"/usr/local/lib/python3.7/dist-packages/scrapy/spiders/crawl.py\", line 69, in __init__\n",
            "    self._compile_rules()\n",
            "  File \"/usr/local/lib/python3.7/dist-packages/scrapy/spiders/crawl.py\", line 136, in _compile_rules\n",
            "    for rule in self.rules:\n",
            "builtins.TypeError: 'Rule' object is not iterable\n",
            "\n",
            "2022-10-27 13:26:55 [twisted] CRITICAL: \n",
            "Traceback (most recent call last):\n",
            "  File \"/usr/local/lib/python3.7/dist-packages/twisted/internet/defer.py\", line 1696, in _inlineCallbacks\n",
            "    result = context.run(gen.send, result)\n",
            "  File \"/usr/local/lib/python3.7/dist-packages/scrapy/crawler.py\", line 115, in crawl\n",
            "    self.spider = self._create_spider(*args, **kwargs)\n",
            "  File \"/usr/local/lib/python3.7/dist-packages/scrapy/crawler.py\", line 127, in _create_spider\n",
            "    return self.spidercls.from_crawler(self, *args, **kwargs)\n",
            "  File \"/usr/local/lib/python3.7/dist-packages/scrapy/spiders/crawl.py\", line 142, in from_crawler\n",
            "    spider = super().from_crawler(crawler, *args, **kwargs)\n",
            "  File \"/usr/local/lib/python3.7/dist-packages/scrapy/spiders/__init__.py\", line 48, in from_crawler\n",
            "    spider = cls(*args, **kwargs)\n",
            "  File \"/usr/local/lib/python3.7/dist-packages/scrapy/spiders/crawl.py\", line 69, in __init__\n",
            "    self._compile_rules()\n",
            "  File \"/usr/local/lib/python3.7/dist-packages/scrapy/spiders/crawl.py\", line 136, in _compile_rules\n",
            "    for rule in self.rules:\n",
            "TypeError: 'Rule' object is not iterable\n"
          ]
        }
      ]
    },
    {
      "cell_type": "markdown",
      "metadata": {
        "id": "m3fr-sbmiard"
      },
      "source": [
        "# Storing crawled data "
      ]
    },
    {
      "cell_type": "code",
      "execution_count": null,
      "metadata": {
        "colab": {
          "base_uri": "https://localhost:8080/"
        },
        "id": "H3Xs4DvVhptd",
        "outputId": "2ecc2cc0-c446-4ebc-ac26-c6d98efa7744"
      },
      "outputs": [
        {
          "name": "stdout",
          "output_type": "stream",
          "text": [
            "Looking in indexes: https://pypi.org/simple, https://us-python.pkg.dev/colab-wheels/public/simple/\n",
            "Requirement already satisfied: boto3 in /usr/local/lib/python3.7/dist-packages (1.24.90)\n",
            "Requirement already satisfied: botocore<1.28.0,>=1.27.90 in /usr/local/lib/python3.7/dist-packages (from boto3) (1.27.90)\n",
            "Requirement already satisfied: jmespath<2.0.0,>=0.7.1 in /usr/local/lib/python3.7/dist-packages (from boto3) (1.0.1)\n",
            "Requirement already satisfied: s3transfer<0.7.0,>=0.6.0 in /usr/local/lib/python3.7/dist-packages (from boto3) (0.6.0)\n",
            "Requirement already satisfied: urllib3<1.27,>=1.25.4 in /usr/local/lib/python3.7/dist-packages (from botocore<1.28.0,>=1.27.90->boto3) (1.26.12)\n",
            "Requirement already satisfied: python-dateutil<3.0.0,>=2.1 in /usr/local/lib/python3.7/dist-packages (from botocore<1.28.0,>=1.27.90->boto3) (2.8.2)\n",
            "Requirement already satisfied: six>=1.5 in /usr/local/lib/python3.7/dist-packages (from python-dateutil<3.0.0,>=2.1->botocore<1.28.0,>=1.27.90->boto3) (1.15.0)\n"
          ]
        }
      ],
      "source": [
        "!python -m pip install boto3\n"
      ]
    },
    {
      "cell_type": "code",
      "execution_count": null,
      "metadata": {
        "id": "-qTH9y60mktG"
      },
      "outputs": [],
      "source": [
        "import boto3\n",
        "import os\n",
        "import requests\n",
        "import tqdm"
      ]
    },
    {
      "cell_type": "code",
      "execution_count": null,
      "metadata": {
        "id": "IVJmdLnhlp2g"
      },
      "outputs": [],
      "source": [
        "dynamo_client  =  boto3.resource(service_name = 'data_crawled_dydb',region_name = 'us-east-1',\n",
        "              aws_access_key_id = 'AKIA3BS5NFXXXXXXX',\n",
        "              aws_secret_access_key = 'qfGTJL28HrqcbhKCM0t//xxx7gTGG4iNrv3/d94Lsp')"
      ]
    },
    {
      "cell_type": "code",
      "execution_count": null,
      "metadata": {
        "id": "p3_jZTMKl1QE"
      },
      "outputs": [],
      "source": [
        "product_table = dynamo_client.Table('institution')\n",
        "product_table.table_status\n",
        "\n",
        "product_table_link = dynamo_client.Table('link_collection')\n",
        "product_table_link.table_status\n",
        "\n",
        "product_table_file = dynamo_client.Table('file_collection')\n",
        "product_table_file.table_status"
      ]
    },
    {
      "cell_type": "code",
      "execution_count": null,
      "metadata": {
        "id": "-sPF8vXMlqko"
      },
      "outputs": [],
      "source": [
        "dynamo_client.get_available_subresources()"
      ]
    },
    {
      "cell_type": "code",
      "execution_count": null,
      "metadata": {
        "id": "60fizkKMlXAY"
      },
      "outputs": [],
      "source": [
        "def query_police_department_record_by_guid(guid):  \n",
        "    db = dynamodb_resource()\n",
        "    extra_msg = {\"region_name\": REGION, \"aws_service\": \"dynamodb\", \n",
        "        \"police_department_table\":POLICE_DEPARTMENTS_TABLE,\n",
        "        \"guid\":guid}\n",
        "    log.info(f\"Get PD record by GUID\", extra=extra_msg)\n",
        "    pd_table = db.Table(POLICE_DEPARTMENTS_TABLE)\n",
        "    response = pd_table.get_item(\n",
        "        Key={\n",
        "            'guid': guid\n",
        "            }\n",
        "    )\n",
        "    return response['Item']"
      ]
    },
    {
      "cell_type": "code",
      "execution_count": null,
      "metadata": {
        "id": "u-gDjN1cpY01"
      },
      "outputs": [],
      "source": [
        "print(query_police_department_record_by_guid(\"jlkdajfldskj1312312\"))"
      ]
    },
    {
      "cell_type": "markdown",
      "metadata": {
        "id": "r0_pb1WDLr-3"
      },
      "source": []
    },
    {
      "cell_type": "markdown",
      "metadata": {
        "id": "3gB_b1yYNYbE"
      },
      "source": [
        "#References"
      ]
    },
    {
      "cell_type": "markdown",
      "metadata": {
        "id": "VCw9Gh1nib7k"
      },
      "source": [
        "> DynamoDB and its purposes\n",
        "\n",
        "*   [A one size fits all database doesn't fit anyone\n",
        "](https://www.allthingsdistributed.com/2018/06/purpose-built-databases-in-aws.html)\n",
        "\n",
        "*   [Amazon DynamoDB](https://aws.amazon.com/dynamodb/)\n",
        "\n",
        "*   [Scaling globally with the new AWS](https://www.allthingsdistributed.com/2022/08/aws-launches-middle-east-uae-region.html)\n",
        "\n",
        "\n",
        "> Interfaces for reliable connections\n",
        "\n",
        "*   [DynamoDB and the AWS SDKs](https://docs.aws.amazon.com/amazondynamodb/latest/developerguide/GettingStarted.html\n",
        ")\n",
        "\n",
        "*   [Boto3 and Amazon DynamoDB](https://www.section.io/engineering-education/python-boto3-and-amazon-dynamodb-programming-tutorial/)\n",
        "\n",
        "*   [DynamoDb in Python using BOTO3](https://www.analyticsvidhya.com/blog/2022/05/working-with-dynamodb-in-python-using-boto3/)\n",
        "\n",
        "> Scrapy \n",
        "\n",
        "* [Google Colab tips: using both %%writefile magic and %%javascript magic in the same cell\n",
        "](https://stephencowchau.medium.com/google-colab-tips-using-both-writefile-magic-and-javascript-magic-in-the-same-cell-7820e508e455)\n"
      ]
    }
  ],
  "metadata": {
    "colab": {
      "collapsed_sections": [
        "m3fr-sbmiard"
      ],
      "provenance": [],
      "authorship_tag": "ABX9TyNDbXHWPweXdXr+mNeh0X+s"
    },
    "kernelspec": {
      "display_name": "Python 3",
      "name": "python3"
    },
    "language_info": {
      "name": "python"
    }
  },
  "nbformat": 4,
  "nbformat_minor": 0
}