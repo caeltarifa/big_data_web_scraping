{
  "nbformat": 4,
  "nbformat_minor": 0,
  "metadata": {
    "colab": {
      "provenance": [],
      "toc_visible": true,
      "authorship_tag": "ABX9TyPL3/Vhi5SCLtJnUruG0hts"
    },
    "kernelspec": {
      "name": "python3",
      "display_name": "Python 3"
    },
    "language_info": {
      "name": "python"
    }
  },
  "cells": [
    {
      "cell_type": "markdown",
      "source": [
        "# Preliminars"
      ],
      "metadata": {
        "id": "lOIuZ3Xk18lm"
      }
    },
    {
      "cell_type": "markdown",
      "source": [
        "## 1 Conecting reliably"
      ],
      "metadata": {
        "id": "CDO1LVXQ2DDJ"
      }
    },
    {
      "cell_type": "code",
      "execution_count": null,
      "metadata": {
        "id": "mzGxIwS3vVRm"
      },
      "outputs": [],
      "source": [
        "from urllib.request import urlopen\n",
        "from urllib.error import HTTPError\n",
        "from bs4 import BeautifulSoup"
      ]
    },
    {
      "cell_type": "code",
      "source": [
        "def getHtml(url):\n",
        "  try:\n",
        "    html = urlopen(url)\n",
        "  except HTTPError as e:\n",
        "    print(e)\n",
        "    return None\n",
        "\n",
        "  try:\n",
        "    bsObj = BeautifulSoup(html)\n",
        "    title = bsObj.body.h1\n",
        "  except AttributeError as e:\n",
        "    return None\n",
        "  \n",
        "  return bsObj"
      ],
      "metadata": {
        "id": "GOZ6r6O03gfQ"
      },
      "execution_count": null,
      "outputs": []
    },
    {
      "cell_type": "code",
      "source": [
        "html = getHtml(\"https://www.lonabol.gob.bo/web2/\")\n",
        "if html is None:\n",
        "  print(\"URL is not found\")\n",
        "\n",
        "array1 = html.find('img').children\n",
        "#array1 = html.find('head').style.next_siblings\n",
        "#\n",
        "#for data in html.find('table'):\n",
        "#  print(data)"
      ],
      "metadata": {
        "id": "6R4sfiUs3jRT"
      },
      "execution_count": null,
      "outputs": []
    },
    {
      "cell_type": "markdown",
      "source": [
        "##Retriven data with regular expressions"
      ],
      "metadata": {
        "id": "qbZE1ieIbjWQ"
      }
    },
    {
      "cell_type": "code",
      "source": [
        "from urllib.request import re\n",
        "\n",
        "images =  html.findAll(\"img\", {'src':re.compile(\"assets\\/img/solidaria/ays.*\\.png\")}) + html.findAll(\"img\", {'src':re.compile(\"assets\\/img/solidaria/as.*\\.png\") }) + html.findAll(\"img\", {'src':re.compile(\"assets\\/img/solidaria/aynisoli.*\\.png\") })\n",
        "print(images)\n",
        "for image in images:\n",
        "  print(image['src'])"
      ],
      "metadata": {
        "colab": {
          "base_uri": "https://localhost:8080/"
        },
        "id": "q6xd44Htblqk",
        "outputId": "67a37515-9815-4e52-cc13-e496515fae85"
      },
      "execution_count": null,
      "outputs": [
        {
          "output_type": "stream",
          "name": "stdout",
          "text": [
            "[<img alt=\"\" class=\"img-fluid\" src=\"assets/img/solidaria/ays1.png\"/>, <img alt=\"\" class=\"img-fluid\" src=\"assets/img/solidaria/as4.png\"/>, <img alt=\"\" class=\"img-fluid\" src=\"assets/img/solidaria/asentrerios2.png\"/>, <img alt=\"\" class=\"img-fluid\" src=\"assets/img/solidaria/ascbba.png\"/>, <img alt=\"\" class=\"img-fluid\" src=\"assets/img/solidaria/aynisoli.png\"/>]\n",
            "assets/img/solidaria/ays1.png\n",
            "assets/img/solidaria/as4.png\n",
            "assets/img/solidaria/asentrerios2.png\n",
            "assets/img/solidaria/ascbba.png\n",
            "assets/img/solidaria/aynisoli.png\n"
          ]
        }
      ]
    },
    {
      "cell_type": "markdown",
      "source": [
        "#API tracking"
      ],
      "metadata": {
        "id": "WKyLoRGhbYYJ"
      }
    },
    {
      "cell_type": "code",
      "execution_count": 2,
      "metadata": {
        "colab": {
          "base_uri": "https://localhost:8080/"
        },
        "id": "r8BE8vMPOWal",
        "outputId": "9efff104-319c-4ee8-db51-db964164d7b3"
      },
      "outputs": [
        {
          "output_type": "stream",
          "name": "stdout",
          "text": [
            "Looking in indexes: https://pypi.org/simple, https://us-python.pkg.dev/colab-wheels/public/simple/\n",
            "Requirement already satisfied: beautifulsoup4 in /usr/local/lib/python3.7/dist-packages (4.6.3)\n"
          ]
        }
      ],
      "source": [
        "pip install beautifulsoup4"
      ]
    },
    {
      "cell_type": "code",
      "source": [
        "from bs4 import BeautifulSoup\n",
        "import requests\n",
        "import pandas as pd\n",
        "\n",
        "from urllib.request import urlopen\n",
        "from urllib.error import HTTPError"
      ],
      "metadata": {
        "id": "wXiIvbzZOebi"
      },
      "execution_count": 3,
      "outputs": []
    },
    {
      "cell_type": "markdown",
      "source": [
        "##Realiably requests"
      ],
      "metadata": {
        "id": "MnVOCJvrbiJI"
      }
    },
    {
      "cell_type": "code",
      "source": [
        "def getHtml(url):\n",
        "  try:\n",
        "    html = urlopen(url)\n",
        "  except HTTPError as e:\n",
        "    print(e)\n",
        "    return None\n",
        "\n",
        "  try:\n",
        "    response = requests.get(url)\n",
        "    html = response.text\n",
        "    html = BeautifulSoup(html, 'html.parser')\n",
        "  except AttributeError as e:\n",
        "    return None\n",
        "  \n",
        "  return html"
      ],
      "metadata": {
        "id": "lRw_uaHtZRa1"
      },
      "execution_count": 4,
      "outputs": []
    },
    {
      "cell_type": "markdown",
      "source": [
        "## URL target"
      ],
      "metadata": {
        "id": "JusCmqcobqi3"
      }
    },
    {
      "cell_type": "code",
      "source": [
        "url ='https://www.programmableweb.com/category/tools/api'"
      ],
      "metadata": {
        "id": "qkVQSPVuOqYv"
      },
      "execution_count": 5,
      "outputs": []
    },
    {
      "cell_type": "markdown",
      "source": [
        "##Extracting data APIs"
      ],
      "metadata": {
        "id": "LoL5vkBbPK_0"
      }
    },
    {
      "cell_type": "code",
      "source": [
        "count = 0 \n",
        "dict_apis = {}\n",
        "while True:\n",
        "  soup = getHtml(url)\n",
        "  if soup is None:\n",
        "    print(\"URL is not found\")\n",
        "    break\n",
        "  rows = soup.find_all('tr', {'class':'odd'}) + soup.find_all('tr', {'class':'even'}) \n",
        "\n",
        "  for row in rows:\n",
        "    API_name , API_URL = row.find('a').text, row.find('a').get('href')\n",
        "    API_category = row.find('td', {'class':'views-field views-field-field-article-primary-category'}).text\n",
        "    API_description =  row.find('td', {'class':'views-field views-field-field-api-description'}).text\n",
        "    dict_apis[count] = [ API_name,API_URL, API_category, API_description ]\n",
        "    count+=1\n",
        "\n",
        "  url_next = soup.find('a', {'id':'pager_id_apis_all'})\n",
        "  if url_next != None:\n",
        "    if url_next.get('href'):\n",
        "      url = 'https://www.programmableweb.com' + url_next.get('href')\n",
        "      print(url)\n",
        "    else:\n",
        "      break\n",
        "  else:\n",
        "    break\n",
        "\n",
        "\n",
        "print(count)\n",
        "df_apis = pd.DataFrame.from_dict(dict_apis, orient='index', columns=['API_name','API_URL','API_category','API_description'] )\n",
        "df_apis.head()\n",
        "df_apis.to_csv('api_data')"
      ],
      "metadata": {
        "colab": {
          "base_uri": "https://localhost:8080/"
        },
        "id": "Rh-0BQ5xPOr5",
        "outputId": "43bcd4b2-1a07-4596-ab0d-a31302ed5ea1"
      },
      "execution_count": null,
      "outputs": [
        {
          "output_type": "stream",
          "name": "stdout",
          "text": [
            "https://www.programmableweb.com/category/tools/api?pw_view_display_id=apis_all&page=1\n",
            "https://www.programmableweb.com/category/tools/api?pw_view_display_id=apis_all&page=2\n",
            "https://www.programmableweb.com/category/tools/api?pw_view_display_id=apis_all&page=3\n",
            "https://www.programmableweb.com/category/tools/api?pw_view_display_id=apis_all&page=4\n",
            "https://www.programmableweb.com/category/tools/api?pw_view_display_id=apis_all&page=5\n",
            "https://www.programmableweb.com/category/tools/api?pw_view_display_id=apis_all&page=6\n",
            "https://www.programmableweb.com/category/tools/api?pw_view_display_id=apis_all&page=7\n",
            "https://www.programmableweb.com/category/tools/api?pw_view_display_id=apis_all&page=8\n",
            "https://www.programmableweb.com/category/tools/api?pw_view_display_id=apis_all&page=9\n",
            "https://www.programmableweb.com/category/tools/api?pw_view_display_id=apis_all&page=10\n",
            "https://www.programmableweb.com/category/tools/api?pw_view_display_id=apis_all&page=11\n",
            "https://www.programmableweb.com/category/tools/api?pw_view_display_id=apis_all&page=12\n",
            "https://www.programmableweb.com/category/tools/api?pw_view_display_id=apis_all&page=13\n",
            "https://www.programmableweb.com/category/tools/api?pw_view_display_id=apis_all&page=14\n",
            "https://www.programmableweb.com/category/tools/api?pw_view_display_id=apis_all&page=15\n",
            "https://www.programmableweb.com/category/tools/api?pw_view_display_id=apis_all&page=16\n",
            "https://www.programmableweb.com/category/tools/api?pw_view_display_id=apis_all&page=17\n",
            "https://www.programmableweb.com/category/tools/api?pw_view_display_id=apis_all&page=18\n",
            "https://www.programmableweb.com/category/tools/api?pw_view_display_id=apis_all&page=19\n",
            "https://www.programmableweb.com/category/tools/api?pw_view_display_id=apis_all&page=20\n",
            "https://www.programmableweb.com/category/tools/api?pw_view_display_id=apis_all&page=21\n",
            "https://www.programmableweb.com/category/tools/api?pw_view_display_id=apis_all&page=22\n",
            "https://www.programmableweb.com/category/tools/api?pw_view_display_id=apis_all&page=23\n",
            "https://www.programmableweb.com/category/tools/api?pw_view_display_id=apis_all&page=24\n",
            "https://www.programmableweb.com/category/tools/api?pw_view_display_id=apis_all&page=25\n",
            "https://www.programmableweb.com/category/tools/api?pw_view_display_id=apis_all&page=26\n",
            "https://www.programmableweb.com/category/tools/api?pw_view_display_id=apis_all&page=27\n",
            "https://www.programmableweb.com/category/tools/api?pw_view_display_id=apis_all&page=28\n",
            "https://www.programmableweb.com/category/tools/api?pw_view_display_id=apis_all&page=29\n",
            "https://www.programmableweb.com/category/tools/api?pw_view_display_id=apis_all&page=30\n",
            "https://www.programmableweb.com/category/tools/api?pw_view_display_id=apis_all&page=31\n",
            "https://www.programmableweb.com/category/tools/api?pw_view_display_id=apis_all&page=32\n",
            "https://www.programmableweb.com/category/tools/api?pw_view_display_id=apis_all&page=33\n",
            "https://www.programmableweb.com/category/tools/api?pw_view_display_id=apis_all&page=34\n",
            "https://www.programmableweb.com/category/tools/api?pw_view_display_id=apis_all&page=35\n",
            "https://www.programmableweb.com/category/tools/api?pw_view_display_id=apis_all&page=36\n",
            "https://www.programmableweb.com/category/tools/api?pw_view_display_id=apis_all&page=37\n",
            "https://www.programmableweb.com/category/tools/api?pw_view_display_id=apis_all&page=38\n",
            "https://www.programmableweb.com/category/tools/api?pw_view_display_id=apis_all&page=39\n",
            "https://www.programmableweb.com/category/tools/api?pw_view_display_id=apis_all&page=40\n",
            "https://www.programmableweb.com/category/tools/api?pw_view_display_id=apis_all&page=41\n",
            "https://www.programmableweb.com/category/tools/api?pw_view_display_id=apis_all&page=42\n",
            "https://www.programmableweb.com/category/tools/api?pw_view_display_id=apis_all&page=43\n",
            "https://www.programmableweb.com/category/tools/api?pw_view_display_id=apis_all&page=44\n",
            "https://www.programmableweb.com/category/tools/api?pw_view_display_id=apis_all&page=45\n",
            "https://www.programmableweb.com/category/tools/api?pw_view_display_id=apis_all&page=46\n",
            "https://www.programmableweb.com/category/tools/api?pw_view_display_id=apis_all&page=47\n",
            "https://www.programmableweb.com/category/tools/api?pw_view_display_id=apis_all&page=48\n",
            "https://www.programmableweb.com/category/tools/api?pw_view_display_id=apis_all&page=49\n",
            "https://www.programmableweb.com/category/tools/api?pw_view_display_id=apis_all&page=50\n",
            "https://www.programmableweb.com/category/tools/api?pw_view_display_id=apis_all&page=51\n",
            "https://www.programmableweb.com/category/tools/api?pw_view_display_id=apis_all&page=52\n",
            "https://www.programmableweb.com/category/tools/api?pw_view_display_id=apis_all&page=53\n"
          ]
        }
      ]
    },
    {
      "cell_type": "code",
      "source": [
        "df_apis.head()"
      ],
      "metadata": {
        "id": "VplMYCuXdJLn"
      },
      "execution_count": null,
      "outputs": []
    }
  ]
}